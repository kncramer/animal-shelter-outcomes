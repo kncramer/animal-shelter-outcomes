import pandas as pd


intakes =  pd.read_csv('./data/austin_animal_center_intakes_20241017.csv')
intakes.head()


intakes.info()


intakes.drop(columns=['Name', 'Found Location', 'MonthYear'], inplace=True)


columns = {
    'Animal ID': 'animal_id',
    'DateTime': 'intake_time',
    'Intake Type': 'intake_type',
    'Intake Condition': 'intake_condition',
    'Animal Type': 'animal_type',
    'Sex upon Intake': 'intake_gender',
    'Age upon Intake': 'intake_age',
    'Breed': 'inake_breed',
    'Color': 'intake_color'    
}

intakes = intakes.rename(columns=columns)


intakes['intake_time'] = pd.to_datetime(intakes['intake_time'], format='%m/%d/%Y %H:%M:%S %p')


intakes.nunique()


intakes.sort_values(by=['animal_id','intake_time'], inplace=True)
intakes.head()


intakes['stay'] = intakes.groupby('animal_id').cumcount() +1 


intakes.nunique()


intakes['stay'] = intakes['stay'].astype('str')


intakes['animal_stay'] = intakes['animal_id'] + '-' + intakes['stay']


outcomes = pd.read_csv('./data/austin_animal_center_outcomes_20241017.csv')
outcomes.head()


outcomes.info()


outcomes.drop(columns=['Name', 'MonthYear', 'Outcome Subtype'], inplace=True)


outcome_columns = {
    'Animal ID': 'animal_id',
    'DateTime': 'outcome_time',
    'Date of Birth': 'date_of_birth',
    'Outcome Type': 'outcome_type',
    'Animal Type': 'outcome_animal_type',
    'Sex upon Intake': 'outcome_gender',
    'Age upon Intake': 'outcome_ged',
    'Breed': 'outcome_breed',
    'Color': 'outcome_color'    
}

outcomes = outcomes.rename(columns=outcome_columns)


outcomes['outcome_time'] = pd.to_datetime(outcomes['outcome_time'], format='%m/%d/%Y %H:%M:%S %p')


outcomes.nunique()


outcomes.sort_values(by=['animal_id','outcome_time'], inplace=True)
outcomes.head()


outcomes['stay'] = outcomes.groupby('animal_id').cumcount() +1 


outcomes['stay'] = outcomes['stay'].astype('str')


outcomes['animal_stay'] = outcomes['animal_id'] + '-' + (outcomes['stay'])





df = pd.merge(left=intakes, right=outcomes, how='inner', on='animal_stay')


df


df.columns


df.duplicated('animal_stay').sum()



