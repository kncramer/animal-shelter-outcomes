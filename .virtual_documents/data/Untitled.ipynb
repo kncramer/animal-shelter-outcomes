# imports
import pandas as pd
import numpy as np


df =  pd.read_csv('../data/austin-combined-shelter-data.csv')


df['stay_duration'].agg(['max', 'min', 'mean'])


df['stay_duration'].sort_values(ascending=False)


df.shape


df[df['stay_duration'] > 365]



