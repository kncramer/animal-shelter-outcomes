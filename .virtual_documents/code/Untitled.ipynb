





import numpy as np
import pandas as pd
import matplotlib.pyplot as plt
import seaborn as sns

from sklearn.model_selection import train_test_split
from sklearn.linear_model import LogisticRegression


# read in the data
df = pd.read_csv('../data/austin-data.csv')
df.info()


df.head()


df.corr(numeric_only=True)





df.columns


df[df['outcome_type']]


df_lr = df[df[('outcome_type', 'outcome_gender', 'intake_type', 'intake_condition', 
            'animal_type', 'intake_gender', 'intake_age', 'breed', 'color', 
'stay_duration', 'spay_neuter', 'repeat')]]



