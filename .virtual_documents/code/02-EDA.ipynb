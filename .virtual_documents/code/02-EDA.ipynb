





import numpy as np
import pandas as pd
import matplotlib.pyplot as plt
import seaborn as sns


df = pd.read_csv('../data/austin-data.csv')
df.head()


# Converting dates to datetime dtype
df['outcome_time'] = pd.to_datetime(df['outcome_time'])
df['date_of_birth'] = pd.to_datetime(df['date_of_birth'])
df['intake_time'] = pd.to_datetime(df['intake_time'])


df.info()


df.describe()


# count how many cats and dogs taken in
year_outcomes = df['animal_id'].groupby(df['outcome_time'].dt.year).count()
year_outcomes


# count how many cats and dogs successfully rehomed

success = df[(df['outcome_type'] == 'Adoption') | (df['outcome_type'] == 'Return to Owner') | (df['outcome_type'] == 'Rto-Adopt')]
year_success = success['animal_id'].groupby(df['outcome_time'].dt.year).count()
year_success


# visualize success vs failures
fig, ax = plt.subplots()
ax.plot(year_success.index, year_success.values, color='blue', label='Success')
ax.plot(year_outcomes.index, year_outcomes.values, color='red', label='Outcomes')

ax.fill_between(year_success.index, year_success, year_outcomes, alpha=0.25, color='purple', hatch='/\\/\\|')
ax.set_title('Animal Outcomes vs Animals Re-Homed')
ax.set_xlabel('Year')
ax.set_ylabel('Count of Animals')
ax.legend(loc='best')

plt.show();


# breakdown of intakes
bd_intakes = df['intake_type'].value_counts(normalize=True)
bd_intakes


# visualize the breakdown of intakes
plt.bar(x=bd_intakes.index, height=bd_intakes.values, color='green')

plt.title('Animal Intake Types')
plt.xticks(rotation = 60)

plt.show();


# breakdown of outcomes
bd_outcomes = df['outcome_type'].value_counts(normalize=True)
bd_outcomes


# visualize the breakdown of outcomes
plt.bar(x=bd_outcomes.index, height=bd_outcomes.values, color = 'orange')

plt.title('Animal Outcome Types')
plt.xticks(rotation = 60)

plt.show();


df.groupby(['outcome_type'])['outcome_gender'].value_counts(normalize=True)


df['spay_neuter'].value_counts(normalize=True)


df['outcome_age'].value_counts(normalize=True)


df['found_location'].value_counts()


df['intake_condition'].value_counts(normalize=True)


df['intake_age'].value_counts()


df[df['animal_type'] == 'Cat']['breed'].value_counts(normalize=True)


df[df['animal_type'] == 'Dog']['breed'].value_counts(normalize=True)


df['color'].value_counts(normalize=True)


df['stay_duration'].value_counts()


df['stay'].value_counts()


df['repeat'].value_counts()





# quick check if any variables are normally distributed
df.hist(figsize=(10, 12));


# checking stay duration for outliers

plt.boxplot(df['stay_duration'])
plt.title('Duration in Shelter')
plt.ylabel('Number of Days');


# check correlation matrix
df.corr(numeric_only=True)


# checking pairplots as well
sns.pairplot(df);





# how many cat and dog breeds
cat_breeds = df[df['animal_type'] == 'Cat']['breed']
dog_breeds = df[df['animal_type'] == 'Dog']['breed']

print(f'There are {cat_breeds.nunique()} cat breeds and {dog_breeds.nunique()} dog breeds.')


# Looking at success rates for cats and dogs
success = df[(df['outcome_type'] == 'Adoption') | (df['outcome_type'] == 'Return to Owner') | (df['outcome_type'] == 'Rto-Adopt')]
cat_success = success[success['animal_type'] == 'Cat']
dog_success = success[success['animal_type'] == 'Dog']
total_cats = len(df[df['animal_type'] == 'Cat'])
total_dogs = len(df[df['animal_type'] == 'Dog'])

print(f'Cats have had {len(cat_success)} successful rehomings, {round(len(cat_success)/total_cats*100, 2)}% of all cats.')
print(f'Dogs have had {len(dog_success)} successful rehomings, {round(len(dog_success)/total_dogs*100,2)}% of all dogs.')


# top ten breeds for success
breeds_success = success.groupby('breed')['animal_id'].count().sort_values(ascending=False)
breeds_success.head(10)





breeds_repeat = df.groupby('breed')['repeat'].count().sort_values(ascending=False)
breeds_repeat



