








import numpy as np
import pandas as pd
import matplotlib.pyplot as plt
import seaborn as sns

# set plot style for notebook
plt.style.use('bmh')


animals_austin = pd.read_csv('../data/austin-data.csv', parse_dates = ['outcome_time', 'intake_time', 'date_of_birth'])
animals_austin.head()


# sort data ascending
animals_austin.sort_values(by = 'intake_time', inplace = True)


animals_austin.info()


animals_austin.describe()


# count how many cats and dogs taken in each year
year_outcomes = animals_austin['animal_id'].groupby(animals_austin['outcome_time'].dt.year).count()
year_outcomes


# see numbers for cats and dogs overall
plt.hist(animals_austin['animal_type'], bins = 3, color = 'cadetblue')
plt.title('Cats vs Dogs', size = 15);


# count how many cats and dogs successfully rehomed
success = animals_austin[(animals_austin['outcome_type'] == 'Adoption') | (animals_austin['outcome_type'] == 'Return to Owner') | (animals_austin['outcome_type'] == 'Rto-Adopt')]
year_success = success['animal_id'].groupby(animals_austin['outcome_time'].dt.year).count()
year_success


# visualize success vs failures
fig, ax = plt.subplots()
ax.plot(year_success.index, year_success.values, color='blue', label='Success')
ax.plot(year_outcomes.index, year_outcomes.values, color='red', label='Outcomes')

ax.fill_between(year_success.index, year_success, year_outcomes, alpha=0.25, color='purple', hatch='/\\/\\|')
ax.set_title('Animal Outcomes vs Animals Re-Homed in Austin')
ax.set_xlabel('Year')
ax.set_ylabel('Count of Animals')
ax.legend(loc='best')

plt.show();

# saving image for slides
fig.tight_layout()
fig.savefig('../images/compare_outcomes_austin.png')


# breakdown of intakes
bd_intakes = animals_austin['intake_type'].value_counts(normalize=True)
bd_intakes


# visualize the breakdown of intakes
plt.bar(x=bd_intakes.index, height=bd_intakes.values, color='green')

plt.title('Animal Intake Types')
plt.xticks(rotation = 60)

plt.show();


# breakdown of outcomes
bd_outcomes = animals_austin['outcome_type'].value_counts(normalize=True)
bd_outcomes


# visualize the breakdown of outcomes
plt.figure(figsize = (12, 8))
plt.bar(x=bd_outcomes.index, height=bd_outcomes.values, color = 'orange')

plt.title('Animal Outcome Types in Austin', size = 25)
plt.xticks(rotation = 60, fontsize = 15)
plt.yticks(fontsize = 15)
plt.ylabel('Percentage of Pets', size = 17);

# saving plot for slides
plt.tight_layout()
plt.savefig('../images/all_outcomes.png')


# show distribution of cats vs dogs for each outcome
sns.displot(animals_austin, y='outcome_type', hue='animal_type', height=8, aspect=1.5)
plt.title('Outcomes for Cats vs Dogs', size=25)
plt.ylabel('Outcome', size=20)
plt.yticks(fontsize=15)
plt.xticks(fontsize=15);





# plotting all intake conditions
plt.figure(figsize=(15, 12))
plt.hist(animals_austin['intake_condition'], bins='auto', edgecolor='black', orientation='horizontal', align='left', rwidth=0.9, color = 'cadetblue')
plt.title('Austin Intake Conditions', size=25)
plt.yticks(fontsize=15)
plt.xticks(fontsize=15);


# plotting intake conditions with euthanasia and died outcomes
died_in_shelter_austin = pd.concat([animals_austin[animals_austin['outcome_type'] == 'Died'],
                             animals_austin[animals_austin['outcome_type'] == 'Euthanasia']])
sns.displot(died_in_shelter_austin, y = 'intake_condition', hue='outcome_type', height=8, aspect=1.2)
plt.title('Intake Conditions\nResulting in Death or Euthanasia in Austin', size = 25)
plt.ylabel('Intake Condition', size = 20)
plt.yticks(fontsize=15)
plt.xticks(fontsize=15);

# saving image for slides
plt.tight_layout()
plt.savefig('../images/conditions_euthanized.png')





# checking animals labeled with normal intake condition that died or were euthanized
animals_austin_normal_died = animals_austin[(animals_austin['intake_condition'] == 'Normal') & (animals_austin['outcome_type'] == 'Died')]
animals_austin_normal_euth = animals_austin[(animals_austin['intake_condition'] == 'Normal') & (animals_austin['outcome_type'] == 'Euthanasia')]


animals_austin_normal_died['animal_type'].value_counts()


animals_austin_normal_euth['animal_type'].value_counts()


animals_austin_normal_died['breed'].value_counts().head(10)


animals_austin_normal_euth['breed'].value_counts().head(10)





pit_bulls_normal = ((animals_austin_normal_euth['breed'].value_counts().iloc[1] + animals_austin_normal_euth['breed'].value_counts().iloc[4])/
                    animals_austin_normal_euth['breed'].value_counts().sum())
print(f'{round(pit_bulls_normal*100, 2)}% of pets euthanized in Austin shelters that appear healthy are Pit Bulls or a Pit Bull Mix')


# seeing number of found locations
len(animals_austin['found_location'].unique())





animals_austin.groupby(['outcome_type'])['outcome_gender'].value_counts(normalize=True)


animals_austin['spay_neuter'].value_counts(normalize=True)


# seeing if spaying/neutering an animal affects their outcome
sns.displot(animals_austin, y = 'outcome_type', hue = 'spay_neuter');





# see the different intake types
animals_austin['intake_type'].value_counts()


# see conditions for animals taken in for euthanisia request
animals_austin[animals_austin['intake_type'] == 'Euthanasia Request']['intake_condition'].value_counts()





euth_request = animals_austin[animals_austin['intake_type'] == 'Euthanasia Request']
print(f"Outcomes for all incoming euthanasia requests: {euth_request['outcome_type'].value_counts()}")
print('='*50)
print(f"Outcomes for normal condition euthanasia requests: {euth_request[euth_request['intake_condition'] == 'Normal']['outcome_type'].value_counts()}")
print('='*50)
print(f"Breeds with normal condition euthanasia requests: {euth_request[euth_request['intake_condition'] == 'Normal']['breed'].value_counts()}")


pit_bulls = ((euth_request[euth_request['intake_condition'] == 'Normal']['breed'].value_counts().iloc[0]+
              euth_request[euth_request['intake_condition'] == 'Normal']['breed'].value_counts().iloc[4])/
             euth_request[euth_request['intake_condition'] == 'Normal']['breed'].value_counts().sum())
print(f'{round(pit_bulls*100, 2)}% of all pets brought in for euthanasia with a normal condition were Pit Bulls or a Pit Bull Mix.')





# see age for different outcomes
plt.figure(figsize=(12, 6))
sns.boxplot(x='outcome_type', y='outcome_age', data=animals_austin)
plt.title('Outcome Age vs. Outcome Type')
plt.xlabel('Outcome Type')
plt.ylabel('Outcome Age (months)');





# plotting outcome by stay duration
plt.figure(figsize=(15, 12))
plt.scatter(animals_austin['stay_duration'], animals_austin['outcome_type'])
plt.title('Duration of Stay in a Shelter by Outcome Type', size = 25)
plt.xlabel('Number of Days', size = 20)
plt.xticks(fontsize=15)
plt.yticks(fontsize=15);





animals_austin['outcome_age'].value_counts(normalize=True)


animals_austin['intake_condition'].value_counts(normalize=True)


animals_austin['intake_age'].value_counts()


animals_austin[animals_austin['animal_type'] == 'Cat']['breed'].value_counts(normalize=True)


animals_austin[animals_austin['animal_type'] == 'Dog']['breed'].value_counts(normalize=True)


animals_austin['color'].value_counts(normalize=True)


animals_austin['stay_duration'].value_counts()


animals_austin['stay'].value_counts()


animals_austin['repeat'].value_counts()


# quick check if any variables are normally distributed
animals_austin.hist(figsize=(10, 12));


# checking stay duration for outliers
plt.boxplot(animals_austin['stay_duration'])
plt.title('Duration in Shelter')
plt.ylabel('Number of Days');


# check correlation matrix
animals_austin.corr(numeric_only=True)


# checking pairplots as well
sns.pairplot(animals_austin);





# how many cat and dog breeds
cat_breeds = animals_austin[animals_austin['animal_type'] == 'Cat']['breed']
dog_breeds = animals_austin[animals_austin['animal_type'] == 'Dog']['breed']

print(f'There are {cat_breeds.nunique()} cat breeds and {dog_breeds.nunique()} dog breeds.')


# Looking at success rates for cats and dogs
success = animals_austin[(animals_austin['outcome_type'] == 'Adoption') | (animals_austin['outcome_type'] == 'Return to Owner') | (animals_austin['outcome_type'] == 'Rto-Adopt')]
cat_success = success[success['animal_type'] == 'Cat']
dog_success = success[success['animal_type'] == 'Dog']
total_cats = len(animals_austin[animals_austin['animal_type'] == 'Cat'])
total_dogs = len(animals_austin[animals_austin['animal_type'] == 'Dog'])

print(f'Cats have had {len(cat_success)} successful rehomings, {round(len(cat_success)/total_cats*100, 2)}% of all cats.')
print(f'Dogs have had {len(dog_success)} successful rehomings, {round(len(dog_success)/total_dogs*100,2)}% of all dogs.')


# top ten breeds for success
breeds_success = success.groupby('breed')['animal_id'].count().sort_values(ascending=False)
breeds_success.head(10)





breeds_repeat = animals_austin.groupby('breed')['repeat'].count().sort_values(ascending=False)
breeds_repeat


# converting outcome_type to binary classes
animals_austin['outcome_type_binary'] = animals_austin['outcome_type'].map(lambda x: 1 if x in ['Adoption', 'Return to Owner', 'Rto-Adopt'] else 0)


# replotting outcomes by stay duration with new binary class
plt.figure(figsize=(15, 8))
plt.hist(animals_austin[animals_austin['outcome_type_binary'] == 1]['stay_duration'], alpha = 0.75, bins = 50, label = 'successes')
plt.hist(animals_austin[animals_austin['outcome_type_binary'] == 0]['stay_duration'], alpha = 0.75, bins = 50, label = 'failures')
plt.title('Successes vs Failures for Stay Duration');


# filter for positive outcomes
positive_outcome_austin = animals_austin[animals_austin['outcome_type_binary'] == 1]

# plot intakes with positive outcomes
plt.figure(figsize = (12, 12))
plt.hist(animals_austin['intake_time'].dt.date, bins = 50, label = 'Intakes')
plt.hist(positive_outcome_austin['outcome_time'].dt.date, bins = 50, alpha = 0.75, label = 'Positive Outcomes')
plt.title('Positive Outcomes Vs Intake Numbers - Austin', size = 25)
plt.xticks(fontsize = 15)
plt.yticks(fontsize = 15)
plt.legend(loc = 'best', prop = {'size': 15});

# saving figure for slides
plt.tight_layout()
plt.savefig('../images/posout_vs_intake_austin.png')















