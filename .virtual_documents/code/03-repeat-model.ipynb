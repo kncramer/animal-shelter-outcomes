





import numpy as np
import pandas as pd
import matplotlib.pyplot as plt
import seaborn as sns

from sklearn.model_selection import train_test_split
from sklearn.preprocessing import OneHotEncoder
from sklearn.linear_model import LogisticRegression


# read in the data
df = pd.read_csv('../data/austin-data.csv')
df.info()


df.head()


df.corr(numeric_only=True)





df.columns


df_lr = df[['outcome_type', 'outcome_gender', 'intake_type', 'intake_condition', \
'animal_type', 'intake_gender', 'intake_age', 'breed', 'color', 'stay_duration', \
            'spay_neuter', 'repeat']]





df_lr.dtypes


ohe = OneHotEncoder(handle_unknown='ignore', sparse_output=False)


ohe.fit_transform(df_lr)


X = pd.DataFrame(ohe.fit_transform(df_lr), columns=ohe.get_feature_names_out())


X.head()


# Correlation matrix for features to Sale Price in a heat map

plt.figure(figsize=(8, 5))
plt.title('Top Correlations')

sns.heatmap(X.corr(numeric_only=True)[['Repeat']].sort_values(by = 'Repeat', ascending = False).head(10),
           vmin = -1,
           vmax = 1,
           annot = True,
           cmap = 'inferno');

plt.tight_layout(pad=1.5)
#plt.savefig('./assets/Sale_Price_De_Indicators.jpg');
plt.show();



