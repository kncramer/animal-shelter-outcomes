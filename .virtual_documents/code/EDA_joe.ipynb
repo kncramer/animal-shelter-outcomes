


import pandas as pd
import numpy as np
import matplotlib.pyplot as plt
import seaborn as sns





df = pd.read_csv('../data/austin-combined-shelter-data.csv')
df.head()


df.info()


df['outcome_time'] = pd.to_datetime(df['outcome_time'])
df['intake_time'] = pd.to_datetime(df['intake_time'])


df.describe()


df['outcome_type'].value_counts(normalize=True).sort_values(ascending=False).plot(
    kind='barh',
    title='Frequency for Each Outcome Type',
    xlabel='count',
    ylabel='outcome type');


df['outcome_gender'].value_counts(ascending=False).plot(kind='barh');


df['outcome_age'].plot(kind='hist', bins=20);


df['stay_duration'].value_counts()


df['stay_duration'].plot(kind='hist', bins=30);


df['intake_condition'].value_counts().plot(kind='barh');


df['animal_type'].value_counts()


plt.figure(figsize=(12, 6))
sns.boxplot(x='outcome_type', y='outcome_age', data=df)
plt.title('Outcome Age vs. Outcome Type')
plt.xlabel('Outcome Type')
plt.ylabel('Outcome Age (months)');


df.groupby('animal_type')['outcome_type'].value_counts().plot(kind='bar', stacked=True);


df.groupby('animal_type')['stay_duration'].value_counts()


grouped_stats = df.groupby('animal_type').agg(
    average_stay_duration=('stay_duration', 'mean'),
    average_outcome_age=('outcome_age', 'mean'),
    average_intake_age=('intake_age', 'mean'),
    count=('animal_type', 'size')  # count of each animal type
    ).reset_index()
grouped_stats.set_index('animal_type', inplace=True)
grouped_stats.round(2)





adoption = df[(df['outcome_type'] == 'Adoption') | (df['outcome_type']=='Return to Owner')].copy()
adoption.shape


adoption.info()


adoption['outcome_gender'].value_counts().plot(kind='barh');


adoption['outcome_age'].plot(kind='hist');


adoption['intake_condition'].value_counts().plot(kind='barh');


adoption['animal_type'].value_counts()


adoption['spay_neuter'].value_counts()



