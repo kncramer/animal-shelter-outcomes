











# imports
import pandas as pd
import numpy as np


# reading in shelter intakes
intakes =  pd.read_csv('../data/austin_animal_center_intakes_20241017.csv')
intakes.head()


intakes.info()





# dropping inconsequential columns
intakes.drop(columns=['Name', 'MonthYear'], inplace=True)


# renaming columns to be intake specific and snake case
columns = {
    'Animal ID': 'animal_id',
    'DateTime': 'intake_time',
    'Found Location': 'found_location',
    'Intake Type': 'intake_type',
    'Intake Condition': 'intake_condition',
    'Animal Type': 'animal_type',
    'Sex upon Intake': 'intake_gender',
    'Age upon Intake': 'intake_age',
    'Breed': 'intake_breed',
    'Color': 'intake_color'    
}

intakes = intakes.rename(columns=columns)


# converting intake_time column to datetime format
intakes['intake_time'] = pd.to_datetime(intakes['intake_time'], format='%m/%d/%Y %H:%M:%S %p')


intakes.nunique()


intakes.sort_values(by=['animal_id','intake_time'], inplace=True)
intakes.head()





intakes['stay'] = intakes.groupby('animal_id').cumcount() +1 


intakes.nunique()


intakes['animal_stay'] = intakes['animal_id'] + '-' + intakes['stay'].astype('str')


# dropping animal_id and stay columns now they're incorporated in animal_stay
intakes.drop(columns=['animal_id', 'stay'], inplace=True)


# reading in shelter outcomes
outcomes = pd.read_csv('../data/austin_animal_center_outcomes_20241017.csv')
outcomes.head()


outcomes.info()





# dropping inconsequential columns
outcomes.drop(columns=['Name', 'MonthYear', 'Outcome Subtype'], inplace=True)


# renaming columns to be outcome specific and snake case
outcome_columns = {
    'Animal ID': 'animal_id',
    'DateTime': 'outcome_time',
    'Date of Birth': 'date_of_birth',
    'Outcome Type': 'outcome_type',
    'Animal Type': 'outcome_animal_type',
    'Sex upon Outcome': 'outcome_gender',
    'Age upon Outcome': 'outcome_age',
    'Breed': 'outcome_breed',
    'Color': 'outcome_color'    
}

outcomes = outcomes.rename(columns=outcome_columns)


# converting outcome_time and date of birth columns to datetime format
outcomes['outcome_time'] = pd.to_datetime(outcomes['outcome_time'], format='%m/%d/%Y %H:%M:%S %p')
outcomes['date_of_birth'] = pd.to_datetime(outcomes['date_of_birth'], format='%m/%d/%Y')


outcomes.nunique()


outcomes.sort_values(by=['animal_id','outcome_time'], inplace=True)
outcomes.head()





outcomes['stay'] = outcomes.groupby('animal_id').cumcount() +1 


outcomes['animal_stay'] = outcomes['animal_id'] + '-' + (outcomes['stay']).astype('str')


# dropping animal_id and stay colums for outcomes
outcomes.drop(columns=['animal_id', 'stay'], inplace=True)





# meging intakes and outcomes
intakes_outcomes = pd.merge(left=intakes, right=outcomes, how='inner', on='animal_stay')


intakes_outcomes.head()





# compare intake/outcome animal_type, gender, breed, and color
print(f'Number of animal type changes: {intakes_outcomes[intakes_outcomes['animal_type'] != intakes_outcomes['outcome_animal_type']].shape[0]}')
print(f'Number of neuters/spays: {intakes_outcomes[intakes_outcomes['intake_gender'] != intakes_outcomes['outcome_gender']].shape[0]}')
print(f'Number of breed changes: {intakes_outcomes[intakes_outcomes['intake_breed'] != intakes_outcomes['outcome_breed']].shape[0]}')
print(f'Number of color changes: {intakes_outcomes[intakes_outcomes['intake_color'] != intakes_outcomes['outcome_color']].shape[0]}')





df.duplicated('animal_stay').sum()


# dropping duplicate columns
intakes_outcomes.drop(columns=['outcome_animal_type', 'outcome_breed', 'outcome_color'], inplace=True)

# renaming columns without intake specifier
intakes_outcomes.rename(columns={'intake_breed': 'breed', 'intake_color': 'color'}, inplace=True)


# checking remaining null values
intakes_outcomes.isnull().sum()





print(intakes_outcomes.shape)
intakes_outcomes.dropna(inplace=True)
print(intakes_outcomes.shape)


# function for converting age columns to age in months
def convert_age(age): 
    # add doc string for fucntion!!!!!!!!
    value, unit = age.split()
    value = abs(int(value)) # assume the nagetive age is typo 
    
    if 'year' in unit:
        return value * 12
    elif 'month' in unit:
        return value
    elif 'week' in unit:
        return round(float(value * 0.23), 2)
    elif 'day' in unit:
        return round(float(value * 0.033), 2)
    else:
        return 0 


intakes_outcomes['intake_age'] = intakes_outcomes['intake_age'].map(convert_age)
intakes_outcomes['outcome_age'] = intakes_outcomes['outcome_age'].map(convert_age)


# saving combined data to use in other notebooks
intakes_outcomes.to_csv('../data/combined-shelter-date.csv', index=False)



