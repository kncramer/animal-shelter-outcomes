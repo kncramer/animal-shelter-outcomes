import pandas as pd
import matplotlib.pyplot as plt


intakes =  pd.read_csv('./data/austin_animal_center_intakes_20241017.csv')
intakes.head()


intakes.info()


intakes.drop(columns=['Name', 'Found Location', 'MonthYear'], inplace=True)


columns = {
    'Animal ID': 'animal_id',
    'DateTime': 'intake_time',
    'Intake Type': 'intake_type',
    'Intake Condition': 'intake_condition',
    'Animal Type': 'intake_animal',
    'Sex upon Intake': 'intake_gender',
    'Age upon Intake': 'intake_age',
    'Breed': 'intake_breed',
    'Color': 'intake_color'    
}

intakes = intakes.rename(columns=columns)


intakes['intake_time'] = pd.to_datetime(intakes['intake_time'], format='%m/%d/%Y %H:%M:%S %p')


intakes.nunique()


intakes.sort_values(by=['animal_id','intake_time'], inplace=True, ascending=False)
intakes.head()


intakes['stay'] = intakes.groupby('animal_id').cumcount() +1 


intakes.nunique()


intakes['stay'] = intakes['stay'].astype('str')


intakes['animal_stay'] = intakes['animal_id'] + '-' + intakes['stay']


outcomes = pd.read_csv('./data/austin_animal_center_outcomes_20241017.csv')
outcomes.head()


outcomes.info()


outcomes.drop(columns=['Name', 'MonthYear', 'Outcome Subtype'], inplace=True)


outcome_columns = {
    'Animal ID': 'animal_id',
    'DateTime': 'outcome_time',
    'Date of Birth': 'date_of_birth',
    'Outcome Type': 'outcome_type',
    'Animal Type': 'outcome_animal',
    'Sex upon Outcome': 'outcome_gender',
    'Age upon Outcomee': 'outcome_aged',
    'Breed': 'outcome_breed',
    'Color': 'outcome_color'    
}

outcomes = outcomes.rename(columns=outcome_columns)


outcomes['outcome_time'] = pd.to_datetime(outcomes['outcome_time'], format='%m/%d/%Y %H:%M:%S %p')


outcomes.nunique()


outcomes.sort_values(by=['animal_id','outcome_time'], inplace=True, ascending=False)
outcomes.head()


outcomes['stay'] = outcomes.groupby('animal_id').cumcount() +1 


outcomes['stay'] = outcomes['stay'].astype('str')


outcomes['animal_stay'] = outcomes['animal_id'] + '-' + (outcomes['stay'])





df = pd.merge(left=intakes, right=outcomes, how='inner', on='animal_stay')


df





df.info()


# Checking for dupes after merge on our unique identifier
df.duplicated('animal_stay').sum()


# Drop these columns as no longer needed
df.drop(columns=['animal_id_x', 'stay_x', 'animal_id_y', 'stay_y'], inplace=True)


# Breakdown by animals
df['intake_animal'].value_counts()


# How many dogs and cats
df = df.loc[(df['intake_animal'] == 'Dog') | (df['intake_animal'] == 'Cat')]
df.shape


# Any missing values
df.isna().sum()


# Dropping missing values as most of them likely remain in shelter.
df.dropna(axis=0, inplace=True)
df.shape


# Looking at breakdown of animal breeds
df.groupby('intake_animal')['intake_breed'].value_counts()


df.groupby('intake_breed')['intake_animal'].value_counts().sort_values(ascending=False).head(50)


cat_10 = df[df['intake_animal'] == 'Cat']['intake_breed'].value_counts().sort_values(ascending=False).head(10)


dog_10 = df[df['intake_animal'] == 'Dog']['intake_breed'].value_counts().sort_values(ascending=False).head(10)


dog_10.index


plt.bar(dog_10.index, dog_10.values)
plt.xticks(rotation=60)
plt.show();


plt.bar(cat_10.index, cat_10.values, color='orange')
plt.xticks(rotation=60)
plt.show();


# What proportion of total observations are from breeds that are less than 1% of breeds
a = df['intake_breed'].value_counts()
print(len(a))
print(a[a < 27])
print(len(a[a < 27]) / len(a))


# Assessing the intake condition categories
df['intake_condition'].unique()


# Were breeds reclassified?
df[df['intake_breed'] != df['outcome_breed']]


# Were animals spayed and or neutered?
df[df['intake_gender'] != df['outcome_gender']]


# Were animals colors remarketed?
df[df['intake_color'] != df['outcome_color']]


df['intake_color'].value_counts()


# How long were they in the shelter = Duration
df['duration'] = df['outcome_time'] - df['intake_time']


df['duration'].describe()


df.groupby('outcome_type')['duration'].agg(['count','min', 'mean', 'max'])


df['duration'].sort_values().head(5)





df['duration_integer'] = pd.to_datetime(df['duration'])
df[df['duration_integer'] < 0]


df.iloc[4811:4812, :]


intakes[intakes['animal_id'] == 'A660279']


df[df['animal_stay'] == 'A660279-1']


outcomes[outcomes['animal_id'] == 'A660279']


df[df['animal_stay'] == 'A660279-3']


df[df['animal_stay'] == 'A660279-1']


df[df['animal_stay'] == 'A660279-2']


df[df['animal_stay'] == 'A660279-3']


df.iloc[139388:139388 , :]



