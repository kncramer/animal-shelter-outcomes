{
 "cells": [
  {
   "cell_type": "markdown",
   "id": "60961e3f-7e03-442b-b9cb-047494a012d1",
   "metadata": {},
   "source": [
    "# Animal Shelter Data\n",
    "---\n",
    "\n",
    "The datasets explored for this project cover Austin and Dallas Texas.  Working with datasets from different municipalities should highlight the importance of particular data as well as the significance of omitting some data.  \n",
    "\n",
    "Starting from this vantage point the data is going to be cleaned in a way to collect the most meaningful data that will improve the issues facing animal shelters."
   ]
  },
  {
   "cell_type": "markdown",
   "id": "bccfcc25-66e7-4eac-a6c6-874a8f143191",
   "metadata": {},
   "source": [
    "Problem Statement..."
   ]
  },
  {
   "cell_type": "markdown",
   "id": "efedd638-8d05-4712-8ec2-b94923c235da",
   "metadata": {},
   "source": [
    "---\n",
    "## Data Cleaning"
   ]
  },
  {
   "cell_type": "code",
   "execution_count": 1,
   "id": "4e48e449-c2e2-41ea-a279-ae56ca64a500",
   "metadata": {},
   "outputs": [],
   "source": [
    "# imports\n",
    "import pandas as pd\n",
    "import numpy as np"
   ]
  },
  {
   "cell_type": "markdown",
   "id": "96d416b7-6979-46d0-9b01-9f8252f76387",
   "metadata": {},
   "source": [
    "### Austin Shelter Intakes"
   ]
  },
  {
   "cell_type": "code",
   "execution_count": 2,
   "id": "67a8d69a-5047-4a16-8ec0-7dd01773d3c2",
   "metadata": {},
   "outputs": [
    {
     "data": {
      "text/html": [
       "<div>\n",
       "<style scoped>\n",
       "    .dataframe tbody tr th:only-of-type {\n",
       "        vertical-align: middle;\n",
       "    }\n",
       "\n",
       "    .dataframe tbody tr th {\n",
       "        vertical-align: top;\n",
       "    }\n",
       "\n",
       "    .dataframe thead th {\n",
       "        text-align: right;\n",
       "    }\n",
       "</style>\n",
       "<table border=\"1\" class=\"dataframe\">\n",
       "  <thead>\n",
       "    <tr style=\"text-align: right;\">\n",
       "      <th></th>\n",
       "      <th>Animal ID</th>\n",
       "      <th>Name</th>\n",
       "      <th>DateTime</th>\n",
       "      <th>MonthYear</th>\n",
       "      <th>Found Location</th>\n",
       "      <th>Intake Type</th>\n",
       "      <th>Intake Condition</th>\n",
       "      <th>Animal Type</th>\n",
       "      <th>Sex upon Intake</th>\n",
       "      <th>Age upon Intake</th>\n",
       "      <th>Breed</th>\n",
       "      <th>Color</th>\n",
       "    </tr>\n",
       "  </thead>\n",
       "  <tbody>\n",
       "    <tr>\n",
       "      <th>0</th>\n",
       "      <td>A786884</td>\n",
       "      <td>*Brock</td>\n",
       "      <td>01/03/2019 04:19:00 PM</td>\n",
       "      <td>January 2019</td>\n",
       "      <td>2501 Magin Meadow Dr in Austin (TX)</td>\n",
       "      <td>Stray</td>\n",
       "      <td>Normal</td>\n",
       "      <td>Dog</td>\n",
       "      <td>Neutered Male</td>\n",
       "      <td>2 years</td>\n",
       "      <td>Beagle Mix</td>\n",
       "      <td>Tricolor</td>\n",
       "    </tr>\n",
       "    <tr>\n",
       "      <th>1</th>\n",
       "      <td>A706918</td>\n",
       "      <td>Belle</td>\n",
       "      <td>07/05/2015 12:59:00 PM</td>\n",
       "      <td>July 2015</td>\n",
       "      <td>9409 Bluegrass Dr in Austin (TX)</td>\n",
       "      <td>Stray</td>\n",
       "      <td>Normal</td>\n",
       "      <td>Dog</td>\n",
       "      <td>Spayed Female</td>\n",
       "      <td>8 years</td>\n",
       "      <td>English Springer Spaniel</td>\n",
       "      <td>White/Liver</td>\n",
       "    </tr>\n",
       "    <tr>\n",
       "      <th>2</th>\n",
       "      <td>A724273</td>\n",
       "      <td>Runster</td>\n",
       "      <td>04/14/2016 06:43:00 PM</td>\n",
       "      <td>April 2016</td>\n",
       "      <td>2818 Palomino Trail in Austin (TX)</td>\n",
       "      <td>Stray</td>\n",
       "      <td>Normal</td>\n",
       "      <td>Dog</td>\n",
       "      <td>Intact Male</td>\n",
       "      <td>11 months</td>\n",
       "      <td>Basenji Mix</td>\n",
       "      <td>Sable/White</td>\n",
       "    </tr>\n",
       "    <tr>\n",
       "      <th>3</th>\n",
       "      <td>A665644</td>\n",
       "      <td>NaN</td>\n",
       "      <td>10/21/2013 07:59:00 AM</td>\n",
       "      <td>October 2013</td>\n",
       "      <td>Austin (TX)</td>\n",
       "      <td>Stray</td>\n",
       "      <td>Sick</td>\n",
       "      <td>Cat</td>\n",
       "      <td>Intact Female</td>\n",
       "      <td>4 weeks</td>\n",
       "      <td>Domestic Shorthair Mix</td>\n",
       "      <td>Calico</td>\n",
       "    </tr>\n",
       "    <tr>\n",
       "      <th>4</th>\n",
       "      <td>A857105</td>\n",
       "      <td>Johnny Ringo</td>\n",
       "      <td>05/12/2022 12:23:00 AM</td>\n",
       "      <td>May 2022</td>\n",
       "      <td>4404 Sarasota Drive in Austin (TX)</td>\n",
       "      <td>Public Assist</td>\n",
       "      <td>Normal</td>\n",
       "      <td>Cat</td>\n",
       "      <td>Neutered Male</td>\n",
       "      <td>2 years</td>\n",
       "      <td>Domestic Shorthair</td>\n",
       "      <td>Orange Tabby</td>\n",
       "    </tr>\n",
       "  </tbody>\n",
       "</table>\n",
       "</div>"
      ],
      "text/plain": [
       "  Animal ID          Name                DateTime     MonthYear  \\\n",
       "0   A786884        *Brock  01/03/2019 04:19:00 PM  January 2019   \n",
       "1   A706918         Belle  07/05/2015 12:59:00 PM     July 2015   \n",
       "2   A724273       Runster  04/14/2016 06:43:00 PM    April 2016   \n",
       "3   A665644           NaN  10/21/2013 07:59:00 AM  October 2013   \n",
       "4   A857105  Johnny Ringo  05/12/2022 12:23:00 AM      May 2022   \n",
       "\n",
       "                        Found Location    Intake Type Intake Condition  \\\n",
       "0  2501 Magin Meadow Dr in Austin (TX)          Stray           Normal   \n",
       "1     9409 Bluegrass Dr in Austin (TX)          Stray           Normal   \n",
       "2   2818 Palomino Trail in Austin (TX)          Stray           Normal   \n",
       "3                          Austin (TX)          Stray             Sick   \n",
       "4   4404 Sarasota Drive in Austin (TX)  Public Assist           Normal   \n",
       "\n",
       "  Animal Type Sex upon Intake Age upon Intake                     Breed  \\\n",
       "0         Dog   Neutered Male         2 years                Beagle Mix   \n",
       "1         Dog   Spayed Female         8 years  English Springer Spaniel   \n",
       "2         Dog     Intact Male       11 months               Basenji Mix   \n",
       "3         Cat   Intact Female         4 weeks    Domestic Shorthair Mix   \n",
       "4         Cat   Neutered Male         2 years        Domestic Shorthair   \n",
       "\n",
       "          Color  \n",
       "0      Tricolor  \n",
       "1   White/Liver  \n",
       "2   Sable/White  \n",
       "3        Calico  \n",
       "4  Orange Tabby  "
      ]
     },
     "execution_count": 2,
     "metadata": {},
     "output_type": "execute_result"
    }
   ],
   "source": [
    "# reading in shelter intakes\n",
    "intakes =  pd.read_csv('../data/austin_animal_center_intakes_20241017.csv')\n",
    "intakes.head()"
   ]
  },
  {
   "cell_type": "code",
   "execution_count": 3,
   "id": "5a813a7a-27bf-499c-ab4d-43ff6ad43b55",
   "metadata": {},
   "outputs": [
    {
     "name": "stdout",
     "output_type": "stream",
     "text": [
      "<class 'pandas.core.frame.DataFrame'>\n",
      "RangeIndex: 168040 entries, 0 to 168039\n",
      "Data columns (total 12 columns):\n",
      " #   Column            Non-Null Count   Dtype \n",
      "---  ------            --------------   ----- \n",
      " 0   Animal ID         168040 non-null  object\n",
      " 1   Name              119647 non-null  object\n",
      " 2   DateTime          168040 non-null  object\n",
      " 3   MonthYear         168040 non-null  object\n",
      " 4   Found Location    168040 non-null  object\n",
      " 5   Intake Type       168040 non-null  object\n",
      " 6   Intake Condition  168040 non-null  object\n",
      " 7   Animal Type       168040 non-null  object\n",
      " 8   Sex upon Intake   168038 non-null  object\n",
      " 9   Age upon Intake   168039 non-null  object\n",
      " 10  Breed             168040 non-null  object\n",
      " 11  Color             168040 non-null  object\n",
      "dtypes: object(12)\n",
      "memory usage: 15.4+ MB\n"
     ]
    }
   ],
   "source": [
    "intakes.info()"
   ]
  },
  {
   "cell_type": "markdown",
   "id": "07bc91ad-ac02-4e5a-ac09-652d0d5bd36f",
   "metadata": {},
   "source": [
    "*The Name column has a lot of null values and we're assuming a pet's name won't affect their chances of adoption, so going to drop this column. Also dropping MonthYear because that information is also in the DateTime column.*"
   ]
  },
  {
   "cell_type": "code",
   "execution_count": 4,
   "id": "c63937ed-23da-409d-b8ae-e02b74eb7fb2",
   "metadata": {},
   "outputs": [],
   "source": [
    "# dropping inconsequential columns\n",
    "intakes.drop(columns=['Name', 'MonthYear'], inplace=True)"
   ]
  },
  {
   "cell_type": "code",
   "execution_count": 5,
   "id": "6934bd53-7a0b-41d6-8aca-5055491fb195",
   "metadata": {},
   "outputs": [],
   "source": [
    "# renaming columns to be intake specific and snake case\n",
    "columns = {\n",
    "    'Animal ID': 'animal_id',\n",
    "    'DateTime': 'intake_time',\n",
    "    'Found Location': 'found_location',\n",
    "    'Intake Type': 'intake_type',\n",
    "    'Intake Condition': 'intake_condition',\n",
    "    'Animal Type': 'animal_type',\n",
    "    'Sex upon Intake': 'intake_gender',\n",
    "    'Age upon Intake': 'intake_age',\n",
    "    'Breed': 'intake_breed',\n",
    "    'Color': 'intake_color'    \n",
    "}\n",
    "\n",
    "intakes = intakes.rename(columns=columns)"
   ]
  },
  {
   "cell_type": "code",
   "execution_count": 6,
   "id": "02c80b92-efa9-4f33-b74e-b6152767b9d3",
   "metadata": {},
   "outputs": [],
   "source": [
    "# converting intake_time column to datetime format\n",
    "intakes['intake_time'] = pd.to_datetime(intakes['intake_time'], format='%m/%d/%Y %I:%M:%S %p')"
   ]
  },
  {
   "cell_type": "code",
   "execution_count": 7,
   "id": "bdc2322c-c2e5-48ea-8ab6-2a884cbc1231",
   "metadata": {},
   "outputs": [
    {
     "data": {
      "text/plain": [
       "animal_id           151007\n",
       "intake_time         115852\n",
       "found_location       68164\n",
       "intake_type              6\n",
       "intake_condition        20\n",
       "animal_type              5\n",
       "intake_gender            5\n",
       "intake_age              55\n",
       "intake_breed          2969\n",
       "intake_color           651\n",
       "dtype: int64"
      ]
     },
     "execution_count": 7,
     "metadata": {},
     "output_type": "execute_result"
    }
   ],
   "source": [
    "intakes.nunique()"
   ]
  },
  {
   "cell_type": "markdown",
   "id": "f8554290-b911-4a35-bbf9-9e4bc7219030",
   "metadata": {},
   "source": [
    "*There are many animals that have more than one stay at a shelter. In order to have accurate merging between intake and outcomes we are separating any duplicate animals.*"
   ]
  },
  {
   "cell_type": "code",
   "execution_count": 8,
   "id": "368f890a-ef02-40bc-b931-075dee6d07f6",
   "metadata": {},
   "outputs": [],
   "source": [
    "# sort intakes by most recent intakes first\n",
    "intakes.sort_values(by=['intake_time', 'animal_id'], inplace=True, ascending = False)"
   ]
  },
  {
   "cell_type": "code",
   "execution_count": 9,
   "id": "5feee6c5-9733-4aa1-9fa5-c6bcc2a3a835",
   "metadata": {},
   "outputs": [],
   "source": [
    "# creating a dataframe for repeat animals - note the keeping the first\n",
    "repeat_intakes = intakes[intakes.duplicated(subset=['animal_id'], keep=False)].sort_values(by=['animal_id'])\n",
    "\n",
    "# drop duplicate observations\n",
    "intakes.drop_duplicates(subset='animal_id', inplace = True, keep=False)"
   ]
  },
  {
   "cell_type": "markdown",
   "id": "741af362-d2b1-4c35-a3c7-dfabfccb898e",
   "metadata": {},
   "source": [
    "### Austin Shelter Outcomes"
   ]
  },
  {
   "cell_type": "code",
   "execution_count": 10,
   "id": "2d91119d-0a7c-475c-a7b5-13b0ea60bdfc",
   "metadata": {},
   "outputs": [
    {
     "data": {
      "text/html": [
       "<div>\n",
       "<style scoped>\n",
       "    .dataframe tbody tr th:only-of-type {\n",
       "        vertical-align: middle;\n",
       "    }\n",
       "\n",
       "    .dataframe tbody tr th {\n",
       "        vertical-align: top;\n",
       "    }\n",
       "\n",
       "    .dataframe thead th {\n",
       "        text-align: right;\n",
       "    }\n",
       "</style>\n",
       "<table border=\"1\" class=\"dataframe\">\n",
       "  <thead>\n",
       "    <tr style=\"text-align: right;\">\n",
       "      <th></th>\n",
       "      <th>Animal ID</th>\n",
       "      <th>Name</th>\n",
       "      <th>DateTime</th>\n",
       "      <th>MonthYear</th>\n",
       "      <th>Date of Birth</th>\n",
       "      <th>Outcome Type</th>\n",
       "      <th>Outcome Subtype</th>\n",
       "      <th>Animal Type</th>\n",
       "      <th>Sex upon Outcome</th>\n",
       "      <th>Age upon Outcome</th>\n",
       "      <th>Breed</th>\n",
       "      <th>Color</th>\n",
       "    </tr>\n",
       "  </thead>\n",
       "  <tbody>\n",
       "    <tr>\n",
       "      <th>0</th>\n",
       "      <td>A882831</td>\n",
       "      <td>*Hamilton</td>\n",
       "      <td>07/01/2023 06:12:00 PM</td>\n",
       "      <td>Jul 2023</td>\n",
       "      <td>03/25/2023</td>\n",
       "      <td>Adoption</td>\n",
       "      <td>NaN</td>\n",
       "      <td>Cat</td>\n",
       "      <td>Neutered Male</td>\n",
       "      <td>3 months</td>\n",
       "      <td>Domestic Shorthair Mix</td>\n",
       "      <td>Black/White</td>\n",
       "    </tr>\n",
       "    <tr>\n",
       "      <th>1</th>\n",
       "      <td>A794011</td>\n",
       "      <td>Chunk</td>\n",
       "      <td>05/08/2019 06:20:00 PM</td>\n",
       "      <td>May 2019</td>\n",
       "      <td>05/02/2017</td>\n",
       "      <td>Rto-Adopt</td>\n",
       "      <td>NaN</td>\n",
       "      <td>Cat</td>\n",
       "      <td>Neutered Male</td>\n",
       "      <td>2 years</td>\n",
       "      <td>Domestic Shorthair Mix</td>\n",
       "      <td>Brown Tabby/White</td>\n",
       "    </tr>\n",
       "    <tr>\n",
       "      <th>2</th>\n",
       "      <td>A776359</td>\n",
       "      <td>Gizmo</td>\n",
       "      <td>07/18/2018 04:02:00 PM</td>\n",
       "      <td>Jul 2018</td>\n",
       "      <td>07/12/2017</td>\n",
       "      <td>Adoption</td>\n",
       "      <td>NaN</td>\n",
       "      <td>Dog</td>\n",
       "      <td>Neutered Male</td>\n",
       "      <td>1 year</td>\n",
       "      <td>Chihuahua Shorthair Mix</td>\n",
       "      <td>White/Brown</td>\n",
       "    </tr>\n",
       "    <tr>\n",
       "      <th>3</th>\n",
       "      <td>A821648</td>\n",
       "      <td>NaN</td>\n",
       "      <td>08/16/2020 11:38:00 AM</td>\n",
       "      <td>Aug 2020</td>\n",
       "      <td>08/16/2019</td>\n",
       "      <td>Euthanasia</td>\n",
       "      <td>NaN</td>\n",
       "      <td>Other</td>\n",
       "      <td>Unknown</td>\n",
       "      <td>1 year</td>\n",
       "      <td>Raccoon</td>\n",
       "      <td>Gray</td>\n",
       "    </tr>\n",
       "    <tr>\n",
       "      <th>4</th>\n",
       "      <td>A720371</td>\n",
       "      <td>Moose</td>\n",
       "      <td>02/13/2016 05:59:00 PM</td>\n",
       "      <td>Feb 2016</td>\n",
       "      <td>10/08/2015</td>\n",
       "      <td>Adoption</td>\n",
       "      <td>NaN</td>\n",
       "      <td>Dog</td>\n",
       "      <td>Neutered Male</td>\n",
       "      <td>4 months</td>\n",
       "      <td>Anatol Shepherd/Labrador Retriever</td>\n",
       "      <td>Buff</td>\n",
       "    </tr>\n",
       "  </tbody>\n",
       "</table>\n",
       "</div>"
      ],
      "text/plain": [
       "  Animal ID       Name                DateTime MonthYear Date of Birth  \\\n",
       "0   A882831  *Hamilton  07/01/2023 06:12:00 PM  Jul 2023    03/25/2023   \n",
       "1   A794011      Chunk  05/08/2019 06:20:00 PM  May 2019    05/02/2017   \n",
       "2   A776359      Gizmo  07/18/2018 04:02:00 PM  Jul 2018    07/12/2017   \n",
       "3   A821648        NaN  08/16/2020 11:38:00 AM  Aug 2020    08/16/2019   \n",
       "4   A720371      Moose  02/13/2016 05:59:00 PM  Feb 2016    10/08/2015   \n",
       "\n",
       "  Outcome Type Outcome Subtype Animal Type Sex upon Outcome Age upon Outcome  \\\n",
       "0     Adoption             NaN         Cat    Neutered Male         3 months   \n",
       "1    Rto-Adopt             NaN         Cat    Neutered Male          2 years   \n",
       "2     Adoption             NaN         Dog    Neutered Male           1 year   \n",
       "3   Euthanasia             NaN       Other          Unknown           1 year   \n",
       "4     Adoption             NaN         Dog    Neutered Male         4 months   \n",
       "\n",
       "                                Breed              Color  \n",
       "0              Domestic Shorthair Mix        Black/White  \n",
       "1              Domestic Shorthair Mix  Brown Tabby/White  \n",
       "2             Chihuahua Shorthair Mix        White/Brown  \n",
       "3                             Raccoon               Gray  \n",
       "4  Anatol Shepherd/Labrador Retriever               Buff  "
      ]
     },
     "execution_count": 10,
     "metadata": {},
     "output_type": "execute_result"
    }
   ],
   "source": [
    "# reading in shelter outcomes\n",
    "outcomes = pd.read_csv('../data/austin_animal_center_outcomes_20241017.csv')\n",
    "outcomes.head()"
   ]
  },
  {
   "cell_type": "code",
   "execution_count": 11,
   "id": "7f4f3169-11c9-4eb1-b930-9e80ba216477",
   "metadata": {},
   "outputs": [
    {
     "name": "stdout",
     "output_type": "stream",
     "text": [
      "<class 'pandas.core.frame.DataFrame'>\n",
      "RangeIndex: 167942 entries, 0 to 167941\n",
      "Data columns (total 12 columns):\n",
      " #   Column            Non-Null Count   Dtype \n",
      "---  ------            --------------   ----- \n",
      " 0   Animal ID         167942 non-null  object\n",
      " 1   Name              119733 non-null  object\n",
      " 2   DateTime          167942 non-null  object\n",
      " 3   MonthYear         167942 non-null  object\n",
      " 4   Date of Birth     167942 non-null  object\n",
      " 5   Outcome Type      167896 non-null  object\n",
      " 6   Outcome Subtype   77144 non-null   object\n",
      " 7   Animal Type       167942 non-null  object\n",
      " 8   Sex upon Outcome  167940 non-null  object\n",
      " 9   Age upon Outcome  167926 non-null  object\n",
      " 10  Breed             167942 non-null  object\n",
      " 11  Color             167942 non-null  object\n",
      "dtypes: object(12)\n",
      "memory usage: 15.4+ MB\n"
     ]
    }
   ],
   "source": [
    "outcomes.info()"
   ]
  },
  {
   "cell_type": "markdown",
   "id": "bdd0cf96-5dc3-4fa9-a57c-3b9c01a94425",
   "metadata": {},
   "source": [
    "*Dropping Name and MonthYear columns for outcomes data as well as Outcome Subtype. This column has even more null values than Name and we'll be focusing on the primary Outcome Type only.*"
   ]
  },
  {
   "cell_type": "code",
   "execution_count": 12,
   "id": "db0b58e5-5fff-42c3-815e-6b2526c9c9c4",
   "metadata": {},
   "outputs": [],
   "source": [
    "# dropping inconsequential columns\n",
    "outcomes.drop(columns=['Name', 'MonthYear', 'Outcome Subtype'], inplace=True)"
   ]
  },
  {
   "cell_type": "code",
   "execution_count": 13,
   "id": "0af4de1a-802e-46ed-ba06-6f9dc8d6518f",
   "metadata": {},
   "outputs": [],
   "source": [
    "# renaming columns to be outcome specific and snake case\n",
    "outcome_columns = {\n",
    "    'Animal ID': 'animal_id',\n",
    "    'DateTime': 'outcome_time',\n",
    "    'Date of Birth': 'date_of_birth',\n",
    "    'Outcome Type': 'outcome_type',\n",
    "    'Animal Type': 'outcome_animal_type',\n",
    "    'Sex upon Outcome': 'outcome_gender',\n",
    "    'Age upon Outcome': 'outcome_age',\n",
    "    'Breed': 'outcome_breed',\n",
    "    'Color': 'outcome_color'    \n",
    "}\n",
    "\n",
    "outcomes = outcomes.rename(columns=outcome_columns)"
   ]
  },
  {
   "cell_type": "code",
   "execution_count": 14,
   "id": "a4216afb-dbda-40f4-9587-ba74de6acde8",
   "metadata": {},
   "outputs": [],
   "source": [
    "# converting outcome_time and date of birth columns to datetime format\n",
    "outcomes['outcome_time'] = pd.to_datetime(outcomes['outcome_time'], format='%m/%d/%Y %I:%M:%S %p')\n",
    "outcomes['date_of_birth'] = pd.to_datetime(outcomes['date_of_birth'], format='%m/%d/%Y')"
   ]
  },
  {
   "cell_type": "code",
   "execution_count": 15,
   "id": "545d4bbe-2bf6-4b7e-abce-cd753305745f",
   "metadata": {},
   "outputs": [
    {
     "data": {
      "text/plain": [
       "animal_id              150912\n",
       "outcome_time           140118\n",
       "date_of_birth            8501\n",
       "outcome_type               11\n",
       "outcome_animal_type         5\n",
       "outcome_gender              5\n",
       "outcome_age                55\n",
       "outcome_breed            2969\n",
       "outcome_color             653\n",
       "dtype: int64"
      ]
     },
     "execution_count": 15,
     "metadata": {},
     "output_type": "execute_result"
    }
   ],
   "source": [
    "outcomes.nunique()"
   ]
  },
  {
   "cell_type": "markdown",
   "id": "88c853fa-0c09-4e57-8e62-376f8e6a3d03",
   "metadata": {},
   "source": [
    "*Separating duplicate animal_id's for outcomes as well.*"
   ]
  },
  {
   "cell_type": "code",
   "execution_count": 16,
   "id": "551d1330-8cec-410e-9005-1d3ed2e97923",
   "metadata": {},
   "outputs": [],
   "source": [
    "# sort intakes by most recent intakes first\n",
    "outcomes.sort_values(by=['outcome_time', 'animal_id'], inplace=True, ascending = False)"
   ]
  },
  {
   "cell_type": "code",
   "execution_count": 17,
   "id": "1ebbc515-ef85-4d1c-889f-a7a34aafca20",
   "metadata": {},
   "outputs": [],
   "source": [
    "# creating a dataframe for repeat animals - note the keeping the first\n",
    "repeat_outcomes = outcomes[outcomes.duplicated(subset=['animal_id'], keep=False)].sort_values(by=['animal_id'])\n",
    "\n",
    "# drop duplicate observations\n",
    "outcomes.drop_duplicates(subset='animal_id', inplace = True, keep=False)"
   ]
  },
  {
   "cell_type": "markdown",
   "id": "726e4cdf-52b2-4a3d-8f96-938e846241fd",
   "metadata": {},
   "source": [
    "### Merge Austin DataFrames"
   ]
  },
  {
   "cell_type": "markdown",
   "id": "e850766f-2d75-4bb8-b01a-ea38d6d221f0",
   "metadata": {},
   "source": [
    "The animal_ids that show up more than once in the intakes and outcomes have been separated.  This will allow the merge between animals in the system once to be handled cleanly, particularly the maajority being single stay animals.\n",
    "\n",
    "There is a longer process to merge the repeat animals.  In order to achieve the best merge a few temporary columns will be created to sequentially order observations.  This will allow for the creation of a unique animal_stay number, combination of animal id and the instance in the shelter."
   ]
  },
  {
   "cell_type": "code",
   "execution_count": 18,
   "id": "a56fd46a-364a-4669-8ff1-dd7e289b6c11",
   "metadata": {},
   "outputs": [],
   "source": [
    "# adding temporary column to indicate intakes and outcomes\n",
    "repeat_intakes['intakes'] = 'intakes'\n",
    "repeat_outcomes['intakes'] = 'outcomes'"
   ]
  },
  {
   "cell_type": "code",
   "execution_count": 19,
   "id": "85ea450e-e791-4428-9619-5eddfbaa234a",
   "metadata": {},
   "outputs": [
    {
     "data": {
      "text/plain": [
       "(0, (30119, 11))"
      ]
     },
     "execution_count": 19,
     "metadata": {},
     "output_type": "execute_result"
    }
   ],
   "source": [
    "# checking for missing values and shape\n",
    "repeat_intakes.isna().sum().sum(), repeat_intakes.shape"
   ]
  },
  {
   "cell_type": "code",
   "execution_count": 20,
   "id": "15b4a9da-f50e-467c-be9a-bbba9fc6d8b5",
   "metadata": {},
   "outputs": [
    {
     "data": {
      "text/plain": [
       "(11, (30117, 10))"
      ]
     },
     "execution_count": 20,
     "metadata": {},
     "output_type": "execute_result"
    }
   ],
   "source": [
    "# checking for missing values and shape\n",
    "repeat_outcomes.isna().sum().sum(), repeat_outcomes.shape"
   ]
  },
  {
   "cell_type": "code",
   "execution_count": 21,
   "id": "430f78c5-bb71-48d3-b7e9-614a9b26f8d2",
   "metadata": {},
   "outputs": [
    {
     "data": {
      "text/plain": [
       "animal_id               0\n",
       "outcome_time            0\n",
       "date_of_birth           0\n",
       "outcome_type           11\n",
       "outcome_animal_type     0\n",
       "outcome_gender          0\n",
       "outcome_age             0\n",
       "outcome_breed           0\n",
       "outcome_color           0\n",
       "intakes                 0\n",
       "dtype: int64"
      ]
     },
     "execution_count": 21,
     "metadata": {},
     "output_type": "execute_result"
    }
   ],
   "source": [
    "# finding na values\n",
    "repeat_outcomes.isna().sum()"
   ]
  },
  {
   "cell_type": "code",
   "execution_count": 22,
   "id": "6d8c00d0-477f-4628-9e2c-d8c1a200c92e",
   "metadata": {},
   "outputs": [],
   "source": [
    "# dropping missing values in outcome_type\n",
    "repeat_outcomes.dropna(subset=['outcome_type'], inplace=True)"
   ]
  },
  {
   "cell_type": "code",
   "execution_count": 23,
   "id": "9d2bbc3c-5ce7-4c8d-9ba6-bdfaf162869a",
   "metadata": {},
   "outputs": [
    {
     "name": "stdout",
     "output_type": "stream",
     "text": [
      "<class 'pandas.core.frame.DataFrame'>\n",
      "Index: 60225 entries, 167431 to 113926\n",
      "Data columns (total 20 columns):\n",
      " #   Column               Non-Null Count  Dtype         \n",
      "---  ------               --------------  -----         \n",
      " 0   animal_id            60225 non-null  object        \n",
      " 1   intake_time          30119 non-null  datetime64[ns]\n",
      " 2   found_location       30119 non-null  object        \n",
      " 3   intake_type          30119 non-null  object        \n",
      " 4   intake_condition     30119 non-null  object        \n",
      " 5   animal_type          30119 non-null  object        \n",
      " 6   intake_gender        30119 non-null  object        \n",
      " 7   intake_age           30119 non-null  object        \n",
      " 8   intake_breed         30119 non-null  object        \n",
      " 9   intake_color         30119 non-null  object        \n",
      " 10  intakes              60225 non-null  object        \n",
      " 11  outcome_time         30106 non-null  datetime64[ns]\n",
      " 12  date_of_birth        30106 non-null  datetime64[ns]\n",
      " 13  outcome_type         30106 non-null  object        \n",
      " 14  outcome_animal_type  30106 non-null  object        \n",
      " 15  outcome_gender       30106 non-null  object        \n",
      " 16  outcome_age          30106 non-null  object        \n",
      " 17  outcome_breed        30106 non-null  object        \n",
      " 18  outcome_color        30106 non-null  object        \n",
      " 19  sequential_date      60225 non-null  datetime64[ns]\n",
      "dtypes: datetime64[ns](4), object(16)\n",
      "memory usage: 9.6+ MB\n"
     ]
    }
   ],
   "source": [
    "# The two dataframes are concat together.  This allows to sort all observations sequentially.\n",
    "# A column is added to create a date column.\n",
    "df = pd.concat([repeat_intakes, repeat_outcomes])\n",
    "df['sequential_date'] = df['outcome_time']\n",
    "df['sequential_date'] = df['sequential_date'].fillna(df['intake_time'])\n",
    "\n",
    "df.sort_values(by=['animal_id','sequential_date'], inplace=True, ascending=False)\n",
    "df.info()"
   ]
  },
  {
   "cell_type": "code",
   "execution_count": 24,
   "id": "6ca1a4d2-2554-46b0-a6d8-02797c932d8a",
   "metadata": {},
   "outputs": [
    {
     "data": {
      "text/plain": [
       "((30119, 20), (30106, 20))"
      ]
     },
     "execution_count": 24,
     "metadata": {},
     "output_type": "execute_result"
    }
   ],
   "source": [
    "# split intakes and outcomes for sequential identifiers\n",
    "df1 = df[df['intakes'] == 'intakes'].copy()\n",
    "df2 = df[df['intakes'] == 'outcomes'].copy()\n",
    "df1.shape, df2.shape"
   ]
  },
  {
   "cell_type": "code",
   "execution_count": 25,
   "id": "05af742a-064d-4c1f-aca9-881fb7939fb7",
   "metadata": {},
   "outputs": [
    {
     "data": {
      "text/plain": [
       "((30119, 12), (30106, 11))"
      ]
     },
     "execution_count": 25,
     "metadata": {},
     "output_type": "execute_result"
    }
   ],
   "source": [
    "# dropping empty columns manually to control which are dropped\n",
    "df1_cols_drop = ['outcome_time', 'date_of_birth', 'outcome_type',\n",
    "       'outcome_animal_type', 'outcome_gender', 'outcome_age', 'outcome_breed',\n",
    "       'outcome_color']\n",
    "\n",
    "df2_cols_drop = ['intake_time', 'found_location', 'intake_type',\n",
    "       'intake_condition', 'animal_type', 'intake_gender', 'intake_age',\n",
    "       'intake_breed', 'intake_color']\n",
    "\n",
    "df1.drop(columns=df1_cols_drop, inplace=True)\n",
    "df2.drop(columns=df2_cols_drop, inplace=True)\n",
    "df1.shape, df2.shape"
   ]
  },
  {
   "cell_type": "code",
   "execution_count": 26,
   "id": "6587af94-6e06-4700-aaca-a50818ddfe85",
   "metadata": {},
   "outputs": [
    {
     "data": {
      "text/plain": [
       "(30119, 14)"
      ]
     },
     "execution_count": 26,
     "metadata": {},
     "output_type": "execute_result"
    }
   ],
   "source": [
    "# creating a unique identifier, animal_stay, to tie with outcomes\n",
    "df1.sort_values(by=['animal_id', 'sequential_date'], inplace=True)\n",
    "df1['stay'] = df1.groupby('animal_id').cumcount() +1 \n",
    "df1['stay'] = df1['stay'].astype('str')\n",
    "df1['animal_stay'] = df1['animal_id'] + '-' + df1['stay']\n",
    "df1.shape"
   ]
  },
  {
   "cell_type": "code",
   "execution_count": 27,
   "id": "bb0ae309-7dba-4a00-b337-6be918fc6f56",
   "metadata": {},
   "outputs": [
    {
     "data": {
      "text/plain": [
       "(30106, 13)"
      ]
     },
     "execution_count": 27,
     "metadata": {},
     "output_type": "execute_result"
    }
   ],
   "source": [
    "# creating a unique identifier, animal_stay, to tie with intakes\n",
    "df2.sort_values(by=['animal_id', 'sequential_date'], inplace=True)\n",
    "df2['stay'] = df2.groupby('animal_id').cumcount() +1 \n",
    "df2['stay'] = df2['stay'].astype('str')\n",
    "df2['animal_stay'] = df2['animal_id'] + '-' + df2['stay']\n",
    "df2.shape"
   ]
  },
  {
   "cell_type": "code",
   "execution_count": 28,
   "id": "ff048d0c-3eec-492c-857d-89ff33aa96fa",
   "metadata": {},
   "outputs": [
    {
     "data": {
      "text/plain": [
       "(29902, 26)"
      ]
     },
     "execution_count": 28,
     "metadata": {},
     "output_type": "execute_result"
    }
   ],
   "source": [
    "# merging the two dataframes\n",
    "repeats = pd.merge(left=df2, right=df1, how='inner', on='animal_stay')\n",
    "repeats.shape"
   ]
  },
  {
   "cell_type": "code",
   "execution_count": 29,
   "id": "1fc3dd4d-592f-49b0-ba56-a8c8a03b7840",
   "metadata": {},
   "outputs": [
    {
     "data": {
      "text/plain": [
       "Index(['animal_id_x', 'intakes_x', 'outcome_time', 'date_of_birth',\n",
       "       'outcome_type', 'outcome_animal_type', 'outcome_gender', 'outcome_age',\n",
       "       'outcome_breed', 'outcome_color', 'sequential_date_x', 'stay_x',\n",
       "       'animal_stay', 'animal_id_y', 'intake_time', 'found_location',\n",
       "       'intake_type', 'intake_condition', 'animal_type', 'intake_gender',\n",
       "       'intake_age', 'intake_breed', 'intake_color', 'intakes_y',\n",
       "       'sequential_date_y', 'stay_y'],\n",
       "      dtype='object')"
      ]
     },
     "execution_count": 29,
     "metadata": {},
     "output_type": "execute_result"
    }
   ],
   "source": [
    "repeats.columns"
   ]
  },
  {
   "cell_type": "code",
   "execution_count": 30,
   "id": "c936961d-90a0-4373-8203-67542de81a64",
   "metadata": {},
   "outputs": [],
   "source": [
    "# cleaning up column namesf and adding repeats column indicator\n",
    "repeats.drop(columns=['intakes_x', 'sequential_date_x', 'stay_x', 'animal_id_y', 'intakes_y', 'sequential_date_y'], inplace=True)\n",
    "repeats = repeats.rename(columns={'animal_id_x': 'animal_id', 'stay_y': 'stay'})\n",
    "repeats['stay'] = repeats['stay'].astype(int)\n",
    "repeats['repeat'] = 1"
   ]
  },
  {
   "cell_type": "code",
   "execution_count": 31,
   "id": "03620daf-7f9f-4c84-944d-5267981793af",
   "metadata": {},
   "outputs": [
    {
     "name": "stdout",
     "output_type": "stream",
     "text": [
      "<class 'pandas.core.frame.DataFrame'>\n",
      "RangeIndex: 29902 entries, 0 to 29901\n",
      "Data columns (total 21 columns):\n",
      " #   Column               Non-Null Count  Dtype         \n",
      "---  ------               --------------  -----         \n",
      " 0   animal_id            29902 non-null  object        \n",
      " 1   outcome_time         29902 non-null  datetime64[ns]\n",
      " 2   date_of_birth        29902 non-null  datetime64[ns]\n",
      " 3   outcome_type         29902 non-null  object        \n",
      " 4   outcome_animal_type  29902 non-null  object        \n",
      " 5   outcome_gender       29902 non-null  object        \n",
      " 6   outcome_age          29902 non-null  object        \n",
      " 7   outcome_breed        29902 non-null  object        \n",
      " 8   outcome_color        29902 non-null  object        \n",
      " 9   animal_stay          29902 non-null  object        \n",
      " 10  intake_time          29902 non-null  datetime64[ns]\n",
      " 11  found_location       29902 non-null  object        \n",
      " 12  intake_type          29902 non-null  object        \n",
      " 13  intake_condition     29902 non-null  object        \n",
      " 14  animal_type          29902 non-null  object        \n",
      " 15  intake_gender        29902 non-null  object        \n",
      " 16  intake_age           29902 non-null  object        \n",
      " 17  intake_breed         29902 non-null  object        \n",
      " 18  intake_color         29902 non-null  object        \n",
      " 19  stay                 29902 non-null  int32         \n",
      " 20  repeat               29902 non-null  int64         \n",
      "dtypes: datetime64[ns](3), int32(1), int64(1), object(16)\n",
      "memory usage: 4.7+ MB\n"
     ]
    }
   ],
   "source": [
    "repeats.info()"
   ]
  },
  {
   "cell_type": "code",
   "execution_count": 32,
   "id": "b8591622-b607-4bbd-9e3b-adef67741ec1",
   "metadata": {},
   "outputs": [
    {
     "name": "stdout",
     "output_type": "stream",
     "text": [
      "<class 'pandas.core.frame.DataFrame'>\n",
      "RangeIndex: 136920 entries, 0 to 136919\n",
      "Data columns (total 21 columns):\n",
      " #   Column               Non-Null Count   Dtype         \n",
      "---  ------               --------------   -----         \n",
      " 0   animal_id            136920 non-null  object        \n",
      " 1   outcome_time         136920 non-null  datetime64[ns]\n",
      " 2   date_of_birth        136920 non-null  datetime64[ns]\n",
      " 3   outcome_type         136887 non-null  object        \n",
      " 4   outcome_animal_type  136920 non-null  object        \n",
      " 5   outcome_gender       136918 non-null  object        \n",
      " 6   outcome_age          136904 non-null  object        \n",
      " 7   outcome_breed        136920 non-null  object        \n",
      " 8   outcome_color        136920 non-null  object        \n",
      " 9   intake_time          136920 non-null  datetime64[ns]\n",
      " 10  found_location       136920 non-null  object        \n",
      " 11  intake_type          136920 non-null  object        \n",
      " 12  intake_condition     136920 non-null  object        \n",
      " 13  animal_type          136920 non-null  object        \n",
      " 14  intake_gender        136918 non-null  object        \n",
      " 15  intake_age           136919 non-null  object        \n",
      " 16  intake_breed         136920 non-null  object        \n",
      " 17  intake_color         136920 non-null  object        \n",
      " 18  stay                 136920 non-null  int64         \n",
      " 19  repeat               136920 non-null  int64         \n",
      " 20  animal_stay          136920 non-null  object        \n",
      "dtypes: datetime64[ns](3), int64(2), object(16)\n",
      "memory usage: 21.9+ MB\n"
     ]
    }
   ],
   "source": [
    "# meging intakes and outcomes dataframes\n",
    "intakes_outcomes = pd.merge(left=outcomes, right=intakes, how='inner', on='animal_id')\n",
    "intakes_outcomes['stay'] = 1\n",
    "intakes_outcomes['repeat'] = 0\n",
    "intakes_outcomes['animal_stay'] = intakes_outcomes['animal_id'] + '-' + intakes_outcomes['stay'].astype('str')\n",
    "intakes_outcomes.info()"
   ]
  },
  {
   "cell_type": "code",
   "execution_count": 33,
   "id": "604e5139-9223-41c2-9d89-c0314cc1511f",
   "metadata": {},
   "outputs": [
    {
     "data": {
      "text/plain": [
       "(166822, 21)"
      ]
     },
     "execution_count": 33,
     "metadata": {},
     "output_type": "execute_result"
    }
   ],
   "source": [
    "# merging the two dataframes\n",
    "austin = pd.concat([intakes_outcomes, repeats])\n",
    "austin.shape"
   ]
  },
  {
   "cell_type": "code",
   "execution_count": 34,
   "id": "4587e383-8a63-4d2e-8363-64994c21f7ff",
   "metadata": {},
   "outputs": [
    {
     "data": {
      "text/plain": [
       "animal_id               0\n",
       "outcome_time            0\n",
       "date_of_birth           0\n",
       "outcome_type           33\n",
       "outcome_animal_type     0\n",
       "outcome_gender          2\n",
       "outcome_age            16\n",
       "outcome_breed           0\n",
       "outcome_color           0\n",
       "intake_time             0\n",
       "found_location          0\n",
       "intake_type             0\n",
       "intake_condition        0\n",
       "animal_type             0\n",
       "intake_gender           2\n",
       "intake_age              1\n",
       "intake_breed            0\n",
       "intake_color            0\n",
       "stay                    0\n",
       "repeat                  0\n",
       "animal_stay             0\n",
       "dtype: int64"
      ]
     },
     "execution_count": 34,
     "metadata": {},
     "output_type": "execute_result"
    }
   ],
   "source": [
    "austin.isna().sum()"
   ]
  },
  {
   "cell_type": "code",
   "execution_count": 35,
   "id": "aa06314a-ecbc-4ec2-ac6d-7e83f00793f7",
   "metadata": {},
   "outputs": [
    {
     "name": "stdout",
     "output_type": "stream",
     "text": [
      "54\n",
      "0\n"
     ]
    }
   ],
   "source": [
    "print(austin.isna().sum().sum())\n",
    "austin.dropna(inplace=True)\n",
    "print(austin.isna().sum().sum())"
   ]
  },
  {
   "cell_type": "code",
   "execution_count": 36,
   "id": "1e3666f1-3538-4dd8-9ce8-376e0949ba81",
   "metadata": {},
   "outputs": [
    {
     "data": {
      "text/plain": [
       "stay_duration\n",
       "-1       633\n",
       "-128       1\n",
       "-8         1\n",
       "-1105      1\n",
       "-69        1\n",
       "-1445      1\n",
       "-14        1\n",
       "-385       1\n",
       "-1128      1\n",
       "-468       1\n",
       "-982       1\n",
       "-3         1\n",
       "-1256      1\n",
       "-2006      1\n",
       "-27        1\n",
       "-51        1\n",
       "-65        1\n",
       "-107       1\n",
       "-104       1\n",
       "-42        1\n",
       "-4         1\n",
       "-5         1\n",
       "-26        1\n",
       "-40        1\n",
       "-118       1\n",
       "-517       1\n",
       "-412       1\n",
       "-1220      1\n",
       "-190       1\n",
       "-114       1\n",
       "-9         1\n",
       "-23        1\n",
       "-524       1\n",
       "-17        1\n",
       "-934       1\n",
       "-383       1\n",
       "-54        1\n",
       "-309       1\n",
       "-22        1\n",
       "-219       1\n",
       "-62        1\n",
       "-2746      1\n",
       "-30        1\n",
       "-21        1\n",
       "-999       1\n",
       "-564       1\n",
       "Name: count, dtype: int64"
      ]
     },
     "execution_count": 36,
     "metadata": {},
     "output_type": "execute_result"
    }
   ],
   "source": [
    "# adding column for stay duration\n",
    "austin['stay_duration'] = austin['outcome_time'] - austin['intake_time']\n",
    "\n",
    "# convert stay_duration to number of days\n",
    "austin['stay_duration'] = austin['stay_duration'].dt.days.astype(int)\n",
    "\n",
    "# check for negative stay_duration\n",
    "austin[austin['stay_duration'] < 0]['stay_duration'].value_counts()"
   ]
  },
  {
   "cell_type": "markdown",
   "id": "ca581c7e-4f4f-45a7-9757-aca8f711835c",
   "metadata": {},
   "source": [
    "There are 633 stays of -1 days. We are making the assumption this is because of reporting errors between including or excluding times and or incorrectly recording AM and PM.  We are going to assume they are all zero.  \n",
    "\n",
    "There are another 45 individual observations with negative values.  These seem to be typos.  We will drop these as no way of confirming actual values and small number of observations."
   ]
  },
  {
   "cell_type": "code",
   "execution_count": 37,
   "id": "7bdf09da-66bf-42e0-b876-2850d38b42e9",
   "metadata": {},
   "outputs": [
    {
     "name": "stdout",
     "output_type": "stream",
     "text": [
      "(166773, 22)\n",
      "(166728, 22)\n"
     ]
    }
   ],
   "source": [
    "# change -1 day stay durations to 0\n",
    "austin['stay_duration'] = austin['stay_duration'].map(lambda x: 0 if x == -1 else x)\n",
    "\n",
    "# drop observations with a negative stay duration\n",
    "print(austin.shape)\n",
    "austin = austin[austin['stay_duration'] >= 0]\n",
    "print(austin.shape)"
   ]
  },
  {
   "cell_type": "code",
   "execution_count": 38,
   "id": "072c8e48-adce-4fce-8171-79da9176c694",
   "metadata": {},
   "outputs": [
    {
     "data": {
      "text/plain": [
       "stay_duration\n",
       "0      31996\n",
       "4      15383\n",
       "1      10167\n",
       "3       9804\n",
       "5       9354\n",
       "       ...  \n",
       "337        2\n",
       "359        1\n",
       "350        1\n",
       "324        1\n",
       "335        1\n",
       "Name: count, Length: 366, dtype: int64"
      ]
     },
     "execution_count": 38,
     "metadata": {},
     "output_type": "execute_result"
    }
   ],
   "source": [
    "# check for durations over 365\n",
    "austin[austin['stay_duration'] <= 365]['stay_duration'].value_counts()"
   ]
  },
  {
   "cell_type": "code",
   "execution_count": 39,
   "id": "ed1f5001-2109-4fab-b5bf-595872ed9e73",
   "metadata": {},
   "outputs": [
    {
     "data": {
      "text/plain": [
       "537"
      ]
     },
     "execution_count": 39,
     "metadata": {},
     "output_type": "execute_result"
    }
   ],
   "source": [
    "len(austin[austin['stay_duration'] > 365])"
   ]
  },
  {
   "cell_type": "markdown",
   "id": "131c1422-2cf6-41f9-8e8b-ace71daa515d",
   "metadata": {},
   "source": [
    "Austin has a threshhold for animals length of stay.  Once an animal has been in the shelter for a year it is placed on an urgent placement list.  It appears on the website there is currently one animal above 365 days, 2 approaching 365 days, and another 6 animals over 180 days (10/28).\n",
    "\n",
    "In this context, we will remove stay durations about 365 as they appear to be definitionally exceptions and or clerical mistakes, 537 in total.\n",
    "\n",
    "https://www.austintexas.gov/page/urgent-placement#:~:text=Terminology&text=Currently%2C%20any%20dog%20that%20has,automatically%20added%20to%20this%20list.&text=When%20we%20reach%20a%20level,only%20provide%20so%20much%20relief \n"
   ]
  },
  {
   "cell_type": "code",
   "execution_count": 40,
   "id": "c82a8bd9-f995-49cb-a5db-cdfd9a827208",
   "metadata": {},
   "outputs": [
    {
     "name": "stdout",
     "output_type": "stream",
     "text": [
      "(166728, 22)\n",
      "(166191, 22)\n"
     ]
    }
   ],
   "source": [
    "print(austin.shape)\n",
    "austin = austin[austin['stay_duration'] <= 365]\n",
    "print(austin.shape)"
   ]
  },
  {
   "cell_type": "code",
   "execution_count": 41,
   "id": "a5072666-7f51-4080-be83-e98690dd10cb",
   "metadata": {},
   "outputs": [
    {
     "name": "stdout",
     "output_type": "stream",
     "text": [
      "Number of animal type changes: 0\n",
      "Number of neuters/spays: 67752\n",
      "Number of breed changes: 0\n",
      "Number of color changes: 0\n"
     ]
    }
   ],
   "source": [
    "# compare intake/outcome animal_type, gender, breed, and color\n",
    "print(f'Number of animal type changes: {austin[austin['animal_type'] != austin['outcome_animal_type']].shape[0]}')\n",
    "print(f'Number of neuters/spays: {austin[austin['intake_gender'] != austin['outcome_gender']].shape[0]}')\n",
    "print(f'Number of breed changes: {austin[austin['intake_breed'] != austin['outcome_breed']].shape[0]}')\n",
    "print(f'Number of color changes: {austin[austin['intake_color'] != austin['outcome_color']].shape[0]}')"
   ]
  },
  {
   "cell_type": "markdown",
   "id": "159faa5c-ddca-4a7f-b18b-3c843b2d82ca",
   "metadata": {},
   "source": [
    "*No changes in animal type, breed, or color from intake to outcome, dropping the duplicate column. Also making column showing if an animal is neutered or spayed while in the shelter.*"
   ]
  },
  {
   "cell_type": "code",
   "execution_count": 42,
   "id": "ab1e6bb3-693b-4efc-9535-f2c922948604",
   "metadata": {},
   "outputs": [],
   "source": [
    "# dropping duplicate columns\n",
    "austin.drop(columns=['outcome_animal_type', 'outcome_breed', 'outcome_color'], inplace=True)\n",
    "\n",
    "# renaming columns without intake specifier\n",
    "austin.rename(columns={'intake_breed': 'breed', 'intake_color': 'color'}, inplace=True)"
   ]
  },
  {
   "cell_type": "code",
   "execution_count": 43,
   "id": "23e3a10f-9827-4551-a6b5-0dda3bb14fb7",
   "metadata": {},
   "outputs": [],
   "source": [
    "# adding column for animals spayed-neutered while in shelters\n",
    "austin['spay_neuter'] = (austin['intake_gender'] != austin['outcome_gender']).astype(int)"
   ]
  },
  {
   "cell_type": "code",
   "execution_count": 44,
   "id": "651244b2-9dca-4c2d-8e52-76025d6a8d09",
   "metadata": {},
   "outputs": [],
   "source": [
    "# function for converting age columns to age in months\n",
    "def convert_age(age): \n",
    "    '''\n",
    "    Convert an age in string to age in months.\n",
    "   \n",
    "    Argument:\n",
    "    age(str): The animal age in str format, eg. '7 years'.\n",
    "   \n",
    "    Return:\n",
    "    float: The age converted to months. Return 0 if the unit is not list int the fucntion.\n",
    "    '''\n",
    "    value, unit = age.split()\n",
    "    value = abs(int(value)) # assume the nagetive age is typo \n",
    "    \n",
    "    if 'year' in unit:\n",
    "        return value * 12\n",
    "    elif 'month' in unit:\n",
    "        return value\n",
    "    elif 'week' in unit:\n",
    "        return round(float(value * 0.23), 2)\n",
    "    elif 'day' in unit:\n",
    "        return round(float(value * 0.033), 2)\n",
    "    else:\n",
    "        return 0"
   ]
  },
  {
   "cell_type": "code",
   "execution_count": 45,
   "id": "9bfcfb36-b914-40d1-b8bc-cf6e72207fef",
   "metadata": {},
   "outputs": [],
   "source": [
    "austin['intake_age'] = austin['intake_age'].map(convert_age)\n",
    "austin['outcome_age'] = austin['outcome_age'].map(convert_age)"
   ]
  },
  {
   "cell_type": "code",
   "execution_count": 46,
   "id": "4b8a7723-b343-4b1a-bb72-cc7a90060831",
   "metadata": {},
   "outputs": [
    {
     "data": {
      "text/plain": [
       "animal_type\n",
       "Dog          0.545625\n",
       "Cat          0.397049\n",
       "Other        0.052115\n",
       "Bird         0.005054\n",
       "Livestock    0.000156\n",
       "Name: proportion, dtype: float64"
      ]
     },
     "execution_count": 46,
     "metadata": {},
     "output_type": "execute_result"
    }
   ],
   "source": [
    "# checking animal types\n",
    "austin['animal_type'].value_counts(normalize=True)"
   ]
  },
  {
   "cell_type": "code",
   "execution_count": 47,
   "id": "3ee66f9b-5096-4ae5-931d-5d3174c907ea",
   "metadata": {},
   "outputs": [
    {
     "data": {
      "text/plain": [
       "array(['Guinea Pig', 'Bat', 'Raccoon', 'Squirrel', 'Bat/Mex Free-Tail',\n",
       "       'Opossum', 'Fox', 'Lizard/Gecko', 'Tortoise', 'Rabbit Sh', 'Deer',\n",
       "       'Skunk', 'Rat', 'Jersey Wooly', 'Ringtail', 'Snake', 'Lop-French',\n",
       "       'Ferret', 'Cottontail', 'Angora-English Mix',\n",
       "       'Turtle/Redeared Slider', 'Lizard', 'Rabbit Sh Mix', 'Chinchilla',\n",
       "       'Coyote', 'Hamster', 'Lizard/Bearded Dragon', 'Hedgehog',\n",
       "       'Flemish Giant', 'Californian', 'Lop-Holland', 'Rex Mix',\n",
       "       'Lop-Holland Mix', 'Californian Mix', 'Lionhead', 'Lop-Mini',\n",
       "       'Himalayan', 'Turtle', 'Lionhead Mix', 'Dutch Mix',\n",
       "       'Rabbit Sh/Dwarf Hotot', 'Gerbil', 'Rabbit Lh', 'Lop-English Mix',\n",
       "       'Angora-English', 'Snake/Python', 'New Zealand Wht/Lop-Holland',\n",
       "       'Lop-Amer Fuzzy', 'Rex', 'English Spot Mix', 'Hotot',\n",
       "       'New Zealand Wht', 'Harlequin Mix', 'Armadillo', 'Rex-Mini',\n",
       "       'Dutch', 'English Spot', 'Cold Water', 'Chinchilla-Stnd',\n",
       "       'Lop-Mini/Hotot', 'Mouse', 'Dwarf Hotot', 'Netherlnd Dwarf',\n",
       "       'Lop-English', 'New Zealand Wht Mix', 'Lop-Mini Mix',\n",
       "       'Flemish Giant Mix', 'Angora-French Mix', 'Angora-Satin', 'Otter',\n",
       "       'Bat Mix', 'Sugar Glider', 'Havana', 'Polish', 'Chinchilla-Amer',\n",
       "       'American', 'Raccoon Mix', 'Rat Mix', 'Skunk Mix',\n",
       "       'Rex/Lop-English', 'American Sable', 'American Mix',\n",
       "       'Squirrel Mix', 'Fox Mix', 'Tortoise Mix', 'Ferret Mix',\n",
       "       'Guinea Pig Mix', 'Opossum Mix', 'Rabbit Lh Mix', 'Havana Mix',\n",
       "       'Netherlnd Dwarf Mix', 'Mouse Mix', 'Hamster Mix',\n",
       "       'Angora-Satin Mix', 'Rex-Mini Mix', 'Beveren Mix', 'Coyote Mix',\n",
       "       'Snake Mix', 'Lop-Mini/Lop-Holland', 'Chinchilla Mix',\n",
       "       'Hermit Crab Mix', 'Lop-Amer Fuzzy Mix', 'Armadillo Mix',\n",
       "       'Belgian Hare Mix', 'Rhinelander Mix', 'Lizard Mix',\n",
       "       'Himalayan Mix', 'Turtle Mix', 'Prairie Dog Mix', 'Cold Water Mix',\n",
       "       'Ringtail Mix', 'Cinnamon Mix', 'Britannia Petit Mix',\n",
       "       'Checkered Giant Mix', 'Belgian Hare', 'Cinnamon', 'Deer Mix',\n",
       "       'Gerbil Mix', 'Dutch/Angora-Satin', 'Tropical Mix',\n",
       "       'Rex-Mini/Lop-English', 'Polish Mix', 'Otter Mix',\n",
       "       'Cottontail Mix', 'Chinchilla-Amer Mix', 'Hotot Mix', 'Bobcat Mix',\n",
       "       'Snake/Snake', 'Tarantula', 'Frog', 'American Sable Mix',\n",
       "       'Dutch/Rabbit Sh', 'Silver Mix', 'Jersey Wooly Mix',\n",
       "       'Rabbit Sh/Lop-Mini', 'Chinchilla-Stnd Mix', 'Florida White'],\n",
       "      dtype=object)"
      ]
     },
     "execution_count": 47,
     "metadata": {},
     "output_type": "execute_result"
    }
   ],
   "source": [
    "# see breeds under Other animal type\n",
    "austin[austin['animal_type'] == 'Other']['breed'].unique()"
   ]
  },
  {
   "cell_type": "markdown",
   "id": "540b40d2-de98-47f7-b96f-734e62efd867",
   "metadata": {},
   "source": [
    "*There are very fiew observations labeled as Bird or Livestock. Animals labeled as Other contains some household pets but also a lot of wildlife that doesn't pertain to our problem statement. Dropping everything that isn't a cat or dog.*"
   ]
  },
  {
   "cell_type": "code",
   "execution_count": 48,
   "id": "ad4adc0c-07ea-4f07-8dfc-25af834cfa06",
   "metadata": {},
   "outputs": [
    {
     "name": "stdout",
     "output_type": "stream",
     "text": [
      "(166191, 20)\n"
     ]
    },
    {
     "data": {
      "text/plain": [
       "(156664, 20)"
      ]
     },
     "execution_count": 48,
     "metadata": {},
     "output_type": "execute_result"
    }
   ],
   "source": [
    "# dropping obsevations that aren't cats or dogs\n",
    "print(austin.shape)\n",
    "austin = austin[austin['animal_type'] != 'Other']\n",
    "austin = austin[austin['animal_type'] != 'Bird']\n",
    "austin = austin[austin['animal_type'] != 'Livestock']\n",
    "austin.shape"
   ]
  },
  {
   "cell_type": "code",
   "execution_count": 49,
   "id": "7cae27d4-713b-45bf-ae8a-bc1ff9b4ce1c",
   "metadata": {},
   "outputs": [
    {
     "data": {
      "text/plain": [
       "animal_id           0\n",
       "outcome_time        0\n",
       "date_of_birth       0\n",
       "outcome_type        0\n",
       "outcome_gender      0\n",
       "outcome_age         0\n",
       "intake_time         0\n",
       "found_location      0\n",
       "intake_type         0\n",
       "intake_condition    0\n",
       "animal_type         0\n",
       "intake_gender       0\n",
       "intake_age          0\n",
       "breed               0\n",
       "color               0\n",
       "stay                0\n",
       "repeat              0\n",
       "animal_stay         0\n",
       "stay_duration       0\n",
       "spay_neuter         0\n",
       "dtype: int64"
      ]
     },
     "execution_count": 49,
     "metadata": {},
     "output_type": "execute_result"
    }
   ],
   "source": [
    "# checking remaining null values\n",
    "austin.isnull().sum()"
   ]
  },
  {
   "cell_type": "code",
   "execution_count": 50,
   "id": "32fe5f9b-bf0a-4150-8b5a-6d81cfb0f3f9",
   "metadata": {
    "scrolled": true
   },
   "outputs": [
    {
     "data": {
      "text/html": [
       "<div>\n",
       "<style scoped>\n",
       "    .dataframe tbody tr th:only-of-type {\n",
       "        vertical-align: middle;\n",
       "    }\n",
       "\n",
       "    .dataframe tbody tr th {\n",
       "        vertical-align: top;\n",
       "    }\n",
       "\n",
       "    .dataframe thead th {\n",
       "        text-align: right;\n",
       "    }\n",
       "</style>\n",
       "<table border=\"1\" class=\"dataframe\">\n",
       "  <thead>\n",
       "    <tr style=\"text-align: right;\">\n",
       "      <th></th>\n",
       "      <th>animal_id</th>\n",
       "      <th>outcome_time</th>\n",
       "      <th>date_of_birth</th>\n",
       "      <th>outcome_type</th>\n",
       "      <th>outcome_gender</th>\n",
       "      <th>outcome_age</th>\n",
       "      <th>intake_time</th>\n",
       "      <th>found_location</th>\n",
       "      <th>intake_type</th>\n",
       "      <th>intake_condition</th>\n",
       "      <th>animal_type</th>\n",
       "      <th>intake_gender</th>\n",
       "      <th>intake_age</th>\n",
       "      <th>breed</th>\n",
       "      <th>color</th>\n",
       "      <th>stay</th>\n",
       "      <th>repeat</th>\n",
       "      <th>animal_stay</th>\n",
       "      <th>stay_duration</th>\n",
       "      <th>spay_neuter</th>\n",
       "    </tr>\n",
       "  </thead>\n",
       "  <tbody>\n",
       "    <tr>\n",
       "      <th>1</th>\n",
       "      <td>A912799</td>\n",
       "      <td>2024-10-17 13:07:00</td>\n",
       "      <td>2024-07-21</td>\n",
       "      <td>Adoption</td>\n",
       "      <td>Spayed Female</td>\n",
       "      <td>2.0</td>\n",
       "      <td>2024-09-05 14:57:00</td>\n",
       "      <td>7201 Levander Loop in Austin (TX)</td>\n",
       "      <td>Abandoned</td>\n",
       "      <td>Normal</td>\n",
       "      <td>Cat</td>\n",
       "      <td>Intact Female</td>\n",
       "      <td>1.0</td>\n",
       "      <td>Domestic Shorthair</td>\n",
       "      <td>Brown Tabby</td>\n",
       "      <td>1</td>\n",
       "      <td>0</td>\n",
       "      <td>A912799-1</td>\n",
       "      <td>41</td>\n",
       "      <td>1</td>\n",
       "    </tr>\n",
       "    <tr>\n",
       "      <th>3</th>\n",
       "      <td>A912055</td>\n",
       "      <td>2024-10-17 12:25:00</td>\n",
       "      <td>2023-10-25</td>\n",
       "      <td>Adoption</td>\n",
       "      <td>Neutered Male</td>\n",
       "      <td>11.0</td>\n",
       "      <td>2024-08-25 08:20:00</td>\n",
       "      <td>1800 Fairlawn Lane in Austin (TX)</td>\n",
       "      <td>Stray</td>\n",
       "      <td>Injured</td>\n",
       "      <td>Cat</td>\n",
       "      <td>Intact Male</td>\n",
       "      <td>10.0</td>\n",
       "      <td>Domestic Shorthair</td>\n",
       "      <td>Brown Tabby/White</td>\n",
       "      <td>1</td>\n",
       "      <td>0</td>\n",
       "      <td>A912055-1</td>\n",
       "      <td>53</td>\n",
       "      <td>1</td>\n",
       "    </tr>\n",
       "    <tr>\n",
       "      <th>4</th>\n",
       "      <td>A915002</td>\n",
       "      <td>2024-10-17 12:21:00</td>\n",
       "      <td>2023-10-10</td>\n",
       "      <td>Return to Owner</td>\n",
       "      <td>Intact Male</td>\n",
       "      <td>12.0</td>\n",
       "      <td>2024-10-10 12:10:00</td>\n",
       "      <td>Austin (TX)</td>\n",
       "      <td>Public Assist</td>\n",
       "      <td>Normal</td>\n",
       "      <td>Dog</td>\n",
       "      <td>Intact Male</td>\n",
       "      <td>12.0</td>\n",
       "      <td>German Shepherd Mix</td>\n",
       "      <td>Tan</td>\n",
       "      <td>1</td>\n",
       "      <td>0</td>\n",
       "      <td>A915002-1</td>\n",
       "      <td>7</td>\n",
       "      <td>0</td>\n",
       "    </tr>\n",
       "    <tr>\n",
       "      <th>5</th>\n",
       "      <td>A912548</td>\n",
       "      <td>2024-10-17 11:45:00</td>\n",
       "      <td>2021-09-02</td>\n",
       "      <td>Adoption</td>\n",
       "      <td>Neutered Male</td>\n",
       "      <td>36.0</td>\n",
       "      <td>2024-09-02 22:31:00</td>\n",
       "      <td>6900 Bryn Mawr in Austin (TX)</td>\n",
       "      <td>Stray</td>\n",
       "      <td>Normal</td>\n",
       "      <td>Dog</td>\n",
       "      <td>Intact Male</td>\n",
       "      <td>36.0</td>\n",
       "      <td>Siberian Husky Mix</td>\n",
       "      <td>Black/White</td>\n",
       "      <td>1</td>\n",
       "      <td>0</td>\n",
       "      <td>A912548-1</td>\n",
       "      <td>44</td>\n",
       "      <td>1</td>\n",
       "    </tr>\n",
       "    <tr>\n",
       "      <th>9</th>\n",
       "      <td>A915279</td>\n",
       "      <td>2024-10-17 00:00:00</td>\n",
       "      <td>2022-10-14</td>\n",
       "      <td>Transfer</td>\n",
       "      <td>Intact Female</td>\n",
       "      <td>24.0</td>\n",
       "      <td>2024-10-14 11:47:00</td>\n",
       "      <td>14514 Highsmith Street in Austin (TX)</td>\n",
       "      <td>Stray</td>\n",
       "      <td>Normal</td>\n",
       "      <td>Cat</td>\n",
       "      <td>Intact Female</td>\n",
       "      <td>24.0</td>\n",
       "      <td>Domestic Shorthair</td>\n",
       "      <td>Black</td>\n",
       "      <td>1</td>\n",
       "      <td>0</td>\n",
       "      <td>A915279-1</td>\n",
       "      <td>2</td>\n",
       "      <td>0</td>\n",
       "    </tr>\n",
       "  </tbody>\n",
       "</table>\n",
       "</div>"
      ],
      "text/plain": [
       "  animal_id        outcome_time date_of_birth     outcome_type outcome_gender  \\\n",
       "1   A912799 2024-10-17 13:07:00    2024-07-21         Adoption  Spayed Female   \n",
       "3   A912055 2024-10-17 12:25:00    2023-10-25         Adoption  Neutered Male   \n",
       "4   A915002 2024-10-17 12:21:00    2023-10-10  Return to Owner    Intact Male   \n",
       "5   A912548 2024-10-17 11:45:00    2021-09-02         Adoption  Neutered Male   \n",
       "9   A915279 2024-10-17 00:00:00    2022-10-14         Transfer  Intact Female   \n",
       "\n",
       "   outcome_age         intake_time                         found_location  \\\n",
       "1          2.0 2024-09-05 14:57:00      7201 Levander Loop in Austin (TX)   \n",
       "3         11.0 2024-08-25 08:20:00      1800 Fairlawn Lane in Austin (TX)   \n",
       "4         12.0 2024-10-10 12:10:00                            Austin (TX)   \n",
       "5         36.0 2024-09-02 22:31:00          6900 Bryn Mawr in Austin (TX)   \n",
       "9         24.0 2024-10-14 11:47:00  14514 Highsmith Street in Austin (TX)   \n",
       "\n",
       "     intake_type intake_condition animal_type  intake_gender  intake_age  \\\n",
       "1      Abandoned           Normal         Cat  Intact Female         1.0   \n",
       "3          Stray          Injured         Cat    Intact Male        10.0   \n",
       "4  Public Assist           Normal         Dog    Intact Male        12.0   \n",
       "5          Stray           Normal         Dog    Intact Male        36.0   \n",
       "9          Stray           Normal         Cat  Intact Female        24.0   \n",
       "\n",
       "                 breed              color  stay  repeat animal_stay  \\\n",
       "1   Domestic Shorthair        Brown Tabby     1       0   A912799-1   \n",
       "3   Domestic Shorthair  Brown Tabby/White     1       0   A912055-1   \n",
       "4  German Shepherd Mix                Tan     1       0   A915002-1   \n",
       "5   Siberian Husky Mix        Black/White     1       0   A912548-1   \n",
       "9   Domestic Shorthair              Black     1       0   A915279-1   \n",
       "\n",
       "   stay_duration  spay_neuter  \n",
       "1             41            1  \n",
       "3             53            1  \n",
       "4              7            0  \n",
       "5             44            1  \n",
       "9              2            0  "
      ]
     },
     "execution_count": 50,
     "metadata": {},
     "output_type": "execute_result"
    }
   ],
   "source": [
    "austin.head()"
   ]
  },
  {
   "cell_type": "code",
   "execution_count": 51,
   "id": "c893e61d-34e6-47e3-b6e3-8d61a6766fc9",
   "metadata": {},
   "outputs": [],
   "source": [
    "# saving combined data to use in other notebooks\n",
    "austin.to_csv('../data/austin-data.csv', index=False)"
   ]
  },
  {
   "cell_type": "markdown",
   "id": "889013eb-6a62-4b1a-810e-231922c452ef",
   "metadata": {},
   "source": [
    "---\n",
    "## Dallas Shelters"
   ]
  },
  {
   "cell_type": "code",
   "execution_count": 32,
   "id": "2215da8c-16e7-4f96-9247-43576a45fd5e",
   "metadata": {},
   "outputs": [
    {
     "name": "stderr",
     "output_type": "stream",
     "text": [
      "C:\\Users\\_Cramer_\\AppData\\Local\\Temp\\ipykernel_15248\\3009554682.py:2: DtypeWarning: Columns (5,6) have mixed types. Specify dtype option on import or set low_memory=False.\n",
      "  dallas_2014 = pd.read_csv('../data/Dallas_Animal_Shelter_Data_Fiscal_Year_2014_-_2015_20241028.csv')\n"
     ]
    }
   ],
   "source": [
    "# reading in data for 2014-2015\n",
    "dallas_2014 = pd.read_csv('../data/Dallas_Animal_Shelter_Data_Fiscal_Year_2014_-_2015_20241028.csv')"
   ]
  },
  {
   "cell_type": "code",
   "execution_count": 33,
   "id": "92e74c15-fcce-493d-baa2-cb3bd22a895c",
   "metadata": {},
   "outputs": [
    {
     "data": {
      "text/html": [
       "<div>\n",
       "<style scoped>\n",
       "    .dataframe tbody tr th:only-of-type {\n",
       "        vertical-align: middle;\n",
       "    }\n",
       "\n",
       "    .dataframe tbody tr th {\n",
       "        vertical-align: top;\n",
       "    }\n",
       "\n",
       "    .dataframe thead th {\n",
       "        text-align: right;\n",
       "    }\n",
       "</style>\n",
       "<table border=\"1\" class=\"dataframe\">\n",
       "  <thead>\n",
       "    <tr style=\"text-align: right;\">\n",
       "      <th></th>\n",
       "      <th>Animal Id</th>\n",
       "      <th>Animal Type</th>\n",
       "      <th>Animal Breed</th>\n",
       "      <th>Kennel Number</th>\n",
       "      <th>Kennel Status</th>\n",
       "      <th>Tag Type</th>\n",
       "      <th>Activity Number</th>\n",
       "      <th>Activity Sequence</th>\n",
       "      <th>Source Id</th>\n",
       "      <th>Census Tract</th>\n",
       "      <th>Council District</th>\n",
       "      <th>Intake Type</th>\n",
       "      <th>Intake Subtype</th>\n",
       "      <th>Intake Total</th>\n",
       "      <th>Reason</th>\n",
       "      <th>Staff Id</th>\n",
       "      <th>Intake Date</th>\n",
       "      <th>Intake Time</th>\n",
       "      <th>Due Out</th>\n",
       "      <th>Intake Condition</th>\n",
       "      <th>Hold Request</th>\n",
       "      <th>Outcome Type</th>\n",
       "      <th>Outcome Date</th>\n",
       "      <th>Outcome Time</th>\n",
       "      <th>Receipt Number</th>\n",
       "      <th>Impound Number</th>\n",
       "      <th>Service Request Number</th>\n",
       "      <th>Outcome Condition</th>\n",
       "      <th>Chip Status</th>\n",
       "      <th>Animal Origin</th>\n",
       "      <th>Additional Information</th>\n",
       "      <th>Month</th>\n",
       "      <th>Year</th>\n",
       "    </tr>\n",
       "  </thead>\n",
       "  <tbody>\n",
       "    <tr>\n",
       "      <th>0</th>\n",
       "      <td>A0000575</td>\n",
       "      <td>CAT</td>\n",
       "      <td>DOMESTIC SH</td>\n",
       "      <td>AC 035</td>\n",
       "      <td>UNAVAILABLE</td>\n",
       "      <td>NaN</td>\n",
       "      <td>NaN</td>\n",
       "      <td>1</td>\n",
       "      <td>P0671044</td>\n",
       "      <td>W</td>\n",
       "      <td>W</td>\n",
       "      <td>STRAY</td>\n",
       "      <td>CONFINED</td>\n",
       "      <td>1</td>\n",
       "      <td>NaN</td>\n",
       "      <td>SN</td>\n",
       "      <td>10/02/2014 12:00:00 AM</td>\n",
       "      <td>12/31/1899 11:56:00 AM</td>\n",
       "      <td>10/06/2014 12:00:00 AM</td>\n",
       "      <td>TREATABLE REHABILITABLE NON-CONTAGIOUS</td>\n",
       "      <td>ADOPTION</td>\n",
       "      <td>ADOPTION</td>\n",
       "      <td>10/12/2014 12:00:00 AM</td>\n",
       "      <td>12/31/1899 03:25:00 PM</td>\n",
       "      <td>R14-372380</td>\n",
       "      <td>K14-297573</td>\n",
       "      <td>NaN</td>\n",
       "      <td>TREATABLE REHABILITABLE NON-CONTAGIOUS</td>\n",
       "      <td>SCAN NO CHIP</td>\n",
       "      <td>OVER THE COUNTER</td>\n",
       "      <td>ADOPTED</td>\n",
       "      <td>OCT.2014</td>\n",
       "      <td>FY2015</td>\n",
       "    </tr>\n",
       "    <tr>\n",
       "      <th>1</th>\n",
       "      <td>A0008962</td>\n",
       "      <td>DOG</td>\n",
       "      <td>LABRADOR RETR</td>\n",
       "      <td>LFD 088</td>\n",
       "      <td>LAB</td>\n",
       "      <td>NaN</td>\n",
       "      <td>NaN</td>\n",
       "      <td>1</td>\n",
       "      <td>P0053980</td>\n",
       "      <td>75218</td>\n",
       "      <td>18</td>\n",
       "      <td>CONFISCATED</td>\n",
       "      <td>KEEP SAFE</td>\n",
       "      <td>1</td>\n",
       "      <td>NaN</td>\n",
       "      <td>MB</td>\n",
       "      <td>09/24/2015 12:00:00 AM</td>\n",
       "      <td>12/31/1899 03:50:00 PM</td>\n",
       "      <td>10/03/2015 12:00:00 AM</td>\n",
       "      <td>TREATABLE REHABILITABLE NON-CONTAGIOUS</td>\n",
       "      <td>NaN</td>\n",
       "      <td>EUTHANIZED</td>\n",
       "      <td>10/04/2015 12:00:00 AM</td>\n",
       "      <td>12/31/1899 12:22:00 PM</td>\n",
       "      <td>NaN</td>\n",
       "      <td>K15-328347</td>\n",
       "      <td>442631</td>\n",
       "      <td>TREATABLE MANAGEABLE NON-CONTAGIOUS</td>\n",
       "      <td>SCAN NO CHIP</td>\n",
       "      <td>FIELD</td>\n",
       "      <td>NaN</td>\n",
       "      <td>SEP.2015</td>\n",
       "      <td>FY2015</td>\n",
       "    </tr>\n",
       "    <tr>\n",
       "      <th>2</th>\n",
       "      <td>A0121376</td>\n",
       "      <td>DOG</td>\n",
       "      <td>GERM SHEPHERD</td>\n",
       "      <td>LFD 042</td>\n",
       "      <td>LAB</td>\n",
       "      <td>NaN</td>\n",
       "      <td>NaN</td>\n",
       "      <td>1</td>\n",
       "      <td>P0661191</td>\n",
       "      <td>39A</td>\n",
       "      <td>9A</td>\n",
       "      <td>STRAY</td>\n",
       "      <td>CONFINED</td>\n",
       "      <td>1</td>\n",
       "      <td>NaN</td>\n",
       "      <td>MB</td>\n",
       "      <td>05/01/2015 12:00:00 AM</td>\n",
       "      <td>12/31/1899 12:09:00 PM</td>\n",
       "      <td>05/02/2015 12:00:00 AM</td>\n",
       "      <td>TREATABLE MANAGEABLE NON-CONTAGIOUS</td>\n",
       "      <td>NaN</td>\n",
       "      <td>EUTHANIZED</td>\n",
       "      <td>05/03/2015 12:00:00 AM</td>\n",
       "      <td>12/31/1899 11:53:00 AM</td>\n",
       "      <td>NaN</td>\n",
       "      <td>K15-314218</td>\n",
       "      <td>NaN</td>\n",
       "      <td>TREATABLE MANAGEABLE NON-CONTAGIOUS</td>\n",
       "      <td>SCAN CHIP</td>\n",
       "      <td>FIELD</td>\n",
       "      <td>NaN</td>\n",
       "      <td>MAY.2015</td>\n",
       "      <td>FY2015</td>\n",
       "    </tr>\n",
       "    <tr>\n",
       "      <th>3</th>\n",
       "      <td>A0129114</td>\n",
       "      <td>CAT</td>\n",
       "      <td>DOMESTIC SH</td>\n",
       "      <td>PSCAT 11</td>\n",
       "      <td>UNAVAILABLE</td>\n",
       "      <td>NaN</td>\n",
       "      <td>NaN</td>\n",
       "      <td>1</td>\n",
       "      <td>P0055049</td>\n",
       "      <td>75243</td>\n",
       "      <td>43</td>\n",
       "      <td>OWNER SURRENDER</td>\n",
       "      <td>GENERAL</td>\n",
       "      <td>1</td>\n",
       "      <td>ALLERGIC</td>\n",
       "      <td>CBM/JS</td>\n",
       "      <td>09/19/2015 12:00:00 AM</td>\n",
       "      <td>12/31/1899 04:46:00 PM</td>\n",
       "      <td>09/22/2015 12:00:00 AM</td>\n",
       "      <td>TREATABLE REHABILITABLE NON-CONTAGIOUS</td>\n",
       "      <td>EVERYDAY ADOPTION CENTER</td>\n",
       "      <td>ADOPTION</td>\n",
       "      <td>10/26/2015 12:00:00 AM</td>\n",
       "      <td>12/31/1899 02:09:00 PM</td>\n",
       "      <td>R15-425259</td>\n",
       "      <td>K15-327996</td>\n",
       "      <td>NaN</td>\n",
       "      <td>TREATABLE REHABILITABLE NON-CONTAGIOUS</td>\n",
       "      <td>SCAN CHIP</td>\n",
       "      <td>OVER THE COUNTER</td>\n",
       "      <td>VOMIT 5X 9/20</td>\n",
       "      <td>SEP.2015</td>\n",
       "      <td>FY2015</td>\n",
       "    </tr>\n",
       "    <tr>\n",
       "      <th>4</th>\n",
       "      <td>A0157434</td>\n",
       "      <td>DOG</td>\n",
       "      <td>ROTTWEILER</td>\n",
       "      <td>FREEZER</td>\n",
       "      <td>UNAVAILABLE</td>\n",
       "      <td>NaN</td>\n",
       "      <td>NaN</td>\n",
       "      <td>1</td>\n",
       "      <td>P0093154</td>\n",
       "      <td>38G</td>\n",
       "      <td>8G</td>\n",
       "      <td>OWNER SURRENDER</td>\n",
       "      <td>- DEAD ON ARRIVAL</td>\n",
       "      <td>1</td>\n",
       "      <td>NaN</td>\n",
       "      <td>DD</td>\n",
       "      <td>12/03/2014 12:00:00 AM</td>\n",
       "      <td>12/31/1899 08:06:00 PM</td>\n",
       "      <td>12/03/2014 12:00:00 AM</td>\n",
       "      <td>UNHEALTHY UNTREATABLE NON-CONTAGIOUS</td>\n",
       "      <td>NaN</td>\n",
       "      <td>DEAD ON ARRIVAL</td>\n",
       "      <td>12/04/2014 12:00:00 AM</td>\n",
       "      <td>12/31/1899 12:00:00 PM</td>\n",
       "      <td>NaN</td>\n",
       "      <td>K14-302641</td>\n",
       "      <td>NaN</td>\n",
       "      <td>UNHEALTHY UNTREATABLE NON-CONTAGIOUS</td>\n",
       "      <td>SCAN NO CHIP</td>\n",
       "      <td>FIELD</td>\n",
       "      <td>NaN</td>\n",
       "      <td>DEC.2014</td>\n",
       "      <td>FY2015</td>\n",
       "    </tr>\n",
       "  </tbody>\n",
       "</table>\n",
       "</div>"
      ],
      "text/plain": [
       "  Animal Id Animal Type   Animal Breed Kennel Number Kennel Status Tag Type  \\\n",
       "0  A0000575         CAT    DOMESTIC SH        AC 035   UNAVAILABLE      NaN   \n",
       "1  A0008962         DOG  LABRADOR RETR       LFD 088           LAB      NaN   \n",
       "2  A0121376         DOG  GERM SHEPHERD       LFD 042           LAB      NaN   \n",
       "3  A0129114         CAT    DOMESTIC SH      PSCAT 11   UNAVAILABLE      NaN   \n",
       "4  A0157434         DOG     ROTTWEILER       FREEZER   UNAVAILABLE      NaN   \n",
       "\n",
       "  Activity Number  Activity Sequence Source Id Census Tract Council District  \\\n",
       "0             NaN                  1  P0671044            W                W   \n",
       "1             NaN                  1  P0053980        75218               18   \n",
       "2             NaN                  1  P0661191          39A               9A   \n",
       "3             NaN                  1  P0055049        75243               43   \n",
       "4             NaN                  1  P0093154          38G               8G   \n",
       "\n",
       "       Intake Type     Intake Subtype  Intake Total    Reason Staff Id  \\\n",
       "0            STRAY           CONFINED             1       NaN       SN   \n",
       "1      CONFISCATED          KEEP SAFE             1       NaN       MB   \n",
       "2            STRAY           CONFINED             1       NaN       MB   \n",
       "3  OWNER SURRENDER            GENERAL             1  ALLERGIC   CBM/JS   \n",
       "4  OWNER SURRENDER  - DEAD ON ARRIVAL             1       NaN       DD   \n",
       "\n",
       "              Intake Date             Intake Time                 Due Out  \\\n",
       "0  10/02/2014 12:00:00 AM  12/31/1899 11:56:00 AM  10/06/2014 12:00:00 AM   \n",
       "1  09/24/2015 12:00:00 AM  12/31/1899 03:50:00 PM  10/03/2015 12:00:00 AM   \n",
       "2  05/01/2015 12:00:00 AM  12/31/1899 12:09:00 PM  05/02/2015 12:00:00 AM   \n",
       "3  09/19/2015 12:00:00 AM  12/31/1899 04:46:00 PM  09/22/2015 12:00:00 AM   \n",
       "4  12/03/2014 12:00:00 AM  12/31/1899 08:06:00 PM  12/03/2014 12:00:00 AM   \n",
       "\n",
       "                         Intake Condition              Hold Request  \\\n",
       "0  TREATABLE REHABILITABLE NON-CONTAGIOUS                  ADOPTION   \n",
       "1  TREATABLE REHABILITABLE NON-CONTAGIOUS                       NaN   \n",
       "2     TREATABLE MANAGEABLE NON-CONTAGIOUS                       NaN   \n",
       "3  TREATABLE REHABILITABLE NON-CONTAGIOUS  EVERYDAY ADOPTION CENTER   \n",
       "4    UNHEALTHY UNTREATABLE NON-CONTAGIOUS                       NaN   \n",
       "\n",
       "      Outcome Type            Outcome Date            Outcome Time  \\\n",
       "0         ADOPTION  10/12/2014 12:00:00 AM  12/31/1899 03:25:00 PM   \n",
       "1       EUTHANIZED  10/04/2015 12:00:00 AM  12/31/1899 12:22:00 PM   \n",
       "2       EUTHANIZED  05/03/2015 12:00:00 AM  12/31/1899 11:53:00 AM   \n",
       "3         ADOPTION  10/26/2015 12:00:00 AM  12/31/1899 02:09:00 PM   \n",
       "4  DEAD ON ARRIVAL  12/04/2014 12:00:00 AM  12/31/1899 12:00:00 PM   \n",
       "\n",
       "  Receipt Number Impound Number Service Request Number  \\\n",
       "0     R14-372380     K14-297573                    NaN   \n",
       "1            NaN     K15-328347                 442631   \n",
       "2            NaN     K15-314218                    NaN   \n",
       "3     R15-425259     K15-327996                    NaN   \n",
       "4            NaN     K14-302641                    NaN   \n",
       "\n",
       "                        Outcome Condition   Chip Status     Animal Origin  \\\n",
       "0  TREATABLE REHABILITABLE NON-CONTAGIOUS  SCAN NO CHIP  OVER THE COUNTER   \n",
       "1     TREATABLE MANAGEABLE NON-CONTAGIOUS  SCAN NO CHIP             FIELD   \n",
       "2     TREATABLE MANAGEABLE NON-CONTAGIOUS     SCAN CHIP             FIELD   \n",
       "3  TREATABLE REHABILITABLE NON-CONTAGIOUS     SCAN CHIP  OVER THE COUNTER   \n",
       "4    UNHEALTHY UNTREATABLE NON-CONTAGIOUS  SCAN NO CHIP             FIELD   \n",
       "\n",
       "  Additional Information     Month    Year  \n",
       "0                ADOPTED  OCT.2014  FY2015  \n",
       "1                    NaN  SEP.2015  FY2015  \n",
       "2                    NaN  MAY.2015  FY2015  \n",
       "3          VOMIT 5X 9/20  SEP.2015  FY2015  \n",
       "4                    NaN  DEC.2014  FY2015  "
      ]
     },
     "execution_count": 33,
     "metadata": {},
     "output_type": "execute_result"
    }
   ],
   "source": [
    "pd.set_option('display.max_columns', 35)\n",
    "dallas_2014.head()"
   ]
  },
  {
   "cell_type": "markdown",
   "id": "a68556c6-182a-42b1-b952-8a953e6a19d4",
   "metadata": {},
   "source": [
    "*The time of intake and outcome are split between two columns, one for the data and one for the time of day. Since we're only evaluating how long an animal is in a shelter with how many days we'll only convert the date to datetime and sort by that. Also converting column names to snake case.*"
   ]
  },
  {
   "cell_type": "code",
   "execution_count": 34,
   "id": "cfa9e738-9499-4460-be66-a5ea109d4d7f",
   "metadata": {},
   "outputs": [],
   "source": [
    "# function to convert column names\n",
    "def to_snake_case(columns):\n",
    "    '''\n",
    "    Convert dataframe column names to snake case\n",
    "\n",
    "    Keyword arguments:\n",
    "    columns -- original column names of dataframe\n",
    "\n",
    "    Returns a dictionary to pass into pandas rename function\n",
    "    '''\n",
    "    return {column: column.lower().replace(' ', '_') for column in columns}"
   ]
  },
  {
   "cell_type": "code",
   "execution_count": 35,
   "id": "d16d724b-fa09-4c84-b1ef-f2020b5f137c",
   "metadata": {},
   "outputs": [],
   "source": [
    "dallas_2014.rename(columns = to_snake_case(dallas_2014.columns), inplace = True)"
   ]
  },
  {
   "cell_type": "code",
   "execution_count": 36,
   "id": "75dd4f38-1a7c-4c61-9c2b-e8447b776fcf",
   "metadata": {},
   "outputs": [],
   "source": [
    "# converting intake_date and outcome_date to datetime\n",
    "dallas_2014['intake_date'] = pd.to_datetime(dallas_2014['intake_date'], format='%m/%d/%Y %I:%M:%S %p')\n",
    "dallas_2014['outcome_date'] = pd.to_datetime(dallas_2014['outcome_date'], format='%m/%d/%Y %I:%M:%S %p')\n",
    "\n",
    "# sorting by outcome_date with most recent first\n",
    "dallas_2014.sort_values(by = 'outcome_date', ascending = False, inplace = True)"
   ]
  },
  {
   "cell_type": "markdown",
   "id": "fd259b39-b91e-4e63-b9d3-3db467bdec80",
   "metadata": {},
   "source": [
    "*Will read in the datasets from other years and combine before looking at nulls, inconsequential columns, and duplicates similar to the Austin data.*"
   ]
  },
  {
   "cell_type": "code",
   "execution_count": 37,
   "id": "8e33a9ed-a79b-45c3-8533-8cb5df0888a9",
   "metadata": {},
   "outputs": [],
   "source": [
    "# function to read in data from remainging years\n",
    "def read_in_dallas_data(year):\n",
    "    '''\n",
    "    Function to read in csv data for animal shelter data by year\n",
    "\n",
    "    Keyword arguments:\n",
    "    year -- which year to bring in data from\n",
    "\n",
    "    Returns dataframe with column names converted to snake case,\n",
    "    intake and outcome dates converted to datetime,\n",
    "    and sorted by outcome date descending.\n",
    "    '''\n",
    "    year = str(year)\n",
    "    # read in data\n",
    "    if year != '2023':\n",
    "        df = pd.read_csv('../data/Dallas_Animal_Shelter_Data_Fiscal_Year_'+year+'_-_'+str(int(year)+1)+'_20241028.csv', low_memory=False)\n",
    "    else:\n",
    "        df = pd.read_csv('../data/Dallas_Animal_Shelter_Data_Fiscal_Year_'+year+'_-_'+str(int(year)+2)+'_20241028.csv', low_memory=False)\n",
    "    # convert column names\n",
    "    df.rename(columns=to_snake_case(df.columns), inplace = True)\n",
    "    # convert intake and outcome dates to datetime\n",
    "    df['intake_date'] = pd.to_datetime(df['intake_date'], format='mixed')\n",
    "    df['outcome_date'] = pd.to_datetime(df['outcome_date'], format='mixed')\n",
    "    # sort by outcome_date\n",
    "    df.sort_values(by = 'outcome_date', ascending = False, inplace = True)\n",
    "    return df"
   ]
  },
  {
   "cell_type": "code",
   "execution_count": 38,
   "id": "f5530266-44da-4312-9359-059fa040e1a8",
   "metadata": {},
   "outputs": [],
   "source": [
    "dallas_2015 = read_in_dallas_data(2015)\n",
    "dallas_2016 = read_in_dallas_data(2016)\n",
    "dallas_2017 = read_in_dallas_data(2017)\n",
    "dallas_2018 = read_in_dallas_data(2018)\n",
    "dallas_2019 = read_in_dallas_data(2019)\n",
    "dallas_2020 = read_in_dallas_data(2020)\n",
    "dallas_2021 = read_in_dallas_data(2021)\n",
    "dallas_2022 = read_in_dallas_data(2022)\n",
    "dallas_2023 = read_in_dallas_data(2023)"
   ]
  },
  {
   "cell_type": "code",
   "execution_count": 39,
   "id": "57a976ae-680a-484d-b858-8e245ce2aa97",
   "metadata": {},
   "outputs": [],
   "source": [
    "dallas_combined = pd.concat([dallas_2014, dallas_2015, dallas_2016, dallas_2017, dallas_2018,\n",
    "                             dallas_2019, dallas_2020, dallas_2021, dallas_2022, dallas_2023])"
   ]
  },
  {
   "cell_type": "code",
   "execution_count": 40,
   "id": "e15ce8e8-0763-4251-86d3-92384ef00877",
   "metadata": {},
   "outputs": [
    {
     "name": "stdout",
     "output_type": "stream",
     "text": [
      "(344923, 34)\n",
      "(275158, 34)\n"
     ]
    },
    {
     "data": {
      "text/html": [
       "<div>\n",
       "<style scoped>\n",
       "    .dataframe tbody tr th:only-of-type {\n",
       "        vertical-align: middle;\n",
       "    }\n",
       "\n",
       "    .dataframe tbody tr th {\n",
       "        vertical-align: top;\n",
       "    }\n",
       "\n",
       "    .dataframe thead th {\n",
       "        text-align: right;\n",
       "    }\n",
       "</style>\n",
       "<table border=\"1\" class=\"dataframe\">\n",
       "  <thead>\n",
       "    <tr style=\"text-align: right;\">\n",
       "      <th></th>\n",
       "      <th>animal_id</th>\n",
       "      <th>animal_type</th>\n",
       "      <th>animal_breed</th>\n",
       "      <th>kennel_number</th>\n",
       "      <th>kennel_status</th>\n",
       "      <th>tag_type</th>\n",
       "      <th>activity_number</th>\n",
       "      <th>activity_sequence</th>\n",
       "      <th>source_id</th>\n",
       "      <th>census_tract</th>\n",
       "      <th>council_district</th>\n",
       "      <th>intake_type</th>\n",
       "      <th>intake_subtype</th>\n",
       "      <th>intake_total</th>\n",
       "      <th>reason</th>\n",
       "      <th>staff_id</th>\n",
       "      <th>intake_date</th>\n",
       "      <th>intake_time</th>\n",
       "      <th>due_out</th>\n",
       "      <th>intake_condition</th>\n",
       "      <th>hold_request</th>\n",
       "      <th>outcome_type</th>\n",
       "      <th>outcome_date</th>\n",
       "      <th>outcome_time</th>\n",
       "      <th>receipt_number</th>\n",
       "      <th>impound_number</th>\n",
       "      <th>service_request_number</th>\n",
       "      <th>outcome_condition</th>\n",
       "      <th>chip_status</th>\n",
       "      <th>animal_origin</th>\n",
       "      <th>additional_information</th>\n",
       "      <th>month</th>\n",
       "      <th>year</th>\n",
       "      <th>outcome_subtype</th>\n",
       "    </tr>\n",
       "  </thead>\n",
       "  <tbody>\n",
       "    <tr>\n",
       "      <th>42903</th>\n",
       "      <td>A1229376</td>\n",
       "      <td>CAT</td>\n",
       "      <td>DOMESTIC SH</td>\n",
       "      <td>FREEZER</td>\n",
       "      <td>UNAVAILABLE</td>\n",
       "      <td>NaN</td>\n",
       "      <td>NaN</td>\n",
       "      <td>1</td>\n",
       "      <td>P1110761</td>\n",
       "      <td>3902.0</td>\n",
       "      <td>7.0</td>\n",
       "      <td>DISPOS REQ</td>\n",
       "      <td>OTC</td>\n",
       "      <td>1.0</td>\n",
       "      <td>OTHRINTAKS</td>\n",
       "      <td>JVW</td>\n",
       "      <td>2024-10-04</td>\n",
       "      <td>17:06:00</td>\n",
       "      <td>10/04/2024</td>\n",
       "      <td>DECEASED</td>\n",
       "      <td>ADOP RESCU</td>\n",
       "      <td>DISPOSAL</td>\n",
       "      <td>2027-10-04</td>\n",
       "      <td>18:00:00</td>\n",
       "      <td>NaN</td>\n",
       "      <td>K24-644567</td>\n",
       "      <td>NaN</td>\n",
       "      <td>DECEASED</td>\n",
       "      <td>SCAN NO CHIP</td>\n",
       "      <td>OVER THE COUNTER</td>\n",
       "      <td>NaN</td>\n",
       "      <td>FY2024</td>\n",
       "      <td>FY2024</td>\n",
       "      <td>DISPOSAL</td>\n",
       "    </tr>\n",
       "    <tr>\n",
       "      <th>43357</th>\n",
       "      <td>A1229851</td>\n",
       "      <td>DOG</td>\n",
       "      <td>MIXED BREED</td>\n",
       "      <td>B17</td>\n",
       "      <td>AVAILABLE</td>\n",
       "      <td>NaN</td>\n",
       "      <td>NaN</td>\n",
       "      <td>1</td>\n",
       "      <td>P1111387</td>\n",
       "      <td>5200.0</td>\n",
       "      <td>1.0</td>\n",
       "      <td>STRAY</td>\n",
       "      <td>AT LARGE</td>\n",
       "      <td>1.0</td>\n",
       "      <td>OTHRINTAKS</td>\n",
       "      <td>JVW</td>\n",
       "      <td>2024-10-09</td>\n",
       "      <td>17:42:00</td>\n",
       "      <td>10/15/2024</td>\n",
       "      <td>APP WNL</td>\n",
       "      <td>ADOP RESCU</td>\n",
       "      <td>ADOPTION</td>\n",
       "      <td>2024-10-27</td>\n",
       "      <td>17:50:00</td>\n",
       "      <td>R24-622569</td>\n",
       "      <td>K24-645135</td>\n",
       "      <td>NaN</td>\n",
       "      <td>APP WNL</td>\n",
       "      <td>SCAN CHIP</td>\n",
       "      <td>OVER THE COUNTER</td>\n",
       "      <td>NaN</td>\n",
       "      <td>FY2024</td>\n",
       "      <td>FY2024</td>\n",
       "      <td>WESTMORELD</td>\n",
       "    </tr>\n",
       "    <tr>\n",
       "      <th>39489</th>\n",
       "      <td>A1225816</td>\n",
       "      <td>CAT</td>\n",
       "      <td>DOMESTIC SH</td>\n",
       "      <td>413</td>\n",
       "      <td>UNAVAILABLE</td>\n",
       "      <td>NaN</td>\n",
       "      <td>NaN</td>\n",
       "      <td>1</td>\n",
       "      <td>P1101968</td>\n",
       "      <td>NaN</td>\n",
       "      <td>NaN</td>\n",
       "      <td>FOSTER</td>\n",
       "      <td>APPOINT</td>\n",
       "      <td>1.0</td>\n",
       "      <td>SURGERY</td>\n",
       "      <td>BEC</td>\n",
       "      <td>2024-10-26</td>\n",
       "      <td>10:35:00</td>\n",
       "      <td>10/26/2024</td>\n",
       "      <td>APP WNL</td>\n",
       "      <td>ADOP RESCU</td>\n",
       "      <td>ADOPTION</td>\n",
       "      <td>2024-10-27</td>\n",
       "      <td>14:15:00</td>\n",
       "      <td>R24-622542</td>\n",
       "      <td>K24-646788</td>\n",
       "      <td>NaN</td>\n",
       "      <td>APP WNL</td>\n",
       "      <td>SCAN CHIP</td>\n",
       "      <td>OVER THE COUNTER</td>\n",
       "      <td>NaN</td>\n",
       "      <td>FY2024</td>\n",
       "      <td>FY2024</td>\n",
       "      <td>WESTMORELD</td>\n",
       "    </tr>\n",
       "    <tr>\n",
       "      <th>16153</th>\n",
       "      <td>A1204135</td>\n",
       "      <td>DOG</td>\n",
       "      <td>MIXED BREED</td>\n",
       "      <td>FOSTER</td>\n",
       "      <td>PENDING</td>\n",
       "      <td>NaN</td>\n",
       "      <td>NaN</td>\n",
       "      <td>1</td>\n",
       "      <td>P1083409</td>\n",
       "      <td>NaN</td>\n",
       "      <td>NaN</td>\n",
       "      <td>FOSTER</td>\n",
       "      <td>APPOINT</td>\n",
       "      <td>1.0</td>\n",
       "      <td>FOR ADOPT</td>\n",
       "      <td>JLC</td>\n",
       "      <td>2024-10-27</td>\n",
       "      <td>12:15:00</td>\n",
       "      <td>10/27/2024</td>\n",
       "      <td>APP WNL</td>\n",
       "      <td>ADOP RESCU</td>\n",
       "      <td>ADOPTION</td>\n",
       "      <td>2024-10-27</td>\n",
       "      <td>12:15:00</td>\n",
       "      <td>R24-622533</td>\n",
       "      <td>K24-646916</td>\n",
       "      <td>NaN</td>\n",
       "      <td>APP WNL</td>\n",
       "      <td>SCAN CHIP</td>\n",
       "      <td>OVER THE COUNTER</td>\n",
       "      <td>NaN</td>\n",
       "      <td>FY2024</td>\n",
       "      <td>FY2024</td>\n",
       "      <td>BY FOSTER</td>\n",
       "    </tr>\n",
       "    <tr>\n",
       "      <th>44442</th>\n",
       "      <td>A1231147</td>\n",
       "      <td>DOG</td>\n",
       "      <td>CHIHUAHUA SH</td>\n",
       "      <td>K03</td>\n",
       "      <td>AVAILABLE</td>\n",
       "      <td>NaN</td>\n",
       "      <td>NaN</td>\n",
       "      <td>1</td>\n",
       "      <td>P1113395</td>\n",
       "      <td>12900.0</td>\n",
       "      <td>9.0</td>\n",
       "      <td>OWNER SURRENDER</td>\n",
       "      <td>WALK IN</td>\n",
       "      <td>1.0</td>\n",
       "      <td>PERSNLISSU</td>\n",
       "      <td>GRA</td>\n",
       "      <td>2024-10-24</td>\n",
       "      <td>18:14:00</td>\n",
       "      <td>10/24/2024</td>\n",
       "      <td>APP WNL</td>\n",
       "      <td>ADOP RESCU</td>\n",
       "      <td>ADOPTION</td>\n",
       "      <td>2024-10-27</td>\n",
       "      <td>14:53:00</td>\n",
       "      <td>R24-622444</td>\n",
       "      <td>K24-646666</td>\n",
       "      <td>NaN</td>\n",
       "      <td>APP WNL</td>\n",
       "      <td>SCAN NO CHIP</td>\n",
       "      <td>OVER THE COUNTER</td>\n",
       "      <td>BBW</td>\n",
       "      <td>FY2024</td>\n",
       "      <td>FY2024</td>\n",
       "      <td>WESTMORELD</td>\n",
       "    </tr>\n",
       "  </tbody>\n",
       "</table>\n",
       "</div>"
      ],
      "text/plain": [
       "      animal_id animal_type  animal_breed kennel_number kennel_status  \\\n",
       "42903  A1229376         CAT   DOMESTIC SH       FREEZER   UNAVAILABLE   \n",
       "43357  A1229851         DOG   MIXED BREED           B17     AVAILABLE   \n",
       "39489  A1225816         CAT   DOMESTIC SH           413   UNAVAILABLE   \n",
       "16153  A1204135         DOG   MIXED BREED        FOSTER       PENDING   \n",
       "44442  A1231147         DOG  CHIHUAHUA SH           K03     AVAILABLE   \n",
       "\n",
       "      tag_type activity_number  activity_sequence source_id census_tract  \\\n",
       "42903      NaN             NaN                  1  P1110761       3902.0   \n",
       "43357      NaN             NaN                  1  P1111387       5200.0   \n",
       "39489      NaN             NaN                  1  P1101968          NaN   \n",
       "16153      NaN             NaN                  1  P1083409          NaN   \n",
       "44442      NaN             NaN                  1  P1113395      12900.0   \n",
       "\n",
       "      council_district      intake_type intake_subtype  intake_total  \\\n",
       "42903              7.0       DISPOS REQ            OTC           1.0   \n",
       "43357              1.0            STRAY       AT LARGE           1.0   \n",
       "39489              NaN           FOSTER        APPOINT           1.0   \n",
       "16153              NaN           FOSTER        APPOINT           1.0   \n",
       "44442              9.0  OWNER SURRENDER        WALK IN           1.0   \n",
       "\n",
       "           reason staff_id intake_date intake_time     due_out  \\\n",
       "42903  OTHRINTAKS      JVW  2024-10-04    17:06:00  10/04/2024   \n",
       "43357  OTHRINTAKS      JVW  2024-10-09    17:42:00  10/15/2024   \n",
       "39489     SURGERY      BEC  2024-10-26    10:35:00  10/26/2024   \n",
       "16153   FOR ADOPT      JLC  2024-10-27    12:15:00  10/27/2024   \n",
       "44442  PERSNLISSU      GRA  2024-10-24    18:14:00  10/24/2024   \n",
       "\n",
       "      intake_condition hold_request outcome_type outcome_date outcome_time  \\\n",
       "42903         DECEASED   ADOP RESCU     DISPOSAL   2027-10-04     18:00:00   \n",
       "43357          APP WNL   ADOP RESCU     ADOPTION   2024-10-27     17:50:00   \n",
       "39489          APP WNL   ADOP RESCU     ADOPTION   2024-10-27     14:15:00   \n",
       "16153          APP WNL   ADOP RESCU     ADOPTION   2024-10-27     12:15:00   \n",
       "44442          APP WNL   ADOP RESCU     ADOPTION   2024-10-27     14:53:00   \n",
       "\n",
       "      receipt_number impound_number service_request_number outcome_condition  \\\n",
       "42903            NaN     K24-644567                    NaN          DECEASED   \n",
       "43357     R24-622569     K24-645135                    NaN           APP WNL   \n",
       "39489     R24-622542     K24-646788                    NaN           APP WNL   \n",
       "16153     R24-622533     K24-646916                    NaN           APP WNL   \n",
       "44442     R24-622444     K24-646666                    NaN           APP WNL   \n",
       "\n",
       "        chip_status     animal_origin additional_information   month    year  \\\n",
       "42903  SCAN NO CHIP  OVER THE COUNTER                    NaN  FY2024  FY2024   \n",
       "43357     SCAN CHIP  OVER THE COUNTER                    NaN  FY2024  FY2024   \n",
       "39489     SCAN CHIP  OVER THE COUNTER                    NaN  FY2024  FY2024   \n",
       "16153     SCAN CHIP  OVER THE COUNTER                    NaN  FY2024  FY2024   \n",
       "44442  SCAN NO CHIP  OVER THE COUNTER                    BBW  FY2024  FY2024   \n",
       "\n",
       "      outcome_subtype  \n",
       "42903        DISPOSAL  \n",
       "43357      WESTMORELD  \n",
       "39489      WESTMORELD  \n",
       "16153       BY FOSTER  \n",
       "44442      WESTMORELD  "
      ]
     },
     "execution_count": 40,
     "metadata": {},
     "output_type": "execute_result"
    }
   ],
   "source": [
    "# resorting combined dataframe by outcome date\n",
    "dallas_combined.sort_values(by = 'outcome_date', ascending = False, inplace = True)\n",
    "\n",
    "# dropping duplicates by animal_id to focus on most recent observation per unique animal\n",
    "print(dallas_combined.shape)\n",
    "dallas_combined.drop_duplicates(subset = 'animal_id', inplace = True)\n",
    "print(dallas_combined.shape)\n",
    "dallas_combined.head()"
   ]
  },
  {
   "cell_type": "code",
   "execution_count": 41,
   "id": "b7ce8e76-bc77-45a8-acec-cc9084d7c948",
   "metadata": {},
   "outputs": [
    {
     "name": "stdout",
     "output_type": "stream",
     "text": [
      "<class 'pandas.core.frame.DataFrame'>\n",
      "Index: 275158 entries, 42903 to 44634\n",
      "Data columns (total 34 columns):\n",
      " #   Column                  Non-Null Count   Dtype         \n",
      "---  ------                  --------------   -----         \n",
      " 0   animal_id               275158 non-null  object        \n",
      " 1   animal_type             275157 non-null  object        \n",
      " 2   animal_breed            275042 non-null  object        \n",
      " 3   kennel_number           275158 non-null  object        \n",
      " 4   kennel_status           275158 non-null  object        \n",
      " 5   tag_type                2 non-null       object        \n",
      " 6   activity_number         114170 non-null  object        \n",
      " 7   activity_sequence       275158 non-null  int64         \n",
      " 8   source_id               275158 non-null  object        \n",
      " 9   census_tract            228718 non-null  object        \n",
      " 10  council_district        228718 non-null  object        \n",
      " 11  intake_type             275158 non-null  object        \n",
      " 12  intake_subtype          270831 non-null  object        \n",
      " 13  intake_total            245266 non-null  float64       \n",
      " 14  reason                  147911 non-null  object        \n",
      " 15  staff_id                275158 non-null  object        \n",
      " 16  intake_date             275158 non-null  datetime64[ns]\n",
      " 17  intake_time             275158 non-null  object        \n",
      " 18  due_out                 275158 non-null  object        \n",
      " 19  intake_condition        275158 non-null  object        \n",
      " 20  hold_request            159744 non-null  object        \n",
      " 21  outcome_type            275158 non-null  object        \n",
      " 22  outcome_date            274019 non-null  datetime64[ns]\n",
      " 23  outcome_time            275158 non-null  object        \n",
      " 24  receipt_number          100858 non-null  object        \n",
      " 25  impound_number          275158 non-null  object        \n",
      " 26  service_request_number  8759 non-null    object        \n",
      " 27  outcome_condition       252782 non-null  object        \n",
      " 28  chip_status             256865 non-null  object        \n",
      " 29  animal_origin           256779 non-null  object        \n",
      " 30  additional_information  109203 non-null  object        \n",
      " 31  month                   275158 non-null  object        \n",
      " 32  year                    275158 non-null  object        \n",
      " 33  outcome_subtype         188977 non-null  object        \n",
      "dtypes: datetime64[ns](2), float64(1), int64(1), object(30)\n",
      "memory usage: 73.5+ MB\n"
     ]
    }
   ],
   "source": [
    "dallas_combined.info()"
   ]
  },
  {
   "cell_type": "markdown",
   "id": "7195e67d-5b0b-45d5-8d9c-2cddf0b6ac64",
   "metadata": {},
   "source": [
    "*tag_type and service_request_number are primarily null values, going to drop these columns. Also going to drop several columns that don't have an impact on an animal's outcome type.*"
   ]
  },
  {
   "cell_type": "code",
   "execution_count": 42,
   "id": "cd4351e3-17e6-4032-8337-2e6771672572",
   "metadata": {},
   "outputs": [],
   "source": [
    "dallas_combined.drop(columns = ['kennel_number', 'kennel_status', 'tag_type', 'activity_number',\n",
    "                                'activity_sequence', 'source_id', 'census_tract', 'council_district',\n",
    "                                'intake_subtype', 'intake_total', 'staff_id', 'intake_time', 'due_out',\n",
    "                                'hold_request', 'outcome_time', 'receipt_number', 'impound_number',\n",
    "                                'service_request_number', 'additional_information', 'month', 'year',\n",
    "                                'outcome_subtype'], inplace = True)"
   ]
  },
  {
   "cell_type": "code",
   "execution_count": 43,
   "id": "09df403e-e866-4903-bc8e-d785c829ab62",
   "metadata": {},
   "outputs": [
    {
     "data": {
      "text/plain": [
       "animal_type\n",
       "DOG          191178\n",
       "CAT           65699\n",
       "WILDLIFE       9724\n",
       "BIRD           8275\n",
       "LIVESTOCK       280\n",
       "D                 1\n",
       "Name: count, dtype: int64"
      ]
     },
     "execution_count": 43,
     "metadata": {},
     "output_type": "execute_result"
    }
   ],
   "source": [
    "# see animal types\n",
    "dallas_combined['animal_type'].value_counts()"
   ]
  },
  {
   "cell_type": "markdown",
   "id": "251b6b67-135b-495b-a39f-0a0e3801ece4",
   "metadata": {},
   "source": [
    "*Same as the data from Austin shelters, we are going to ignore anything that isn't a cat or dog.*"
   ]
  },
  {
   "cell_type": "code",
   "execution_count": 44,
   "id": "d64b0ec2-13c8-41a6-a379-8317de2b0080",
   "metadata": {},
   "outputs": [
    {
     "name": "stdout",
     "output_type": "stream",
     "text": [
      "(275158, 12)\n",
      "(256878, 12)\n"
     ]
    }
   ],
   "source": [
    "# dropping all animal types that aren't cats or dogs\n",
    "print(dallas_combined.shape)\n",
    "dallas_combined = dallas_combined[dallas_combined['animal_type'] != 'WILDLIFE']\n",
    "dallas_combined = dallas_combined[dallas_combined['animal_type'] != 'BIRD']\n",
    "dallas_combined = dallas_combined[dallas_combined['animal_type'] != 'LIVESTOCK']\n",
    "dallas_combined = dallas_combined[dallas_combined['animal_type'] != 'D']\n",
    "print(dallas_combined.shape)"
   ]
  },
  {
   "cell_type": "code",
   "execution_count": 45,
   "id": "85a10108-2313-47d4-9887-fbb380dc8999",
   "metadata": {},
   "outputs": [
    {
     "data": {
      "text/plain": [
       "animal_id                 0\n",
       "animal_type               1\n",
       "animal_breed              1\n",
       "intake_type               0\n",
       "reason               121159\n",
       "intake_date               0\n",
       "intake_condition          0\n",
       "outcome_type              0\n",
       "outcome_date           1136\n",
       "outcome_condition     22135\n",
       "chip_status           18127\n",
       "animal_origin         18210\n",
       "dtype: int64"
      ]
     },
     "execution_count": 45,
     "metadata": {},
     "output_type": "execute_result"
    }
   ],
   "source": [
    "# see remainging null values\n",
    "dallas_combined.isnull().sum()"
   ]
  },
  {
   "cell_type": "markdown",
   "id": "779dd9e2-260c-410b-b3e7-9af4cb896191",
   "metadata": {},
   "source": [
    "*Going to create a duration column for how long an animal is in the shelter. Dropping observations with no outcome date first.*"
   ]
  },
  {
   "cell_type": "code",
   "execution_count": 46,
   "id": "9417c766-af01-41c0-b6ea-bac70d0851a0",
   "metadata": {},
   "outputs": [
    {
     "data": {
      "text/plain": [
       "stay_duration\n",
       "-333    3\n",
       "-30     2\n",
       "-332    2\n",
       "-330    1\n",
       "-331    1\n",
       "-300    1\n",
       "-55     1\n",
       "-698    1\n",
       "-272    1\n",
       "Name: count, dtype: int64"
      ]
     },
     "execution_count": 46,
     "metadata": {},
     "output_type": "execute_result"
    }
   ],
   "source": [
    "# drop null outcome date rows\n",
    "dallas_combined.dropna(subset = 'outcome_date', inplace = True)\n",
    "\n",
    "# column for stay duration\n",
    "dallas_combined['stay_duration'] = dallas_combined['outcome_date'] - dallas_combined['intake_date']\n",
    "# convert to number of days\n",
    "dallas_combined['stay_duration'] = dallas_combined['stay_duration'].dt.days.astype(int)\n",
    "\n",
    "# check for negative stay_duration\n",
    "dallas_combined[dallas_combined['stay_duration'] < 0]['stay_duration'].value_counts()"
   ]
  },
  {
   "cell_type": "markdown",
   "id": "08360ce0-0f6c-4caf-b8c2-54eaf2dcce6a",
   "metadata": {},
   "source": [
    "*Just a few instances with negative stays, just dropping these rows.*"
   ]
  },
  {
   "cell_type": "code",
   "execution_count": 47,
   "id": "6e2a43a2-601f-4910-973a-d1e851917fa2",
   "metadata": {},
   "outputs": [],
   "source": [
    "dallas_combined = dallas_combined[dallas_combined['stay_duration'] >= 0]"
   ]
  },
  {
   "cell_type": "markdown",
   "id": "f8aff722-05ab-4d62-85a2-208fa94f9c45",
   "metadata": {},
   "source": [
    "*Looking at the columns with remaing null values.*"
   ]
  },
  {
   "cell_type": "code",
   "execution_count": 48,
   "id": "086ccec7-9011-43c2-9bc0-0b3d3b9b250c",
   "metadata": {},
   "outputs": [
    {
     "data": {
      "text/plain": [
       "array(['OTHRINTAKS', 'SURGERY', 'FOR ADOPT', 'PERSNLISSU', 'OTHER',\n",
       "       'NOTRIGHTFT', nan, 'SHORT-TERM', 'TRANSFER', 'BEHAVIOR', 'MEDICAL',\n",
       "       'HOUSING', 'FINANCIAL', 'EVICTION', 'TNR CLINIC', 'STRAY',\n",
       "       'TOO MANY', 'OWNER PROBLEM', 'AGGRESSIVE - PEOPLE',\n",
       "       'AGGRESSIVE - ANIMAL', 'HOUSE SOIL', 'UNKNOWN',\n",
       "       'DESTRUCTIVE AT HOME', 'OTHER PET', 'ESCAPES', 'CAUTIONCAT',\n",
       "       'CHILD PROBLEM', 'INJURED', 'ILL', 'MOVE', 'LANDLORD', 'VOCAL',\n",
       "       'COST', 'ALLERGIC', 'NO TIME', 'BITES', 'HYPER',\n",
       "       'KILLED ANOTHER ANIMAL', 'NEW BABY', 'TOO BIG', 'MOVE APT',\n",
       "       'DEAD ON ARRIVAL', 'OWNER DIED', 'TRAVEL', 'ATTENTION',\n",
       "       'DESTRUCTIVE OUTSIDE', 'FOUND ANIM', 'RESPONSIBLE', 'TOO OLD',\n",
       "       'EUTHANASIA OLD', 'ABANDON', 'AFRAID', 'FOSTER', 'BLIND/DEAF',\n",
       "       'CRUELTY', 'NOFRIENDLY', 'NO HOME', 'DEAF', 'EUTHANASIA ILL',\n",
       "       'NO YARD', 'BLIND', 'CHASES PEOPLE', 'DISOBIDIEN', 'FENCE',\n",
       "       'QUARANTINE', 'EUTHANASIA BEHAV', 'WRONG SEX', 'JUMPS UP',\n",
       "       'RETURN', 'PET LIMITS', 'CONFISCATE', 'EUTHANASIA OTHER', 'GIFT',\n",
       "       'CAUTION DOG', 'CHASES ANIMAL', 'SHEDS', 'REPORT', 'DIVORCE',\n",
       "       'TRAP', 'WONT ALLOW', 'TOO YOUNG', 'DULL', 'HEARING', 'WANTS OUT',\n",
       "       'ZONE', 'WARRANT', 'FACILITY', 'SPAYNEUTER', 'TOO SMALL',\n",
       "       'NO PROTECT', 'WILDLIFE', 'COMPETE FOR ATTENTION', 'TETHERING',\n",
       "       'WRONG SPEC', 'SURG PROB'], dtype=object)"
      ]
     },
     "execution_count": 48,
     "metadata": {},
     "output_type": "execute_result"
    }
   ],
   "source": [
    "dallas_combined['reason'].unique()"
   ]
  },
  {
   "cell_type": "code",
   "execution_count": 49,
   "id": "bd59bb47-33a9-43bc-bcf9-5decea043f65",
   "metadata": {},
   "outputs": [
    {
     "data": {
      "text/plain": [
       "array(['DECEASED', 'APP WNL', nan, 'APP SICK', 'CRITICAL', 'APP INJ',\n",
       "       'UNDERAGE', 'GERIATRIC', 'FATAL', 'UNKNOWN', 'DEAD',\n",
       "       'TREATABLE REHABILITABLE NON-CONTAGIOUS',\n",
       "       'UNHEALTHY UNTREATABLE NON-CONTAGIOUS', 'HEALTHY',\n",
       "       'TREATABLE MANAGEABLE NON-CONTAGIOUS',\n",
       "       'UNHEALTHY UNTREATABLE CONTAGIOUS',\n",
       "       'TREATABLE REHABILITABLE CONTAGIOUS',\n",
       "       'TREATABLE MANAGEABLE CONTAGIOUS'], dtype=object)"
      ]
     },
     "execution_count": 49,
     "metadata": {},
     "output_type": "execute_result"
    }
   ],
   "source": [
    "dallas_combined['outcome_condition'].unique()"
   ]
  },
  {
   "cell_type": "code",
   "execution_count": 50,
   "id": "d082df20-f41d-47af-a1f5-3348d3b3ea6f",
   "metadata": {},
   "outputs": [
    {
     "data": {
      "text/plain": [
       "chip_status\n",
       "SCAN NO CHIP                 163049\n",
       "SCAN CHIP                     58427\n",
       "UNABLE TO SCAN                16502\n",
       "WILDLIFE - UNABLE TO SCAN         4\n",
       "WILDLIFE - UNABEL TO SCAN         1\n",
       "Name: count, dtype: int64"
      ]
     },
     "execution_count": 50,
     "metadata": {},
     "output_type": "execute_result"
    }
   ],
   "source": [
    "dallas_combined['chip_status'].value_counts()"
   ]
  },
  {
   "cell_type": "code",
   "execution_count": 51,
   "id": "fddc2b73-cf6a-488f-b52b-021000f98d0b",
   "metadata": {},
   "outputs": [
    {
     "data": {
      "text/plain": [
       "array(['OVER THE COUNTER', 'AGGOPS', 'COM CAT', nan, 'FIELD', 'BITE',\n",
       "       'HART', 'PSPICKUP', 'OPS', 'AGGDD', 'CARE', 'SWEEP', 'RAPID',\n",
       "       'NIGHT DROP'], dtype=object)"
      ]
     },
     "execution_count": 51,
     "metadata": {},
     "output_type": "execute_result"
    }
   ],
   "source": [
    "dallas_combined['animal_origin'].unique()"
   ]
  },
  {
   "cell_type": "markdown",
   "id": "439532c8-9607-40bd-ba31-eb7f27608070",
   "metadata": {},
   "source": [
    "* reason: These could be pertinent to an animal being adopted or not, will fill nulls with 'none' that no reason was given.\n",
    "* outcome_condition: We are going to assume if nothing was entered the animals was healthy.\n",
    "* chip_status: We are assuming this will relate somewhat to outcome type, that if they are able to scan a chip they will get returned to owner. Dropping this column.\n",
    "* animal_origin: Not even sure what all of these entries are, dropping this column.\n",
    "* animal_breed: Didn't investigate, just dropping these null rows"
   ]
  },
  {
   "cell_type": "code",
   "execution_count": 52,
   "id": "2188e86f-e0fc-4acd-986b-e85cb8d746b5",
   "metadata": {},
   "outputs": [
    {
     "data": {
      "text/plain": [
       "animal_id                 0\n",
       "animal_type               1\n",
       "animal_breed              1\n",
       "intake_type               0\n",
       "reason               120649\n",
       "intake_date               0\n",
       "intake_condition          0\n",
       "outcome_type              0\n",
       "outcome_date              0\n",
       "outcome_condition     21070\n",
       "chip_status           17746\n",
       "animal_origin         17829\n",
       "stay_duration             0\n",
       "dtype: int64"
      ]
     },
     "execution_count": 52,
     "metadata": {},
     "output_type": "execute_result"
    }
   ],
   "source": [
    "dallas_combined.isnull().sum()"
   ]
  },
  {
   "cell_type": "code",
   "execution_count": 53,
   "id": "aaead740-ae51-45b6-8576-a52bb41fba0b",
   "metadata": {},
   "outputs": [],
   "source": [
    "# drop chip_status and animal_origin columns\n",
    "dallas_combined = dallas_combined.drop(columns=['chip_status', 'animal_origin'])\n",
    "\n",
    "# fill nulls for reason and outcome_condition\n",
    "dallas_combined = dallas_combined.fillna({'reason': 'NONE', 'outcome_condition': 'HEALTHY'})\n",
    "\n",
    "# drop null breed observations\n",
    "dallas_combined.dropna(subset = 'animal_breed', inplace = True)"
   ]
  },
  {
   "cell_type": "code",
   "execution_count": 54,
   "id": "5abbf60f-b6ac-4fa9-b8bf-43514523e822",
   "metadata": {},
   "outputs": [
    {
     "name": "stdout",
     "output_type": "stream",
     "text": [
      "<class 'pandas.core.frame.DataFrame'>\n",
      "Index: 255728 entries, 42903 to 1146\n",
      "Data columns (total 11 columns):\n",
      " #   Column             Non-Null Count   Dtype         \n",
      "---  ------             --------------   -----         \n",
      " 0   animal_id          255728 non-null  object        \n",
      " 1   animal_type        255728 non-null  object        \n",
      " 2   animal_breed       255728 non-null  object        \n",
      " 3   intake_type        255728 non-null  object        \n",
      " 4   reason             255728 non-null  object        \n",
      " 5   intake_date        255728 non-null  datetime64[ns]\n",
      " 6   intake_condition   255728 non-null  object        \n",
      " 7   outcome_type       255728 non-null  object        \n",
      " 8   outcome_date       255728 non-null  datetime64[ns]\n",
      " 9   outcome_condition  255728 non-null  object        \n",
      " 10  stay_duration      255728 non-null  int32         \n",
      "dtypes: datetime64[ns](2), int32(1), object(8)\n",
      "memory usage: 22.4+ MB\n"
     ]
    }
   ],
   "source": [
    "dallas_combined.info()"
   ]
  },
  {
   "cell_type": "code",
   "execution_count": 55,
   "id": "fbf4d118-810f-402f-abbf-53165e1b50ff",
   "metadata": {},
   "outputs": [],
   "source": [
    "# saving combined data\n",
    "dallas_combined.to_csv('../data/dallas-combined-shelter-data.csv', index=False)"
   ]
  },
  {
   "cell_type": "markdown",
   "id": "7f714468-d86c-489f-929d-3dbff8d9e69a",
   "metadata": {},
   "source": [
    "---\n",
    "## Data Dictionary\n",
    "\n",
    "All data used for this project is from [City of Austin Open Data](https://data.austintexas.gov/) and [City of Dallas Open Data](https://www.dallasopendata.com/). The Austin shelter data is specifically from [Austin Animal Center Intakes](https://data.austintexas.gov/Health-and-Community-Services/Austin-Animal-Center-Intakes/wter-evkm/about_data) and [Austin Animal Center Outcomes](https://data.austintexas.gov/Health-and-Community-Services/Austin-Animal-Center-Outcomes/9t4d-g238/about_data). The Dallas shelter data is from [Dallas Animal Shelter Data Fiscal Year 2014-2015](https://www.dallasopendata.com/Archive/Dallas-Animal-Shelter-Data-Fiscal-Year-2014-2015/4j5h-8vay/about_data), [2015-2016](https://www.dallasopendata.com/Archive/Dallas-Animal-Shelter-Data-Fiscal-Year-2015-2016/bg5d-mj5u/about_data), [2016-2017](https://www.dallasopendata.com/Archive/Dallas-Animal-Shelter-Data-Fiscal-Year-2016-2017/sjyj-ydcj/about_data), [2017-2018](https://www.dallasopendata.com/Services/Dallas-Animal-Shelter-Data-Fiscal-Year-2017-2018/wb7n-sdxi/about_data), [2018-2019](https://www.dallasopendata.com/Services/Dallas-Animal-Shelter-Data-Fiscal-Year-2018-2019/kf5k-aswg/about_data), [2019-2020](https://www.dallasopendata.com/Services/Dallas-Animal-Shelter-Data-Fiscal-Year-2019-2020/7h2m-3um5/about_data), [2020-2021](https://www.dallasopendata.com/Services/Dallas-Animal-Shelter-Data-Fiscal-Year-2020-2021/sq59-vp2t/about_data), [2021-2022](https://www.dallasopendata.com/Services/Dallas-Animal-Shelter-Data-Fiscal-Year-2021-2022/uu3b-ppfz/about_data), [2022-2023](https://www.dallasopendata.com/Services/Dallas-Animal-Shelter-Data-Fiscal-Year-2022-2023/f77p-sgrc/about_data), and [2023-2025](https://www.dallasopendata.com/Services/Dallas-Animal-Shelter-Data-Fiscal-Year-2023-2025/uyte-zi7f/about_data)\n",
    "\n",
    "|feature|type|description|source|\n",
    "|---|---|---|---|\n",
    "|**animal_id**|*str*|Unique animal ID|Austin & Dallas|\n",
    "|**outcome_time**|*datetime*|Day and time of animal outcome|Austin|\n",
    "|**date_of_birth**|*datetime*|Animal's date of birth|Austin|\n",
    "|**outcome_type**|*str*|Outcome of animal|Austin & Dallas|\n",
    "|**outcome_gender**|*str*|Neuter/spay status at outcome|Austin|\n",
    "|**outcome_age**|*float*|Animal age at outcome|Austin|\n",
    "|**intake_time**|*datetime*|Day and time animal is taken in by shelter|Austin|\n",
    "|**found_location**|*str*|Where animal is found|Austin|\n",
    "|**intake_type**|*str*|How animal is taken in|Austin & Dallas|\n",
    "|**intake_condition**|*str*|Animal's health condition upon intake|Austin & Dallas|\n",
    "|**animal_type**|*str*|Type of animal|Austin & Dallas|\n",
    "|**intake_gender**|*str*|Neuter/spay status upon intake|Austin|\n",
    "|**intake_age**|*float*|Animal age in months upon intake|Austin|\n",
    "|**breed**|*str*|Animal breed|Austin & Dallas|\n",
    "|**color**|*str*|Animal color|Austin|\n",
    "|**stay_duration**|*str*|How many days animal is in shelter before outcome|Austin & Dallas|\n",
    "|**spay_neuter**|*int*|1 if an animal is spayed or neutered while in the shelter|Austin|\n",
    "|**reason**|*str*|Why an animal is taken in by a shelter|Dallas|\n",
    "|**outcome_condition**|*str*|Animal's health condition upon outcome|Dallas|\n",
    "\n",
    "In future notebooks we will explore the relationships these features have on animal's shelter outcomes."
   ]
  }
 ],
 "metadata": {
  "kernelspec": {
   "display_name": "Python 3 (ipykernel)",
   "language": "python",
   "name": "python3"
  },
  "language_info": {
   "codemirror_mode": {
    "name": "ipython",
    "version": 3
   },
   "file_extension": ".py",
   "mimetype": "text/x-python",
   "name": "python",
   "nbconvert_exporter": "python",
   "pygments_lexer": "ipython3",
   "version": "3.12.4"
  }
 },
 "nbformat": 4,
 "nbformat_minor": 5
}
