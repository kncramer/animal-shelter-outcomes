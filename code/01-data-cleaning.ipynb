{
 "cells": [
  {
   "cell_type": "markdown",
   "id": "60961e3f-7e03-442b-b9cb-047494a012d1",
   "metadata": {},
   "source": [
    "# Animal Shelter Outcomes\n",
    "---"
   ]
  },
  {
   "cell_type": "markdown",
   "id": "bccfcc25-66e7-4eac-a6c6-874a8f143191",
   "metadata": {},
   "source": [
    "Problem Statement..."
   ]
  },
  {
   "cell_type": "markdown",
   "id": "d64c9095-2d8a-4bdd-95b6-d72b32020c45",
   "metadata": {},
   "source": [
    "### Background\n",
    "..."
   ]
  },
  {
   "cell_type": "markdown",
   "id": "efedd638-8d05-4712-8ec2-b94923c235da",
   "metadata": {},
   "source": [
    "---\n",
    "## Data Cleaning"
   ]
  },
  {
   "cell_type": "code",
   "execution_count": 1,
   "id": "4e48e449-c2e2-41ea-a279-ae56ca64a500",
   "metadata": {},
   "outputs": [],
   "source": [
    "# imports\n",
    "import pandas as pd\n",
    "import numpy as np"
   ]
  },
  {
   "cell_type": "markdown",
   "id": "96d416b7-6979-46d0-9b01-9f8252f76387",
   "metadata": {},
   "source": [
    "### Shelter Intakes"
   ]
  },
  {
   "cell_type": "code",
   "execution_count": 2,
   "id": "67a8d69a-5047-4a16-8ec0-7dd01773d3c2",
   "metadata": {},
   "outputs": [
    {
     "data": {
      "text/html": [
       "<div>\n",
       "<style scoped>\n",
       "    .dataframe tbody tr th:only-of-type {\n",
       "        vertical-align: middle;\n",
       "    }\n",
       "\n",
       "    .dataframe tbody tr th {\n",
       "        vertical-align: top;\n",
       "    }\n",
       "\n",
       "    .dataframe thead th {\n",
       "        text-align: right;\n",
       "    }\n",
       "</style>\n",
       "<table border=\"1\" class=\"dataframe\">\n",
       "  <thead>\n",
       "    <tr style=\"text-align: right;\">\n",
       "      <th></th>\n",
       "      <th>Animal ID</th>\n",
       "      <th>Name</th>\n",
       "      <th>DateTime</th>\n",
       "      <th>MonthYear</th>\n",
       "      <th>Found Location</th>\n",
       "      <th>Intake Type</th>\n",
       "      <th>Intake Condition</th>\n",
       "      <th>Animal Type</th>\n",
       "      <th>Sex upon Intake</th>\n",
       "      <th>Age upon Intake</th>\n",
       "      <th>Breed</th>\n",
       "      <th>Color</th>\n",
       "    </tr>\n",
       "  </thead>\n",
       "  <tbody>\n",
       "    <tr>\n",
       "      <th>0</th>\n",
       "      <td>A786884</td>\n",
       "      <td>*Brock</td>\n",
       "      <td>01/03/2019 04:19:00 PM</td>\n",
       "      <td>January 2019</td>\n",
       "      <td>2501 Magin Meadow Dr in Austin (TX)</td>\n",
       "      <td>Stray</td>\n",
       "      <td>Normal</td>\n",
       "      <td>Dog</td>\n",
       "      <td>Neutered Male</td>\n",
       "      <td>2 years</td>\n",
       "      <td>Beagle Mix</td>\n",
       "      <td>Tricolor</td>\n",
       "    </tr>\n",
       "    <tr>\n",
       "      <th>1</th>\n",
       "      <td>A706918</td>\n",
       "      <td>Belle</td>\n",
       "      <td>07/05/2015 12:59:00 PM</td>\n",
       "      <td>July 2015</td>\n",
       "      <td>9409 Bluegrass Dr in Austin (TX)</td>\n",
       "      <td>Stray</td>\n",
       "      <td>Normal</td>\n",
       "      <td>Dog</td>\n",
       "      <td>Spayed Female</td>\n",
       "      <td>8 years</td>\n",
       "      <td>English Springer Spaniel</td>\n",
       "      <td>White/Liver</td>\n",
       "    </tr>\n",
       "    <tr>\n",
       "      <th>2</th>\n",
       "      <td>A724273</td>\n",
       "      <td>Runster</td>\n",
       "      <td>04/14/2016 06:43:00 PM</td>\n",
       "      <td>April 2016</td>\n",
       "      <td>2818 Palomino Trail in Austin (TX)</td>\n",
       "      <td>Stray</td>\n",
       "      <td>Normal</td>\n",
       "      <td>Dog</td>\n",
       "      <td>Intact Male</td>\n",
       "      <td>11 months</td>\n",
       "      <td>Basenji Mix</td>\n",
       "      <td>Sable/White</td>\n",
       "    </tr>\n",
       "    <tr>\n",
       "      <th>3</th>\n",
       "      <td>A665644</td>\n",
       "      <td>NaN</td>\n",
       "      <td>10/21/2013 07:59:00 AM</td>\n",
       "      <td>October 2013</td>\n",
       "      <td>Austin (TX)</td>\n",
       "      <td>Stray</td>\n",
       "      <td>Sick</td>\n",
       "      <td>Cat</td>\n",
       "      <td>Intact Female</td>\n",
       "      <td>4 weeks</td>\n",
       "      <td>Domestic Shorthair Mix</td>\n",
       "      <td>Calico</td>\n",
       "    </tr>\n",
       "    <tr>\n",
       "      <th>4</th>\n",
       "      <td>A857105</td>\n",
       "      <td>Johnny Ringo</td>\n",
       "      <td>05/12/2022 12:23:00 AM</td>\n",
       "      <td>May 2022</td>\n",
       "      <td>4404 Sarasota Drive in Austin (TX)</td>\n",
       "      <td>Public Assist</td>\n",
       "      <td>Normal</td>\n",
       "      <td>Cat</td>\n",
       "      <td>Neutered Male</td>\n",
       "      <td>2 years</td>\n",
       "      <td>Domestic Shorthair</td>\n",
       "      <td>Orange Tabby</td>\n",
       "    </tr>\n",
       "  </tbody>\n",
       "</table>\n",
       "</div>"
      ],
      "text/plain": [
       "  Animal ID          Name                DateTime     MonthYear  \\\n",
       "0   A786884        *Brock  01/03/2019 04:19:00 PM  January 2019   \n",
       "1   A706918         Belle  07/05/2015 12:59:00 PM     July 2015   \n",
       "2   A724273       Runster  04/14/2016 06:43:00 PM    April 2016   \n",
       "3   A665644           NaN  10/21/2013 07:59:00 AM  October 2013   \n",
       "4   A857105  Johnny Ringo  05/12/2022 12:23:00 AM      May 2022   \n",
       "\n",
       "                        Found Location    Intake Type Intake Condition  \\\n",
       "0  2501 Magin Meadow Dr in Austin (TX)          Stray           Normal   \n",
       "1     9409 Bluegrass Dr in Austin (TX)          Stray           Normal   \n",
       "2   2818 Palomino Trail in Austin (TX)          Stray           Normal   \n",
       "3                          Austin (TX)          Stray             Sick   \n",
       "4   4404 Sarasota Drive in Austin (TX)  Public Assist           Normal   \n",
       "\n",
       "  Animal Type Sex upon Intake Age upon Intake                     Breed  \\\n",
       "0         Dog   Neutered Male         2 years                Beagle Mix   \n",
       "1         Dog   Spayed Female         8 years  English Springer Spaniel   \n",
       "2         Dog     Intact Male       11 months               Basenji Mix   \n",
       "3         Cat   Intact Female         4 weeks    Domestic Shorthair Mix   \n",
       "4         Cat   Neutered Male         2 years        Domestic Shorthair   \n",
       "\n",
       "          Color  \n",
       "0      Tricolor  \n",
       "1   White/Liver  \n",
       "2   Sable/White  \n",
       "3        Calico  \n",
       "4  Orange Tabby  "
      ]
     },
     "execution_count": 2,
     "metadata": {},
     "output_type": "execute_result"
    }
   ],
   "source": [
    "# reading in shelter intakes\n",
    "intakes =  pd.read_csv('../data/austin_animal_center_intakes_20241017.csv')\n",
    "intakes.head()"
   ]
  },
  {
   "cell_type": "code",
   "execution_count": 3,
   "id": "5a813a7a-27bf-499c-ab4d-43ff6ad43b55",
   "metadata": {},
   "outputs": [
    {
     "name": "stdout",
     "output_type": "stream",
     "text": [
      "<class 'pandas.core.frame.DataFrame'>\n",
      "RangeIndex: 168040 entries, 0 to 168039\n",
      "Data columns (total 12 columns):\n",
      " #   Column            Non-Null Count   Dtype \n",
      "---  ------            --------------   ----- \n",
      " 0   Animal ID         168040 non-null  object\n",
      " 1   Name              119647 non-null  object\n",
      " 2   DateTime          168040 non-null  object\n",
      " 3   MonthYear         168040 non-null  object\n",
      " 4   Found Location    168040 non-null  object\n",
      " 5   Intake Type       168040 non-null  object\n",
      " 6   Intake Condition  168040 non-null  object\n",
      " 7   Animal Type       168040 non-null  object\n",
      " 8   Sex upon Intake   168038 non-null  object\n",
      " 9   Age upon Intake   168039 non-null  object\n",
      " 10  Breed             168040 non-null  object\n",
      " 11  Color             168040 non-null  object\n",
      "dtypes: object(12)\n",
      "memory usage: 15.4+ MB\n"
     ]
    }
   ],
   "source": [
    "intakes.info()"
   ]
  },
  {
   "cell_type": "markdown",
   "id": "07bc91ad-ac02-4e5a-ac09-652d0d5bd36f",
   "metadata": {},
   "source": [
    "*The Name column has a lot of null values and we're assuming a pet's name won't affect their chances of adoption, so going to drop this column. Also dropping MonthYear because that information is also in the DateTime column.*"
   ]
  },
  {
   "cell_type": "code",
   "execution_count": 4,
   "id": "c63937ed-23da-409d-b8ae-e02b74eb7fb2",
   "metadata": {},
   "outputs": [],
   "source": [
    "# dropping inconsequential columns\n",
    "intakes.drop(columns=['Name', 'MonthYear'], inplace=True)"
   ]
  },
  {
   "cell_type": "code",
   "execution_count": 5,
   "id": "6934bd53-7a0b-41d6-8aca-5055491fb195",
   "metadata": {},
   "outputs": [],
   "source": [
    "# renaming columns to be intake specific and snake case\n",
    "columns = {\n",
    "    'Animal ID': 'animal_id',\n",
    "    'DateTime': 'intake_time',\n",
    "    'Found Location': 'found_location',\n",
    "    'Intake Type': 'intake_type',\n",
    "    'Intake Condition': 'intake_condition',\n",
    "    'Animal Type': 'animal_type',\n",
    "    'Sex upon Intake': 'intake_gender',\n",
    "    'Age upon Intake': 'intake_age',\n",
    "    'Breed': 'intake_breed',\n",
    "    'Color': 'intake_color'    \n",
    "}\n",
    "\n",
    "intakes = intakes.rename(columns=columns)"
   ]
  },
  {
   "cell_type": "code",
   "execution_count": 6,
   "id": "02c80b92-efa9-4f33-b74e-b6152767b9d3",
   "metadata": {},
   "outputs": [],
   "source": [
    "# converting intake_time column to datetime format\n",
    "intakes['intake_time'] = pd.to_datetime(intakes['intake_time'], format='%m/%d/%Y %H:%M:%S %p')"
   ]
  },
  {
   "cell_type": "code",
   "execution_count": 7,
   "id": "bdc2322c-c2e5-48ea-8ab6-2a884cbc1231",
   "metadata": {},
   "outputs": [
    {
     "data": {
      "text/plain": [
       "animal_id           151007\n",
       "intake_time         115671\n",
       "found_location       68164\n",
       "intake_type              6\n",
       "intake_condition        20\n",
       "animal_type              5\n",
       "intake_gender            5\n",
       "intake_age              55\n",
       "intake_breed          2969\n",
       "intake_color           651\n",
       "dtype: int64"
      ]
     },
     "execution_count": 7,
     "metadata": {},
     "output_type": "execute_result"
    }
   ],
   "source": [
    "intakes.nunique()"
   ]
  },
  {
   "cell_type": "markdown",
   "id": "f8554290-b911-4a35-bbf9-9e4bc7219030",
   "metadata": {},
   "source": [
    "*There are many animals that have more than one stay at a shelter. In order to have accurate merging between intake and outcomes we are dropping any duplicate animals. Sorting by intake time first so we keep the most recent.*"
   ]
  },
  {
   "cell_type": "code",
   "execution_count": 9,
   "id": "a78af22a-22fe-461b-ba9f-5c440ab67228",
   "metadata": {},
   "outputs": [],
   "source": [
    "# sort intakes by most recent intakes first\n",
    "intakes.sort_values(by=['intake_time', 'animal_id'], inplace=True, ascending = False)\n",
    "\n",
    "# drop duplicate observations\n",
    "intakes.drop_duplicates(subset='animal_id', inplace = True)"
   ]
  },
  {
   "cell_type": "markdown",
   "id": "741af362-d2b1-4c35-a3c7-dfabfccb898e",
   "metadata": {},
   "source": [
    "### Shelter Outcomes"
   ]
  },
  {
   "cell_type": "code",
   "execution_count": 11,
   "id": "2d91119d-0a7c-475c-a7b5-13b0ea60bdfc",
   "metadata": {},
   "outputs": [
    {
     "data": {
      "text/html": [
       "<div>\n",
       "<style scoped>\n",
       "    .dataframe tbody tr th:only-of-type {\n",
       "        vertical-align: middle;\n",
       "    }\n",
       "\n",
       "    .dataframe tbody tr th {\n",
       "        vertical-align: top;\n",
       "    }\n",
       "\n",
       "    .dataframe thead th {\n",
       "        text-align: right;\n",
       "    }\n",
       "</style>\n",
       "<table border=\"1\" class=\"dataframe\">\n",
       "  <thead>\n",
       "    <tr style=\"text-align: right;\">\n",
       "      <th></th>\n",
       "      <th>Animal ID</th>\n",
       "      <th>Name</th>\n",
       "      <th>DateTime</th>\n",
       "      <th>MonthYear</th>\n",
       "      <th>Date of Birth</th>\n",
       "      <th>Outcome Type</th>\n",
       "      <th>Outcome Subtype</th>\n",
       "      <th>Animal Type</th>\n",
       "      <th>Sex upon Outcome</th>\n",
       "      <th>Age upon Outcome</th>\n",
       "      <th>Breed</th>\n",
       "      <th>Color</th>\n",
       "    </tr>\n",
       "  </thead>\n",
       "  <tbody>\n",
       "    <tr>\n",
       "      <th>0</th>\n",
       "      <td>A882831</td>\n",
       "      <td>*Hamilton</td>\n",
       "      <td>07/01/2023 06:12:00 PM</td>\n",
       "      <td>Jul 2023</td>\n",
       "      <td>03/25/2023</td>\n",
       "      <td>Adoption</td>\n",
       "      <td>NaN</td>\n",
       "      <td>Cat</td>\n",
       "      <td>Neutered Male</td>\n",
       "      <td>3 months</td>\n",
       "      <td>Domestic Shorthair Mix</td>\n",
       "      <td>Black/White</td>\n",
       "    </tr>\n",
       "    <tr>\n",
       "      <th>1</th>\n",
       "      <td>A794011</td>\n",
       "      <td>Chunk</td>\n",
       "      <td>05/08/2019 06:20:00 PM</td>\n",
       "      <td>May 2019</td>\n",
       "      <td>05/02/2017</td>\n",
       "      <td>Rto-Adopt</td>\n",
       "      <td>NaN</td>\n",
       "      <td>Cat</td>\n",
       "      <td>Neutered Male</td>\n",
       "      <td>2 years</td>\n",
       "      <td>Domestic Shorthair Mix</td>\n",
       "      <td>Brown Tabby/White</td>\n",
       "    </tr>\n",
       "    <tr>\n",
       "      <th>2</th>\n",
       "      <td>A776359</td>\n",
       "      <td>Gizmo</td>\n",
       "      <td>07/18/2018 04:02:00 PM</td>\n",
       "      <td>Jul 2018</td>\n",
       "      <td>07/12/2017</td>\n",
       "      <td>Adoption</td>\n",
       "      <td>NaN</td>\n",
       "      <td>Dog</td>\n",
       "      <td>Neutered Male</td>\n",
       "      <td>1 year</td>\n",
       "      <td>Chihuahua Shorthair Mix</td>\n",
       "      <td>White/Brown</td>\n",
       "    </tr>\n",
       "    <tr>\n",
       "      <th>3</th>\n",
       "      <td>A821648</td>\n",
       "      <td>NaN</td>\n",
       "      <td>08/16/2020 11:38:00 AM</td>\n",
       "      <td>Aug 2020</td>\n",
       "      <td>08/16/2019</td>\n",
       "      <td>Euthanasia</td>\n",
       "      <td>NaN</td>\n",
       "      <td>Other</td>\n",
       "      <td>Unknown</td>\n",
       "      <td>1 year</td>\n",
       "      <td>Raccoon</td>\n",
       "      <td>Gray</td>\n",
       "    </tr>\n",
       "    <tr>\n",
       "      <th>4</th>\n",
       "      <td>A720371</td>\n",
       "      <td>Moose</td>\n",
       "      <td>02/13/2016 05:59:00 PM</td>\n",
       "      <td>Feb 2016</td>\n",
       "      <td>10/08/2015</td>\n",
       "      <td>Adoption</td>\n",
       "      <td>NaN</td>\n",
       "      <td>Dog</td>\n",
       "      <td>Neutered Male</td>\n",
       "      <td>4 months</td>\n",
       "      <td>Anatol Shepherd/Labrador Retriever</td>\n",
       "      <td>Buff</td>\n",
       "    </tr>\n",
       "  </tbody>\n",
       "</table>\n",
       "</div>"
      ],
      "text/plain": [
       "  Animal ID       Name                DateTime MonthYear Date of Birth  \\\n",
       "0   A882831  *Hamilton  07/01/2023 06:12:00 PM  Jul 2023    03/25/2023   \n",
       "1   A794011      Chunk  05/08/2019 06:20:00 PM  May 2019    05/02/2017   \n",
       "2   A776359      Gizmo  07/18/2018 04:02:00 PM  Jul 2018    07/12/2017   \n",
       "3   A821648        NaN  08/16/2020 11:38:00 AM  Aug 2020    08/16/2019   \n",
       "4   A720371      Moose  02/13/2016 05:59:00 PM  Feb 2016    10/08/2015   \n",
       "\n",
       "  Outcome Type Outcome Subtype Animal Type Sex upon Outcome Age upon Outcome  \\\n",
       "0     Adoption             NaN         Cat    Neutered Male         3 months   \n",
       "1    Rto-Adopt             NaN         Cat    Neutered Male          2 years   \n",
       "2     Adoption             NaN         Dog    Neutered Male           1 year   \n",
       "3   Euthanasia             NaN       Other          Unknown           1 year   \n",
       "4     Adoption             NaN         Dog    Neutered Male         4 months   \n",
       "\n",
       "                                Breed              Color  \n",
       "0              Domestic Shorthair Mix        Black/White  \n",
       "1              Domestic Shorthair Mix  Brown Tabby/White  \n",
       "2             Chihuahua Shorthair Mix        White/Brown  \n",
       "3                             Raccoon               Gray  \n",
       "4  Anatol Shepherd/Labrador Retriever               Buff  "
      ]
     },
     "execution_count": 11,
     "metadata": {},
     "output_type": "execute_result"
    }
   ],
   "source": [
    "# reading in shelter outcomes\n",
    "outcomes = pd.read_csv('../data/austin_animal_center_outcomes_20241017.csv')\n",
    "outcomes.head()"
   ]
  },
  {
   "cell_type": "code",
   "execution_count": 12,
   "id": "7f4f3169-11c9-4eb1-b930-9e80ba216477",
   "metadata": {},
   "outputs": [
    {
     "name": "stdout",
     "output_type": "stream",
     "text": [
      "<class 'pandas.core.frame.DataFrame'>\n",
      "RangeIndex: 167942 entries, 0 to 167941\n",
      "Data columns (total 12 columns):\n",
      " #   Column            Non-Null Count   Dtype \n",
      "---  ------            --------------   ----- \n",
      " 0   Animal ID         167942 non-null  object\n",
      " 1   Name              119733 non-null  object\n",
      " 2   DateTime          167942 non-null  object\n",
      " 3   MonthYear         167942 non-null  object\n",
      " 4   Date of Birth     167942 non-null  object\n",
      " 5   Outcome Type      167896 non-null  object\n",
      " 6   Outcome Subtype   77144 non-null   object\n",
      " 7   Animal Type       167942 non-null  object\n",
      " 8   Sex upon Outcome  167940 non-null  object\n",
      " 9   Age upon Outcome  167926 non-null  object\n",
      " 10  Breed             167942 non-null  object\n",
      " 11  Color             167942 non-null  object\n",
      "dtypes: object(12)\n",
      "memory usage: 15.4+ MB\n"
     ]
    }
   ],
   "source": [
    "outcomes.info()"
   ]
  },
  {
   "cell_type": "markdown",
   "id": "bdd0cf96-5dc3-4fa9-a57c-3b9c01a94425",
   "metadata": {},
   "source": [
    "*Dropping Name and MonthYear columns for outcomes data as well as Outcome Subtype. This column has even more null values than Name and we'll be focusing on the primary Outcome Type only.*"
   ]
  },
  {
   "cell_type": "code",
   "execution_count": 13,
   "id": "db0b58e5-5fff-42c3-815e-6b2526c9c9c4",
   "metadata": {},
   "outputs": [],
   "source": [
    "# dropping inconsequential columns\n",
    "outcomes.drop(columns=['Name', 'MonthYear', 'Outcome Subtype'], inplace=True)"
   ]
  },
  {
   "cell_type": "code",
   "execution_count": 14,
   "id": "0af4de1a-802e-46ed-ba06-6f9dc8d6518f",
   "metadata": {},
   "outputs": [],
   "source": [
    "# renaming columns to be outcome specific and snake case\n",
    "outcome_columns = {\n",
    "    'Animal ID': 'animal_id',\n",
    "    'DateTime': 'outcome_time',\n",
    "    'Date of Birth': 'date_of_birth',\n",
    "    'Outcome Type': 'outcome_type',\n",
    "    'Animal Type': 'outcome_animal_type',\n",
    "    'Sex upon Outcome': 'outcome_gender',\n",
    "    'Age upon Outcome': 'outcome_age',\n",
    "    'Breed': 'outcome_breed',\n",
    "    'Color': 'outcome_color'    \n",
    "}\n",
    "\n",
    "outcomes = outcomes.rename(columns=outcome_columns)"
   ]
  },
  {
   "cell_type": "code",
   "execution_count": 15,
   "id": "a4216afb-dbda-40f4-9587-ba74de6acde8",
   "metadata": {},
   "outputs": [],
   "source": [
    "# converting outcome_time and date of birth columns to datetime format\n",
    "outcomes['outcome_time'] = pd.to_datetime(outcomes['outcome_time'], format='%m/%d/%Y %H:%M:%S %p')\n",
    "outcomes['date_of_birth'] = pd.to_datetime(outcomes['date_of_birth'], format='%m/%d/%Y')"
   ]
  },
  {
   "cell_type": "code",
   "execution_count": 16,
   "id": "545d4bbe-2bf6-4b7e-abce-cd753305745f",
   "metadata": {},
   "outputs": [
    {
     "data": {
      "text/plain": [
       "animal_id              150912\n",
       "outcome_time           139971\n",
       "date_of_birth            8501\n",
       "outcome_type               11\n",
       "outcome_animal_type         5\n",
       "outcome_gender              5\n",
       "outcome_age                55\n",
       "outcome_breed            2969\n",
       "outcome_color             653\n",
       "dtype: int64"
      ]
     },
     "execution_count": 16,
     "metadata": {},
     "output_type": "execute_result"
    }
   ],
   "source": [
    "outcomes.nunique()"
   ]
  },
  {
   "cell_type": "markdown",
   "id": "88c853fa-0c09-4e57-8e62-376f8e6a3d03",
   "metadata": {},
   "source": [
    "*Dropping duplicate animal_id's for outcomes as well.*"
   ]
  },
  {
   "cell_type": "code",
   "execution_count": 17,
   "id": "313e3edd-6b15-4e4c-a10e-368ff38bbb3f",
   "metadata": {},
   "outputs": [],
   "source": [
    "# sort intakes by most recent intakes first\n",
    "outcomes.sort_values(by=['outcome_time', 'animal_id'], inplace=True, ascending = False)\n",
    "\n",
    "# drop duplicate observations\n",
    "outcomes.drop_duplicates(subset='animal_id', inplace = True)"
   ]
  },
  {
   "cell_type": "markdown",
   "id": "726e4cdf-52b2-4a3d-8f96-938e846241fd",
   "metadata": {},
   "source": [
    "### Merge DataFrames"
   ]
  },
  {
   "cell_type": "code",
   "execution_count": 19,
   "id": "b8591622-b607-4bbd-9e3b-adef67741ec1",
   "metadata": {},
   "outputs": [
    {
     "data": {
      "text/html": [
       "<div>\n",
       "<style scoped>\n",
       "    .dataframe tbody tr th:only-of-type {\n",
       "        vertical-align: middle;\n",
       "    }\n",
       "\n",
       "    .dataframe tbody tr th {\n",
       "        vertical-align: top;\n",
       "    }\n",
       "\n",
       "    .dataframe thead th {\n",
       "        text-align: right;\n",
       "    }\n",
       "</style>\n",
       "<table border=\"1\" class=\"dataframe\">\n",
       "  <thead>\n",
       "    <tr style=\"text-align: right;\">\n",
       "      <th></th>\n",
       "      <th>animal_id</th>\n",
       "      <th>outcome_time</th>\n",
       "      <th>date_of_birth</th>\n",
       "      <th>outcome_type</th>\n",
       "      <th>outcome_animal_type</th>\n",
       "      <th>outcome_gender</th>\n",
       "      <th>outcome_age</th>\n",
       "      <th>outcome_breed</th>\n",
       "      <th>outcome_color</th>\n",
       "      <th>intake_time</th>\n",
       "      <th>found_location</th>\n",
       "      <th>intake_type</th>\n",
       "      <th>intake_condition</th>\n",
       "      <th>animal_type</th>\n",
       "      <th>intake_gender</th>\n",
       "      <th>intake_age</th>\n",
       "      <th>intake_breed</th>\n",
       "      <th>intake_color</th>\n",
       "    </tr>\n",
       "  </thead>\n",
       "  <tbody>\n",
       "    <tr>\n",
       "      <th>0</th>\n",
       "      <td>A912055</td>\n",
       "      <td>2024-10-17 12:25:00</td>\n",
       "      <td>2023-10-25</td>\n",
       "      <td>Adoption</td>\n",
       "      <td>Cat</td>\n",
       "      <td>Neutered Male</td>\n",
       "      <td>11 months</td>\n",
       "      <td>Domestic Shorthair</td>\n",
       "      <td>Brown Tabby/White</td>\n",
       "      <td>2024-08-25 08:20:00</td>\n",
       "      <td>1800 Fairlawn Lane in Austin (TX)</td>\n",
       "      <td>Stray</td>\n",
       "      <td>Injured</td>\n",
       "      <td>Cat</td>\n",
       "      <td>Intact Male</td>\n",
       "      <td>10 months</td>\n",
       "      <td>Domestic Shorthair</td>\n",
       "      <td>Brown Tabby/White</td>\n",
       "    </tr>\n",
       "    <tr>\n",
       "      <th>1</th>\n",
       "      <td>A915002</td>\n",
       "      <td>2024-10-17 12:21:00</td>\n",
       "      <td>2023-10-10</td>\n",
       "      <td>Return to Owner</td>\n",
       "      <td>Dog</td>\n",
       "      <td>Intact Male</td>\n",
       "      <td>1 year</td>\n",
       "      <td>German Shepherd Mix</td>\n",
       "      <td>Tan</td>\n",
       "      <td>2024-10-10 12:10:00</td>\n",
       "      <td>Austin (TX)</td>\n",
       "      <td>Public Assist</td>\n",
       "      <td>Normal</td>\n",
       "      <td>Dog</td>\n",
       "      <td>Intact Male</td>\n",
       "      <td>1 year</td>\n",
       "      <td>German Shepherd Mix</td>\n",
       "      <td>Tan</td>\n",
       "    </tr>\n",
       "    <tr>\n",
       "      <th>2</th>\n",
       "      <td>A832172</td>\n",
       "      <td>2024-10-17 12:20:00</td>\n",
       "      <td>2021-01-24</td>\n",
       "      <td>Return to Owner</td>\n",
       "      <td>Dog</td>\n",
       "      <td>Neutered Male</td>\n",
       "      <td>3 years</td>\n",
       "      <td>Pit Bull Mix</td>\n",
       "      <td>Brown/White</td>\n",
       "      <td>2024-10-10 12:10:00</td>\n",
       "      <td>Austin (TX)</td>\n",
       "      <td>Public Assist</td>\n",
       "      <td>Normal</td>\n",
       "      <td>Dog</td>\n",
       "      <td>Neutered Male</td>\n",
       "      <td>3 years</td>\n",
       "      <td>Pit Bull Mix</td>\n",
       "      <td>Brown/White</td>\n",
       "    </tr>\n",
       "    <tr>\n",
       "      <th>3</th>\n",
       "      <td>A915279</td>\n",
       "      <td>2024-10-17 12:00:00</td>\n",
       "      <td>2022-10-14</td>\n",
       "      <td>Transfer</td>\n",
       "      <td>Cat</td>\n",
       "      <td>Intact Female</td>\n",
       "      <td>2 years</td>\n",
       "      <td>Domestic Shorthair</td>\n",
       "      <td>Black</td>\n",
       "      <td>2024-10-14 11:47:00</td>\n",
       "      <td>14514 Highsmith Street in Austin (TX)</td>\n",
       "      <td>Stray</td>\n",
       "      <td>Normal</td>\n",
       "      <td>Cat</td>\n",
       "      <td>Intact Female</td>\n",
       "      <td>2 years</td>\n",
       "      <td>Domestic Shorthair</td>\n",
       "      <td>Black</td>\n",
       "    </tr>\n",
       "    <tr>\n",
       "      <th>4</th>\n",
       "      <td>A915162</td>\n",
       "      <td>2024-10-17 12:00:00</td>\n",
       "      <td>2022-10-12</td>\n",
       "      <td>Transfer</td>\n",
       "      <td>Cat</td>\n",
       "      <td>Unknown</td>\n",
       "      <td>2 years</td>\n",
       "      <td>Domestic Shorthair</td>\n",
       "      <td>Brown Tabby</td>\n",
       "      <td>2024-10-12 10:31:00</td>\n",
       "      <td>102 East Rundberg Lane in Austin (TX)</td>\n",
       "      <td>Stray</td>\n",
       "      <td>Normal</td>\n",
       "      <td>Cat</td>\n",
       "      <td>Unknown</td>\n",
       "      <td>2 years</td>\n",
       "      <td>Domestic Shorthair</td>\n",
       "      <td>Brown Tabby</td>\n",
       "    </tr>\n",
       "  </tbody>\n",
       "</table>\n",
       "</div>"
      ],
      "text/plain": [
       "  animal_id        outcome_time date_of_birth     outcome_type  \\\n",
       "0   A912055 2024-10-17 12:25:00    2023-10-25         Adoption   \n",
       "1   A915002 2024-10-17 12:21:00    2023-10-10  Return to Owner   \n",
       "2   A832172 2024-10-17 12:20:00    2021-01-24  Return to Owner   \n",
       "3   A915279 2024-10-17 12:00:00    2022-10-14         Transfer   \n",
       "4   A915162 2024-10-17 12:00:00    2022-10-12         Transfer   \n",
       "\n",
       "  outcome_animal_type outcome_gender outcome_age        outcome_breed  \\\n",
       "0                 Cat  Neutered Male   11 months   Domestic Shorthair   \n",
       "1                 Dog    Intact Male      1 year  German Shepherd Mix   \n",
       "2                 Dog  Neutered Male     3 years         Pit Bull Mix   \n",
       "3                 Cat  Intact Female     2 years   Domestic Shorthair   \n",
       "4                 Cat        Unknown     2 years   Domestic Shorthair   \n",
       "\n",
       "       outcome_color         intake_time  \\\n",
       "0  Brown Tabby/White 2024-08-25 08:20:00   \n",
       "1                Tan 2024-10-10 12:10:00   \n",
       "2        Brown/White 2024-10-10 12:10:00   \n",
       "3              Black 2024-10-14 11:47:00   \n",
       "4        Brown Tabby 2024-10-12 10:31:00   \n",
       "\n",
       "                          found_location    intake_type intake_condition  \\\n",
       "0      1800 Fairlawn Lane in Austin (TX)          Stray          Injured   \n",
       "1                            Austin (TX)  Public Assist           Normal   \n",
       "2                            Austin (TX)  Public Assist           Normal   \n",
       "3  14514 Highsmith Street in Austin (TX)          Stray           Normal   \n",
       "4  102 East Rundberg Lane in Austin (TX)          Stray           Normal   \n",
       "\n",
       "  animal_type  intake_gender intake_age         intake_breed  \\\n",
       "0         Cat    Intact Male  10 months   Domestic Shorthair   \n",
       "1         Dog    Intact Male     1 year  German Shepherd Mix   \n",
       "2         Dog  Neutered Male    3 years         Pit Bull Mix   \n",
       "3         Cat  Intact Female    2 years   Domestic Shorthair   \n",
       "4         Cat        Unknown    2 years   Domestic Shorthair   \n",
       "\n",
       "        intake_color  \n",
       "0  Brown Tabby/White  \n",
       "1                Tan  \n",
       "2        Brown/White  \n",
       "3              Black  \n",
       "4        Brown Tabby  "
      ]
     },
     "execution_count": 19,
     "metadata": {},
     "output_type": "execute_result"
    }
   ],
   "source": [
    "# meging intakes and outcomes\n",
    "intakes_outcomes = pd.merge(left=outcomes, right=intakes, how='inner', on='animal_id')\n",
    "intakes_outcomes.head()"
   ]
  },
  {
   "cell_type": "markdown",
   "id": "7b90cb40-7309-4741-a873-54bb191b27a2",
   "metadata": {},
   "source": [
    "*There were couple columns that were the same category, going to investigate these. Also converting age columns to age in months. First making a new column for how long an animal stays in the shelter.*"
   ]
  },
  {
   "cell_type": "code",
   "execution_count": 21,
   "id": "4ea1b207-c215-40cc-8c96-ce0b47bcd6ab",
   "metadata": {},
   "outputs": [
    {
     "data": {
      "text/plain": [
       "stay_duration\n",
       "-1      7242\n",
       "-4         5\n",
       "-19        3\n",
       "-20        3\n",
       "-7         3\n",
       "        ... \n",
       "-251       1\n",
       "-228       1\n",
       "-245       1\n",
       "-80        1\n",
       "-3         1\n",
       "Name: count, Length: 94, dtype: int64"
      ]
     },
     "execution_count": 21,
     "metadata": {},
     "output_type": "execute_result"
    }
   ],
   "source": [
    "intakes_outcomes['stay_duration'] = intakes_outcomes['outcome_time'] - intakes_outcomes['intake_time']\n",
    "\n",
    "# convert stay_duration to number of days\n",
    "intakes_outcomes['stay_duration'] = intakes_outcomes['stay_duration'].dt.days.astype(int)\n",
    "\n",
    "# check for negative stay_duration\n",
    "intakes_outcomes[intakes_outcomes['stay_duration'] < 0]['stay_duration'].value_counts()"
   ]
  },
  {
   "cell_type": "code",
   "execution_count": 27,
   "id": "dc6dfa14-5a56-4e59-a22d-cfff09b7b570",
   "metadata": {},
   "outputs": [
    {
     "data": {
      "text/plain": [
       "outcome_type\n",
       "Transfer           3773\n",
       "Return to Owner    2289\n",
       "Euthanasia          813\n",
       "Adoption            257\n",
       "Died                 65\n",
       "Disposal             33\n",
       "Rto-Adopt             8\n",
       "Relocate              2\n",
       "Name: count, dtype: int64"
      ]
     },
     "execution_count": 27,
     "metadata": {},
     "output_type": "execute_result"
    }
   ],
   "source": [
    "intakes_outcomes[intakes_outcomes['stay_duration'] == -1]['outcome_type'].value_counts()"
   ]
  },
  {
   "cell_type": "markdown",
   "id": "70aa7e54-8346-4ddd-8b91-8fae141d5eb2",
   "metadata": {},
   "source": [
    "*There are a lot of observations where the stay is -1 days. We are making the assumption this is because of reporting errors and are going to assume they are all zero. There are only 93 other negative stay durations, instead of making assumptions with those we will drop these observations.*"
   ]
  },
  {
   "cell_type": "code",
   "execution_count": 28,
   "id": "2b3eda4f-5f8c-4aac-826f-3c97f10e0e3f",
   "metadata": {},
   "outputs": [],
   "source": [
    "intakes_outcomes['stay_duration'] = intakes_outcomes['stay_duration'].map(lambda x: 0 if x == -1 else x)"
   ]
  },
  {
   "cell_type": "code",
   "execution_count": 31,
   "id": "a5072666-7f51-4080-be83-e98690dd10cb",
   "metadata": {},
   "outputs": [
    {
     "name": "stdout",
     "output_type": "stream",
     "text": [
      "Number of animal type changes: 0\n",
      "Number of neuters/spays: 60506\n",
      "Number of breed changes: 0\n",
      "Number of color changes: 0\n"
     ]
    }
   ],
   "source": [
    "# compare intake/outcome animal_type, gender, breed, and color\n",
    "print(f'Number of animal type changes: {intakes_outcomes[intakes_outcomes['animal_type'] != intakes_outcomes['outcome_animal_type']].shape[0]}')\n",
    "print(f'Number of neuters/spays: {intakes_outcomes[intakes_outcomes['intake_gender'] != intakes_outcomes['outcome_gender']].shape[0]}')\n",
    "print(f'Number of breed changes: {intakes_outcomes[intakes_outcomes['intake_breed'] != intakes_outcomes['outcome_breed']].shape[0]}')\n",
    "print(f'Number of color changes: {intakes_outcomes[intakes_outcomes['intake_color'] != intakes_outcomes['outcome_color']].shape[0]}')"
   ]
  },
  {
   "cell_type": "markdown",
   "id": "159faa5c-ddca-4a7f-b18b-3c843b2d82ca",
   "metadata": {},
   "source": [
    "*No changes in animal type, breed, or color from intake to outcome, dropping the duplicate column. Also making column showing if an animal is neutered or spayed while in the shelter.*"
   ]
  },
  {
   "cell_type": "code",
   "execution_count": 32,
   "id": "7a626cc8-63e7-42e3-94c5-48048bf040b8",
   "metadata": {},
   "outputs": [],
   "source": [
    "# dropping duplicate columns\n",
    "intakes_outcomes.drop(columns=['outcome_animal_type', 'outcome_breed', 'outcome_color'], inplace=True)\n",
    "\n",
    "# renaming columns without intake specifier\n",
    "intakes_outcomes.rename(columns={'intake_breed': 'breed', 'intake_color': 'color'}, inplace=True)"
   ]
  },
  {
   "cell_type": "code",
   "execution_count": 43,
   "id": "23e3a10f-9827-4551-a6b5-0dda3bb14fb7",
   "metadata": {},
   "outputs": [],
   "source": [
    "intakes_outcomes['spay_neuter'] = (intakes_outcomes['intake_gender'] != intakes_outcomes['outcome_gender']).astype(int)"
   ]
  },
  {
   "cell_type": "code",
   "execution_count": 44,
   "id": "7cae27d4-713b-45bf-ae8a-bc1ff9b4ce1c",
   "metadata": {},
   "outputs": [
    {
     "data": {
      "text/plain": [
       "animal_id           0\n",
       "outcome_time        0\n",
       "date_of_birth       0\n",
       "outcome_type        0\n",
       "outcome_gender      0\n",
       "outcome_age         0\n",
       "intake_time         0\n",
       "found_location      0\n",
       "intake_type         0\n",
       "intake_condition    0\n",
       "animal_type         0\n",
       "intake_gender       0\n",
       "intake_age          0\n",
       "breed               0\n",
       "color               0\n",
       "stay_duration       0\n",
       "spay_neuter         0\n",
       "dtype: int64"
      ]
     },
     "execution_count": 44,
     "metadata": {},
     "output_type": "execute_result"
    }
   ],
   "source": [
    "# checking remaining null values\n",
    "intakes_outcomes.isnull().sum()"
   ]
  },
  {
   "cell_type": "markdown",
   "id": "6c81845a-9093-4c40-8fcd-d015b86fecf5",
   "metadata": {},
   "source": [
    "*At most there are 60 observations with null values, dropping these rows.*"
   ]
  },
  {
   "cell_type": "code",
   "execution_count": 34,
   "id": "a657334a-3364-4716-ad0e-f2cf473b32e5",
   "metadata": {},
   "outputs": [
    {
     "name": "stdout",
     "output_type": "stream",
     "text": [
      "(150098, 16)\n",
      "(150043, 16)\n"
     ]
    }
   ],
   "source": [
    "print(intakes_outcomes.shape)\n",
    "intakes_outcomes.dropna(inplace=True)\n",
    "print(intakes_outcomes.shape)"
   ]
  },
  {
   "cell_type": "code",
   "execution_count": 35,
   "id": "651244b2-9dca-4c2d-8e52-76025d6a8d09",
   "metadata": {},
   "outputs": [],
   "source": [
    "# function for converting age columns to age in months\n",
    "def convert_age(age): \n",
    "    ### add doc string for fucntion!!!!!!!! ###\n",
    "    value, unit = age.split()\n",
    "    value = abs(int(value)) # assume the nagetive age is typo \n",
    "    \n",
    "    if 'year' in unit:\n",
    "        return value * 12\n",
    "    elif 'month' in unit:\n",
    "        return value\n",
    "    elif 'week' in unit:\n",
    "        return round(float(value * 0.23), 2)\n",
    "    elif 'day' in unit:\n",
    "        return round(float(value * 0.033), 2)\n",
    "    else:\n",
    "        return 0"
   ]
  },
  {
   "cell_type": "code",
   "execution_count": 36,
   "id": "9bfcfb36-b914-40d1-b8bc-cf6e72207fef",
   "metadata": {},
   "outputs": [],
   "source": [
    "intakes_outcomes['intake_age'] = intakes_outcomes['intake_age'].map(convert_age)\n",
    "intakes_outcomes['outcome_age'] = intakes_outcomes['outcome_age'].map(convert_age)"
   ]
  },
  {
   "cell_type": "code",
   "execution_count": 37,
   "id": "4b8a7723-b343-4b1a-bb72-cc7a90060831",
   "metadata": {},
   "outputs": [
    {
     "data": {
      "text/plain": [
       "animal_type\n",
       "Dog          0.515359\n",
       "Cat          0.421359\n",
       "Other        0.057490\n",
       "Bird         0.005598\n",
       "Livestock    0.000193\n",
       "Name: proportion, dtype: float64"
      ]
     },
     "execution_count": 37,
     "metadata": {},
     "output_type": "execute_result"
    }
   ],
   "source": [
    "# checking animal types\n",
    "intakes_outcomes['animal_type'].value_counts(normalize=True)"
   ]
  },
  {
   "cell_type": "code",
   "execution_count": 38,
   "id": "3ee66f9b-5096-4ae5-931d-5d3174c907ea",
   "metadata": {},
   "outputs": [
    {
     "data": {
      "text/plain": [
       "array(['Guinea Pig', 'Bat', 'Raccoon', 'Squirrel', 'Bat/Mex Free-Tail',\n",
       "       'Opossum', 'Fox', 'Lizard/Gecko', 'Rabbit Sh', 'Tortoise', 'Deer',\n",
       "       'Skunk', 'Rat', 'Jersey Wooly', 'Ringtail', 'Snake', 'Lop-French',\n",
       "       'Ferret', 'Cottontail', 'Angora-English Mix',\n",
       "       'Turtle/Redeared Slider', 'Lizard', 'Florida White',\n",
       "       'Rabbit Sh Mix', 'Chinchilla', 'Coyote', 'Hamster',\n",
       "       'Lizard/Bearded Dragon', 'Flemish Giant', 'Hedgehog',\n",
       "       'Californian', 'Lop-Holland', 'Rex Mix', 'Lop-Holland Mix',\n",
       "       'Californian Mix', 'Lionhead', 'Himalayan', 'Lop-Mini', 'Turtle',\n",
       "       'Lionhead Mix', 'Dutch Mix', 'Rabbit Sh/Dwarf Hotot', 'Gerbil',\n",
       "       'Rabbit Lh', 'Lop-English Mix', 'Angora-English', 'Snake/Python',\n",
       "       'New Zealand Wht/Lop-Holland', 'Lop-Amer Fuzzy', 'Rex',\n",
       "       'English Spot Mix', 'Hotot', 'New Zealand Wht', 'Harlequin Mix',\n",
       "       'Armadillo', 'Rex-Mini', 'Dutch', 'English Spot', 'Cold Water',\n",
       "       'Chinchilla-Stnd', 'Lop-Mini/Hotot', 'Mouse', 'Dwarf Hotot',\n",
       "       'Netherlnd Dwarf', 'Lop-English', 'New Zealand Wht Mix',\n",
       "       'Lop-Mini Mix', 'Flemish Giant Mix', 'Angora-French Mix',\n",
       "       'Angora-Satin', 'Otter', 'Bat Mix', 'Havana', 'Sugar Glider',\n",
       "       'Polish', 'Chinchilla-Amer', 'American', 'Raccoon Mix', 'Rat Mix',\n",
       "       'Skunk Mix', 'Rex/Lop-English', 'American Sable', 'American Mix',\n",
       "       'Squirrel Mix', 'Fox Mix', 'Tortoise Mix', 'Ferret Mix',\n",
       "       'Guinea Pig Mix', 'Opossum Mix', 'Rabbit Lh Mix', 'Havana Mix',\n",
       "       'Netherlnd Dwarf Mix', 'Mouse Mix', 'Hamster Mix',\n",
       "       'Angora-Satin Mix', 'Rex-Mini Mix', 'Beveren Mix', 'Coyote Mix',\n",
       "       'Snake Mix', 'Lop-Mini/Lop-Holland', 'Chinchilla Mix',\n",
       "       'Hermit Crab Mix', 'Lop-Amer Fuzzy Mix', 'Armadillo Mix',\n",
       "       'Belgian Hare Mix', 'Rhinelander Mix', 'Lizard Mix',\n",
       "       'Himalayan Mix', 'Turtle Mix', 'Prairie Dog Mix', 'Cold Water Mix',\n",
       "       'Ringtail Mix', 'Cinnamon Mix', 'Checkered Giant Mix',\n",
       "       'Britannia Petit Mix', 'Belgian Hare', 'Cinnamon', 'Deer Mix',\n",
       "       'Gerbil Mix', 'Dutch/Angora-Satin', 'Tropical Mix',\n",
       "       'Rex-Mini/Lop-English', 'Polish Mix', 'Otter Mix', 'Hotot Mix',\n",
       "       'Chinchilla-Stnd Mix', 'Cottontail Mix', 'Chinchilla-Amer Mix',\n",
       "       'Bobcat Mix', 'Snake/Snake', 'Tarantula', 'Frog',\n",
       "       'American Sable Mix', 'Dutch/Rabbit Sh', 'Silver Mix',\n",
       "       'Jersey Wooly Mix', 'Rabbit Sh/Lop-Mini'], dtype=object)"
      ]
     },
     "execution_count": 38,
     "metadata": {},
     "output_type": "execute_result"
    }
   ],
   "source": [
    "# see breeds under Other animal type\n",
    "intakes_outcomes[intakes_outcomes['animal_type'] == 'Other']['breed'].unique()"
   ]
  },
  {
   "cell_type": "markdown",
   "id": "540b40d2-de98-47f7-b96f-734e62efd867",
   "metadata": {},
   "source": [
    "*There are very fiew observations labeled as Bird or Livestock. Animals labeled as Other contains some household pets but also a lot of wildlife that doesn't pertain to our problem statement. Dropping everything that isn't a cat or dog.*"
   ]
  },
  {
   "cell_type": "code",
   "execution_count": 40,
   "id": "ad4adc0c-07ea-4f07-8dfc-25af834cfa06",
   "metadata": {},
   "outputs": [
    {
     "name": "stdout",
     "output_type": "stream",
     "text": [
      "(150043, 16)\n"
     ]
    },
    {
     "data": {
      "text/plain": [
       "(140548, 16)"
      ]
     },
     "execution_count": 40,
     "metadata": {},
     "output_type": "execute_result"
    }
   ],
   "source": [
    "# dropping obsevations that aren't cats or dogs\n",
    "print(intakes_outcomes.shape)\n",
    "intakes_outcomes = intakes_outcomes[intakes_outcomes['animal_type'] != 'Other']\n",
    "intakes_outcomes = intakes_outcomes[intakes_outcomes['animal_type'] != 'Bird']\n",
    "intakes_outcomes = intakes_outcomes[intakes_outcomes['animal_type'] != 'Livestock']\n",
    "intakes_outcomes.shape"
   ]
  },
  {
   "cell_type": "code",
   "execution_count": 31,
   "id": "06046de2-cb96-40e1-8f8e-451aa7bb162d",
   "metadata": {},
   "outputs": [],
   "source": [
    "# saving combined data to use in other notebooks\n",
    "intakes_outcomes.to_csv('../data/combined-shelter-data.csv', index=False)"
   ]
  },
  {
   "cell_type": "code",
   "execution_count": 45,
   "id": "e5ad8f0f-048b-40cb-b13f-b776bf2456a7",
   "metadata": {},
   "outputs": [
    {
     "name": "stdout",
     "output_type": "stream",
     "text": [
      "<class 'pandas.core.frame.DataFrame'>\n",
      "Index: 140548 entries, 0 to 150097\n",
      "Data columns (total 17 columns):\n",
      " #   Column            Non-Null Count   Dtype         \n",
      "---  ------            --------------   -----         \n",
      " 0   animal_id         140548 non-null  object        \n",
      " 1   outcome_time      140548 non-null  datetime64[ns]\n",
      " 2   date_of_birth     140548 non-null  datetime64[ns]\n",
      " 3   outcome_type      140548 non-null  object        \n",
      " 4   outcome_gender    140548 non-null  object        \n",
      " 5   outcome_age       140548 non-null  float64       \n",
      " 6   intake_time       140548 non-null  datetime64[ns]\n",
      " 7   found_location    140548 non-null  object        \n",
      " 8   intake_type       140548 non-null  object        \n",
      " 9   intake_condition  140548 non-null  object        \n",
      " 10  animal_type       140548 non-null  object        \n",
      " 11  intake_gender     140548 non-null  object        \n",
      " 12  intake_age        140548 non-null  float64       \n",
      " 13  breed             140548 non-null  object        \n",
      " 14  color             140548 non-null  object        \n",
      " 15  stay_duration     140548 non-null  int64         \n",
      " 16  spay_neuter       140548 non-null  int32         \n",
      "dtypes: datetime64[ns](3), float64(2), int32(1), int64(1), object(10)\n",
      "memory usage: 18.8+ MB\n"
     ]
    }
   ],
   "source": [
    "intakes_outcomes.info()"
   ]
  },
  {
   "cell_type": "markdown",
   "id": "7c82623b-00f1-4af5-8563-2e58b6f55de1",
   "metadata": {},
   "source": [
    "---\n",
    "## Data Dictionary\n",
    "\n",
    "All intake data is from [Austin Animal Center Intakes](https://data.austintexas.gov/Health-and-Community-Services/Austin-Animal-Center-Intakes/wter-evkm/about_data) and outcome data is from [Austin Animal Center Outcomes](https://data.austintexas.gov/Health-and-Community-Services/Austin-Animal-Center-Outcomes/9t4d-g238/about_data).\n",
    "\n",
    "|feature|type|description|\n",
    "|---|---|---|\n",
    "|**animal_id**|*str*|Unique animal ID|\n",
    "|**outcome_time**|*datetime*|Day and time of animal outcome|\n",
    "|**date_of_birth**|*datetime*|Animal's date of birth|\n",
    "|**outcome_type**|*str*|Outcome of animal|\n",
    "|**outcome_gender**|*str*|Neuter/spay status at outcome|\n",
    "|**outcome_age**|*float*|Animal age at outcome|\n",
    "|**intake_time**|*datetime*|Day and time animal is taken in by shelter|\n",
    "|**found_location**|*str*|Where animal is found|\n",
    "|**intake_type**|*str*|How animal is taken in|\n",
    "|**intake_condition**|*str*|Animal's health condition upon intake|\n",
    "|**animal_type**|*str*|Type of animal|\n",
    "|**intake_gender**|*str*|Neuter/spay status upon intake|\n",
    "|**intake_age**|*float*|Animal age in months upon intake|\n",
    "|**breed**|*str*|Animal breed|\n",
    "|**color**|*str*|Animal color|\n",
    "|**stay_duration**|*str*|How many days animal is in shelter before outcome|\n",
    "|**spay_neuter**|*int*|1 if an animal is spayed or neutered while in the shelter|"
   ]
  }
 ],
 "metadata": {
  "kernelspec": {
   "display_name": "Python 3 (ipykernel)",
   "language": "python",
   "name": "python3"
  },
  "language_info": {
   "codemirror_mode": {
    "name": "ipython",
    "version": 3
   },
   "file_extension": ".py",
   "mimetype": "text/x-python",
   "name": "python",
   "nbconvert_exporter": "python",
   "pygments_lexer": "ipython3",
   "version": "3.12.4"
  }
 },
 "nbformat": 4,
 "nbformat_minor": 5
}
