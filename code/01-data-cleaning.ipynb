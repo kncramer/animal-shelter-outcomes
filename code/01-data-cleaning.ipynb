{
 "cells": [
  {
   "cell_type": "markdown",
   "id": "60961e3f-7e03-442b-b9cb-047494a012d1",
   "metadata": {},
   "source": [
    "# Animal Shelter Outcomes\n",
    "---"
   ]
  },
  {
   "cell_type": "markdown",
   "id": "bccfcc25-66e7-4eac-a6c6-874a8f143191",
   "metadata": {},
   "source": [
    "Problem Statement..."
   ]
  },
  {
   "cell_type": "markdown",
   "id": "d64c9095-2d8a-4bdd-95b6-d72b32020c45",
   "metadata": {},
   "source": [
    "### Background\n",
    "..."
   ]
  },
  {
   "cell_type": "markdown",
   "id": "efedd638-8d05-4712-8ec2-b94923c235da",
   "metadata": {},
   "source": [
    "---\n",
    "## Data Cleaning"
   ]
  },
  {
   "cell_type": "code",
   "execution_count": 2,
   "id": "4e48e449-c2e2-41ea-a279-ae56ca64a500",
   "metadata": {},
   "outputs": [],
   "source": [
    "# imports\n",
    "import pandas as pd\n",
    "import numpy as np"
   ]
  },
  {
   "cell_type": "markdown",
   "id": "96d416b7-6979-46d0-9b01-9f8252f76387",
   "metadata": {},
   "source": [
    "### Austin Shelter Intakes"
   ]
  },
  {
   "cell_type": "code",
   "execution_count": 3,
   "id": "67a8d69a-5047-4a16-8ec0-7dd01773d3c2",
   "metadata": {},
   "outputs": [
    {
     "data": {
      "text/html": [
       "<div>\n",
       "<style scoped>\n",
       "    .dataframe tbody tr th:only-of-type {\n",
       "        vertical-align: middle;\n",
       "    }\n",
       "\n",
       "    .dataframe tbody tr th {\n",
       "        vertical-align: top;\n",
       "    }\n",
       "\n",
       "    .dataframe thead th {\n",
       "        text-align: right;\n",
       "    }\n",
       "</style>\n",
       "<table border=\"1\" class=\"dataframe\">\n",
       "  <thead>\n",
       "    <tr style=\"text-align: right;\">\n",
       "      <th></th>\n",
       "      <th>Animal ID</th>\n",
       "      <th>Name</th>\n",
       "      <th>DateTime</th>\n",
       "      <th>MonthYear</th>\n",
       "      <th>Found Location</th>\n",
       "      <th>Intake Type</th>\n",
       "      <th>Intake Condition</th>\n",
       "      <th>Animal Type</th>\n",
       "      <th>Sex upon Intake</th>\n",
       "      <th>Age upon Intake</th>\n",
       "      <th>Breed</th>\n",
       "      <th>Color</th>\n",
       "    </tr>\n",
       "  </thead>\n",
       "  <tbody>\n",
       "    <tr>\n",
       "      <th>0</th>\n",
       "      <td>A786884</td>\n",
       "      <td>*Brock</td>\n",
       "      <td>01/03/2019 04:19:00 PM</td>\n",
       "      <td>January 2019</td>\n",
       "      <td>2501 Magin Meadow Dr in Austin (TX)</td>\n",
       "      <td>Stray</td>\n",
       "      <td>Normal</td>\n",
       "      <td>Dog</td>\n",
       "      <td>Neutered Male</td>\n",
       "      <td>2 years</td>\n",
       "      <td>Beagle Mix</td>\n",
       "      <td>Tricolor</td>\n",
       "    </tr>\n",
       "    <tr>\n",
       "      <th>1</th>\n",
       "      <td>A706918</td>\n",
       "      <td>Belle</td>\n",
       "      <td>07/05/2015 12:59:00 PM</td>\n",
       "      <td>July 2015</td>\n",
       "      <td>9409 Bluegrass Dr in Austin (TX)</td>\n",
       "      <td>Stray</td>\n",
       "      <td>Normal</td>\n",
       "      <td>Dog</td>\n",
       "      <td>Spayed Female</td>\n",
       "      <td>8 years</td>\n",
       "      <td>English Springer Spaniel</td>\n",
       "      <td>White/Liver</td>\n",
       "    </tr>\n",
       "    <tr>\n",
       "      <th>2</th>\n",
       "      <td>A724273</td>\n",
       "      <td>Runster</td>\n",
       "      <td>04/14/2016 06:43:00 PM</td>\n",
       "      <td>April 2016</td>\n",
       "      <td>2818 Palomino Trail in Austin (TX)</td>\n",
       "      <td>Stray</td>\n",
       "      <td>Normal</td>\n",
       "      <td>Dog</td>\n",
       "      <td>Intact Male</td>\n",
       "      <td>11 months</td>\n",
       "      <td>Basenji Mix</td>\n",
       "      <td>Sable/White</td>\n",
       "    </tr>\n",
       "    <tr>\n",
       "      <th>3</th>\n",
       "      <td>A665644</td>\n",
       "      <td>NaN</td>\n",
       "      <td>10/21/2013 07:59:00 AM</td>\n",
       "      <td>October 2013</td>\n",
       "      <td>Austin (TX)</td>\n",
       "      <td>Stray</td>\n",
       "      <td>Sick</td>\n",
       "      <td>Cat</td>\n",
       "      <td>Intact Female</td>\n",
       "      <td>4 weeks</td>\n",
       "      <td>Domestic Shorthair Mix</td>\n",
       "      <td>Calico</td>\n",
       "    </tr>\n",
       "    <tr>\n",
       "      <th>4</th>\n",
       "      <td>A857105</td>\n",
       "      <td>Johnny Ringo</td>\n",
       "      <td>05/12/2022 12:23:00 AM</td>\n",
       "      <td>May 2022</td>\n",
       "      <td>4404 Sarasota Drive in Austin (TX)</td>\n",
       "      <td>Public Assist</td>\n",
       "      <td>Normal</td>\n",
       "      <td>Cat</td>\n",
       "      <td>Neutered Male</td>\n",
       "      <td>2 years</td>\n",
       "      <td>Domestic Shorthair</td>\n",
       "      <td>Orange Tabby</td>\n",
       "    </tr>\n",
       "  </tbody>\n",
       "</table>\n",
       "</div>"
      ],
      "text/plain": [
       "  Animal ID          Name                DateTime     MonthYear  \\\n",
       "0   A786884        *Brock  01/03/2019 04:19:00 PM  January 2019   \n",
       "1   A706918         Belle  07/05/2015 12:59:00 PM     July 2015   \n",
       "2   A724273       Runster  04/14/2016 06:43:00 PM    April 2016   \n",
       "3   A665644           NaN  10/21/2013 07:59:00 AM  October 2013   \n",
       "4   A857105  Johnny Ringo  05/12/2022 12:23:00 AM      May 2022   \n",
       "\n",
       "                        Found Location    Intake Type Intake Condition  \\\n",
       "0  2501 Magin Meadow Dr in Austin (TX)          Stray           Normal   \n",
       "1     9409 Bluegrass Dr in Austin (TX)          Stray           Normal   \n",
       "2   2818 Palomino Trail in Austin (TX)          Stray           Normal   \n",
       "3                          Austin (TX)          Stray             Sick   \n",
       "4   4404 Sarasota Drive in Austin (TX)  Public Assist           Normal   \n",
       "\n",
       "  Animal Type Sex upon Intake Age upon Intake                     Breed  \\\n",
       "0         Dog   Neutered Male         2 years                Beagle Mix   \n",
       "1         Dog   Spayed Female         8 years  English Springer Spaniel   \n",
       "2         Dog     Intact Male       11 months               Basenji Mix   \n",
       "3         Cat   Intact Female         4 weeks    Domestic Shorthair Mix   \n",
       "4         Cat   Neutered Male         2 years        Domestic Shorthair   \n",
       "\n",
       "          Color  \n",
       "0      Tricolor  \n",
       "1   White/Liver  \n",
       "2   Sable/White  \n",
       "3        Calico  \n",
       "4  Orange Tabby  "
      ]
     },
     "execution_count": 3,
     "metadata": {},
     "output_type": "execute_result"
    }
   ],
   "source": [
    "# reading in shelter intakes\n",
    "intakes =  pd.read_csv('../data/austin_animal_center_intakes_20241017.csv')\n",
    "intakes.head()"
   ]
  },
  {
   "cell_type": "code",
   "execution_count": 4,
   "id": "5a813a7a-27bf-499c-ab4d-43ff6ad43b55",
   "metadata": {},
   "outputs": [
    {
     "name": "stdout",
     "output_type": "stream",
     "text": [
      "<class 'pandas.core.frame.DataFrame'>\n",
      "RangeIndex: 168040 entries, 0 to 168039\n",
      "Data columns (total 12 columns):\n",
      " #   Column            Non-Null Count   Dtype \n",
      "---  ------            --------------   ----- \n",
      " 0   Animal ID         168040 non-null  object\n",
      " 1   Name              119647 non-null  object\n",
      " 2   DateTime          168040 non-null  object\n",
      " 3   MonthYear         168040 non-null  object\n",
      " 4   Found Location    168040 non-null  object\n",
      " 5   Intake Type       168040 non-null  object\n",
      " 6   Intake Condition  168040 non-null  object\n",
      " 7   Animal Type       168040 non-null  object\n",
      " 8   Sex upon Intake   168038 non-null  object\n",
      " 9   Age upon Intake   168039 non-null  object\n",
      " 10  Breed             168040 non-null  object\n",
      " 11  Color             168040 non-null  object\n",
      "dtypes: object(12)\n",
      "memory usage: 15.4+ MB\n"
     ]
    }
   ],
   "source": [
    "intakes.info()"
   ]
  },
  {
   "cell_type": "markdown",
   "id": "07bc91ad-ac02-4e5a-ac09-652d0d5bd36f",
   "metadata": {},
   "source": [
    "*The Name column has a lot of null values and we're assuming a pet's name won't affect their chances of adoption, so going to drop this column. Also dropping MonthYear because that information is also in the DateTime column.*"
   ]
  },
  {
   "cell_type": "code",
   "execution_count": 5,
   "id": "c63937ed-23da-409d-b8ae-e02b74eb7fb2",
   "metadata": {},
   "outputs": [],
   "source": [
    "# dropping inconsequential columns\n",
    "intakes.drop(columns=['Name', 'MonthYear'], inplace=True)"
   ]
  },
  {
   "cell_type": "code",
   "execution_count": 6,
   "id": "6934bd53-7a0b-41d6-8aca-5055491fb195",
   "metadata": {},
   "outputs": [],
   "source": [
    "# renaming columns to be intake specific and snake case\n",
    "columns = {\n",
    "    'Animal ID': 'animal_id',\n",
    "    'DateTime': 'intake_time',\n",
    "    'Found Location': 'found_location',\n",
    "    'Intake Type': 'intake_type',\n",
    "    'Intake Condition': 'intake_condition',\n",
    "    'Animal Type': 'animal_type',\n",
    "    'Sex upon Intake': 'intake_gender',\n",
    "    'Age upon Intake': 'intake_age',\n",
    "    'Breed': 'intake_breed',\n",
    "    'Color': 'intake_color'    \n",
    "}\n",
    "\n",
    "intakes = intakes.rename(columns=columns)"
   ]
  },
  {
   "cell_type": "code",
   "execution_count": 7,
   "id": "02c80b92-efa9-4f33-b74e-b6152767b9d3",
   "metadata": {},
   "outputs": [],
   "source": [
    "# converting intake_time column to datetime format\n",
    "intakes['intake_time'] = pd.to_datetime(intakes['intake_time'], format='%m/%d/%Y %I:%M:%S %p')"
   ]
  },
  {
   "cell_type": "code",
   "execution_count": 8,
   "id": "bdc2322c-c2e5-48ea-8ab6-2a884cbc1231",
   "metadata": {},
   "outputs": [
    {
     "data": {
      "text/plain": [
       "animal_id           151007\n",
       "intake_time         115852\n",
       "found_location       68164\n",
       "intake_type              6\n",
       "intake_condition        20\n",
       "animal_type              5\n",
       "intake_gender            5\n",
       "intake_age              55\n",
       "intake_breed          2969\n",
       "intake_color           651\n",
       "dtype: int64"
      ]
     },
     "execution_count": 8,
     "metadata": {},
     "output_type": "execute_result"
    }
   ],
   "source": [
    "intakes.nunique()"
   ]
  },
  {
   "cell_type": "markdown",
   "id": "f8554290-b911-4a35-bbf9-9e4bc7219030",
   "metadata": {},
   "source": [
    "*There are many animals that have more than one stay at a shelter. In order to have accurate merging between intake and outcomes we are dropping any duplicate animals. Sorting by intake time first to keep the most recent observation for each animal id.*"
   ]
  },
  {
   "cell_type": "code",
   "execution_count": 9,
   "id": "a78af22a-22fe-461b-ba9f-5c440ab67228",
   "metadata": {},
   "outputs": [],
   "source": [
    "# sort intakes by most recent intakes first\n",
    "intakes.sort_values(by=['intake_time', 'animal_id'], inplace=True, ascending = False)\n",
    "\n",
    "# drop duplicate observations\n",
    "intakes.drop_duplicates(subset='animal_id', inplace = True)"
   ]
  },
  {
   "cell_type": "markdown",
   "id": "741af362-d2b1-4c35-a3c7-dfabfccb898e",
   "metadata": {},
   "source": [
    "### Austin Shelter Outcomes"
   ]
  },
  {
   "cell_type": "code",
   "execution_count": 10,
   "id": "2d91119d-0a7c-475c-a7b5-13b0ea60bdfc",
   "metadata": {},
   "outputs": [
    {
     "data": {
      "text/html": [
       "<div>\n",
       "<style scoped>\n",
       "    .dataframe tbody tr th:only-of-type {\n",
       "        vertical-align: middle;\n",
       "    }\n",
       "\n",
       "    .dataframe tbody tr th {\n",
       "        vertical-align: top;\n",
       "    }\n",
       "\n",
       "    .dataframe thead th {\n",
       "        text-align: right;\n",
       "    }\n",
       "</style>\n",
       "<table border=\"1\" class=\"dataframe\">\n",
       "  <thead>\n",
       "    <tr style=\"text-align: right;\">\n",
       "      <th></th>\n",
       "      <th>Animal ID</th>\n",
       "      <th>Name</th>\n",
       "      <th>DateTime</th>\n",
       "      <th>MonthYear</th>\n",
       "      <th>Date of Birth</th>\n",
       "      <th>Outcome Type</th>\n",
       "      <th>Outcome Subtype</th>\n",
       "      <th>Animal Type</th>\n",
       "      <th>Sex upon Outcome</th>\n",
       "      <th>Age upon Outcome</th>\n",
       "      <th>Breed</th>\n",
       "      <th>Color</th>\n",
       "    </tr>\n",
       "  </thead>\n",
       "  <tbody>\n",
       "    <tr>\n",
       "      <th>0</th>\n",
       "      <td>A882831</td>\n",
       "      <td>*Hamilton</td>\n",
       "      <td>07/01/2023 06:12:00 PM</td>\n",
       "      <td>Jul 2023</td>\n",
       "      <td>03/25/2023</td>\n",
       "      <td>Adoption</td>\n",
       "      <td>NaN</td>\n",
       "      <td>Cat</td>\n",
       "      <td>Neutered Male</td>\n",
       "      <td>3 months</td>\n",
       "      <td>Domestic Shorthair Mix</td>\n",
       "      <td>Black/White</td>\n",
       "    </tr>\n",
       "    <tr>\n",
       "      <th>1</th>\n",
       "      <td>A794011</td>\n",
       "      <td>Chunk</td>\n",
       "      <td>05/08/2019 06:20:00 PM</td>\n",
       "      <td>May 2019</td>\n",
       "      <td>05/02/2017</td>\n",
       "      <td>Rto-Adopt</td>\n",
       "      <td>NaN</td>\n",
       "      <td>Cat</td>\n",
       "      <td>Neutered Male</td>\n",
       "      <td>2 years</td>\n",
       "      <td>Domestic Shorthair Mix</td>\n",
       "      <td>Brown Tabby/White</td>\n",
       "    </tr>\n",
       "    <tr>\n",
       "      <th>2</th>\n",
       "      <td>A776359</td>\n",
       "      <td>Gizmo</td>\n",
       "      <td>07/18/2018 04:02:00 PM</td>\n",
       "      <td>Jul 2018</td>\n",
       "      <td>07/12/2017</td>\n",
       "      <td>Adoption</td>\n",
       "      <td>NaN</td>\n",
       "      <td>Dog</td>\n",
       "      <td>Neutered Male</td>\n",
       "      <td>1 year</td>\n",
       "      <td>Chihuahua Shorthair Mix</td>\n",
       "      <td>White/Brown</td>\n",
       "    </tr>\n",
       "    <tr>\n",
       "      <th>3</th>\n",
       "      <td>A821648</td>\n",
       "      <td>NaN</td>\n",
       "      <td>08/16/2020 11:38:00 AM</td>\n",
       "      <td>Aug 2020</td>\n",
       "      <td>08/16/2019</td>\n",
       "      <td>Euthanasia</td>\n",
       "      <td>NaN</td>\n",
       "      <td>Other</td>\n",
       "      <td>Unknown</td>\n",
       "      <td>1 year</td>\n",
       "      <td>Raccoon</td>\n",
       "      <td>Gray</td>\n",
       "    </tr>\n",
       "    <tr>\n",
       "      <th>4</th>\n",
       "      <td>A720371</td>\n",
       "      <td>Moose</td>\n",
       "      <td>02/13/2016 05:59:00 PM</td>\n",
       "      <td>Feb 2016</td>\n",
       "      <td>10/08/2015</td>\n",
       "      <td>Adoption</td>\n",
       "      <td>NaN</td>\n",
       "      <td>Dog</td>\n",
       "      <td>Neutered Male</td>\n",
       "      <td>4 months</td>\n",
       "      <td>Anatol Shepherd/Labrador Retriever</td>\n",
       "      <td>Buff</td>\n",
       "    </tr>\n",
       "  </tbody>\n",
       "</table>\n",
       "</div>"
      ],
      "text/plain": [
       "  Animal ID       Name                DateTime MonthYear Date of Birth  \\\n",
       "0   A882831  *Hamilton  07/01/2023 06:12:00 PM  Jul 2023    03/25/2023   \n",
       "1   A794011      Chunk  05/08/2019 06:20:00 PM  May 2019    05/02/2017   \n",
       "2   A776359      Gizmo  07/18/2018 04:02:00 PM  Jul 2018    07/12/2017   \n",
       "3   A821648        NaN  08/16/2020 11:38:00 AM  Aug 2020    08/16/2019   \n",
       "4   A720371      Moose  02/13/2016 05:59:00 PM  Feb 2016    10/08/2015   \n",
       "\n",
       "  Outcome Type Outcome Subtype Animal Type Sex upon Outcome Age upon Outcome  \\\n",
       "0     Adoption             NaN         Cat    Neutered Male         3 months   \n",
       "1    Rto-Adopt             NaN         Cat    Neutered Male          2 years   \n",
       "2     Adoption             NaN         Dog    Neutered Male           1 year   \n",
       "3   Euthanasia             NaN       Other          Unknown           1 year   \n",
       "4     Adoption             NaN         Dog    Neutered Male         4 months   \n",
       "\n",
       "                                Breed              Color  \n",
       "0              Domestic Shorthair Mix        Black/White  \n",
       "1              Domestic Shorthair Mix  Brown Tabby/White  \n",
       "2             Chihuahua Shorthair Mix        White/Brown  \n",
       "3                             Raccoon               Gray  \n",
       "4  Anatol Shepherd/Labrador Retriever               Buff  "
      ]
     },
     "execution_count": 10,
     "metadata": {},
     "output_type": "execute_result"
    }
   ],
   "source": [
    "# reading in shelter outcomes\n",
    "outcomes = pd.read_csv('../data/austin_animal_center_outcomes_20241017.csv')\n",
    "outcomes.head()"
   ]
  },
  {
   "cell_type": "code",
   "execution_count": 11,
   "id": "7f4f3169-11c9-4eb1-b930-9e80ba216477",
   "metadata": {},
   "outputs": [
    {
     "name": "stdout",
     "output_type": "stream",
     "text": [
      "<class 'pandas.core.frame.DataFrame'>\n",
      "RangeIndex: 167942 entries, 0 to 167941\n",
      "Data columns (total 12 columns):\n",
      " #   Column            Non-Null Count   Dtype \n",
      "---  ------            --------------   ----- \n",
      " 0   Animal ID         167942 non-null  object\n",
      " 1   Name              119733 non-null  object\n",
      " 2   DateTime          167942 non-null  object\n",
      " 3   MonthYear         167942 non-null  object\n",
      " 4   Date of Birth     167942 non-null  object\n",
      " 5   Outcome Type      167896 non-null  object\n",
      " 6   Outcome Subtype   77144 non-null   object\n",
      " 7   Animal Type       167942 non-null  object\n",
      " 8   Sex upon Outcome  167940 non-null  object\n",
      " 9   Age upon Outcome  167926 non-null  object\n",
      " 10  Breed             167942 non-null  object\n",
      " 11  Color             167942 non-null  object\n",
      "dtypes: object(12)\n",
      "memory usage: 15.4+ MB\n"
     ]
    }
   ],
   "source": [
    "outcomes.info()"
   ]
  },
  {
   "cell_type": "markdown",
   "id": "bdd0cf96-5dc3-4fa9-a57c-3b9c01a94425",
   "metadata": {},
   "source": [
    "*Dropping Name and MonthYear columns for outcomes data as well as Outcome Subtype. This column has even more null values than Name and we'll be focusing on the primary Outcome Type only.*"
   ]
  },
  {
   "cell_type": "code",
   "execution_count": 12,
   "id": "db0b58e5-5fff-42c3-815e-6b2526c9c9c4",
   "metadata": {},
   "outputs": [],
   "source": [
    "# dropping inconsequential columns\n",
    "outcomes.drop(columns=['Name', 'MonthYear', 'Outcome Subtype'], inplace=True)"
   ]
  },
  {
   "cell_type": "code",
   "execution_count": 13,
   "id": "0af4de1a-802e-46ed-ba06-6f9dc8d6518f",
   "metadata": {},
   "outputs": [],
   "source": [
    "# renaming columns to be outcome specific and snake case\n",
    "outcome_columns = {\n",
    "    'Animal ID': 'animal_id',\n",
    "    'DateTime': 'outcome_time',\n",
    "    'Date of Birth': 'date_of_birth',\n",
    "    'Outcome Type': 'outcome_type',\n",
    "    'Animal Type': 'outcome_animal_type',\n",
    "    'Sex upon Outcome': 'outcome_gender',\n",
    "    'Age upon Outcome': 'outcome_age',\n",
    "    'Breed': 'outcome_breed',\n",
    "    'Color': 'outcome_color'    \n",
    "}\n",
    "\n",
    "outcomes = outcomes.rename(columns=outcome_columns)"
   ]
  },
  {
   "cell_type": "code",
   "execution_count": 14,
   "id": "a4216afb-dbda-40f4-9587-ba74de6acde8",
   "metadata": {},
   "outputs": [],
   "source": [
    "# converting outcome_time and date of birth columns to datetime format\n",
    "outcomes['outcome_time'] = pd.to_datetime(outcomes['outcome_time'], format='%m/%d/%Y %I:%M:%S %p')\n",
    "outcomes['date_of_birth'] = pd.to_datetime(outcomes['date_of_birth'], format='%m/%d/%Y')"
   ]
  },
  {
   "cell_type": "code",
   "execution_count": 15,
   "id": "545d4bbe-2bf6-4b7e-abce-cd753305745f",
   "metadata": {},
   "outputs": [
    {
     "data": {
      "text/plain": [
       "animal_id              150912\n",
       "outcome_time           140118\n",
       "date_of_birth            8501\n",
       "outcome_type               11\n",
       "outcome_animal_type         5\n",
       "outcome_gender              5\n",
       "outcome_age                55\n",
       "outcome_breed            2969\n",
       "outcome_color             653\n",
       "dtype: int64"
      ]
     },
     "execution_count": 15,
     "metadata": {},
     "output_type": "execute_result"
    }
   ],
   "source": [
    "outcomes.nunique()"
   ]
  },
  {
   "cell_type": "markdown",
   "id": "88c853fa-0c09-4e57-8e62-376f8e6a3d03",
   "metadata": {},
   "source": [
    "*Dropping duplicate animal_id's for outcomes as well.*"
   ]
  },
  {
   "cell_type": "code",
   "execution_count": 16,
   "id": "313e3edd-6b15-4e4c-a10e-368ff38bbb3f",
   "metadata": {},
   "outputs": [],
   "source": [
    "# sort intakes by most recent intakes first\n",
    "outcomes.sort_values(by=['outcome_time', 'animal_id'], inplace=True, ascending = False)\n",
    "\n",
    "# drop duplicate observations\n",
    "outcomes.drop_duplicates(subset='animal_id', inplace = True)"
   ]
  },
  {
   "cell_type": "markdown",
   "id": "726e4cdf-52b2-4a3d-8f96-938e846241fd",
   "metadata": {},
   "source": [
    "### Merge Austin DataFrames"
   ]
  },
  {
   "cell_type": "code",
   "execution_count": 17,
   "id": "b8591622-b607-4bbd-9e3b-adef67741ec1",
   "metadata": {},
   "outputs": [
    {
     "data": {
      "text/html": [
       "<div>\n",
       "<style scoped>\n",
       "    .dataframe tbody tr th:only-of-type {\n",
       "        vertical-align: middle;\n",
       "    }\n",
       "\n",
       "    .dataframe tbody tr th {\n",
       "        vertical-align: top;\n",
       "    }\n",
       "\n",
       "    .dataframe thead th {\n",
       "        text-align: right;\n",
       "    }\n",
       "</style>\n",
       "<table border=\"1\" class=\"dataframe\">\n",
       "  <thead>\n",
       "    <tr style=\"text-align: right;\">\n",
       "      <th></th>\n",
       "      <th>animal_id</th>\n",
       "      <th>outcome_time</th>\n",
       "      <th>date_of_birth</th>\n",
       "      <th>outcome_type</th>\n",
       "      <th>outcome_animal_type</th>\n",
       "      <th>outcome_gender</th>\n",
       "      <th>outcome_age</th>\n",
       "      <th>outcome_breed</th>\n",
       "      <th>outcome_color</th>\n",
       "      <th>intake_time</th>\n",
       "      <th>found_location</th>\n",
       "      <th>intake_type</th>\n",
       "      <th>intake_condition</th>\n",
       "      <th>animal_type</th>\n",
       "      <th>intake_gender</th>\n",
       "      <th>intake_age</th>\n",
       "      <th>intake_breed</th>\n",
       "      <th>intake_color</th>\n",
       "    </tr>\n",
       "  </thead>\n",
       "  <tbody>\n",
       "    <tr>\n",
       "      <th>0</th>\n",
       "      <td>A915546</td>\n",
       "      <td>2024-10-17 13:50:00</td>\n",
       "      <td>2024-09-28</td>\n",
       "      <td>Transfer</td>\n",
       "      <td>Cat</td>\n",
       "      <td>Intact Male</td>\n",
       "      <td>NaN</td>\n",
       "      <td>Domestic Shorthair</td>\n",
       "      <td>Black Smoke</td>\n",
       "      <td>2024-10-17 07:52:00</td>\n",
       "      <td>Pleasant Valley Rd/Teri Rd in Austin (TX)</td>\n",
       "      <td>Stray</td>\n",
       "      <td>Sick</td>\n",
       "      <td>Cat</td>\n",
       "      <td>Intact Male</td>\n",
       "      <td>2 weeks</td>\n",
       "      <td>Domestic Shorthair</td>\n",
       "      <td>Black Smoke</td>\n",
       "    </tr>\n",
       "    <tr>\n",
       "      <th>1</th>\n",
       "      <td>A912799</td>\n",
       "      <td>2024-10-17 13:07:00</td>\n",
       "      <td>2024-07-21</td>\n",
       "      <td>Adoption</td>\n",
       "      <td>Cat</td>\n",
       "      <td>Spayed Female</td>\n",
       "      <td>2 months</td>\n",
       "      <td>Domestic Shorthair</td>\n",
       "      <td>Brown Tabby</td>\n",
       "      <td>2024-09-05 14:57:00</td>\n",
       "      <td>7201 Levander Loop in Austin (TX)</td>\n",
       "      <td>Abandoned</td>\n",
       "      <td>Normal</td>\n",
       "      <td>Cat</td>\n",
       "      <td>Intact Female</td>\n",
       "      <td>1 month</td>\n",
       "      <td>Domestic Shorthair</td>\n",
       "      <td>Brown Tabby</td>\n",
       "    </tr>\n",
       "    <tr>\n",
       "      <th>2</th>\n",
       "      <td>A912797</td>\n",
       "      <td>2024-10-17 13:07:00</td>\n",
       "      <td>2024-07-27</td>\n",
       "      <td>NaN</td>\n",
       "      <td>Cat</td>\n",
       "      <td>Neutered Male</td>\n",
       "      <td>2 months</td>\n",
       "      <td>Domestic Shorthair</td>\n",
       "      <td>Black</td>\n",
       "      <td>2024-09-05 14:57:00</td>\n",
       "      <td>7201 Levander Loop in Austin (TX)</td>\n",
       "      <td>Abandoned</td>\n",
       "      <td>Normal</td>\n",
       "      <td>Cat</td>\n",
       "      <td>Intact Male</td>\n",
       "      <td>1 month</td>\n",
       "      <td>Domestic Shorthair</td>\n",
       "      <td>Black</td>\n",
       "    </tr>\n",
       "    <tr>\n",
       "      <th>3</th>\n",
       "      <td>A912055</td>\n",
       "      <td>2024-10-17 12:25:00</td>\n",
       "      <td>2023-10-25</td>\n",
       "      <td>Adoption</td>\n",
       "      <td>Cat</td>\n",
       "      <td>Neutered Male</td>\n",
       "      <td>11 months</td>\n",
       "      <td>Domestic Shorthair</td>\n",
       "      <td>Brown Tabby/White</td>\n",
       "      <td>2024-08-25 08:20:00</td>\n",
       "      <td>1800 Fairlawn Lane in Austin (TX)</td>\n",
       "      <td>Stray</td>\n",
       "      <td>Injured</td>\n",
       "      <td>Cat</td>\n",
       "      <td>Intact Male</td>\n",
       "      <td>10 months</td>\n",
       "      <td>Domestic Shorthair</td>\n",
       "      <td>Brown Tabby/White</td>\n",
       "    </tr>\n",
       "    <tr>\n",
       "      <th>4</th>\n",
       "      <td>A915002</td>\n",
       "      <td>2024-10-17 12:21:00</td>\n",
       "      <td>2023-10-10</td>\n",
       "      <td>Return to Owner</td>\n",
       "      <td>Dog</td>\n",
       "      <td>Intact Male</td>\n",
       "      <td>1 year</td>\n",
       "      <td>German Shepherd Mix</td>\n",
       "      <td>Tan</td>\n",
       "      <td>2024-10-10 12:10:00</td>\n",
       "      <td>Austin (TX)</td>\n",
       "      <td>Public Assist</td>\n",
       "      <td>Normal</td>\n",
       "      <td>Dog</td>\n",
       "      <td>Intact Male</td>\n",
       "      <td>1 year</td>\n",
       "      <td>German Shepherd Mix</td>\n",
       "      <td>Tan</td>\n",
       "    </tr>\n",
       "  </tbody>\n",
       "</table>\n",
       "</div>"
      ],
      "text/plain": [
       "  animal_id        outcome_time date_of_birth     outcome_type  \\\n",
       "0   A915546 2024-10-17 13:50:00    2024-09-28         Transfer   \n",
       "1   A912799 2024-10-17 13:07:00    2024-07-21         Adoption   \n",
       "2   A912797 2024-10-17 13:07:00    2024-07-27              NaN   \n",
       "3   A912055 2024-10-17 12:25:00    2023-10-25         Adoption   \n",
       "4   A915002 2024-10-17 12:21:00    2023-10-10  Return to Owner   \n",
       "\n",
       "  outcome_animal_type outcome_gender outcome_age        outcome_breed  \\\n",
       "0                 Cat    Intact Male         NaN   Domestic Shorthair   \n",
       "1                 Cat  Spayed Female    2 months   Domestic Shorthair   \n",
       "2                 Cat  Neutered Male    2 months   Domestic Shorthair   \n",
       "3                 Cat  Neutered Male   11 months   Domestic Shorthair   \n",
       "4                 Dog    Intact Male      1 year  German Shepherd Mix   \n",
       "\n",
       "       outcome_color         intake_time  \\\n",
       "0        Black Smoke 2024-10-17 07:52:00   \n",
       "1        Brown Tabby 2024-09-05 14:57:00   \n",
       "2              Black 2024-09-05 14:57:00   \n",
       "3  Brown Tabby/White 2024-08-25 08:20:00   \n",
       "4                Tan 2024-10-10 12:10:00   \n",
       "\n",
       "                              found_location    intake_type intake_condition  \\\n",
       "0  Pleasant Valley Rd/Teri Rd in Austin (TX)          Stray             Sick   \n",
       "1          7201 Levander Loop in Austin (TX)      Abandoned           Normal   \n",
       "2          7201 Levander Loop in Austin (TX)      Abandoned           Normal   \n",
       "3          1800 Fairlawn Lane in Austin (TX)          Stray          Injured   \n",
       "4                                Austin (TX)  Public Assist           Normal   \n",
       "\n",
       "  animal_type  intake_gender intake_age         intake_breed  \\\n",
       "0         Cat    Intact Male    2 weeks   Domestic Shorthair   \n",
       "1         Cat  Intact Female    1 month   Domestic Shorthair   \n",
       "2         Cat    Intact Male    1 month   Domestic Shorthair   \n",
       "3         Cat    Intact Male  10 months   Domestic Shorthair   \n",
       "4         Dog    Intact Male     1 year  German Shepherd Mix   \n",
       "\n",
       "        intake_color  \n",
       "0        Black Smoke  \n",
       "1        Brown Tabby  \n",
       "2              Black  \n",
       "3  Brown Tabby/White  \n",
       "4                Tan  "
      ]
     },
     "execution_count": 17,
     "metadata": {},
     "output_type": "execute_result"
    }
   ],
   "source": [
    "# meging intakes and outcomes\n",
    "intakes_outcomes = pd.merge(left=outcomes, right=intakes, how='inner', on='animal_id')\n",
    "intakes_outcomes.head()"
   ]
  },
  {
   "cell_type": "markdown",
   "id": "7b90cb40-7309-4741-a873-54bb191b27a2",
   "metadata": {},
   "source": [
    "*There were couple columns that were the same category, going to investigate these. Also converting age columns to age in months. First making a new column for how long an animal stays in the shelter.*"
   ]
  },
  {
   "cell_type": "code",
   "execution_count": 18,
   "id": "4ea1b207-c215-40cc-8c96-ce0b47bcd6ab",
   "metadata": {},
   "outputs": [
    {
     "data": {
      "text/plain": [
       "stay_duration\n",
       "-1      617\n",
       "-7        5\n",
       "-4        5\n",
       "-18       3\n",
       "-23       3\n",
       "       ... \n",
       "-227      1\n",
       "-245      1\n",
       "-80       1\n",
       "-76       1\n",
       "-42       1\n",
       "Name: count, Length: 94, dtype: int64"
      ]
     },
     "execution_count": 18,
     "metadata": {},
     "output_type": "execute_result"
    }
   ],
   "source": [
    "intakes_outcomes['stay_duration'] = intakes_outcomes['outcome_time'] - intakes_outcomes['intake_time']\n",
    "\n",
    "# convert stay_duration to number of days\n",
    "intakes_outcomes['stay_duration'] = intakes_outcomes['stay_duration'].dt.days.astype(int)\n",
    "\n",
    "# check for negative stay_duration\n",
    "intakes_outcomes[intakes_outcomes['stay_duration'] < 0]['stay_duration'].value_counts()"
   ]
  },
  {
   "cell_type": "code",
   "execution_count": 19,
   "id": "dc6dfa14-5a56-4e59-a22d-cfff09b7b570",
   "metadata": {},
   "outputs": [
    {
     "data": {
      "text/plain": [
       "outcome_type\n",
       "Transfer           401\n",
       "Euthanasia          97\n",
       "Return to Owner     55\n",
       "Died                34\n",
       "Disposal            14\n",
       "Adoption            11\n",
       "Relocate             2\n",
       "Missing              1\n",
       "Name: count, dtype: int64"
      ]
     },
     "execution_count": 19,
     "metadata": {},
     "output_type": "execute_result"
    }
   ],
   "source": [
    "intakes_outcomes[intakes_outcomes['stay_duration'] == -1]['outcome_type'].value_counts()"
   ]
  },
  {
   "cell_type": "markdown",
   "id": "70aa7e54-8346-4ddd-8b91-8fae141d5eb2",
   "metadata": {},
   "source": [
    "*There are a lot of observations where the stay is -1 days. We are making the assumption this is because of reporting errors between AM and PM and are going to assume they are all zero. There are only 93 other negative stay durations, instead of making assumptions with those we will drop these observations.*"
   ]
  },
  {
   "cell_type": "code",
   "execution_count": 20,
   "id": "2b3eda4f-5f8c-4aac-826f-3c97f10e0e3f",
   "metadata": {},
   "outputs": [
    {
     "name": "stdout",
     "output_type": "stream",
     "text": [
      "(150098, 19)\n",
      "(149984, 19)\n"
     ]
    }
   ],
   "source": [
    "# change -1 day stay durations to 0\n",
    "intakes_outcomes['stay_duration'] = intakes_outcomes['stay_duration'].map(lambda x: 0 if x == -1 else x)\n",
    "\n",
    "# drop observations with a negative stay duration\n",
    "print(intakes_outcomes.shape)\n",
    "intakes_outcomes = intakes_outcomes[intakes_outcomes['stay_duration'] >= 0]\n",
    "print(intakes_outcomes.shape)"
   ]
  },
  {
   "cell_type": "code",
   "execution_count": 21,
   "id": "a5072666-7f51-4080-be83-e98690dd10cb",
   "metadata": {},
   "outputs": [
    {
     "name": "stdout",
     "output_type": "stream",
     "text": [
      "Number of animal type changes: 0\n",
      "Number of neuters/spays: 60506\n",
      "Number of breed changes: 0\n",
      "Number of color changes: 0\n"
     ]
    }
   ],
   "source": [
    "# compare intake/outcome animal_type, gender, breed, and color\n",
    "print(f'Number of animal type changes: {intakes_outcomes[intakes_outcomes['animal_type'] != intakes_outcomes['outcome_animal_type']].shape[0]}')\n",
    "print(f'Number of neuters/spays: {intakes_outcomes[intakes_outcomes['intake_gender'] != intakes_outcomes['outcome_gender']].shape[0]}')\n",
    "print(f'Number of breed changes: {intakes_outcomes[intakes_outcomes['intake_breed'] != intakes_outcomes['outcome_breed']].shape[0]}')\n",
    "print(f'Number of color changes: {intakes_outcomes[intakes_outcomes['intake_color'] != intakes_outcomes['outcome_color']].shape[0]}')"
   ]
  },
  {
   "cell_type": "markdown",
   "id": "159faa5c-ddca-4a7f-b18b-3c843b2d82ca",
   "metadata": {},
   "source": [
    "*No changes in animal type, breed, or color from intake to outcome, dropping the duplicate column. Also making column showing if an animal is neutered or spayed while in the shelter.*"
   ]
  },
  {
   "cell_type": "code",
   "execution_count": 22,
   "id": "7a626cc8-63e7-42e3-94c5-48048bf040b8",
   "metadata": {},
   "outputs": [
    {
     "data": {
      "text/plain": [
       "0"
      ]
     },
     "execution_count": 27,
     "metadata": {},
     "output_type": "execute_result"
    }
   ],
   "source": [
    "df.duplicated('animal_stay').sum()"
   ]
  },
  {
   "cell_type": "code",
   "execution_count": null,
   "id": "ab1e6bb3-693b-4efc-9535-f2c922948604",
   "metadata": {},
   "outputs": [],
   "source": [
    "# dropping duplicate columns\n",
    "intakes_outcomes.drop(columns=['outcome_animal_type', 'outcome_breed', 'outcome_color'], inplace=True)\n",
    "\n",
    "# renaming columns without intake specifier\n",
    "intakes_outcomes.rename(columns={'intake_breed': 'breed', 'intake_color': 'color'}, inplace=True)"
   ]
  },
  {
   "cell_type": "code",
   "execution_count": 23,
   "id": "23e3a10f-9827-4551-a6b5-0dda3bb14fb7",
   "metadata": {},
   "outputs": [],
   "source": [
    "intakes_outcomes['spay_neuter'] = (intakes_outcomes['intake_gender'] != intakes_outcomes['outcome_gender']).astype(int)"
   ]
  },
  {
   "cell_type": "code",
   "execution_count": 24,
   "id": "7cae27d4-713b-45bf-ae8a-bc1ff9b4ce1c",
   "metadata": {},
   "outputs": [
    {
     "data": {
      "text/plain": [
       "animal_id            0\n",
       "outcome_time         0\n",
       "date_of_birth        0\n",
       "outcome_type        38\n",
       "outcome_gender       2\n",
       "outcome_age         16\n",
       "intake_time          0\n",
       "found_location       0\n",
       "intake_type          0\n",
       "intake_condition     0\n",
       "animal_type          0\n",
       "intake_gender        2\n",
       "intake_age           1\n",
       "breed                0\n",
       "color                0\n",
       "stay_duration        0\n",
       "spay_neuter          0\n",
       "dtype: int64"
      ]
     },
     "execution_count": 24,
     "metadata": {},
     "output_type": "execute_result"
    }
   ],
   "source": [
    "# checking remaining null values\n",
    "intakes_outcomes.isnull().sum()"
   ]
  },
  {
   "cell_type": "markdown",
   "id": "6c81845a-9093-4c40-8fcd-d015b86fecf5",
   "metadata": {},
   "source": [
    "*At most there are 60 observations with null values, dropping these rows.*"
   ]
  },
  {
   "cell_type": "code",
   "execution_count": 25,
   "id": "a657334a-3364-4716-ad0e-f2cf473b32e5",
   "metadata": {},
   "outputs": [
    {
     "name": "stdout",
     "output_type": "stream",
     "text": [
      "(149984, 17)\n",
      "(149930, 17)\n"
     ]
    }
   ],
   "source": [
    "print(intakes_outcomes.shape)\n",
    "intakes_outcomes.dropna(inplace=True)\n",
    "print(intakes_outcomes.shape)"
   ]
  },
  {
   "cell_type": "code",
   "execution_count": 26,
   "id": "651244b2-9dca-4c2d-8e52-76025d6a8d09",
   "metadata": {},
   "outputs": [],
   "source": [
    "# function for converting age columns to age in months\n",
    "def convert_age(age): \n",
    "    '''\n",
    "    Convert an age in string to age in months.\n",
    "   \n",
    "    Argument:\n",
    "    age(str): The animal age in str format, eg. '7 years'.\n",
    "   \n",
    "    Return:\n",
    "    float: The age converted to months. Return 0 if the unit is not list int the fucntion.\n",
    "    '''\n",
    "    value, unit = age.split()\n",
    "    value = abs(int(value)) # assume the nagetive age is typo \n",
    "    \n",
    "    if 'year' in unit:\n",
    "        return value * 12\n",
    "    elif 'month' in unit:\n",
    "        return value\n",
    "    elif 'week' in unit:\n",
    "        return round(float(value * 0.23), 2)\n",
    "    elif 'day' in unit:\n",
    "        return round(float(value * 0.033), 2)\n",
    "    else:\n",
    "        return 0"
   ]
  },
  {
   "cell_type": "code",
   "execution_count": 27,
   "id": "9bfcfb36-b914-40d1-b8bc-cf6e72207fef",
   "metadata": {},
   "outputs": [],
   "source": [
    "intakes_outcomes['intake_age'] = intakes_outcomes['intake_age'].map(convert_age)\n",
    "intakes_outcomes['outcome_age'] = intakes_outcomes['outcome_age'].map(convert_age)"
   ]
  },
  {
   "cell_type": "code",
   "execution_count": 28,
   "id": "4b8a7723-b343-4b1a-bb72-cc7a90060831",
   "metadata": {},
   "outputs": [
    {
     "data": {
      "text/plain": [
       "animal_type\n",
       "Dog          0.515080\n",
       "Cat          0.421590\n",
       "Other        0.057534\n",
       "Bird         0.005603\n",
       "Livestock    0.000193\n",
       "Name: proportion, dtype: float64"
      ]
     },
     "execution_count": 28,
     "metadata": {},
     "output_type": "execute_result"
    }
   ],
   "source": [
    "# checking animal types\n",
    "intakes_outcomes['animal_type'].value_counts(normalize=True)"
   ]
  },
  {
   "cell_type": "code",
   "execution_count": 29,
   "id": "3ee66f9b-5096-4ae5-931d-5d3174c907ea",
   "metadata": {},
   "outputs": [
    {
     "data": {
      "text/plain": [
       "array(['Guinea Pig', 'Bat', 'Raccoon', 'Squirrel', 'Bat/Mex Free-Tail',\n",
       "       'Opossum', 'Fox', 'Lizard/Gecko', 'Tortoise', 'Rabbit Sh', 'Deer',\n",
       "       'Skunk', 'Rat', 'Jersey Wooly', 'Ringtail', 'Snake', 'Lop-French',\n",
       "       'Ferret', 'Cottontail', 'Angora-English Mix',\n",
       "       'Turtle/Redeared Slider', 'Lizard', 'Florida White',\n",
       "       'Rabbit Sh Mix', 'Chinchilla', 'Coyote', 'Hamster',\n",
       "       'Lizard/Bearded Dragon', 'Hedgehog', 'Flemish Giant',\n",
       "       'Californian', 'Lop-Holland', 'Rex Mix', 'Lop-Holland Mix',\n",
       "       'Californian Mix', 'Lionhead', 'Lop-Mini', 'Himalayan', 'Turtle',\n",
       "       'Lionhead Mix', 'Dutch Mix', 'Rabbit Sh/Dwarf Hotot', 'Gerbil',\n",
       "       'Rabbit Lh', 'Lop-English Mix', 'Angora-English', 'Snake/Python',\n",
       "       'New Zealand Wht/Lop-Holland', 'Lop-Amer Fuzzy', 'Rex',\n",
       "       'English Spot Mix', 'Hotot', 'New Zealand Wht', 'Harlequin Mix',\n",
       "       'Armadillo', 'Rex-Mini', 'Dutch', 'English Spot', 'Cold Water',\n",
       "       'Chinchilla-Stnd', 'Lop-Mini/Hotot', 'Mouse', 'Dwarf Hotot',\n",
       "       'Netherlnd Dwarf', 'Lop-English', 'New Zealand Wht Mix',\n",
       "       'Lop-Mini Mix', 'Flemish Giant Mix', 'Angora-French Mix',\n",
       "       'Angora-Satin', 'Otter', 'Bat Mix', 'Havana', 'Sugar Glider',\n",
       "       'Polish', 'Chinchilla-Amer', 'American', 'Raccoon Mix', 'Rat Mix',\n",
       "       'Skunk Mix', 'Rex/Lop-English', 'American Sable', 'American Mix',\n",
       "       'Squirrel Mix', 'Fox Mix', 'Tortoise Mix', 'Ferret Mix',\n",
       "       'Guinea Pig Mix', 'Opossum Mix', 'Rabbit Lh Mix', 'Havana Mix',\n",
       "       'Netherlnd Dwarf Mix', 'Mouse Mix', 'Hamster Mix',\n",
       "       'Angora-Satin Mix', 'Rex-Mini Mix', 'Beveren Mix', 'Coyote Mix',\n",
       "       'Snake Mix', 'Lop-Mini/Lop-Holland', 'Chinchilla Mix',\n",
       "       'Hermit Crab Mix', 'Lop-Amer Fuzzy Mix', 'Armadillo Mix',\n",
       "       'Belgian Hare Mix', 'Rhinelander Mix', 'Lizard Mix',\n",
       "       'Himalayan Mix', 'Turtle Mix', 'Prairie Dog Mix', 'Cold Water Mix',\n",
       "       'Ringtail Mix', 'Cinnamon Mix', 'Britannia Petit Mix',\n",
       "       'Checkered Giant Mix', 'Belgian Hare', 'Cinnamon', 'Deer Mix',\n",
       "       'Gerbil Mix', 'Dutch/Angora-Satin', 'Tropical Mix',\n",
       "       'Rex-Mini/Lop-English', 'Polish Mix', 'Otter Mix', 'Hotot Mix',\n",
       "       'Chinchilla-Stnd Mix', 'Cottontail Mix', 'Chinchilla-Amer Mix',\n",
       "       'Bobcat Mix', 'Snake/Snake', 'Tarantula', 'Frog',\n",
       "       'American Sable Mix', 'Dutch/Rabbit Sh', 'Silver Mix',\n",
       "       'Jersey Wooly Mix', 'Rabbit Sh/Lop-Mini'], dtype=object)"
      ]
     },
     "execution_count": 29,
     "metadata": {},
     "output_type": "execute_result"
    }
   ],
   "source": [
    "# see breeds under Other animal type\n",
    "intakes_outcomes[intakes_outcomes['animal_type'] == 'Other']['breed'].unique()"
   ]
  },
  {
   "cell_type": "markdown",
   "id": "540b40d2-de98-47f7-b96f-734e62efd867",
   "metadata": {},
   "source": [
    "*There are very fiew observations labeled as Bird or Livestock. Animals labeled as Other contains some household pets but also a lot of wildlife that doesn't pertain to our problem statement. Dropping everything that isn't a cat or dog.*"
   ]
  },
  {
   "cell_type": "code",
   "execution_count": 30,
   "id": "ad4adc0c-07ea-4f07-8dfc-25af834cfa06",
   "metadata": {},
   "outputs": [
    {
     "name": "stdout",
     "output_type": "stream",
     "text": [
      "(149930, 17)\n"
     ]
    },
    {
     "data": {
      "text/plain": [
       "(140435, 17)"
      ]
     },
     "execution_count": 30,
     "metadata": {},
     "output_type": "execute_result"
    }
   ],
   "source": [
    "# dropping obsevations that aren't cats or dogs\n",
    "print(intakes_outcomes.shape)\n",
    "intakes_outcomes = intakes_outcomes[intakes_outcomes['animal_type'] != 'Other']\n",
    "intakes_outcomes = intakes_outcomes[intakes_outcomes['animal_type'] != 'Bird']\n",
    "intakes_outcomes = intakes_outcomes[intakes_outcomes['animal_type'] != 'Livestock']\n",
    "intakes_outcomes.shape"
   ]
  },
  {
   "cell_type": "code",
   "execution_count": 31,
   "id": "32fe5f9b-bf0a-4150-8b5a-6d81cfb0f3f9",
   "metadata": {},
   "outputs": [
    {
     "data": {
      "text/html": [
       "<div>\n",
       "<style scoped>\n",
       "    .dataframe tbody tr th:only-of-type {\n",
       "        vertical-align: middle;\n",
       "    }\n",
       "\n",
       "    .dataframe tbody tr th {\n",
       "        vertical-align: top;\n",
       "    }\n",
       "\n",
       "    .dataframe thead th {\n",
       "        text-align: right;\n",
       "    }\n",
       "</style>\n",
       "<table border=\"1\" class=\"dataframe\">\n",
       "  <thead>\n",
       "    <tr style=\"text-align: right;\">\n",
       "      <th></th>\n",
       "      <th>animal_id</th>\n",
       "      <th>outcome_time</th>\n",
       "      <th>date_of_birth</th>\n",
       "      <th>outcome_type</th>\n",
       "      <th>outcome_gender</th>\n",
       "      <th>outcome_age</th>\n",
       "      <th>intake_time</th>\n",
       "      <th>found_location</th>\n",
       "      <th>intake_type</th>\n",
       "      <th>intake_condition</th>\n",
       "      <th>animal_type</th>\n",
       "      <th>intake_gender</th>\n",
       "      <th>intake_age</th>\n",
       "      <th>breed</th>\n",
       "      <th>color</th>\n",
       "      <th>stay_duration</th>\n",
       "      <th>spay_neuter</th>\n",
       "    </tr>\n",
       "  </thead>\n",
       "  <tbody>\n",
       "    <tr>\n",
       "      <th>1</th>\n",
       "      <td>A912799</td>\n",
       "      <td>2024-10-17 13:07:00</td>\n",
       "      <td>2024-07-21</td>\n",
       "      <td>Adoption</td>\n",
       "      <td>Spayed Female</td>\n",
       "      <td>2.0</td>\n",
       "      <td>2024-09-05 14:57:00</td>\n",
       "      <td>7201 Levander Loop in Austin (TX)</td>\n",
       "      <td>Abandoned</td>\n",
       "      <td>Normal</td>\n",
       "      <td>Cat</td>\n",
       "      <td>Intact Female</td>\n",
       "      <td>1.0</td>\n",
       "      <td>Domestic Shorthair</td>\n",
       "      <td>Brown Tabby</td>\n",
       "      <td>41</td>\n",
       "      <td>1</td>\n",
       "    </tr>\n",
       "    <tr>\n",
       "      <th>3</th>\n",
       "      <td>A912055</td>\n",
       "      <td>2024-10-17 12:25:00</td>\n",
       "      <td>2023-10-25</td>\n",
       "      <td>Adoption</td>\n",
       "      <td>Neutered Male</td>\n",
       "      <td>11.0</td>\n",
       "      <td>2024-08-25 08:20:00</td>\n",
       "      <td>1800 Fairlawn Lane in Austin (TX)</td>\n",
       "      <td>Stray</td>\n",
       "      <td>Injured</td>\n",
       "      <td>Cat</td>\n",
       "      <td>Intact Male</td>\n",
       "      <td>10.0</td>\n",
       "      <td>Domestic Shorthair</td>\n",
       "      <td>Brown Tabby/White</td>\n",
       "      <td>53</td>\n",
       "      <td>1</td>\n",
       "    </tr>\n",
       "    <tr>\n",
       "      <th>4</th>\n",
       "      <td>A915002</td>\n",
       "      <td>2024-10-17 12:21:00</td>\n",
       "      <td>2023-10-10</td>\n",
       "      <td>Return to Owner</td>\n",
       "      <td>Intact Male</td>\n",
       "      <td>12.0</td>\n",
       "      <td>2024-10-10 12:10:00</td>\n",
       "      <td>Austin (TX)</td>\n",
       "      <td>Public Assist</td>\n",
       "      <td>Normal</td>\n",
       "      <td>Dog</td>\n",
       "      <td>Intact Male</td>\n",
       "      <td>12.0</td>\n",
       "      <td>German Shepherd Mix</td>\n",
       "      <td>Tan</td>\n",
       "      <td>7</td>\n",
       "      <td>0</td>\n",
       "    </tr>\n",
       "    <tr>\n",
       "      <th>5</th>\n",
       "      <td>A832172</td>\n",
       "      <td>2024-10-17 12:20:00</td>\n",
       "      <td>2021-01-24</td>\n",
       "      <td>Return to Owner</td>\n",
       "      <td>Neutered Male</td>\n",
       "      <td>36.0</td>\n",
       "      <td>2024-10-10 12:10:00</td>\n",
       "      <td>Austin (TX)</td>\n",
       "      <td>Public Assist</td>\n",
       "      <td>Normal</td>\n",
       "      <td>Dog</td>\n",
       "      <td>Neutered Male</td>\n",
       "      <td>36.0</td>\n",
       "      <td>Pit Bull Mix</td>\n",
       "      <td>Brown/White</td>\n",
       "      <td>7</td>\n",
       "      <td>0</td>\n",
       "    </tr>\n",
       "    <tr>\n",
       "      <th>6</th>\n",
       "      <td>A912548</td>\n",
       "      <td>2024-10-17 11:45:00</td>\n",
       "      <td>2021-09-02</td>\n",
       "      <td>Adoption</td>\n",
       "      <td>Neutered Male</td>\n",
       "      <td>36.0</td>\n",
       "      <td>2024-09-02 22:31:00</td>\n",
       "      <td>6900 Bryn Mawr in Austin (TX)</td>\n",
       "      <td>Stray</td>\n",
       "      <td>Normal</td>\n",
       "      <td>Dog</td>\n",
       "      <td>Intact Male</td>\n",
       "      <td>36.0</td>\n",
       "      <td>Siberian Husky Mix</td>\n",
       "      <td>Black/White</td>\n",
       "      <td>44</td>\n",
       "      <td>1</td>\n",
       "    </tr>\n",
       "  </tbody>\n",
       "</table>\n",
       "</div>"
      ],
      "text/plain": [
       "  animal_id        outcome_time date_of_birth     outcome_type outcome_gender  \\\n",
       "1   A912799 2024-10-17 13:07:00    2024-07-21         Adoption  Spayed Female   \n",
       "3   A912055 2024-10-17 12:25:00    2023-10-25         Adoption  Neutered Male   \n",
       "4   A915002 2024-10-17 12:21:00    2023-10-10  Return to Owner    Intact Male   \n",
       "5   A832172 2024-10-17 12:20:00    2021-01-24  Return to Owner  Neutered Male   \n",
       "6   A912548 2024-10-17 11:45:00    2021-09-02         Adoption  Neutered Male   \n",
       "\n",
       "   outcome_age         intake_time                     found_location  \\\n",
       "1          2.0 2024-09-05 14:57:00  7201 Levander Loop in Austin (TX)   \n",
       "3         11.0 2024-08-25 08:20:00  1800 Fairlawn Lane in Austin (TX)   \n",
       "4         12.0 2024-10-10 12:10:00                        Austin (TX)   \n",
       "5         36.0 2024-10-10 12:10:00                        Austin (TX)   \n",
       "6         36.0 2024-09-02 22:31:00      6900 Bryn Mawr in Austin (TX)   \n",
       "\n",
       "     intake_type intake_condition animal_type  intake_gender  intake_age  \\\n",
       "1      Abandoned           Normal         Cat  Intact Female         1.0   \n",
       "3          Stray          Injured         Cat    Intact Male        10.0   \n",
       "4  Public Assist           Normal         Dog    Intact Male        12.0   \n",
       "5  Public Assist           Normal         Dog  Neutered Male        36.0   \n",
       "6          Stray           Normal         Dog    Intact Male        36.0   \n",
       "\n",
       "                 breed              color  stay_duration  spay_neuter  \n",
       "1   Domestic Shorthair        Brown Tabby             41            1  \n",
       "3   Domestic Shorthair  Brown Tabby/White             53            1  \n",
       "4  German Shepherd Mix                Tan              7            0  \n",
       "5         Pit Bull Mix        Brown/White              7            0  \n",
       "6   Siberian Husky Mix        Black/White             44            1  "
      ]
     },
     "execution_count": 31,
     "metadata": {},
     "output_type": "execute_result"
    }
   ],
   "source": [
    "intakes_outcomes.head()"
   ]
  },
  {
   "cell_type": "code",
   "execution_count": 32,
   "id": "06046de2-cb96-40e1-8f8e-451aa7bb162d",
   "metadata": {},
   "outputs": [],
   "source": [
    "# saving combined data to use in other notebooks\n",
    "intakes_outcomes.to_csv('../data/austin-combined-shelter-data.csv', index=False)"
   ]
  },
  {
   "cell_type": "markdown",
   "id": "7c82623b-00f1-4af5-8563-2e58b6f55de1",
   "metadata": {},
   "source": [
    "---\n",
    "## Data Dictionary\n",
    "\n",
    "All intake data is from [Austin Animal Center Intakes](https://data.austintexas.gov/Health-and-Community-Services/Austin-Animal-Center-Intakes/wter-evkm/about_data) and outcome data is from [Austin Animal Center Outcomes](https://data.austintexas.gov/Health-and-Community-Services/Austin-Animal-Center-Outcomes/9t4d-g238/about_data).\n",
    "\n",
    "|feature|type|description|\n",
    "|---|---|---|\n",
    "|**animal_id**|*str*|Unique animal ID|\n",
    "|**outcome_time**|*datetime*|Day and time of animal outcome|\n",
    "|**date_of_birth**|*datetime*|Animal's date of birth|\n",
    "|**outcome_type**|*str*|Outcome of animal|\n",
    "|**outcome_gender**|*str*|Neuter/spay status at outcome|\n",
    "|**outcome_age**|*float*|Animal age at outcome|\n",
    "|**intake_time**|*datetime*|Day and time animal is taken in by shelter|\n",
    "|**found_location**|*str*|Where animal is found|\n",
    "|**intake_type**|*str*|How animal is taken in|\n",
    "|**intake_condition**|*str*|Animal's health condition upon intake|\n",
    "|**animal_type**|*str*|Type of animal|\n",
    "|**intake_gender**|*str*|Neuter/spay status upon intake|\n",
    "|**intake_age**|*float*|Animal age in months upon intake|\n",
    "|**breed**|*str*|Animal breed|\n",
    "|**color**|*str*|Animal color|\n",
    "|**stay_duration**|*str*|How many days animal is in shelter before outcome|\n",
    "|**spay_neuter**|*int*|1 if an animal is spayed or neutered while in the shelter|"
   ]
  },
  {
   "cell_type": "markdown",
   "id": "889013eb-6a62-4b1a-810e-231922c452ef",
   "metadata": {},
   "source": [
    "---\n",
    "## Dallas Shelters"
   ]
  },
  {
   "cell_type": "code",
   "execution_count": 33,
   "id": "2215da8c-16e7-4f96-9247-43576a45fd5e",
   "metadata": {},
   "outputs": [
    {
     "name": "stderr",
     "output_type": "stream",
     "text": [
      "C:\\Users\\_Cramer_\\AppData\\Local\\Temp\\ipykernel_37352\\3009554682.py:2: DtypeWarning: Columns (5,6) have mixed types. Specify dtype option on import or set low_memory=False.\n",
      "  dallas_2014 = pd.read_csv('../data/Dallas_Animal_Shelter_Data_Fiscal_Year_2014_-_2015_20241028.csv')\n"
     ]
    }
   ],
   "source": [
    "# reading in data for 2014-2015\n",
    "dallas_2014 = pd.read_csv('../data/Dallas_Animal_Shelter_Data_Fiscal_Year_2014_-_2015_20241028.csv')"
   ]
  },
  {
   "cell_type": "code",
   "execution_count": 34,
   "id": "92e74c15-fcce-493d-baa2-cb3bd22a895c",
   "metadata": {},
   "outputs": [
    {
     "data": {
      "text/html": [
       "<div>\n",
       "<style scoped>\n",
       "    .dataframe tbody tr th:only-of-type {\n",
       "        vertical-align: middle;\n",
       "    }\n",
       "\n",
       "    .dataframe tbody tr th {\n",
       "        vertical-align: top;\n",
       "    }\n",
       "\n",
       "    .dataframe thead th {\n",
       "        text-align: right;\n",
       "    }\n",
       "</style>\n",
       "<table border=\"1\" class=\"dataframe\">\n",
       "  <thead>\n",
       "    <tr style=\"text-align: right;\">\n",
       "      <th></th>\n",
       "      <th>Animal Id</th>\n",
       "      <th>Animal Type</th>\n",
       "      <th>Animal Breed</th>\n",
       "      <th>Kennel Number</th>\n",
       "      <th>Kennel Status</th>\n",
       "      <th>Tag Type</th>\n",
       "      <th>Activity Number</th>\n",
       "      <th>Activity Sequence</th>\n",
       "      <th>Source Id</th>\n",
       "      <th>Census Tract</th>\n",
       "      <th>Council District</th>\n",
       "      <th>Intake Type</th>\n",
       "      <th>Intake Subtype</th>\n",
       "      <th>Intake Total</th>\n",
       "      <th>Reason</th>\n",
       "      <th>Staff Id</th>\n",
       "      <th>Intake Date</th>\n",
       "      <th>Intake Time</th>\n",
       "      <th>Due Out</th>\n",
       "      <th>Intake Condition</th>\n",
       "      <th>Hold Request</th>\n",
       "      <th>Outcome Type</th>\n",
       "      <th>Outcome Date</th>\n",
       "      <th>Outcome Time</th>\n",
       "      <th>Receipt Number</th>\n",
       "      <th>Impound Number</th>\n",
       "      <th>Service Request Number</th>\n",
       "      <th>Outcome Condition</th>\n",
       "      <th>Chip Status</th>\n",
       "      <th>Animal Origin</th>\n",
       "      <th>Additional Information</th>\n",
       "      <th>Month</th>\n",
       "      <th>Year</th>\n",
       "    </tr>\n",
       "  </thead>\n",
       "  <tbody>\n",
       "    <tr>\n",
       "      <th>0</th>\n",
       "      <td>A0000575</td>\n",
       "      <td>CAT</td>\n",
       "      <td>DOMESTIC SH</td>\n",
       "      <td>AC 035</td>\n",
       "      <td>UNAVAILABLE</td>\n",
       "      <td>NaN</td>\n",
       "      <td>NaN</td>\n",
       "      <td>1</td>\n",
       "      <td>P0671044</td>\n",
       "      <td>W</td>\n",
       "      <td>W</td>\n",
       "      <td>STRAY</td>\n",
       "      <td>CONFINED</td>\n",
       "      <td>1</td>\n",
       "      <td>NaN</td>\n",
       "      <td>SN</td>\n",
       "      <td>10/02/2014 12:00:00 AM</td>\n",
       "      <td>12/31/1899 11:56:00 AM</td>\n",
       "      <td>10/06/2014 12:00:00 AM</td>\n",
       "      <td>TREATABLE REHABILITABLE NON-CONTAGIOUS</td>\n",
       "      <td>ADOPTION</td>\n",
       "      <td>ADOPTION</td>\n",
       "      <td>10/12/2014 12:00:00 AM</td>\n",
       "      <td>12/31/1899 03:25:00 PM</td>\n",
       "      <td>R14-372380</td>\n",
       "      <td>K14-297573</td>\n",
       "      <td>NaN</td>\n",
       "      <td>TREATABLE REHABILITABLE NON-CONTAGIOUS</td>\n",
       "      <td>SCAN NO CHIP</td>\n",
       "      <td>OVER THE COUNTER</td>\n",
       "      <td>ADOPTED</td>\n",
       "      <td>OCT.2014</td>\n",
       "      <td>FY2015</td>\n",
       "    </tr>\n",
       "    <tr>\n",
       "      <th>1</th>\n",
       "      <td>A0008962</td>\n",
       "      <td>DOG</td>\n",
       "      <td>LABRADOR RETR</td>\n",
       "      <td>LFD 088</td>\n",
       "      <td>LAB</td>\n",
       "      <td>NaN</td>\n",
       "      <td>NaN</td>\n",
       "      <td>1</td>\n",
       "      <td>P0053980</td>\n",
       "      <td>75218</td>\n",
       "      <td>18</td>\n",
       "      <td>CONFISCATED</td>\n",
       "      <td>KEEP SAFE</td>\n",
       "      <td>1</td>\n",
       "      <td>NaN</td>\n",
       "      <td>MB</td>\n",
       "      <td>09/24/2015 12:00:00 AM</td>\n",
       "      <td>12/31/1899 03:50:00 PM</td>\n",
       "      <td>10/03/2015 12:00:00 AM</td>\n",
       "      <td>TREATABLE REHABILITABLE NON-CONTAGIOUS</td>\n",
       "      <td>NaN</td>\n",
       "      <td>EUTHANIZED</td>\n",
       "      <td>10/04/2015 12:00:00 AM</td>\n",
       "      <td>12/31/1899 12:22:00 PM</td>\n",
       "      <td>NaN</td>\n",
       "      <td>K15-328347</td>\n",
       "      <td>442631</td>\n",
       "      <td>TREATABLE MANAGEABLE NON-CONTAGIOUS</td>\n",
       "      <td>SCAN NO CHIP</td>\n",
       "      <td>FIELD</td>\n",
       "      <td>NaN</td>\n",
       "      <td>SEP.2015</td>\n",
       "      <td>FY2015</td>\n",
       "    </tr>\n",
       "    <tr>\n",
       "      <th>2</th>\n",
       "      <td>A0121376</td>\n",
       "      <td>DOG</td>\n",
       "      <td>GERM SHEPHERD</td>\n",
       "      <td>LFD 042</td>\n",
       "      <td>LAB</td>\n",
       "      <td>NaN</td>\n",
       "      <td>NaN</td>\n",
       "      <td>1</td>\n",
       "      <td>P0661191</td>\n",
       "      <td>39A</td>\n",
       "      <td>9A</td>\n",
       "      <td>STRAY</td>\n",
       "      <td>CONFINED</td>\n",
       "      <td>1</td>\n",
       "      <td>NaN</td>\n",
       "      <td>MB</td>\n",
       "      <td>05/01/2015 12:00:00 AM</td>\n",
       "      <td>12/31/1899 12:09:00 PM</td>\n",
       "      <td>05/02/2015 12:00:00 AM</td>\n",
       "      <td>TREATABLE MANAGEABLE NON-CONTAGIOUS</td>\n",
       "      <td>NaN</td>\n",
       "      <td>EUTHANIZED</td>\n",
       "      <td>05/03/2015 12:00:00 AM</td>\n",
       "      <td>12/31/1899 11:53:00 AM</td>\n",
       "      <td>NaN</td>\n",
       "      <td>K15-314218</td>\n",
       "      <td>NaN</td>\n",
       "      <td>TREATABLE MANAGEABLE NON-CONTAGIOUS</td>\n",
       "      <td>SCAN CHIP</td>\n",
       "      <td>FIELD</td>\n",
       "      <td>NaN</td>\n",
       "      <td>MAY.2015</td>\n",
       "      <td>FY2015</td>\n",
       "    </tr>\n",
       "    <tr>\n",
       "      <th>3</th>\n",
       "      <td>A0129114</td>\n",
       "      <td>CAT</td>\n",
       "      <td>DOMESTIC SH</td>\n",
       "      <td>PSCAT 11</td>\n",
       "      <td>UNAVAILABLE</td>\n",
       "      <td>NaN</td>\n",
       "      <td>NaN</td>\n",
       "      <td>1</td>\n",
       "      <td>P0055049</td>\n",
       "      <td>75243</td>\n",
       "      <td>43</td>\n",
       "      <td>OWNER SURRENDER</td>\n",
       "      <td>GENERAL</td>\n",
       "      <td>1</td>\n",
       "      <td>ALLERGIC</td>\n",
       "      <td>CBM/JS</td>\n",
       "      <td>09/19/2015 12:00:00 AM</td>\n",
       "      <td>12/31/1899 04:46:00 PM</td>\n",
       "      <td>09/22/2015 12:00:00 AM</td>\n",
       "      <td>TREATABLE REHABILITABLE NON-CONTAGIOUS</td>\n",
       "      <td>EVERYDAY ADOPTION CENTER</td>\n",
       "      <td>ADOPTION</td>\n",
       "      <td>10/26/2015 12:00:00 AM</td>\n",
       "      <td>12/31/1899 02:09:00 PM</td>\n",
       "      <td>R15-425259</td>\n",
       "      <td>K15-327996</td>\n",
       "      <td>NaN</td>\n",
       "      <td>TREATABLE REHABILITABLE NON-CONTAGIOUS</td>\n",
       "      <td>SCAN CHIP</td>\n",
       "      <td>OVER THE COUNTER</td>\n",
       "      <td>VOMIT 5X 9/20</td>\n",
       "      <td>SEP.2015</td>\n",
       "      <td>FY2015</td>\n",
       "    </tr>\n",
       "    <tr>\n",
       "      <th>4</th>\n",
       "      <td>A0157434</td>\n",
       "      <td>DOG</td>\n",
       "      <td>ROTTWEILER</td>\n",
       "      <td>FREEZER</td>\n",
       "      <td>UNAVAILABLE</td>\n",
       "      <td>NaN</td>\n",
       "      <td>NaN</td>\n",
       "      <td>1</td>\n",
       "      <td>P0093154</td>\n",
       "      <td>38G</td>\n",
       "      <td>8G</td>\n",
       "      <td>OWNER SURRENDER</td>\n",
       "      <td>- DEAD ON ARRIVAL</td>\n",
       "      <td>1</td>\n",
       "      <td>NaN</td>\n",
       "      <td>DD</td>\n",
       "      <td>12/03/2014 12:00:00 AM</td>\n",
       "      <td>12/31/1899 08:06:00 PM</td>\n",
       "      <td>12/03/2014 12:00:00 AM</td>\n",
       "      <td>UNHEALTHY UNTREATABLE NON-CONTAGIOUS</td>\n",
       "      <td>NaN</td>\n",
       "      <td>DEAD ON ARRIVAL</td>\n",
       "      <td>12/04/2014 12:00:00 AM</td>\n",
       "      <td>12/31/1899 12:00:00 PM</td>\n",
       "      <td>NaN</td>\n",
       "      <td>K14-302641</td>\n",
       "      <td>NaN</td>\n",
       "      <td>UNHEALTHY UNTREATABLE NON-CONTAGIOUS</td>\n",
       "      <td>SCAN NO CHIP</td>\n",
       "      <td>FIELD</td>\n",
       "      <td>NaN</td>\n",
       "      <td>DEC.2014</td>\n",
       "      <td>FY2015</td>\n",
       "    </tr>\n",
       "  </tbody>\n",
       "</table>\n",
       "</div>"
      ],
      "text/plain": [
       "  Animal Id Animal Type   Animal Breed Kennel Number Kennel Status Tag Type  \\\n",
       "0  A0000575         CAT    DOMESTIC SH        AC 035   UNAVAILABLE      NaN   \n",
       "1  A0008962         DOG  LABRADOR RETR       LFD 088           LAB      NaN   \n",
       "2  A0121376         DOG  GERM SHEPHERD       LFD 042           LAB      NaN   \n",
       "3  A0129114         CAT    DOMESTIC SH      PSCAT 11   UNAVAILABLE      NaN   \n",
       "4  A0157434         DOG     ROTTWEILER       FREEZER   UNAVAILABLE      NaN   \n",
       "\n",
       "  Activity Number  Activity Sequence Source Id Census Tract Council District  \\\n",
       "0             NaN                  1  P0671044            W                W   \n",
       "1             NaN                  1  P0053980        75218               18   \n",
       "2             NaN                  1  P0661191          39A               9A   \n",
       "3             NaN                  1  P0055049        75243               43   \n",
       "4             NaN                  1  P0093154          38G               8G   \n",
       "\n",
       "       Intake Type     Intake Subtype  Intake Total    Reason Staff Id  \\\n",
       "0            STRAY           CONFINED             1       NaN       SN   \n",
       "1      CONFISCATED          KEEP SAFE             1       NaN       MB   \n",
       "2            STRAY           CONFINED             1       NaN       MB   \n",
       "3  OWNER SURRENDER            GENERAL             1  ALLERGIC   CBM/JS   \n",
       "4  OWNER SURRENDER  - DEAD ON ARRIVAL             1       NaN       DD   \n",
       "\n",
       "              Intake Date             Intake Time                 Due Out  \\\n",
       "0  10/02/2014 12:00:00 AM  12/31/1899 11:56:00 AM  10/06/2014 12:00:00 AM   \n",
       "1  09/24/2015 12:00:00 AM  12/31/1899 03:50:00 PM  10/03/2015 12:00:00 AM   \n",
       "2  05/01/2015 12:00:00 AM  12/31/1899 12:09:00 PM  05/02/2015 12:00:00 AM   \n",
       "3  09/19/2015 12:00:00 AM  12/31/1899 04:46:00 PM  09/22/2015 12:00:00 AM   \n",
       "4  12/03/2014 12:00:00 AM  12/31/1899 08:06:00 PM  12/03/2014 12:00:00 AM   \n",
       "\n",
       "                         Intake Condition              Hold Request  \\\n",
       "0  TREATABLE REHABILITABLE NON-CONTAGIOUS                  ADOPTION   \n",
       "1  TREATABLE REHABILITABLE NON-CONTAGIOUS                       NaN   \n",
       "2     TREATABLE MANAGEABLE NON-CONTAGIOUS                       NaN   \n",
       "3  TREATABLE REHABILITABLE NON-CONTAGIOUS  EVERYDAY ADOPTION CENTER   \n",
       "4    UNHEALTHY UNTREATABLE NON-CONTAGIOUS                       NaN   \n",
       "\n",
       "      Outcome Type            Outcome Date            Outcome Time  \\\n",
       "0         ADOPTION  10/12/2014 12:00:00 AM  12/31/1899 03:25:00 PM   \n",
       "1       EUTHANIZED  10/04/2015 12:00:00 AM  12/31/1899 12:22:00 PM   \n",
       "2       EUTHANIZED  05/03/2015 12:00:00 AM  12/31/1899 11:53:00 AM   \n",
       "3         ADOPTION  10/26/2015 12:00:00 AM  12/31/1899 02:09:00 PM   \n",
       "4  DEAD ON ARRIVAL  12/04/2014 12:00:00 AM  12/31/1899 12:00:00 PM   \n",
       "\n",
       "  Receipt Number Impound Number Service Request Number  \\\n",
       "0     R14-372380     K14-297573                    NaN   \n",
       "1            NaN     K15-328347                 442631   \n",
       "2            NaN     K15-314218                    NaN   \n",
       "3     R15-425259     K15-327996                    NaN   \n",
       "4            NaN     K14-302641                    NaN   \n",
       "\n",
       "                        Outcome Condition   Chip Status     Animal Origin  \\\n",
       "0  TREATABLE REHABILITABLE NON-CONTAGIOUS  SCAN NO CHIP  OVER THE COUNTER   \n",
       "1     TREATABLE MANAGEABLE NON-CONTAGIOUS  SCAN NO CHIP             FIELD   \n",
       "2     TREATABLE MANAGEABLE NON-CONTAGIOUS     SCAN CHIP             FIELD   \n",
       "3  TREATABLE REHABILITABLE NON-CONTAGIOUS     SCAN CHIP  OVER THE COUNTER   \n",
       "4    UNHEALTHY UNTREATABLE NON-CONTAGIOUS  SCAN NO CHIP             FIELD   \n",
       "\n",
       "  Additional Information     Month    Year  \n",
       "0                ADOPTED  OCT.2014  FY2015  \n",
       "1                    NaN  SEP.2015  FY2015  \n",
       "2                    NaN  MAY.2015  FY2015  \n",
       "3          VOMIT 5X 9/20  SEP.2015  FY2015  \n",
       "4                    NaN  DEC.2014  FY2015  "
      ]
     },
     "execution_count": 34,
     "metadata": {},
     "output_type": "execute_result"
    }
   ],
   "source": [
    "pd.set_option('display.max_columns', 35)\n",
    "dallas_2014.head()"
   ]
  },
  {
   "cell_type": "markdown",
   "id": "a68556c6-182a-42b1-b952-8a953e6a19d4",
   "metadata": {},
   "source": [
    "*The time of intake and outcome are split between two columns, one for the data and one for the time of day. Since we're only evaluating how long an animal is in a shelter with how many days we'll only convert the date to datetime and sort by that. Also converting column names to snake case.*"
   ]
  },
  {
   "cell_type": "code",
   "execution_count": 39,
   "id": "cfa9e738-9499-4460-be66-a5ea109d4d7f",
   "metadata": {},
   "outputs": [],
   "source": [
    "# function to convert column names\n",
    "def to_snake_case(columns):\n",
    "    '''\n",
    "    Convert dataframe column names to snake case\n",
    "\n",
    "    Keyword arguments:\n",
    "    columns -- original column names of dataframe\n",
    "\n",
    "    Returns a dictionary to pass into pandas rename function\n",
    "    '''\n",
    "    return {column: column.lower().replace(' ', '_') for column in columns}"
   ]
  },
  {
   "cell_type": "code",
   "execution_count": 40,
   "id": "d16d724b-fa09-4c84-b1ef-f2020b5f137c",
   "metadata": {},
   "outputs": [],
   "source": [
    "dallas_2014.rename(columns = to_snake_case(dallas_2014.columns), inplace = True)"
   ]
  },
  {
   "cell_type": "code",
   "execution_count": 41,
   "id": "75dd4f38-1a7c-4c61-9c2b-e8447b776fcf",
   "metadata": {},
   "outputs": [],
   "source": [
    "# converting intake_date and outcome_date to datetime\n",
    "dallas_2014['intake_date'] = pd.to_datetime(dallas_2014['intake_date'], format='%m/%d/%Y %I:%M:%S %p')\n",
    "dallas_2014['outcome_date'] = pd.to_datetime(dallas_2014['outcome_date'], format='%m/%d/%Y %I:%M:%S %p')\n",
    "\n",
    "# sorting by outcome_date with most recent first\n",
    "dallas_2014.sort_values(by = 'outcome_date', ascending = False, inplace = True)"
   ]
  },
  {
   "cell_type": "markdown",
   "id": "fd259b39-b91e-4e63-b9d3-3db467bdec80",
   "metadata": {},
   "source": [
    "*Will read in the datasets from other years and combine before looking at nulls, inconsequential columns, and duplicates similar to the Austin data.*"
   ]
  },
  {
   "cell_type": "code",
   "execution_count": 42,
   "id": "8e33a9ed-a79b-45c3-8533-8cb5df0888a9",
   "metadata": {},
   "outputs": [],
   "source": [
    "# function to read in data from remainging years\n",
    "def read_in_dallas_data(year):\n",
    "    '''\n",
    "    Function to read in csv data for animal shelter data by year\n",
    "\n",
    "    Keyword arguments:\n",
    "    year -- which year to bring in data from\n",
    "\n",
    "    Returns dataframe with column names converted to snake case,\n",
    "    intake and outcome dates converted to datetime,\n",
    "    and sorted by outcome date descending.\n",
    "    '''\n",
    "    year = str(year)\n",
    "    # read in data\n",
    "    if year != '2023':\n",
    "        df = pd.read_csv('../data/Dallas_Animal_Shelter_Data_Fiscal_Year_'+year+'_-_'+str(int(year)+1)+'_20241028.csv', low_memory=False)\n",
    "    else:\n",
    "        df = pd.read_csv('../data/Dallas_Animal_Shelter_Data_Fiscal_Year_'+year+'_-_'+str(int(year)+2)+'_20241028.csv', low_memory=False)\n",
    "    # convert column names\n",
    "    df.rename(columns=to_snake_case(df.columns), inplace = True)\n",
    "    # convert intake and outcome dates to datetime\n",
    "    df['intake_date'] = pd.to_datetime(df['intake_date'], format='mixed')\n",
    "    df['outcome_date'] = pd.to_datetime(df['outcome_date'], format='mixed')\n",
    "    # sort by outcome_date\n",
    "    df.sort_values(by = 'outcome_date', ascending = False, inplace = True)\n",
    "    return df"
   ]
  },
  {
   "cell_type": "code",
   "execution_count": 43,
   "id": "f5530266-44da-4312-9359-059fa040e1a8",
   "metadata": {},
   "outputs": [],
   "source": [
    "dallas_2015 = read_in_dallas_data(2015)\n",
    "dallas_2016 = read_in_dallas_data(2016)\n",
    "dallas_2017 = read_in_dallas_data(2017)\n",
    "dallas_2018 = read_in_dallas_data(2018)\n",
    "dallas_2019 = read_in_dallas_data(2019)\n",
    "dallas_2020 = read_in_dallas_data(2020)\n",
    "dallas_2021 = read_in_dallas_data(2021)\n",
    "dallas_2022 = read_in_dallas_data(2022)\n",
    "dallas_2023 = read_in_dallas_data(2023)"
   ]
  },
  {
   "cell_type": "code",
   "execution_count": 44,
   "id": "57a976ae-680a-484d-b858-8e245ce2aa97",
   "metadata": {},
   "outputs": [],
   "source": [
    "dallas_combined = pd.concat([dallas_2014, dallas_2015, dallas_2016, dallas_2017, dallas_2018,\n",
    "                             dallas_2019, dallas_2020, dallas_2021, dallas_2022, dallas_2023])"
   ]
  },
  {
   "cell_type": "code",
   "execution_count": 45,
   "id": "e15ce8e8-0763-4251-86d3-92384ef00877",
   "metadata": {},
   "outputs": [
    {
     "name": "stdout",
     "output_type": "stream",
     "text": [
      "(344923, 34)\n",
      "(275158, 34)\n"
     ]
    },
    {
     "data": {
      "text/html": [
       "<div>\n",
       "<style scoped>\n",
       "    .dataframe tbody tr th:only-of-type {\n",
       "        vertical-align: middle;\n",
       "    }\n",
       "\n",
       "    .dataframe tbody tr th {\n",
       "        vertical-align: top;\n",
       "    }\n",
       "\n",
       "    .dataframe thead th {\n",
       "        text-align: right;\n",
       "    }\n",
       "</style>\n",
       "<table border=\"1\" class=\"dataframe\">\n",
       "  <thead>\n",
       "    <tr style=\"text-align: right;\">\n",
       "      <th></th>\n",
       "      <th>animal_id</th>\n",
       "      <th>animal_type</th>\n",
       "      <th>animal_breed</th>\n",
       "      <th>kennel_number</th>\n",
       "      <th>kennel_status</th>\n",
       "      <th>tag_type</th>\n",
       "      <th>activity_number</th>\n",
       "      <th>activity_sequence</th>\n",
       "      <th>source_id</th>\n",
       "      <th>census_tract</th>\n",
       "      <th>council_district</th>\n",
       "      <th>intake_type</th>\n",
       "      <th>intake_subtype</th>\n",
       "      <th>intake_total</th>\n",
       "      <th>reason</th>\n",
       "      <th>staff_id</th>\n",
       "      <th>intake_date</th>\n",
       "      <th>intake_time</th>\n",
       "      <th>due_out</th>\n",
       "      <th>intake_condition</th>\n",
       "      <th>hold_request</th>\n",
       "      <th>outcome_type</th>\n",
       "      <th>outcome_date</th>\n",
       "      <th>outcome_time</th>\n",
       "      <th>receipt_number</th>\n",
       "      <th>impound_number</th>\n",
       "      <th>service_request_number</th>\n",
       "      <th>outcome_condition</th>\n",
       "      <th>chip_status</th>\n",
       "      <th>animal_origin</th>\n",
       "      <th>additional_information</th>\n",
       "      <th>month</th>\n",
       "      <th>year</th>\n",
       "      <th>outcome_subtype</th>\n",
       "    </tr>\n",
       "  </thead>\n",
       "  <tbody>\n",
       "    <tr>\n",
       "      <th>42903</th>\n",
       "      <td>A1229376</td>\n",
       "      <td>CAT</td>\n",
       "      <td>DOMESTIC SH</td>\n",
       "      <td>FREEZER</td>\n",
       "      <td>UNAVAILABLE</td>\n",
       "      <td>NaN</td>\n",
       "      <td>NaN</td>\n",
       "      <td>1</td>\n",
       "      <td>P1110761</td>\n",
       "      <td>3902.0</td>\n",
       "      <td>7.0</td>\n",
       "      <td>DISPOS REQ</td>\n",
       "      <td>OTC</td>\n",
       "      <td>1.0</td>\n",
       "      <td>OTHRINTAKS</td>\n",
       "      <td>JVW</td>\n",
       "      <td>2024-10-04</td>\n",
       "      <td>17:06:00</td>\n",
       "      <td>10/04/2024</td>\n",
       "      <td>DECEASED</td>\n",
       "      <td>ADOP RESCU</td>\n",
       "      <td>DISPOSAL</td>\n",
       "      <td>2027-10-04</td>\n",
       "      <td>18:00:00</td>\n",
       "      <td>NaN</td>\n",
       "      <td>K24-644567</td>\n",
       "      <td>NaN</td>\n",
       "      <td>DECEASED</td>\n",
       "      <td>SCAN NO CHIP</td>\n",
       "      <td>OVER THE COUNTER</td>\n",
       "      <td>NaN</td>\n",
       "      <td>FY2024</td>\n",
       "      <td>FY2024</td>\n",
       "      <td>DISPOSAL</td>\n",
       "    </tr>\n",
       "    <tr>\n",
       "      <th>43357</th>\n",
       "      <td>A1229851</td>\n",
       "      <td>DOG</td>\n",
       "      <td>MIXED BREED</td>\n",
       "      <td>B17</td>\n",
       "      <td>AVAILABLE</td>\n",
       "      <td>NaN</td>\n",
       "      <td>NaN</td>\n",
       "      <td>1</td>\n",
       "      <td>P1111387</td>\n",
       "      <td>5200.0</td>\n",
       "      <td>1.0</td>\n",
       "      <td>STRAY</td>\n",
       "      <td>AT LARGE</td>\n",
       "      <td>1.0</td>\n",
       "      <td>OTHRINTAKS</td>\n",
       "      <td>JVW</td>\n",
       "      <td>2024-10-09</td>\n",
       "      <td>17:42:00</td>\n",
       "      <td>10/15/2024</td>\n",
       "      <td>APP WNL</td>\n",
       "      <td>ADOP RESCU</td>\n",
       "      <td>ADOPTION</td>\n",
       "      <td>2024-10-27</td>\n",
       "      <td>17:50:00</td>\n",
       "      <td>R24-622569</td>\n",
       "      <td>K24-645135</td>\n",
       "      <td>NaN</td>\n",
       "      <td>APP WNL</td>\n",
       "      <td>SCAN CHIP</td>\n",
       "      <td>OVER THE COUNTER</td>\n",
       "      <td>NaN</td>\n",
       "      <td>FY2024</td>\n",
       "      <td>FY2024</td>\n",
       "      <td>WESTMORELD</td>\n",
       "    </tr>\n",
       "    <tr>\n",
       "      <th>39489</th>\n",
       "      <td>A1225816</td>\n",
       "      <td>CAT</td>\n",
       "      <td>DOMESTIC SH</td>\n",
       "      <td>413</td>\n",
       "      <td>UNAVAILABLE</td>\n",
       "      <td>NaN</td>\n",
       "      <td>NaN</td>\n",
       "      <td>1</td>\n",
       "      <td>P1101968</td>\n",
       "      <td>NaN</td>\n",
       "      <td>NaN</td>\n",
       "      <td>FOSTER</td>\n",
       "      <td>APPOINT</td>\n",
       "      <td>1.0</td>\n",
       "      <td>SURGERY</td>\n",
       "      <td>BEC</td>\n",
       "      <td>2024-10-26</td>\n",
       "      <td>10:35:00</td>\n",
       "      <td>10/26/2024</td>\n",
       "      <td>APP WNL</td>\n",
       "      <td>ADOP RESCU</td>\n",
       "      <td>ADOPTION</td>\n",
       "      <td>2024-10-27</td>\n",
       "      <td>14:15:00</td>\n",
       "      <td>R24-622542</td>\n",
       "      <td>K24-646788</td>\n",
       "      <td>NaN</td>\n",
       "      <td>APP WNL</td>\n",
       "      <td>SCAN CHIP</td>\n",
       "      <td>OVER THE COUNTER</td>\n",
       "      <td>NaN</td>\n",
       "      <td>FY2024</td>\n",
       "      <td>FY2024</td>\n",
       "      <td>WESTMORELD</td>\n",
       "    </tr>\n",
       "    <tr>\n",
       "      <th>16153</th>\n",
       "      <td>A1204135</td>\n",
       "      <td>DOG</td>\n",
       "      <td>MIXED BREED</td>\n",
       "      <td>FOSTER</td>\n",
       "      <td>PENDING</td>\n",
       "      <td>NaN</td>\n",
       "      <td>NaN</td>\n",
       "      <td>1</td>\n",
       "      <td>P1083409</td>\n",
       "      <td>NaN</td>\n",
       "      <td>NaN</td>\n",
       "      <td>FOSTER</td>\n",
       "      <td>APPOINT</td>\n",
       "      <td>1.0</td>\n",
       "      <td>FOR ADOPT</td>\n",
       "      <td>JLC</td>\n",
       "      <td>2024-10-27</td>\n",
       "      <td>12:15:00</td>\n",
       "      <td>10/27/2024</td>\n",
       "      <td>APP WNL</td>\n",
       "      <td>ADOP RESCU</td>\n",
       "      <td>ADOPTION</td>\n",
       "      <td>2024-10-27</td>\n",
       "      <td>12:15:00</td>\n",
       "      <td>R24-622533</td>\n",
       "      <td>K24-646916</td>\n",
       "      <td>NaN</td>\n",
       "      <td>APP WNL</td>\n",
       "      <td>SCAN CHIP</td>\n",
       "      <td>OVER THE COUNTER</td>\n",
       "      <td>NaN</td>\n",
       "      <td>FY2024</td>\n",
       "      <td>FY2024</td>\n",
       "      <td>BY FOSTER</td>\n",
       "    </tr>\n",
       "    <tr>\n",
       "      <th>44442</th>\n",
       "      <td>A1231147</td>\n",
       "      <td>DOG</td>\n",
       "      <td>CHIHUAHUA SH</td>\n",
       "      <td>K03</td>\n",
       "      <td>AVAILABLE</td>\n",
       "      <td>NaN</td>\n",
       "      <td>NaN</td>\n",
       "      <td>1</td>\n",
       "      <td>P1113395</td>\n",
       "      <td>12900.0</td>\n",
       "      <td>9.0</td>\n",
       "      <td>OWNER SURRENDER</td>\n",
       "      <td>WALK IN</td>\n",
       "      <td>1.0</td>\n",
       "      <td>PERSNLISSU</td>\n",
       "      <td>GRA</td>\n",
       "      <td>2024-10-24</td>\n",
       "      <td>18:14:00</td>\n",
       "      <td>10/24/2024</td>\n",
       "      <td>APP WNL</td>\n",
       "      <td>ADOP RESCU</td>\n",
       "      <td>ADOPTION</td>\n",
       "      <td>2024-10-27</td>\n",
       "      <td>14:53:00</td>\n",
       "      <td>R24-622444</td>\n",
       "      <td>K24-646666</td>\n",
       "      <td>NaN</td>\n",
       "      <td>APP WNL</td>\n",
       "      <td>SCAN NO CHIP</td>\n",
       "      <td>OVER THE COUNTER</td>\n",
       "      <td>BBW</td>\n",
       "      <td>FY2024</td>\n",
       "      <td>FY2024</td>\n",
       "      <td>WESTMORELD</td>\n",
       "    </tr>\n",
       "  </tbody>\n",
       "</table>\n",
       "</div>"
      ],
      "text/plain": [
       "      animal_id animal_type  animal_breed kennel_number kennel_status  \\\n",
       "42903  A1229376         CAT   DOMESTIC SH       FREEZER   UNAVAILABLE   \n",
       "43357  A1229851         DOG   MIXED BREED           B17     AVAILABLE   \n",
       "39489  A1225816         CAT   DOMESTIC SH           413   UNAVAILABLE   \n",
       "16153  A1204135         DOG   MIXED BREED        FOSTER       PENDING   \n",
       "44442  A1231147         DOG  CHIHUAHUA SH           K03     AVAILABLE   \n",
       "\n",
       "      tag_type activity_number  activity_sequence source_id census_tract  \\\n",
       "42903      NaN             NaN                  1  P1110761       3902.0   \n",
       "43357      NaN             NaN                  1  P1111387       5200.0   \n",
       "39489      NaN             NaN                  1  P1101968          NaN   \n",
       "16153      NaN             NaN                  1  P1083409          NaN   \n",
       "44442      NaN             NaN                  1  P1113395      12900.0   \n",
       "\n",
       "      council_district      intake_type intake_subtype  intake_total  \\\n",
       "42903              7.0       DISPOS REQ            OTC           1.0   \n",
       "43357              1.0            STRAY       AT LARGE           1.0   \n",
       "39489              NaN           FOSTER        APPOINT           1.0   \n",
       "16153              NaN           FOSTER        APPOINT           1.0   \n",
       "44442              9.0  OWNER SURRENDER        WALK IN           1.0   \n",
       "\n",
       "           reason staff_id intake_date intake_time     due_out  \\\n",
       "42903  OTHRINTAKS      JVW  2024-10-04    17:06:00  10/04/2024   \n",
       "43357  OTHRINTAKS      JVW  2024-10-09    17:42:00  10/15/2024   \n",
       "39489     SURGERY      BEC  2024-10-26    10:35:00  10/26/2024   \n",
       "16153   FOR ADOPT      JLC  2024-10-27    12:15:00  10/27/2024   \n",
       "44442  PERSNLISSU      GRA  2024-10-24    18:14:00  10/24/2024   \n",
       "\n",
       "      intake_condition hold_request outcome_type outcome_date outcome_time  \\\n",
       "42903         DECEASED   ADOP RESCU     DISPOSAL   2027-10-04     18:00:00   \n",
       "43357          APP WNL   ADOP RESCU     ADOPTION   2024-10-27     17:50:00   \n",
       "39489          APP WNL   ADOP RESCU     ADOPTION   2024-10-27     14:15:00   \n",
       "16153          APP WNL   ADOP RESCU     ADOPTION   2024-10-27     12:15:00   \n",
       "44442          APP WNL   ADOP RESCU     ADOPTION   2024-10-27     14:53:00   \n",
       "\n",
       "      receipt_number impound_number service_request_number outcome_condition  \\\n",
       "42903            NaN     K24-644567                    NaN          DECEASED   \n",
       "43357     R24-622569     K24-645135                    NaN           APP WNL   \n",
       "39489     R24-622542     K24-646788                    NaN           APP WNL   \n",
       "16153     R24-622533     K24-646916                    NaN           APP WNL   \n",
       "44442     R24-622444     K24-646666                    NaN           APP WNL   \n",
       "\n",
       "        chip_status     animal_origin additional_information   month    year  \\\n",
       "42903  SCAN NO CHIP  OVER THE COUNTER                    NaN  FY2024  FY2024   \n",
       "43357     SCAN CHIP  OVER THE COUNTER                    NaN  FY2024  FY2024   \n",
       "39489     SCAN CHIP  OVER THE COUNTER                    NaN  FY2024  FY2024   \n",
       "16153     SCAN CHIP  OVER THE COUNTER                    NaN  FY2024  FY2024   \n",
       "44442  SCAN NO CHIP  OVER THE COUNTER                    BBW  FY2024  FY2024   \n",
       "\n",
       "      outcome_subtype  \n",
       "42903        DISPOSAL  \n",
       "43357      WESTMORELD  \n",
       "39489      WESTMORELD  \n",
       "16153       BY FOSTER  \n",
       "44442      WESTMORELD  "
      ]
     },
     "execution_count": 45,
     "metadata": {},
     "output_type": "execute_result"
    }
   ],
   "source": [
    "# resorting combined dataframe by outcome date\n",
    "dallas_combined.sort_values(by = 'outcome_date', ascending = False, inplace = True)\n",
    "\n",
    "# dropping duplicates by animal_id to focus on most recent observation per unique animal\n",
    "print(dallas_combined.shape)\n",
    "dallas_combined.drop_duplicates(subset = 'animal_id', inplace = True)\n",
    "print(dallas_combined.shape)\n",
    "dallas_combined.head()"
   ]
  },
  {
   "cell_type": "code",
   "execution_count": 46,
   "id": "b7ce8e76-bc77-45a8-acec-cc9084d7c948",
   "metadata": {},
   "outputs": [
    {
     "name": "stdout",
     "output_type": "stream",
     "text": [
      "<class 'pandas.core.frame.DataFrame'>\n",
      "Index: 275158 entries, 42903 to 44634\n",
      "Data columns (total 34 columns):\n",
      " #   Column                  Non-Null Count   Dtype         \n",
      "---  ------                  --------------   -----         \n",
      " 0   animal_id               275158 non-null  object        \n",
      " 1   animal_type             275157 non-null  object        \n",
      " 2   animal_breed            275042 non-null  object        \n",
      " 3   kennel_number           275158 non-null  object        \n",
      " 4   kennel_status           275158 non-null  object        \n",
      " 5   tag_type                2 non-null       object        \n",
      " 6   activity_number         114170 non-null  object        \n",
      " 7   activity_sequence       275158 non-null  int64         \n",
      " 8   source_id               275158 non-null  object        \n",
      " 9   census_tract            228718 non-null  object        \n",
      " 10  council_district        228718 non-null  object        \n",
      " 11  intake_type             275158 non-null  object        \n",
      " 12  intake_subtype          270831 non-null  object        \n",
      " 13  intake_total            245266 non-null  float64       \n",
      " 14  reason                  147911 non-null  object        \n",
      " 15  staff_id                275158 non-null  object        \n",
      " 16  intake_date             275158 non-null  datetime64[ns]\n",
      " 17  intake_time             275158 non-null  object        \n",
      " 18  due_out                 275158 non-null  object        \n",
      " 19  intake_condition        275158 non-null  object        \n",
      " 20  hold_request            159744 non-null  object        \n",
      " 21  outcome_type            275158 non-null  object        \n",
      " 22  outcome_date            274019 non-null  datetime64[ns]\n",
      " 23  outcome_time            275158 non-null  object        \n",
      " 24  receipt_number          100858 non-null  object        \n",
      " 25  impound_number          275158 non-null  object        \n",
      " 26  service_request_number  8759 non-null    object        \n",
      " 27  outcome_condition       252782 non-null  object        \n",
      " 28  chip_status             256865 non-null  object        \n",
      " 29  animal_origin           256779 non-null  object        \n",
      " 30  additional_information  109203 non-null  object        \n",
      " 31  month                   275158 non-null  object        \n",
      " 32  year                    275158 non-null  object        \n",
      " 33  outcome_subtype         188977 non-null  object        \n",
      "dtypes: datetime64[ns](2), float64(1), int64(1), object(30)\n",
      "memory usage: 73.5+ MB\n"
     ]
    }
   ],
   "source": [
    "dallas_combined.info()"
   ]
  },
  {
   "cell_type": "markdown",
   "id": "7195e67d-5b0b-45d5-8d9c-2cddf0b6ac64",
   "metadata": {},
   "source": [
    "*tag_type and service_request_number are primarily null values, going to drop these columns. Also going to drop several columns that don't have an impact on an animal's outcome type.*"
   ]
  },
  {
   "cell_type": "code",
   "execution_count": 47,
   "id": "cd4351e3-17e6-4032-8337-2e6771672572",
   "metadata": {},
   "outputs": [],
   "source": [
    "dallas_combined.drop(columns = ['kennel_number', 'tag_type', 'activity_number', 'activity_sequence',\n",
    "                                'source_id', 'census_tract', 'council_district', 'intake_subtype',\n",
    "                                'intake_total', 'staff_id', 'intake_time', 'due_out', 'hold_request',\n",
    "                                'outcome_time', 'receipt_number', 'impound_number', 'service_request_number',\n",
    "                                'additional_information', 'month', 'year', 'outcome_subtype'], inplace = True)"
   ]
  },
  {
   "cell_type": "code",
   "execution_count": 48,
   "id": "09df403e-e866-4903-bc8e-d785c829ab62",
   "metadata": {},
   "outputs": [
    {
     "data": {
      "text/plain": [
       "animal_type\n",
       "DOG          191178\n",
       "CAT           65699\n",
       "WILDLIFE       9724\n",
       "BIRD           8275\n",
       "LIVESTOCK       280\n",
       "D                 1\n",
       "Name: count, dtype: int64"
      ]
     },
     "execution_count": 48,
     "metadata": {},
     "output_type": "execute_result"
    }
   ],
   "source": [
    "# see animal types\n",
    "dallas_combined['animal_type'].value_counts()"
   ]
  },
  {
   "cell_type": "markdown",
   "id": "251b6b67-135b-495b-a39f-0a0e3801ece4",
   "metadata": {},
   "source": [
    "*Same as the data from Austin shelters, we are going to ignore anything that isn't a cat or dog.*"
   ]
  },
  {
   "cell_type": "code",
   "execution_count": 49,
   "id": "85a10108-2313-47d4-9887-fbb380dc8999",
   "metadata": {},
   "outputs": [
    {
     "data": {
      "text/plain": [
       "animal_id                 0\n",
       "animal_type               1\n",
       "animal_breed            116\n",
       "kennel_status             0\n",
       "intake_type               0\n",
       "reason               127247\n",
       "intake_date               0\n",
       "intake_condition          0\n",
       "outcome_type              0\n",
       "outcome_date           1139\n",
       "outcome_condition     22376\n",
       "chip_status           18293\n",
       "animal_origin         18379\n",
       "dtype: int64"
      ]
     },
     "execution_count": 49,
     "metadata": {},
     "output_type": "execute_result"
    }
   ],
   "source": [
    "# see remainging null values\n",
    "dallas_combined.isnull().sum()"
   ]
  },
  {
   "cell_type": "markdown",
   "id": "779dd9e2-260c-410b-b3e7-9af4cb896191",
   "metadata": {},
   "source": [
    "*Going to create a duration column for how long an animal is in the shelter. Dropping observations with no outcome date first.*"
   ]
  },
  {
   "cell_type": "code",
   "execution_count": 50,
   "id": "9417c766-af01-41c0-b6ea-bac70d0851a0",
   "metadata": {},
   "outputs": [
    {
     "data": {
      "text/plain": [
       "stay_duration\n",
       "-333      3\n",
       "-30       2\n",
       "-332      2\n",
       "-330      1\n",
       "-331      1\n",
       "-300      1\n",
       "-55       1\n",
       "-698      1\n",
       "-272      1\n",
       "-19963    1\n",
       "Name: count, dtype: int64"
      ]
     },
     "execution_count": 50,
     "metadata": {},
     "output_type": "execute_result"
    }
   ],
   "source": [
    "# drop null outcome date rows\n",
    "dallas_combined.dropna(subset = 'outcome_date', inplace = True)\n",
    "\n",
    "# column for stay duration\n",
    "dallas_combined['stay_duration'] = dallas_combined['outcome_date'] - dallas_combined['intake_date']\n",
    "# convert to number of days\n",
    "dallas_combined['stay_duration'] = dallas_combined['stay_duration'].dt.days.astype(int)\n",
    "\n",
    "# check for negative stay_duration\n",
    "dallas_combined[dallas_combined['stay_duration'] < 0]['stay_duration'].value_counts()"
   ]
  },
  {
   "cell_type": "markdown",
   "id": "08360ce0-0f6c-4caf-b8c2-54eaf2dcce6a",
   "metadata": {},
   "source": [
    "*Just a few instances with negative stays, just dropping these rows.*"
   ]
  },
  {
   "cell_type": "code",
   "execution_count": 51,
   "id": "6e2a43a2-601f-4910-973a-d1e851917fa2",
   "metadata": {},
   "outputs": [],
   "source": [
    "dallas_combined = dallas_combined[dallas_combined['stay_duration'] >= 0]"
   ]
  },
  {
   "cell_type": "markdown",
   "id": "f8aff722-05ab-4d62-85a2-208fa94f9c45",
   "metadata": {},
   "source": [
    "*Looking at the columns with remaing null values.*"
   ]
  },
  {
   "cell_type": "code",
   "execution_count": 52,
   "id": "086ccec7-9011-43c2-9bc0-0b3d3b9b250c",
   "metadata": {},
   "outputs": [
    {
     "data": {
      "text/plain": [
       "array(['OTHRINTAKS', 'SURGERY', 'FOR ADOPT', 'PERSNLISSU', 'OTHER',\n",
       "       'NOTRIGHTFT', nan, 'SHORT-TERM', 'TRANSFER', 'BEHAVIOR', 'MEDICAL',\n",
       "       'HOUSING', 'FINANCIAL', 'EVICTION', 'TNR CLINIC', 'STRAY',\n",
       "       'TOO MANY', 'OWNER PROBLEM', 'AGGRESSIVE - PEOPLE',\n",
       "       'AGGRESSIVE - ANIMAL', 'HOUSE SOIL', 'EUTHANASIA ILL', 'NO TIME',\n",
       "       'UNKNOWN', 'DESTRUCTIVE AT HOME', 'OTHER PET', 'ESCAPES',\n",
       "       'CAUTIONCAT', 'CHILD PROBLEM', 'INJURED', 'ILL', 'MOVE',\n",
       "       'LANDLORD', 'VOCAL', 'COST', 'ALLERGIC', 'BITES', 'HYPER',\n",
       "       'KILLED ANOTHER ANIMAL', 'NEW BABY', 'TOO BIG', 'MOVE APT',\n",
       "       'DEAD ON ARRIVAL', 'OWNER DIED', 'TRAVEL', 'ATTENTION',\n",
       "       'DESTRUCTIVE OUTSIDE', 'FOUND ANIM', 'RESPONSIBLE', 'TOO OLD',\n",
       "       'EUTHANASIA OLD', 'ABANDON', 'AFRAID', 'FOSTER', 'BLIND/DEAF',\n",
       "       'CRUELTY', 'NOFRIENDLY', 'NO HOME', 'DEAF', 'NO YARD', 'BLIND',\n",
       "       'CHASES PEOPLE', 'DISOBIDIEN', 'FENCE', 'QUARANTINE',\n",
       "       'EUTHANASIA BEHAV', 'ZONE', 'WRONG SEX', 'JUMPS UP', 'RETURN',\n",
       "       'WILDLIFE', 'PET LIMITS', 'CONFISCATE', 'EUTHANASIA OTHER', 'GIFT',\n",
       "       'WANTS OUT', 'CAUTION DOG', 'CHASES ANIMAL', 'SHEDS', 'TOO SMALL',\n",
       "       'REPORT', 'DIVORCE', 'TRAP', 'WONT ALLOW', 'TOO YOUNG', 'DULL',\n",
       "       'HEARING', 'WARRANT', 'FACILITY', 'SPAYNEUTER', 'NO PROTECT',\n",
       "       'COMPETE FOR ATTENTION', 'TETHERING', 'WRONG SPEC', 'SURG PROB'],\n",
       "      dtype=object)"
      ]
     },
     "execution_count": 52,
     "metadata": {},
     "output_type": "execute_result"
    }
   ],
   "source": [
    "dallas_combined['reason'].unique()"
   ]
  },
  {
   "cell_type": "code",
   "execution_count": 53,
   "id": "bd59bb47-33a9-43bc-bcf9-5decea043f65",
   "metadata": {},
   "outputs": [
    {
     "data": {
      "text/plain": [
       "array(['DECEASED', 'APP WNL', nan, 'APP SICK', 'CRITICAL', 'APP INJ',\n",
       "       'UNDERAGE', 'GERIATRIC', 'FATAL', 'UNKNOWN', 'DEAD',\n",
       "       'TREATABLE REHABILITABLE NON-CONTAGIOUS',\n",
       "       'UNHEALTHY UNTREATABLE NON-CONTAGIOUS', 'HEALTHY',\n",
       "       'TREATABLE MANAGEABLE NON-CONTAGIOUS',\n",
       "       'UNHEALTHY UNTREATABLE CONTAGIOUS',\n",
       "       'TREATABLE REHABILITABLE CONTAGIOUS',\n",
       "       'TREATABLE MANAGEABLE CONTAGIOUS'], dtype=object)"
      ]
     },
     "execution_count": 53,
     "metadata": {},
     "output_type": "execute_result"
    }
   ],
   "source": [
    "dallas_combined['outcome_condition'].unique()"
   ]
  },
  {
   "cell_type": "code",
   "execution_count": 54,
   "id": "d082df20-f41d-47af-a1f5-3348d3b3ea6f",
   "metadata": {},
   "outputs": [
    {
     "data": {
      "text/plain": [
       "chip_status\n",
       "SCAN NO CHIP                 172114\n",
       "SCAN CHIP                     58552\n",
       "UNABLE TO SCAN                20560\n",
       "WILDLIFE - UNABLE TO SCAN      3830\n",
       "WILDLIFE - UNABEL TO SCAN      1038\n",
       "Name: count, dtype: int64"
      ]
     },
     "execution_count": 54,
     "metadata": {},
     "output_type": "execute_result"
    }
   ],
   "source": [
    "dallas_combined['chip_status'].value_counts()"
   ]
  },
  {
   "cell_type": "code",
   "execution_count": 55,
   "id": "fddc2b73-cf6a-488f-b52b-021000f98d0b",
   "metadata": {},
   "outputs": [
    {
     "data": {
      "text/plain": [
       "array(['OVER THE COUNTER', 'AGGOPS', 'COM CAT', nan, 'FIELD', 'BITE',\n",
       "       'HART', 'PSPICKUP', 'OPS', 'AGGDD', 'CARE', 'SWEEP', 'RAPID',\n",
       "       'NIGHT DROP'], dtype=object)"
      ]
     },
     "execution_count": 55,
     "metadata": {},
     "output_type": "execute_result"
    }
   ],
   "source": [
    "dallas_combined['animal_origin'].unique()"
   ]
  },
  {
   "cell_type": "markdown",
   "id": "439532c8-9607-40bd-ba31-eb7f27608070",
   "metadata": {},
   "source": [
    "* reason: These could be pertinent to an animal being adopted or not, will fill nulls with 'none' that no reason was given.\n",
    "* outcome_condition: We are going to assume if nothing was entered the animals was healthy.\n",
    "* chip_status: We are assuming this will relate somewhat to outcome type, that if they are able to scan a chip they will get returned to owner. Dropping this column.\n",
    "* animal_origin: Not even sure what all of these entries are, dropping this column."
   ]
  },
  {
   "cell_type": "code",
   "execution_count": 56,
   "id": "aaead740-ae51-45b6-8576-a52bb41fba0b",
   "metadata": {},
   "outputs": [],
   "source": [
    "# drop chip_status and animal_origin columns\n",
    "dallas_combined = dallas_combined.drop(columns=['chip_status', 'animal_origin'])\n",
    "\n",
    "# fill nulls for reason and outcome_condition\n",
    "dallas_combined = dallas_combined.fillna({'reason': 'NONE', 'outcome_condition': 'HEALTHY'})"
   ]
  },
  {
   "cell_type": "code",
   "execution_count": 57,
   "id": "5abbf60f-b6ac-4fa9-b8bf-43514523e822",
   "metadata": {},
   "outputs": [
    {
     "name": "stdout",
     "output_type": "stream",
     "text": [
      "<class 'pandas.core.frame.DataFrame'>\n",
      "Index: 274005 entries, 42903 to 1377\n",
      "Data columns (total 12 columns):\n",
      " #   Column             Non-Null Count   Dtype         \n",
      "---  ------             --------------   -----         \n",
      " 0   animal_id          274005 non-null  object        \n",
      " 1   animal_type        274004 non-null  object        \n",
      " 2   animal_breed       273889 non-null  object        \n",
      " 3   kennel_status      274005 non-null  object        \n",
      " 4   intake_type        274005 non-null  object        \n",
      " 5   reason             274005 non-null  object        \n",
      " 6   intake_date        274005 non-null  datetime64[ns]\n",
      " 7   intake_condition   274005 non-null  object        \n",
      " 8   outcome_type       274005 non-null  object        \n",
      " 9   outcome_date       274005 non-null  datetime64[ns]\n",
      " 10  outcome_condition  274005 non-null  object        \n",
      " 11  stay_duration      274005 non-null  int32         \n",
      "dtypes: datetime64[ns](2), int32(1), object(9)\n",
      "memory usage: 26.1+ MB\n"
     ]
    }
   ],
   "source": [
    "dallas_combined.info()"
   ]
  },
  {
   "cell_type": "code",
   "execution_count": 58,
   "id": "fbf4d118-810f-402f-abbf-53165e1b50ff",
   "metadata": {},
   "outputs": [],
   "source": [
    "# saving combined data\n",
    "dallas_combined.to_csv('../data/dallas-combined-shelter-data.csv', index=False)"
   ]
  }
 ],
 "metadata": {
  "kernelspec": {
   "display_name": "Python 3 (ipykernel)",
   "language": "python",
   "name": "python3"
  },
  "language_info": {
   "codemirror_mode": {
    "name": "ipython",
    "version": 3
   },
   "file_extension": ".py",
   "mimetype": "text/x-python",
   "name": "python",
   "nbconvert_exporter": "python",
   "pygments_lexer": "ipython3",
   "version": "3.12.4"
  }
 },
 "nbformat": 4,
 "nbformat_minor": 5
}
