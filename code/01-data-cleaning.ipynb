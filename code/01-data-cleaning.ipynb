{
 "cells": [
  {
   "cell_type": "markdown",
   "id": "60961e3f-7e03-442b-b9cb-047494a012d1",
   "metadata": {},
   "source": [
    "# Animal Shelter Outcomes\n",
    "---"
   ]
  },
  {
   "cell_type": "markdown",
   "id": "bccfcc25-66e7-4eac-a6c6-874a8f143191",
   "metadata": {},
   "source": [
    "Problem Statement..."
   ]
  },
  {
   "cell_type": "markdown",
   "id": "d64c9095-2d8a-4bdd-95b6-d72b32020c45",
   "metadata": {},
   "source": [
    "### Background\n",
    "..."
   ]
  },
  {
   "cell_type": "markdown",
   "id": "efedd638-8d05-4712-8ec2-b94923c235da",
   "metadata": {},
   "source": [
    "---\n",
    "## Data Cleaning"
   ]
  },
  {
   "cell_type": "code",
   "execution_count": 1,
   "id": "4e48e449-c2e2-41ea-a279-ae56ca64a500",
   "metadata": {},
   "outputs": [],
   "source": [
    "# imports\n",
    "import pandas as pd\n",
    "import numpy as np"
   ]
  },
  {
   "cell_type": "code",
   "execution_count": 2,
   "id": "67a8d69a-5047-4a16-8ec0-7dd01773d3c2",
   "metadata": {},
   "outputs": [
    {
     "data": {
      "text/html": [
       "<div>\n",
       "<style scoped>\n",
       "    .dataframe tbody tr th:only-of-type {\n",
       "        vertical-align: middle;\n",
       "    }\n",
       "\n",
       "    .dataframe tbody tr th {\n",
       "        vertical-align: top;\n",
       "    }\n",
       "\n",
       "    .dataframe thead th {\n",
       "        text-align: right;\n",
       "    }\n",
       "</style>\n",
       "<table border=\"1\" class=\"dataframe\">\n",
       "  <thead>\n",
       "    <tr style=\"text-align: right;\">\n",
       "      <th></th>\n",
       "      <th>Animal ID</th>\n",
       "      <th>Name</th>\n",
       "      <th>DateTime</th>\n",
       "      <th>MonthYear</th>\n",
       "      <th>Found Location</th>\n",
       "      <th>Intake Type</th>\n",
       "      <th>Intake Condition</th>\n",
       "      <th>Animal Type</th>\n",
       "      <th>Sex upon Intake</th>\n",
       "      <th>Age upon Intake</th>\n",
       "      <th>Breed</th>\n",
       "      <th>Color</th>\n",
       "    </tr>\n",
       "  </thead>\n",
       "  <tbody>\n",
       "    <tr>\n",
       "      <th>0</th>\n",
       "      <td>A786884</td>\n",
       "      <td>*Brock</td>\n",
       "      <td>01/03/2019 04:19:00 PM</td>\n",
       "      <td>January 2019</td>\n",
       "      <td>2501 Magin Meadow Dr in Austin (TX)</td>\n",
       "      <td>Stray</td>\n",
       "      <td>Normal</td>\n",
       "      <td>Dog</td>\n",
       "      <td>Neutered Male</td>\n",
       "      <td>2 years</td>\n",
       "      <td>Beagle Mix</td>\n",
       "      <td>Tricolor</td>\n",
       "    </tr>\n",
       "    <tr>\n",
       "      <th>1</th>\n",
       "      <td>A706918</td>\n",
       "      <td>Belle</td>\n",
       "      <td>07/05/2015 12:59:00 PM</td>\n",
       "      <td>July 2015</td>\n",
       "      <td>9409 Bluegrass Dr in Austin (TX)</td>\n",
       "      <td>Stray</td>\n",
       "      <td>Normal</td>\n",
       "      <td>Dog</td>\n",
       "      <td>Spayed Female</td>\n",
       "      <td>8 years</td>\n",
       "      <td>English Springer Spaniel</td>\n",
       "      <td>White/Liver</td>\n",
       "    </tr>\n",
       "    <tr>\n",
       "      <th>2</th>\n",
       "      <td>A724273</td>\n",
       "      <td>Runster</td>\n",
       "      <td>04/14/2016 06:43:00 PM</td>\n",
       "      <td>April 2016</td>\n",
       "      <td>2818 Palomino Trail in Austin (TX)</td>\n",
       "      <td>Stray</td>\n",
       "      <td>Normal</td>\n",
       "      <td>Dog</td>\n",
       "      <td>Intact Male</td>\n",
       "      <td>11 months</td>\n",
       "      <td>Basenji Mix</td>\n",
       "      <td>Sable/White</td>\n",
       "    </tr>\n",
       "    <tr>\n",
       "      <th>3</th>\n",
       "      <td>A665644</td>\n",
       "      <td>NaN</td>\n",
       "      <td>10/21/2013 07:59:00 AM</td>\n",
       "      <td>October 2013</td>\n",
       "      <td>Austin (TX)</td>\n",
       "      <td>Stray</td>\n",
       "      <td>Sick</td>\n",
       "      <td>Cat</td>\n",
       "      <td>Intact Female</td>\n",
       "      <td>4 weeks</td>\n",
       "      <td>Domestic Shorthair Mix</td>\n",
       "      <td>Calico</td>\n",
       "    </tr>\n",
       "    <tr>\n",
       "      <th>4</th>\n",
       "      <td>A857105</td>\n",
       "      <td>Johnny Ringo</td>\n",
       "      <td>05/12/2022 12:23:00 AM</td>\n",
       "      <td>May 2022</td>\n",
       "      <td>4404 Sarasota Drive in Austin (TX)</td>\n",
       "      <td>Public Assist</td>\n",
       "      <td>Normal</td>\n",
       "      <td>Cat</td>\n",
       "      <td>Neutered Male</td>\n",
       "      <td>2 years</td>\n",
       "      <td>Domestic Shorthair</td>\n",
       "      <td>Orange Tabby</td>\n",
       "    </tr>\n",
       "  </tbody>\n",
       "</table>\n",
       "</div>"
      ],
      "text/plain": [
       "  Animal ID          Name                DateTime     MonthYear  \\\n",
       "0   A786884        *Brock  01/03/2019 04:19:00 PM  January 2019   \n",
       "1   A706918         Belle  07/05/2015 12:59:00 PM     July 2015   \n",
       "2   A724273       Runster  04/14/2016 06:43:00 PM    April 2016   \n",
       "3   A665644           NaN  10/21/2013 07:59:00 AM  October 2013   \n",
       "4   A857105  Johnny Ringo  05/12/2022 12:23:00 AM      May 2022   \n",
       "\n",
       "                        Found Location    Intake Type Intake Condition  \\\n",
       "0  2501 Magin Meadow Dr in Austin (TX)          Stray           Normal   \n",
       "1     9409 Bluegrass Dr in Austin (TX)          Stray           Normal   \n",
       "2   2818 Palomino Trail in Austin (TX)          Stray           Normal   \n",
       "3                          Austin (TX)          Stray             Sick   \n",
       "4   4404 Sarasota Drive in Austin (TX)  Public Assist           Normal   \n",
       "\n",
       "  Animal Type Sex upon Intake Age upon Intake                     Breed  \\\n",
       "0         Dog   Neutered Male         2 years                Beagle Mix   \n",
       "1         Dog   Spayed Female         8 years  English Springer Spaniel   \n",
       "2         Dog     Intact Male       11 months               Basenji Mix   \n",
       "3         Cat   Intact Female         4 weeks    Domestic Shorthair Mix   \n",
       "4         Cat   Neutered Male         2 years        Domestic Shorthair   \n",
       "\n",
       "          Color  \n",
       "0      Tricolor  \n",
       "1   White/Liver  \n",
       "2   Sable/White  \n",
       "3        Calico  \n",
       "4  Orange Tabby  "
      ]
     },
     "execution_count": 2,
     "metadata": {},
     "output_type": "execute_result"
    }
   ],
   "source": [
    "# reading in shelter intakes\n",
    "intakes =  pd.read_csv('../data/austin_animal_center_intakes_20241017.csv')\n",
    "intakes.head()"
   ]
  },
  {
   "cell_type": "code",
   "execution_count": 3,
   "id": "5a813a7a-27bf-499c-ab4d-43ff6ad43b55",
   "metadata": {},
   "outputs": [
    {
     "name": "stdout",
     "output_type": "stream",
     "text": [
      "<class 'pandas.core.frame.DataFrame'>\n",
      "RangeIndex: 168040 entries, 0 to 168039\n",
      "Data columns (total 12 columns):\n",
      " #   Column            Non-Null Count   Dtype \n",
      "---  ------            --------------   ----- \n",
      " 0   Animal ID         168040 non-null  object\n",
      " 1   Name              119647 non-null  object\n",
      " 2   DateTime          168040 non-null  object\n",
      " 3   MonthYear         168040 non-null  object\n",
      " 4   Found Location    168040 non-null  object\n",
      " 5   Intake Type       168040 non-null  object\n",
      " 6   Intake Condition  168040 non-null  object\n",
      " 7   Animal Type       168040 non-null  object\n",
      " 8   Sex upon Intake   168038 non-null  object\n",
      " 9   Age upon Intake   168039 non-null  object\n",
      " 10  Breed             168040 non-null  object\n",
      " 11  Color             168040 non-null  object\n",
      "dtypes: object(12)\n",
      "memory usage: 15.4+ MB\n"
     ]
    }
   ],
   "source": [
    "intakes.info()"
   ]
  },
  {
   "cell_type": "markdown",
   "id": "07bc91ad-ac02-4e5a-ac09-652d0d5bd36f",
   "metadata": {},
   "source": [
    "*The Name column has a lot of null values and we're assuming a pet's name won't affect their chances of adoption, so going to drop this column. Also dropping MonthYear because that information is also in the DateTime column.*"
   ]
  },
  {
   "cell_type": "code",
   "execution_count": 4,
   "id": "c63937ed-23da-409d-b8ae-e02b74eb7fb2",
   "metadata": {},
   "outputs": [],
   "source": [
    "# dropping inconsequential columns\n",
    "intakes.drop(columns=['Name', 'MonthYear'], inplace=True)"
   ]
  },
  {
   "cell_type": "code",
   "execution_count": 5,
   "id": "6934bd53-7a0b-41d6-8aca-5055491fb195",
   "metadata": {},
   "outputs": [],
   "source": [
    "# renaming columns to be intake specific and snake case\n",
    "columns = {\n",
    "    'Animal ID': 'animal_id',\n",
    "    'DateTime': 'intake_time',\n",
    "    'Found Location': 'found_location',\n",
    "    'Intake Type': 'intake_type',\n",
    "    'Intake Condition': 'intake_condition',\n",
    "    'Animal Type': 'animal_type',\n",
    "    'Sex upon Intake': 'intake_gender',\n",
    "    'Age upon Intake': 'intake_age',\n",
    "    'Breed': 'intake_breed',\n",
    "    'Color': 'intake_color'    \n",
    "}\n",
    "\n",
    "intakes = intakes.rename(columns=columns)"
   ]
  },
  {
   "cell_type": "code",
   "execution_count": 6,
   "id": "02c80b92-efa9-4f33-b74e-b6152767b9d3",
   "metadata": {},
   "outputs": [],
   "source": [
    "# converting intake_time column to datetime format\n",
    "intakes['intake_time'] = pd.to_datetime(intakes['intake_time'], format='%m/%d/%Y %H:%M:%S %p')"
   ]
  },
  {
   "cell_type": "code",
   "execution_count": 7,
   "id": "bdc2322c-c2e5-48ea-8ab6-2a884cbc1231",
   "metadata": {},
   "outputs": [
    {
     "data": {
      "text/plain": [
       "animal_id           151007\n",
       "intake_time         115671\n",
       "found_location       68164\n",
       "intake_type              6\n",
       "intake_condition        20\n",
       "animal_type              5\n",
       "intake_gender            5\n",
       "intake_age              55\n",
       "intake_breed          2969\n",
       "intake_color           651\n",
       "dtype: int64"
      ]
     },
     "execution_count": 7,
     "metadata": {},
     "output_type": "execute_result"
    }
   ],
   "source": [
    "intakes.nunique()"
   ]
  },
  {
   "cell_type": "code",
   "execution_count": 8,
   "id": "465eee41-5881-4359-889a-93e3081d77c2",
   "metadata": {},
   "outputs": [
    {
     "data": {
      "text/html": [
       "<div>\n",
       "<style scoped>\n",
       "    .dataframe tbody tr th:only-of-type {\n",
       "        vertical-align: middle;\n",
       "    }\n",
       "\n",
       "    .dataframe tbody tr th {\n",
       "        vertical-align: top;\n",
       "    }\n",
       "\n",
       "    .dataframe thead th {\n",
       "        text-align: right;\n",
       "    }\n",
       "</style>\n",
       "<table border=\"1\" class=\"dataframe\">\n",
       "  <thead>\n",
       "    <tr style=\"text-align: right;\">\n",
       "      <th></th>\n",
       "      <th>animal_id</th>\n",
       "      <th>intake_time</th>\n",
       "      <th>found_location</th>\n",
       "      <th>intake_type</th>\n",
       "      <th>intake_condition</th>\n",
       "      <th>animal_type</th>\n",
       "      <th>intake_gender</th>\n",
       "      <th>intake_age</th>\n",
       "      <th>intake_breed</th>\n",
       "      <th>intake_color</th>\n",
       "    </tr>\n",
       "  </thead>\n",
       "  <tbody>\n",
       "    <tr>\n",
       "      <th>113926</th>\n",
       "      <td>A006100</td>\n",
       "      <td>2014-03-07 02:26:00</td>\n",
       "      <td>8700 Research in Austin (TX)</td>\n",
       "      <td>Public Assist</td>\n",
       "      <td>Normal</td>\n",
       "      <td>Dog</td>\n",
       "      <td>Neutered Male</td>\n",
       "      <td>6 years</td>\n",
       "      <td>Spinone Italiano Mix</td>\n",
       "      <td>Yellow/White</td>\n",
       "    </tr>\n",
       "    <tr>\n",
       "      <th>5413</th>\n",
       "      <td>A006100</td>\n",
       "      <td>2014-12-19 10:21:00</td>\n",
       "      <td>8700 Research Blvd in Austin (TX)</td>\n",
       "      <td>Public Assist</td>\n",
       "      <td>Normal</td>\n",
       "      <td>Dog</td>\n",
       "      <td>Neutered Male</td>\n",
       "      <td>7 years</td>\n",
       "      <td>Spinone Italiano Mix</td>\n",
       "      <td>Yellow/White</td>\n",
       "    </tr>\n",
       "    <tr>\n",
       "      <th>25241</th>\n",
       "      <td>A006100</td>\n",
       "      <td>2017-12-07 02:07:00</td>\n",
       "      <td>Colony Creek And Hunters Trace in Austin (TX)</td>\n",
       "      <td>Stray</td>\n",
       "      <td>Normal</td>\n",
       "      <td>Dog</td>\n",
       "      <td>Neutered Male</td>\n",
       "      <td>10 years</td>\n",
       "      <td>Spinone Italiano Mix</td>\n",
       "      <td>Yellow/White</td>\n",
       "    </tr>\n",
       "    <tr>\n",
       "      <th>88544</th>\n",
       "      <td>A047759</td>\n",
       "      <td>2014-04-02 03:55:00</td>\n",
       "      <td>Austin (TX)</td>\n",
       "      <td>Owner Surrender</td>\n",
       "      <td>Normal</td>\n",
       "      <td>Dog</td>\n",
       "      <td>Neutered Male</td>\n",
       "      <td>10 years</td>\n",
       "      <td>Dachshund</td>\n",
       "      <td>Tricolor</td>\n",
       "    </tr>\n",
       "    <tr>\n",
       "      <th>120450</th>\n",
       "      <td>A134067</td>\n",
       "      <td>2013-11-16 09:02:00</td>\n",
       "      <td>12034 Research Blvd in Austin (TX)</td>\n",
       "      <td>Public Assist</td>\n",
       "      <td>Injured</td>\n",
       "      <td>Dog</td>\n",
       "      <td>Neutered Male</td>\n",
       "      <td>16 years</td>\n",
       "      <td>Shetland Sheepdog</td>\n",
       "      <td>Brown/White</td>\n",
       "    </tr>\n",
       "  </tbody>\n",
       "</table>\n",
       "</div>"
      ],
      "text/plain": [
       "       animal_id         intake_time  \\\n",
       "113926   A006100 2014-03-07 02:26:00   \n",
       "5413     A006100 2014-12-19 10:21:00   \n",
       "25241    A006100 2017-12-07 02:07:00   \n",
       "88544    A047759 2014-04-02 03:55:00   \n",
       "120450   A134067 2013-11-16 09:02:00   \n",
       "\n",
       "                                       found_location      intake_type  \\\n",
       "113926                   8700 Research in Austin (TX)    Public Assist   \n",
       "5413                8700 Research Blvd in Austin (TX)    Public Assist   \n",
       "25241   Colony Creek And Hunters Trace in Austin (TX)            Stray   \n",
       "88544                                     Austin (TX)  Owner Surrender   \n",
       "120450             12034 Research Blvd in Austin (TX)    Public Assist   \n",
       "\n",
       "       intake_condition animal_type  intake_gender intake_age  \\\n",
       "113926           Normal         Dog  Neutered Male    6 years   \n",
       "5413             Normal         Dog  Neutered Male    7 years   \n",
       "25241            Normal         Dog  Neutered Male   10 years   \n",
       "88544            Normal         Dog  Neutered Male   10 years   \n",
       "120450          Injured         Dog  Neutered Male   16 years   \n",
       "\n",
       "                intake_breed  intake_color  \n",
       "113926  Spinone Italiano Mix  Yellow/White  \n",
       "5413    Spinone Italiano Mix  Yellow/White  \n",
       "25241   Spinone Italiano Mix  Yellow/White  \n",
       "88544              Dachshund      Tricolor  \n",
       "120450     Shetland Sheepdog   Brown/White  "
      ]
     },
     "execution_count": 8,
     "metadata": {},
     "output_type": "execute_result"
    }
   ],
   "source": [
    "intakes.sort_values(by=['animal_id','intake_time'], inplace=True)\n",
    "intakes.head()"
   ]
  },
  {
   "cell_type": "markdown",
   "id": "8f7937a2-79b5-494b-a4bc-eca35abd4aee",
   "metadata": {},
   "source": [
    "*There appear to be some animals that were in a shelter multiple times, going to create column with a unique animal_id for each stay before merging with outcomes data.*"
   ]
  },
  {
   "cell_type": "code",
   "execution_count": 9,
   "id": "8e24d9c3-7e06-4ff9-a66b-62d9539527df",
   "metadata": {},
   "outputs": [],
   "source": [
    "intakes['stay'] = intakes.groupby('animal_id').cumcount() +1 "
   ]
  },
  {
   "cell_type": "code",
   "execution_count": 10,
   "id": "bcfb6755-9ffd-40e4-8cb0-ea39e09feac4",
   "metadata": {},
   "outputs": [
    {
     "data": {
      "text/plain": [
       "animal_id           151007\n",
       "intake_time         115671\n",
       "found_location       68164\n",
       "intake_type              6\n",
       "intake_condition        20\n",
       "animal_type              5\n",
       "intake_gender            5\n",
       "intake_age              55\n",
       "intake_breed          2969\n",
       "intake_color           651\n",
       "stay                    33\n",
       "dtype: int64"
      ]
     },
     "execution_count": 10,
     "metadata": {},
     "output_type": "execute_result"
    }
   ],
   "source": [
    "intakes.nunique()"
   ]
  },
  {
   "cell_type": "code",
   "execution_count": 11,
   "id": "761f1b56-6efe-40d0-b52f-b4e99632edd0",
   "metadata": {},
   "outputs": [],
   "source": [
    "intakes['animal_stay'] = intakes['animal_id'] + '-' + intakes['stay'].astype('str')"
   ]
  },
  {
   "cell_type": "code",
   "execution_count": 12,
   "id": "03588306-4c72-4194-9a53-39f853aabfa0",
   "metadata": {},
   "outputs": [],
   "source": [
    "# dropping animal_id and stay columns now they're incorporated in animal_stay\n",
    "intakes.drop(columns=['animal_id', 'stay'], inplace=True)"
   ]
  },
  {
   "cell_type": "code",
   "execution_count": 13,
   "id": "2d91119d-0a7c-475c-a7b5-13b0ea60bdfc",
   "metadata": {},
   "outputs": [
    {
     "data": {
      "text/html": [
       "<div>\n",
       "<style scoped>\n",
       "    .dataframe tbody tr th:only-of-type {\n",
       "        vertical-align: middle;\n",
       "    }\n",
       "\n",
       "    .dataframe tbody tr th {\n",
       "        vertical-align: top;\n",
       "    }\n",
       "\n",
       "    .dataframe thead th {\n",
       "        text-align: right;\n",
       "    }\n",
       "</style>\n",
       "<table border=\"1\" class=\"dataframe\">\n",
       "  <thead>\n",
       "    <tr style=\"text-align: right;\">\n",
       "      <th></th>\n",
       "      <th>Animal ID</th>\n",
       "      <th>Name</th>\n",
       "      <th>DateTime</th>\n",
       "      <th>MonthYear</th>\n",
       "      <th>Date of Birth</th>\n",
       "      <th>Outcome Type</th>\n",
       "      <th>Outcome Subtype</th>\n",
       "      <th>Animal Type</th>\n",
       "      <th>Sex upon Outcome</th>\n",
       "      <th>Age upon Outcome</th>\n",
       "      <th>Breed</th>\n",
       "      <th>Color</th>\n",
       "    </tr>\n",
       "  </thead>\n",
       "  <tbody>\n",
       "    <tr>\n",
       "      <th>0</th>\n",
       "      <td>A882831</td>\n",
       "      <td>*Hamilton</td>\n",
       "      <td>07/01/2023 06:12:00 PM</td>\n",
       "      <td>Jul 2023</td>\n",
       "      <td>03/25/2023</td>\n",
       "      <td>Adoption</td>\n",
       "      <td>NaN</td>\n",
       "      <td>Cat</td>\n",
       "      <td>Neutered Male</td>\n",
       "      <td>3 months</td>\n",
       "      <td>Domestic Shorthair Mix</td>\n",
       "      <td>Black/White</td>\n",
       "    </tr>\n",
       "    <tr>\n",
       "      <th>1</th>\n",
       "      <td>A794011</td>\n",
       "      <td>Chunk</td>\n",
       "      <td>05/08/2019 06:20:00 PM</td>\n",
       "      <td>May 2019</td>\n",
       "      <td>05/02/2017</td>\n",
       "      <td>Rto-Adopt</td>\n",
       "      <td>NaN</td>\n",
       "      <td>Cat</td>\n",
       "      <td>Neutered Male</td>\n",
       "      <td>2 years</td>\n",
       "      <td>Domestic Shorthair Mix</td>\n",
       "      <td>Brown Tabby/White</td>\n",
       "    </tr>\n",
       "    <tr>\n",
       "      <th>2</th>\n",
       "      <td>A776359</td>\n",
       "      <td>Gizmo</td>\n",
       "      <td>07/18/2018 04:02:00 PM</td>\n",
       "      <td>Jul 2018</td>\n",
       "      <td>07/12/2017</td>\n",
       "      <td>Adoption</td>\n",
       "      <td>NaN</td>\n",
       "      <td>Dog</td>\n",
       "      <td>Neutered Male</td>\n",
       "      <td>1 year</td>\n",
       "      <td>Chihuahua Shorthair Mix</td>\n",
       "      <td>White/Brown</td>\n",
       "    </tr>\n",
       "    <tr>\n",
       "      <th>3</th>\n",
       "      <td>A821648</td>\n",
       "      <td>NaN</td>\n",
       "      <td>08/16/2020 11:38:00 AM</td>\n",
       "      <td>Aug 2020</td>\n",
       "      <td>08/16/2019</td>\n",
       "      <td>Euthanasia</td>\n",
       "      <td>NaN</td>\n",
       "      <td>Other</td>\n",
       "      <td>Unknown</td>\n",
       "      <td>1 year</td>\n",
       "      <td>Raccoon</td>\n",
       "      <td>Gray</td>\n",
       "    </tr>\n",
       "    <tr>\n",
       "      <th>4</th>\n",
       "      <td>A720371</td>\n",
       "      <td>Moose</td>\n",
       "      <td>02/13/2016 05:59:00 PM</td>\n",
       "      <td>Feb 2016</td>\n",
       "      <td>10/08/2015</td>\n",
       "      <td>Adoption</td>\n",
       "      <td>NaN</td>\n",
       "      <td>Dog</td>\n",
       "      <td>Neutered Male</td>\n",
       "      <td>4 months</td>\n",
       "      <td>Anatol Shepherd/Labrador Retriever</td>\n",
       "      <td>Buff</td>\n",
       "    </tr>\n",
       "  </tbody>\n",
       "</table>\n",
       "</div>"
      ],
      "text/plain": [
       "  Animal ID       Name                DateTime MonthYear Date of Birth  \\\n",
       "0   A882831  *Hamilton  07/01/2023 06:12:00 PM  Jul 2023    03/25/2023   \n",
       "1   A794011      Chunk  05/08/2019 06:20:00 PM  May 2019    05/02/2017   \n",
       "2   A776359      Gizmo  07/18/2018 04:02:00 PM  Jul 2018    07/12/2017   \n",
       "3   A821648        NaN  08/16/2020 11:38:00 AM  Aug 2020    08/16/2019   \n",
       "4   A720371      Moose  02/13/2016 05:59:00 PM  Feb 2016    10/08/2015   \n",
       "\n",
       "  Outcome Type Outcome Subtype Animal Type Sex upon Outcome Age upon Outcome  \\\n",
       "0     Adoption             NaN         Cat    Neutered Male         3 months   \n",
       "1    Rto-Adopt             NaN         Cat    Neutered Male          2 years   \n",
       "2     Adoption             NaN         Dog    Neutered Male           1 year   \n",
       "3   Euthanasia             NaN       Other          Unknown           1 year   \n",
       "4     Adoption             NaN         Dog    Neutered Male         4 months   \n",
       "\n",
       "                                Breed              Color  \n",
       "0              Domestic Shorthair Mix        Black/White  \n",
       "1              Domestic Shorthair Mix  Brown Tabby/White  \n",
       "2             Chihuahua Shorthair Mix        White/Brown  \n",
       "3                             Raccoon               Gray  \n",
       "4  Anatol Shepherd/Labrador Retriever               Buff  "
      ]
     },
     "execution_count": 13,
     "metadata": {},
     "output_type": "execute_result"
    }
   ],
   "source": [
    "# reading in shelter outcomes\n",
    "outcomes = pd.read_csv('../data/austin_animal_center_outcomes_20241017.csv')\n",
    "outcomes.head()"
   ]
  },
  {
   "cell_type": "code",
   "execution_count": 14,
   "id": "7f4f3169-11c9-4eb1-b930-9e80ba216477",
   "metadata": {},
   "outputs": [
    {
     "name": "stdout",
     "output_type": "stream",
     "text": [
      "<class 'pandas.core.frame.DataFrame'>\n",
      "RangeIndex: 167942 entries, 0 to 167941\n",
      "Data columns (total 12 columns):\n",
      " #   Column            Non-Null Count   Dtype \n",
      "---  ------            --------------   ----- \n",
      " 0   Animal ID         167942 non-null  object\n",
      " 1   Name              119733 non-null  object\n",
      " 2   DateTime          167942 non-null  object\n",
      " 3   MonthYear         167942 non-null  object\n",
      " 4   Date of Birth     167942 non-null  object\n",
      " 5   Outcome Type      167896 non-null  object\n",
      " 6   Outcome Subtype   77144 non-null   object\n",
      " 7   Animal Type       167942 non-null  object\n",
      " 8   Sex upon Outcome  167940 non-null  object\n",
      " 9   Age upon Outcome  167926 non-null  object\n",
      " 10  Breed             167942 non-null  object\n",
      " 11  Color             167942 non-null  object\n",
      "dtypes: object(12)\n",
      "memory usage: 15.4+ MB\n"
     ]
    }
   ],
   "source": [
    "outcomes.info()"
   ]
  },
  {
   "cell_type": "markdown",
   "id": "bdd0cf96-5dc3-4fa9-a57c-3b9c01a94425",
   "metadata": {},
   "source": [
    "*Dropping Name and MonthYear columns for outcomes data as well as Outcome Subtype. This column has even more null values than Name and we'll be focusing on the primary Outcome Type only.*"
   ]
  },
  {
   "cell_type": "code",
   "execution_count": 15,
   "id": "db0b58e5-5fff-42c3-815e-6b2526c9c9c4",
   "metadata": {},
   "outputs": [],
   "source": [
    "# dropping inconsequential columns\n",
    "outcomes.drop(columns=['Name', 'MonthYear', 'Outcome Subtype'], inplace=True)"
   ]
  },
  {
   "cell_type": "code",
   "execution_count": 16,
   "id": "0af4de1a-802e-46ed-ba06-6f9dc8d6518f",
   "metadata": {},
   "outputs": [],
   "source": [
    "# renaming columns to be outcome specific and snake case\n",
    "outcome_columns = {\n",
    "    'Animal ID': 'animal_id',\n",
    "    'DateTime': 'outcome_time',\n",
    "    'Date of Birth': 'date_of_birth',\n",
    "    'Outcome Type': 'outcome_type',\n",
    "    'Animal Type': 'outcome_animal_type',\n",
    "    'Sex upon Outcome': 'outcome_gender',\n",
    "    'Age upon Outcome': 'outcome_age',\n",
    "    'Breed': 'outcome_breed',\n",
    "    'Color': 'outcome_color'    \n",
    "}\n",
    "\n",
    "outcomes = outcomes.rename(columns=outcome_columns)"
   ]
  },
  {
   "cell_type": "code",
   "execution_count": 17,
   "id": "a4216afb-dbda-40f4-9587-ba74de6acde8",
   "metadata": {},
   "outputs": [],
   "source": [
    "# converting outcome_time and date of birth columns to datetime format\n",
    "outcomes['outcome_time'] = pd.to_datetime(outcomes['outcome_time'], format='%m/%d/%Y %H:%M:%S %p')\n",
    "outcomes['date_of_birth'] = pd.to_datetime(outcomes['date_of_birth'], format='%m/%d/%Y')"
   ]
  },
  {
   "cell_type": "code",
   "execution_count": 18,
   "id": "545d4bbe-2bf6-4b7e-abce-cd753305745f",
   "metadata": {},
   "outputs": [
    {
     "data": {
      "text/plain": [
       "animal_id              150912\n",
       "outcome_time           139971\n",
       "date_of_birth            8501\n",
       "outcome_type               11\n",
       "outcome_animal_type         5\n",
       "outcome_gender              5\n",
       "outcome_age                55\n",
       "outcome_breed            2969\n",
       "outcome_color             653\n",
       "dtype: int64"
      ]
     },
     "execution_count": 18,
     "metadata": {},
     "output_type": "execute_result"
    }
   ],
   "source": [
    "outcomes.nunique()"
   ]
  },
  {
   "cell_type": "code",
   "execution_count": 19,
   "id": "313e3edd-6b15-4e4c-a10e-368ff38bbb3f",
   "metadata": {},
   "outputs": [
    {
     "data": {
      "text/html": [
       "<div>\n",
       "<style scoped>\n",
       "    .dataframe tbody tr th:only-of-type {\n",
       "        vertical-align: middle;\n",
       "    }\n",
       "\n",
       "    .dataframe tbody tr th {\n",
       "        vertical-align: top;\n",
       "    }\n",
       "\n",
       "    .dataframe thead th {\n",
       "        text-align: right;\n",
       "    }\n",
       "</style>\n",
       "<table border=\"1\" class=\"dataframe\">\n",
       "  <thead>\n",
       "    <tr style=\"text-align: right;\">\n",
       "      <th></th>\n",
       "      <th>animal_id</th>\n",
       "      <th>outcome_time</th>\n",
       "      <th>date_of_birth</th>\n",
       "      <th>outcome_type</th>\n",
       "      <th>outcome_animal_type</th>\n",
       "      <th>outcome_gender</th>\n",
       "      <th>outcome_age</th>\n",
       "      <th>outcome_breed</th>\n",
       "      <th>outcome_color</th>\n",
       "    </tr>\n",
       "  </thead>\n",
       "  <tbody>\n",
       "    <tr>\n",
       "      <th>145647</th>\n",
       "      <td>A006100</td>\n",
       "      <td>2014-03-08 05:10:00</td>\n",
       "      <td>2007-07-09</td>\n",
       "      <td>Return to Owner</td>\n",
       "      <td>Dog</td>\n",
       "      <td>Neutered Male</td>\n",
       "      <td>6 years</td>\n",
       "      <td>Spinone Italiano Mix</td>\n",
       "      <td>Yellow/White</td>\n",
       "    </tr>\n",
       "    <tr>\n",
       "      <th>71767</th>\n",
       "      <td>A006100</td>\n",
       "      <td>2014-12-20 04:35:00</td>\n",
       "      <td>2007-07-09</td>\n",
       "      <td>Return to Owner</td>\n",
       "      <td>Dog</td>\n",
       "      <td>Neutered Male</td>\n",
       "      <td>7 years</td>\n",
       "      <td>Spinone Italiano Mix</td>\n",
       "      <td>Yellow/White</td>\n",
       "    </tr>\n",
       "    <tr>\n",
       "      <th>128276</th>\n",
       "      <td>A006100</td>\n",
       "      <td>2017-12-07 12:00:00</td>\n",
       "      <td>2007-07-09</td>\n",
       "      <td>Return to Owner</td>\n",
       "      <td>Dog</td>\n",
       "      <td>Neutered Male</td>\n",
       "      <td>10 years</td>\n",
       "      <td>Spinone Italiano Mix</td>\n",
       "      <td>Yellow/White</td>\n",
       "    </tr>\n",
       "    <tr>\n",
       "      <th>49549</th>\n",
       "      <td>A047759</td>\n",
       "      <td>2014-04-07 03:12:00</td>\n",
       "      <td>2004-04-02</td>\n",
       "      <td>Transfer</td>\n",
       "      <td>Dog</td>\n",
       "      <td>Neutered Male</td>\n",
       "      <td>10 years</td>\n",
       "      <td>Dachshund</td>\n",
       "      <td>Tricolor</td>\n",
       "    </tr>\n",
       "    <tr>\n",
       "      <th>102988</th>\n",
       "      <td>A134067</td>\n",
       "      <td>2013-11-16 11:54:00</td>\n",
       "      <td>1997-10-16</td>\n",
       "      <td>Return to Owner</td>\n",
       "      <td>Dog</td>\n",
       "      <td>Neutered Male</td>\n",
       "      <td>16 years</td>\n",
       "      <td>Shetland Sheepdog</td>\n",
       "      <td>Brown/White</td>\n",
       "    </tr>\n",
       "  </tbody>\n",
       "</table>\n",
       "</div>"
      ],
      "text/plain": [
       "       animal_id        outcome_time date_of_birth     outcome_type  \\\n",
       "145647   A006100 2014-03-08 05:10:00    2007-07-09  Return to Owner   \n",
       "71767    A006100 2014-12-20 04:35:00    2007-07-09  Return to Owner   \n",
       "128276   A006100 2017-12-07 12:00:00    2007-07-09  Return to Owner   \n",
       "49549    A047759 2014-04-07 03:12:00    2004-04-02         Transfer   \n",
       "102988   A134067 2013-11-16 11:54:00    1997-10-16  Return to Owner   \n",
       "\n",
       "       outcome_animal_type outcome_gender outcome_age         outcome_breed  \\\n",
       "145647                 Dog  Neutered Male     6 years  Spinone Italiano Mix   \n",
       "71767                  Dog  Neutered Male     7 years  Spinone Italiano Mix   \n",
       "128276                 Dog  Neutered Male    10 years  Spinone Italiano Mix   \n",
       "49549                  Dog  Neutered Male    10 years             Dachshund   \n",
       "102988                 Dog  Neutered Male    16 years     Shetland Sheepdog   \n",
       "\n",
       "       outcome_color  \n",
       "145647  Yellow/White  \n",
       "71767   Yellow/White  \n",
       "128276  Yellow/White  \n",
       "49549       Tricolor  \n",
       "102988   Brown/White  "
      ]
     },
     "execution_count": 19,
     "metadata": {},
     "output_type": "execute_result"
    }
   ],
   "source": [
    "outcomes.sort_values(by=['animal_id','outcome_time'], inplace=True)\n",
    "outcomes.head()"
   ]
  },
  {
   "cell_type": "markdown",
   "id": "88c853fa-0c09-4e57-8e62-376f8e6a3d03",
   "metadata": {},
   "source": [
    "*Need to create stay specific column for outcomes as well.*"
   ]
  },
  {
   "cell_type": "code",
   "execution_count": 20,
   "id": "bab43a7f-0385-41e4-b4cc-fb8ed0f0456c",
   "metadata": {},
   "outputs": [],
   "source": [
    "outcomes['stay'] = outcomes.groupby('animal_id').cumcount() +1 "
   ]
  },
  {
   "cell_type": "code",
   "execution_count": 21,
   "id": "560e691b-25bf-41b8-8823-8e33b8050d3a",
   "metadata": {},
   "outputs": [],
   "source": [
    "outcomes['animal_stay'] = outcomes['animal_id'] + '-' + (outcomes['stay']).astype('str')"
   ]
  },
  {
   "cell_type": "code",
   "execution_count": 22,
   "id": "a89c7c73-a48a-4059-85d7-e29707f1a843",
   "metadata": {},
   "outputs": [],
   "source": [
    "# dropping animal_id and stay colums for outcomes\n",
    "outcomes.drop(columns=['animal_id', 'stay'], inplace=True)"
   ]
  },
  {
   "cell_type": "markdown",
   "id": "726e4cdf-52b2-4a3d-8f96-938e846241fd",
   "metadata": {},
   "source": [
    "## Merge DataFrames"
   ]
  },
  {
   "cell_type": "code",
   "execution_count": 23,
   "id": "b8591622-b607-4bbd-9e3b-adef67741ec1",
   "metadata": {},
   "outputs": [],
   "source": [
    "# meging intakes and outcomes\n",
    "intakes_outcomes = pd.merge(left=intakes, right=outcomes, how='inner', on='animal_stay')"
   ]
  },
  {
   "cell_type": "code",
   "execution_count": 24,
   "id": "c1f1c310-359e-468c-b195-a0ec7ed1228e",
   "metadata": {},
   "outputs": [
    {
     "data": {
      "text/html": [
       "<div>\n",
       "<style scoped>\n",
       "    .dataframe tbody tr th:only-of-type {\n",
       "        vertical-align: middle;\n",
       "    }\n",
       "\n",
       "    .dataframe tbody tr th {\n",
       "        vertical-align: top;\n",
       "    }\n",
       "\n",
       "    .dataframe thead th {\n",
       "        text-align: right;\n",
       "    }\n",
       "</style>\n",
       "<table border=\"1\" class=\"dataframe\">\n",
       "  <thead>\n",
       "    <tr style=\"text-align: right;\">\n",
       "      <th></th>\n",
       "      <th>intake_time</th>\n",
       "      <th>found_location</th>\n",
       "      <th>intake_type</th>\n",
       "      <th>intake_condition</th>\n",
       "      <th>animal_type</th>\n",
       "      <th>intake_gender</th>\n",
       "      <th>intake_age</th>\n",
       "      <th>intake_breed</th>\n",
       "      <th>intake_color</th>\n",
       "      <th>animal_stay</th>\n",
       "      <th>outcome_time</th>\n",
       "      <th>date_of_birth</th>\n",
       "      <th>outcome_type</th>\n",
       "      <th>outcome_animal_type</th>\n",
       "      <th>outcome_gender</th>\n",
       "      <th>outcome_age</th>\n",
       "      <th>outcome_breed</th>\n",
       "      <th>outcome_color</th>\n",
       "    </tr>\n",
       "  </thead>\n",
       "  <tbody>\n",
       "    <tr>\n",
       "      <th>0</th>\n",
       "      <td>2014-03-07 02:26:00</td>\n",
       "      <td>8700 Research in Austin (TX)</td>\n",
       "      <td>Public Assist</td>\n",
       "      <td>Normal</td>\n",
       "      <td>Dog</td>\n",
       "      <td>Neutered Male</td>\n",
       "      <td>6 years</td>\n",
       "      <td>Spinone Italiano Mix</td>\n",
       "      <td>Yellow/White</td>\n",
       "      <td>A006100-1</td>\n",
       "      <td>2014-03-08 05:10:00</td>\n",
       "      <td>2007-07-09</td>\n",
       "      <td>Return to Owner</td>\n",
       "      <td>Dog</td>\n",
       "      <td>Neutered Male</td>\n",
       "      <td>6 years</td>\n",
       "      <td>Spinone Italiano Mix</td>\n",
       "      <td>Yellow/White</td>\n",
       "    </tr>\n",
       "    <tr>\n",
       "      <th>1</th>\n",
       "      <td>2014-12-19 10:21:00</td>\n",
       "      <td>8700 Research Blvd in Austin (TX)</td>\n",
       "      <td>Public Assist</td>\n",
       "      <td>Normal</td>\n",
       "      <td>Dog</td>\n",
       "      <td>Neutered Male</td>\n",
       "      <td>7 years</td>\n",
       "      <td>Spinone Italiano Mix</td>\n",
       "      <td>Yellow/White</td>\n",
       "      <td>A006100-2</td>\n",
       "      <td>2014-12-20 04:35:00</td>\n",
       "      <td>2007-07-09</td>\n",
       "      <td>Return to Owner</td>\n",
       "      <td>Dog</td>\n",
       "      <td>Neutered Male</td>\n",
       "      <td>7 years</td>\n",
       "      <td>Spinone Italiano Mix</td>\n",
       "      <td>Yellow/White</td>\n",
       "    </tr>\n",
       "    <tr>\n",
       "      <th>2</th>\n",
       "      <td>2017-12-07 02:07:00</td>\n",
       "      <td>Colony Creek And Hunters Trace in Austin (TX)</td>\n",
       "      <td>Stray</td>\n",
       "      <td>Normal</td>\n",
       "      <td>Dog</td>\n",
       "      <td>Neutered Male</td>\n",
       "      <td>10 years</td>\n",
       "      <td>Spinone Italiano Mix</td>\n",
       "      <td>Yellow/White</td>\n",
       "      <td>A006100-3</td>\n",
       "      <td>2017-12-07 12:00:00</td>\n",
       "      <td>2007-07-09</td>\n",
       "      <td>Return to Owner</td>\n",
       "      <td>Dog</td>\n",
       "      <td>Neutered Male</td>\n",
       "      <td>10 years</td>\n",
       "      <td>Spinone Italiano Mix</td>\n",
       "      <td>Yellow/White</td>\n",
       "    </tr>\n",
       "    <tr>\n",
       "      <th>3</th>\n",
       "      <td>2014-04-02 03:55:00</td>\n",
       "      <td>Austin (TX)</td>\n",
       "      <td>Owner Surrender</td>\n",
       "      <td>Normal</td>\n",
       "      <td>Dog</td>\n",
       "      <td>Neutered Male</td>\n",
       "      <td>10 years</td>\n",
       "      <td>Dachshund</td>\n",
       "      <td>Tricolor</td>\n",
       "      <td>A047759-1</td>\n",
       "      <td>2014-04-07 03:12:00</td>\n",
       "      <td>2004-04-02</td>\n",
       "      <td>Transfer</td>\n",
       "      <td>Dog</td>\n",
       "      <td>Neutered Male</td>\n",
       "      <td>10 years</td>\n",
       "      <td>Dachshund</td>\n",
       "      <td>Tricolor</td>\n",
       "    </tr>\n",
       "    <tr>\n",
       "      <th>4</th>\n",
       "      <td>2013-11-16 09:02:00</td>\n",
       "      <td>12034 Research Blvd in Austin (TX)</td>\n",
       "      <td>Public Assist</td>\n",
       "      <td>Injured</td>\n",
       "      <td>Dog</td>\n",
       "      <td>Neutered Male</td>\n",
       "      <td>16 years</td>\n",
       "      <td>Shetland Sheepdog</td>\n",
       "      <td>Brown/White</td>\n",
       "      <td>A134067-1</td>\n",
       "      <td>2013-11-16 11:54:00</td>\n",
       "      <td>1997-10-16</td>\n",
       "      <td>Return to Owner</td>\n",
       "      <td>Dog</td>\n",
       "      <td>Neutered Male</td>\n",
       "      <td>16 years</td>\n",
       "      <td>Shetland Sheepdog</td>\n",
       "      <td>Brown/White</td>\n",
       "    </tr>\n",
       "  </tbody>\n",
       "</table>\n",
       "</div>"
      ],
      "text/plain": [
       "          intake_time                                 found_location  \\\n",
       "0 2014-03-07 02:26:00                   8700 Research in Austin (TX)   \n",
       "1 2014-12-19 10:21:00              8700 Research Blvd in Austin (TX)   \n",
       "2 2017-12-07 02:07:00  Colony Creek And Hunters Trace in Austin (TX)   \n",
       "3 2014-04-02 03:55:00                                    Austin (TX)   \n",
       "4 2013-11-16 09:02:00             12034 Research Blvd in Austin (TX)   \n",
       "\n",
       "       intake_type intake_condition animal_type  intake_gender intake_age  \\\n",
       "0    Public Assist           Normal         Dog  Neutered Male    6 years   \n",
       "1    Public Assist           Normal         Dog  Neutered Male    7 years   \n",
       "2            Stray           Normal         Dog  Neutered Male   10 years   \n",
       "3  Owner Surrender           Normal         Dog  Neutered Male   10 years   \n",
       "4    Public Assist          Injured         Dog  Neutered Male   16 years   \n",
       "\n",
       "           intake_breed  intake_color animal_stay        outcome_time  \\\n",
       "0  Spinone Italiano Mix  Yellow/White   A006100-1 2014-03-08 05:10:00   \n",
       "1  Spinone Italiano Mix  Yellow/White   A006100-2 2014-12-20 04:35:00   \n",
       "2  Spinone Italiano Mix  Yellow/White   A006100-3 2017-12-07 12:00:00   \n",
       "3             Dachshund      Tricolor   A047759-1 2014-04-07 03:12:00   \n",
       "4     Shetland Sheepdog   Brown/White   A134067-1 2013-11-16 11:54:00   \n",
       "\n",
       "  date_of_birth     outcome_type outcome_animal_type outcome_gender  \\\n",
       "0    2007-07-09  Return to Owner                 Dog  Neutered Male   \n",
       "1    2007-07-09  Return to Owner                 Dog  Neutered Male   \n",
       "2    2007-07-09  Return to Owner                 Dog  Neutered Male   \n",
       "3    2004-04-02         Transfer                 Dog  Neutered Male   \n",
       "4    1997-10-16  Return to Owner                 Dog  Neutered Male   \n",
       "\n",
       "  outcome_age         outcome_breed outcome_color  \n",
       "0     6 years  Spinone Italiano Mix  Yellow/White  \n",
       "1     7 years  Spinone Italiano Mix  Yellow/White  \n",
       "2    10 years  Spinone Italiano Mix  Yellow/White  \n",
       "3    10 years             Dachshund      Tricolor  \n",
       "4    16 years     Shetland Sheepdog   Brown/White  "
      ]
     },
     "execution_count": 24,
     "metadata": {},
     "output_type": "execute_result"
    }
   ],
   "source": [
    "intakes_outcomes.head()"
   ]
  },
  {
   "cell_type": "markdown",
   "id": "7b90cb40-7309-4741-a873-54bb191b27a2",
   "metadata": {},
   "source": [
    "*There were couple columns that were the same category, going to investigate these. Also converting age columns to age in months.*"
   ]
  },
  {
   "cell_type": "code",
   "execution_count": 25,
   "id": "a5072666-7f51-4080-be83-e98690dd10cb",
   "metadata": {},
   "outputs": [
    {
     "name": "stdout",
     "output_type": "stream",
     "text": [
      "Number of animal type changes: 0\n",
      "Number of neuters/spays: 68026\n",
      "Number of breed changes: 0\n",
      "Number of color changes: 0\n"
     ]
    }
   ],
   "source": [
    "# compare intake/outcome animal_type, gender, breed, and color\n",
    "print(f'Number of animal type changes: {intakes_outcomes[intakes_outcomes['animal_type'] != intakes_outcomes['outcome_animal_type']].shape[0]}')\n",
    "print(f'Number of neuters/spays: {intakes_outcomes[intakes_outcomes['intake_gender'] != intakes_outcomes['outcome_gender']].shape[0]}')\n",
    "print(f'Number of breed changes: {intakes_outcomes[intakes_outcomes['intake_breed'] != intakes_outcomes['outcome_breed']].shape[0]}')\n",
    "print(f'Number of color changes: {intakes_outcomes[intakes_outcomes['intake_color'] != intakes_outcomes['outcome_color']].shape[0]}')"
   ]
  },
  {
   "cell_type": "markdown",
   "id": "159faa5c-ddca-4a7f-b18b-3c843b2d82ca",
   "metadata": {},
   "source": [
    "*No changes in animal type, breed, or color from intake to outcome, dropping the duplicate column.*"
   ]
  },
  {
   "cell_type": "code",
   "execution_count": 26,
   "id": "7a626cc8-63e7-42e3-94c5-48048bf040b8",
   "metadata": {},
   "outputs": [],
   "source": [
    "# dropping duplicate columns\n",
    "intakes_outcomes.drop(columns=['outcome_animal_type', 'outcome_breed', 'outcome_color'], inplace=True)\n",
    "\n",
    "# renaming columns without intake specifier\n",
    "intakes_outcomes.rename(columns={'intake_breed': 'breed', 'intake_color': 'color'}, inplace=True)"
   ]
  },
  {
   "cell_type": "code",
   "execution_count": 27,
   "id": "7cae27d4-713b-45bf-ae8a-bc1ff9b4ce1c",
   "metadata": {},
   "outputs": [
    {
     "data": {
      "text/plain": [
       "intake_time          0\n",
       "found_location       0\n",
       "intake_type          0\n",
       "intake_condition     0\n",
       "animal_type          0\n",
       "intake_gender        2\n",
       "intake_age           1\n",
       "breed                0\n",
       "color                0\n",
       "animal_stay          0\n",
       "outcome_time         0\n",
       "date_of_birth        0\n",
       "outcome_type        46\n",
       "outcome_gender       2\n",
       "outcome_age         16\n",
       "dtype: int64"
      ]
     },
     "execution_count": 27,
     "metadata": {},
     "output_type": "execute_result"
    }
   ],
   "source": [
    "# checking remaining null values\n",
    "intakes_outcomes.isnull().sum()"
   ]
  },
  {
   "cell_type": "markdown",
   "id": "6c81845a-9093-4c40-8fcd-d015b86fecf5",
   "metadata": {},
   "source": [
    "*At most there are 67 observations with null values, dropping these rows.*"
   ]
  },
  {
   "cell_type": "code",
   "execution_count": 28,
   "id": "a657334a-3364-4716-ad0e-f2cf473b32e5",
   "metadata": {},
   "outputs": [
    {
     "name": "stdout",
     "output_type": "stream",
     "text": [
      "(167017, 15)\n",
      "(166955, 15)\n"
     ]
    }
   ],
   "source": [
    "print(intakes_outcomes.shape)\n",
    "intakes_outcomes.dropna(inplace=True)\n",
    "print(intakes_outcomes.shape)"
   ]
  },
  {
   "cell_type": "code",
   "execution_count": 29,
   "id": "651244b2-9dca-4c2d-8e52-76025d6a8d09",
   "metadata": {},
   "outputs": [],
   "source": [
    "# function for converting age columns to age in months\n",
    "def convert_age(age): \n",
    "    # add doc string for fucntion!!!!!!!!\n",
    "    value, unit = age.split()\n",
    "    value = abs(int(value)) # assume the nagetive age is typo \n",
    "    \n",
    "    if 'year' in unit:\n",
    "        return value * 12\n",
    "    elif 'month' in unit:\n",
    "        return value\n",
    "    elif 'week' in unit:\n",
    "        return round(float(value * 0.23), 2)\n",
    "    elif 'day' in unit:\n",
    "        return round(float(value * 0.033), 2)\n",
    "    else:\n",
    "        return 0 "
   ]
  },
  {
   "cell_type": "code",
   "execution_count": 30,
   "id": "9bfcfb36-b914-40d1-b8bc-cf6e72207fef",
   "metadata": {},
   "outputs": [],
   "source": [
    "intakes_outcomes['intake_age'] = intakes_outcomes['intake_age'].map(convert_age)\n",
    "intakes_outcomes['outcome_age'] = intakes_outcomes['outcome_age'].map(convert_age)"
   ]
  },
  {
   "cell_type": "code",
   "execution_count": 31,
   "id": "06046de2-cb96-40e1-8f8e-451aa7bb162d",
   "metadata": {},
   "outputs": [],
   "source": [
    "# saving combined data to use in other notebooks\n",
    "intakes_outcomes.to_csv('../data/combined-shelter-date.csv', index=False)"
   ]
  },
  {
   "cell_type": "markdown",
   "id": "7c82623b-00f1-4af5-8563-2e58b6f55de1",
   "metadata": {},
   "source": [
    "---\n",
    "### Data Dictionary\n",
    "\n",
    "All intake data is from [Austin Animal Center Intakes](https://data.austintexas.gov/Health-and-Community-Services/Austin-Animal-Center-Intakes/wter-evkm/about_data) and outcome data is from [Austin Animal Center Outcomes](https://data.austintexas.gov/Health-and-Community-Services/Austin-Animal-Center-Outcomes/9t4d-g238/about_data).\n",
    "\n",
    "|feature|type|description|\n",
    "|---|---|---|\n",
    "|**intake_time**|*datetime*|Day and time animal is taken in by shelter|\n",
    "|**found_location**|*str*|Where animal is found|\n",
    "|**intake_type**|*str*|How animal is taken in|\n",
    "|**intake_condition**|*str*|Animal's health condition upon intake|\n",
    "|**animal_type**|*str*|Type of animal|\n",
    "|**intake_gender**|*str*|Neuter/spay status upon intake|\n",
    "|**intake_age**|*float*|Animal age in months upon intake|\n",
    "|**breed**|*str*|Animal breed|\n",
    "|**color**|*str*|Animal color|\n",
    "|**animal_stay**|*str*|Animal identification based on stay in shelter|\n",
    "|**outcome_time**|*datetime*|Day and time of animal outcome|\n",
    "|**date_of_birth**|*datetime*|Animal's date of birth|\n",
    "|**outcome_type**|*str*|Outcome of animal|\n",
    "|**outcome_gender**|*str*|Neuter/spay status at outcome|\n",
    "|**outcome_age**|*float*|Animal age at outcome|"
   ]
  }
 ],
 "metadata": {
  "kernelspec": {
   "display_name": "Python 3 (ipykernel)",
   "language": "python",
   "name": "python3"
  },
  "language_info": {
   "codemirror_mode": {
    "name": "ipython",
    "version": 3
   },
   "file_extension": ".py",
   "mimetype": "text/x-python",
   "name": "python",
   "nbconvert_exporter": "python",
   "pygments_lexer": "ipython3",
   "version": "3.12.4"
  }
 },
 "nbformat": 4,
 "nbformat_minor": 5
}
