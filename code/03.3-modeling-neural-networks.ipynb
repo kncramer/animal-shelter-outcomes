{
 "cells": [
  {
   "cell_type": "markdown",
   "metadata": {
    "id": "O6CbmaEFJu04"
   },
   "source": [
    "# 3. Modeling\n",
    "## 3.3 Neural Networks"
   ]
  },
  {
   "cell_type": "markdown",
   "metadata": {
    "id": "TZC9PkduAFVi"
   },
   "source": [
    "After modeling with logistic regression, this notebook will focus on the neural network. We will use neural network modeling to establish a classification system that will predict the likelihood of adoption for intake animals. This system will help shelters to make necessary adjustments for these animals and to continuously improve adoption rates."
   ]
  },
  {
   "cell_type": "code",
   "execution_count": null,
   "metadata": {
    "id": "KCN4fEsUJu06"
   },
   "outputs": [],
   "source": [
    "import pandas as pd\n",
    "import numpy as np\n",
    "import matplotlib.pyplot as plt\n",
    "\n",
    "from sklearn.model_selection import train_test_split\n",
    "from sklearn.preprocessing import StandardScaler, OneHotEncoder\n",
    "from sklearn.compose import ColumnTransformer\n",
    "from sklearn.metrics import confusion_matrix, classification_report, f1_score, roc_auc_score, accuracy_score, recall_score, precision_score\n",
    "from sklearn.utils.class_weight import compute_class_weight\n",
    "from sklearn.feature_extraction.text import CountVectorizer\n",
    "\n",
    "from tensorflow.keras.models import Sequential\n",
    "from tensorflow.keras.layers import Input, Dense, Dropout, BatchNormalization, Activation\n",
    "from tensorflow.keras.regularizers import l2\n",
    "from tensorflow.keras.callbacks import EarlyStopping"
   ]
  },
  {
   "cell_type": "markdown",
   "metadata": {
    "id": "_ZMwf6jOJu05"
   },
   "source": [
    "---\n",
    "### Data"
   ]
  },
  {
   "cell_type": "code",
   "execution_count": null,
   "metadata": {
    "colab": {
     "base_uri": "https://localhost:8080/"
    },
    "executionInfo": {
     "elapsed": 27060,
     "status": "ok",
     "timestamp": 1730404099341,
     "user": {
      "displayName": "Joe Li",
      "userId": "05923212614088401950"
     },
     "user_tz": 420
    },
    "id": "zOHnvhSpXXqg",
    "outputId": "ffa9c192-b853-4f2d-fee3-d34b9ce6f011"
   },
   "outputs": [
    {
     "name": "stdout",
     "output_type": "stream",
     "text": [
      "Mounted at /content/drive\n"
     ]
    }
   ],
   "source": [
    "from google.colab import drive\n",
    "drive.mount('/content/drive')"
   ]
  },
  {
   "cell_type": "code",
   "execution_count": null,
   "metadata": {
    "colab": {
     "base_uri": "https://localhost:8080/",
     "height": 382
    },
    "executionInfo": {
     "elapsed": 2208,
     "status": "ok",
     "timestamp": 1730404101547,
     "user": {
      "displayName": "Joe Li",
      "userId": "05923212614088401950"
     },
     "user_tz": 420
    },
    "id": "DCPYc8CHJu07",
    "outputId": "8a3e42f4-0914-4a02-b8ea-b9b4aa476e61"
   },
   "outputs": [
    {
     "data": {
      "application/vnd.google.colaboratory.intrinsic+json": {
       "type": "dataframe",
       "variable_name": "austin"
      },
      "text/html": [
       "\n",
       "  <div id=\"df-cf9c53bf-b588-4563-a04a-00e9c6f382b8\" class=\"colab-df-container\">\n",
       "    <div>\n",
       "<style scoped>\n",
       "    .dataframe tbody tr th:only-of-type {\n",
       "        vertical-align: middle;\n",
       "    }\n",
       "\n",
       "    .dataframe tbody tr th {\n",
       "        vertical-align: top;\n",
       "    }\n",
       "\n",
       "    .dataframe thead th {\n",
       "        text-align: right;\n",
       "    }\n",
       "</style>\n",
       "<table border=\"1\" class=\"dataframe\">\n",
       "  <thead>\n",
       "    <tr style=\"text-align: right;\">\n",
       "      <th></th>\n",
       "      <th>animal_id</th>\n",
       "      <th>outcome_time</th>\n",
       "      <th>date_of_birth</th>\n",
       "      <th>outcome_type</th>\n",
       "      <th>outcome_gender</th>\n",
       "      <th>outcome_age</th>\n",
       "      <th>intake_time</th>\n",
       "      <th>found_location</th>\n",
       "      <th>intake_type</th>\n",
       "      <th>intake_condition</th>\n",
       "      <th>animal_type</th>\n",
       "      <th>intake_gender</th>\n",
       "      <th>intake_age</th>\n",
       "      <th>breed</th>\n",
       "      <th>color</th>\n",
       "      <th>stay_duration</th>\n",
       "      <th>spay_neuter</th>\n",
       "    </tr>\n",
       "  </thead>\n",
       "  <tbody>\n",
       "    <tr>\n",
       "      <th>0</th>\n",
       "      <td>A912799</td>\n",
       "      <td>2024-10-17 13:07:00</td>\n",
       "      <td>2024-07-21</td>\n",
       "      <td>Adoption</td>\n",
       "      <td>Spayed Female</td>\n",
       "      <td>2.0</td>\n",
       "      <td>2024-09-05 14:57:00</td>\n",
       "      <td>7201 Levander Loop in Austin (TX)</td>\n",
       "      <td>Abandoned</td>\n",
       "      <td>Normal</td>\n",
       "      <td>Cat</td>\n",
       "      <td>Intact Female</td>\n",
       "      <td>1.0</td>\n",
       "      <td>Domestic Shorthair</td>\n",
       "      <td>Brown Tabby</td>\n",
       "      <td>41</td>\n",
       "      <td>1</td>\n",
       "    </tr>\n",
       "    <tr>\n",
       "      <th>1</th>\n",
       "      <td>A912055</td>\n",
       "      <td>2024-10-17 12:25:00</td>\n",
       "      <td>2023-10-25</td>\n",
       "      <td>Adoption</td>\n",
       "      <td>Neutered Male</td>\n",
       "      <td>11.0</td>\n",
       "      <td>2024-08-25 08:20:00</td>\n",
       "      <td>1800 Fairlawn Lane in Austin (TX)</td>\n",
       "      <td>Stray</td>\n",
       "      <td>Injured</td>\n",
       "      <td>Cat</td>\n",
       "      <td>Intact Male</td>\n",
       "      <td>10.0</td>\n",
       "      <td>Domestic Shorthair</td>\n",
       "      <td>Brown Tabby/White</td>\n",
       "      <td>53</td>\n",
       "      <td>1</td>\n",
       "    </tr>\n",
       "    <tr>\n",
       "      <th>2</th>\n",
       "      <td>A915002</td>\n",
       "      <td>2024-10-17 12:21:00</td>\n",
       "      <td>2023-10-10</td>\n",
       "      <td>Return to Owner</td>\n",
       "      <td>Intact Male</td>\n",
       "      <td>12.0</td>\n",
       "      <td>2024-10-10 12:10:00</td>\n",
       "      <td>Austin (TX)</td>\n",
       "      <td>Public Assist</td>\n",
       "      <td>Normal</td>\n",
       "      <td>Dog</td>\n",
       "      <td>Intact Male</td>\n",
       "      <td>12.0</td>\n",
       "      <td>German Shepherd Mix</td>\n",
       "      <td>Tan</td>\n",
       "      <td>7</td>\n",
       "      <td>0</td>\n",
       "    </tr>\n",
       "    <tr>\n",
       "      <th>3</th>\n",
       "      <td>A832172</td>\n",
       "      <td>2024-10-17 12:20:00</td>\n",
       "      <td>2021-01-24</td>\n",
       "      <td>Return to Owner</td>\n",
       "      <td>Neutered Male</td>\n",
       "      <td>36.0</td>\n",
       "      <td>2024-10-10 12:10:00</td>\n",
       "      <td>Austin (TX)</td>\n",
       "      <td>Public Assist</td>\n",
       "      <td>Normal</td>\n",
       "      <td>Dog</td>\n",
       "      <td>Neutered Male</td>\n",
       "      <td>36.0</td>\n",
       "      <td>Pit Bull Mix</td>\n",
       "      <td>Brown/White</td>\n",
       "      <td>7</td>\n",
       "      <td>0</td>\n",
       "    </tr>\n",
       "    <tr>\n",
       "      <th>4</th>\n",
       "      <td>A912548</td>\n",
       "      <td>2024-10-17 11:45:00</td>\n",
       "      <td>2021-09-02</td>\n",
       "      <td>Adoption</td>\n",
       "      <td>Neutered Male</td>\n",
       "      <td>36.0</td>\n",
       "      <td>2024-09-02 22:31:00</td>\n",
       "      <td>6900 Bryn Mawr in Austin (TX)</td>\n",
       "      <td>Stray</td>\n",
       "      <td>Normal</td>\n",
       "      <td>Dog</td>\n",
       "      <td>Intact Male</td>\n",
       "      <td>36.0</td>\n",
       "      <td>Siberian Husky Mix</td>\n",
       "      <td>Black/White</td>\n",
       "      <td>44</td>\n",
       "      <td>1</td>\n",
       "    </tr>\n",
       "  </tbody>\n",
       "</table>\n",
       "</div>\n",
       "    <div class=\"colab-df-buttons\">\n",
       "\n",
       "  <div class=\"colab-df-container\">\n",
       "    <button class=\"colab-df-convert\" onclick=\"convertToInteractive('df-cf9c53bf-b588-4563-a04a-00e9c6f382b8')\"\n",
       "            title=\"Convert this dataframe to an interactive table.\"\n",
       "            style=\"display:none;\">\n",
       "\n",
       "  <svg xmlns=\"http://www.w3.org/2000/svg\" height=\"24px\" viewBox=\"0 -960 960 960\">\n",
       "    <path d=\"M120-120v-720h720v720H120Zm60-500h600v-160H180v160Zm220 220h160v-160H400v160Zm0 220h160v-160H400v160ZM180-400h160v-160H180v160Zm440 0h160v-160H620v160ZM180-180h160v-160H180v160Zm440 0h160v-160H620v160Z\"/>\n",
       "  </svg>\n",
       "    </button>\n",
       "\n",
       "  <style>\n",
       "    .colab-df-container {\n",
       "      display:flex;\n",
       "      gap: 12px;\n",
       "    }\n",
       "\n",
       "    .colab-df-convert {\n",
       "      background-color: #E8F0FE;\n",
       "      border: none;\n",
       "      border-radius: 50%;\n",
       "      cursor: pointer;\n",
       "      display: none;\n",
       "      fill: #1967D2;\n",
       "      height: 32px;\n",
       "      padding: 0 0 0 0;\n",
       "      width: 32px;\n",
       "    }\n",
       "\n",
       "    .colab-df-convert:hover {\n",
       "      background-color: #E2EBFA;\n",
       "      box-shadow: 0px 1px 2px rgba(60, 64, 67, 0.3), 0px 1px 3px 1px rgba(60, 64, 67, 0.15);\n",
       "      fill: #174EA6;\n",
       "    }\n",
       "\n",
       "    .colab-df-buttons div {\n",
       "      margin-bottom: 4px;\n",
       "    }\n",
       "\n",
       "    [theme=dark] .colab-df-convert {\n",
       "      background-color: #3B4455;\n",
       "      fill: #D2E3FC;\n",
       "    }\n",
       "\n",
       "    [theme=dark] .colab-df-convert:hover {\n",
       "      background-color: #434B5C;\n",
       "      box-shadow: 0px 1px 3px 1px rgba(0, 0, 0, 0.15);\n",
       "      filter: drop-shadow(0px 1px 2px rgba(0, 0, 0, 0.3));\n",
       "      fill: #FFFFFF;\n",
       "    }\n",
       "  </style>\n",
       "\n",
       "    <script>\n",
       "      const buttonEl =\n",
       "        document.querySelector('#df-cf9c53bf-b588-4563-a04a-00e9c6f382b8 button.colab-df-convert');\n",
       "      buttonEl.style.display =\n",
       "        google.colab.kernel.accessAllowed ? 'block' : 'none';\n",
       "\n",
       "      async function convertToInteractive(key) {\n",
       "        const element = document.querySelector('#df-cf9c53bf-b588-4563-a04a-00e9c6f382b8');\n",
       "        const dataTable =\n",
       "          await google.colab.kernel.invokeFunction('convertToInteractive',\n",
       "                                                    [key], {});\n",
       "        if (!dataTable) return;\n",
       "\n",
       "        const docLinkHtml = 'Like what you see? Visit the ' +\n",
       "          '<a target=\"_blank\" href=https://colab.research.google.com/notebooks/data_table.ipynb>data table notebook</a>'\n",
       "          + ' to learn more about interactive tables.';\n",
       "        element.innerHTML = '';\n",
       "        dataTable['output_type'] = 'display_data';\n",
       "        await google.colab.output.renderOutput(dataTable, element);\n",
       "        const docLink = document.createElement('div');\n",
       "        docLink.innerHTML = docLinkHtml;\n",
       "        element.appendChild(docLink);\n",
       "      }\n",
       "    </script>\n",
       "  </div>\n",
       "\n",
       "\n",
       "<div id=\"df-6197280c-1847-4373-b69c-c885a4b57e63\">\n",
       "  <button class=\"colab-df-quickchart\" onclick=\"quickchart('df-6197280c-1847-4373-b69c-c885a4b57e63')\"\n",
       "            title=\"Suggest charts\"\n",
       "            style=\"display:none;\">\n",
       "\n",
       "<svg xmlns=\"http://www.w3.org/2000/svg\" height=\"24px\"viewBox=\"0 0 24 24\"\n",
       "     width=\"24px\">\n",
       "    <g>\n",
       "        <path d=\"M19 3H5c-1.1 0-2 .9-2 2v14c0 1.1.9 2 2 2h14c1.1 0 2-.9 2-2V5c0-1.1-.9-2-2-2zM9 17H7v-7h2v7zm4 0h-2V7h2v10zm4 0h-2v-4h2v4z\"/>\n",
       "    </g>\n",
       "</svg>\n",
       "  </button>\n",
       "\n",
       "<style>\n",
       "  .colab-df-quickchart {\n",
       "      --bg-color: #E8F0FE;\n",
       "      --fill-color: #1967D2;\n",
       "      --hover-bg-color: #E2EBFA;\n",
       "      --hover-fill-color: #174EA6;\n",
       "      --disabled-fill-color: #AAA;\n",
       "      --disabled-bg-color: #DDD;\n",
       "  }\n",
       "\n",
       "  [theme=dark] .colab-df-quickchart {\n",
       "      --bg-color: #3B4455;\n",
       "      --fill-color: #D2E3FC;\n",
       "      --hover-bg-color: #434B5C;\n",
       "      --hover-fill-color: #FFFFFF;\n",
       "      --disabled-bg-color: #3B4455;\n",
       "      --disabled-fill-color: #666;\n",
       "  }\n",
       "\n",
       "  .colab-df-quickchart {\n",
       "    background-color: var(--bg-color);\n",
       "    border: none;\n",
       "    border-radius: 50%;\n",
       "    cursor: pointer;\n",
       "    display: none;\n",
       "    fill: var(--fill-color);\n",
       "    height: 32px;\n",
       "    padding: 0;\n",
       "    width: 32px;\n",
       "  }\n",
       "\n",
       "  .colab-df-quickchart:hover {\n",
       "    background-color: var(--hover-bg-color);\n",
       "    box-shadow: 0 1px 2px rgba(60, 64, 67, 0.3), 0 1px 3px 1px rgba(60, 64, 67, 0.15);\n",
       "    fill: var(--button-hover-fill-color);\n",
       "  }\n",
       "\n",
       "  .colab-df-quickchart-complete:disabled,\n",
       "  .colab-df-quickchart-complete:disabled:hover {\n",
       "    background-color: var(--disabled-bg-color);\n",
       "    fill: var(--disabled-fill-color);\n",
       "    box-shadow: none;\n",
       "  }\n",
       "\n",
       "  .colab-df-spinner {\n",
       "    border: 2px solid var(--fill-color);\n",
       "    border-color: transparent;\n",
       "    border-bottom-color: var(--fill-color);\n",
       "    animation:\n",
       "      spin 1s steps(1) infinite;\n",
       "  }\n",
       "\n",
       "  @keyframes spin {\n",
       "    0% {\n",
       "      border-color: transparent;\n",
       "      border-bottom-color: var(--fill-color);\n",
       "      border-left-color: var(--fill-color);\n",
       "    }\n",
       "    20% {\n",
       "      border-color: transparent;\n",
       "      border-left-color: var(--fill-color);\n",
       "      border-top-color: var(--fill-color);\n",
       "    }\n",
       "    30% {\n",
       "      border-color: transparent;\n",
       "      border-left-color: var(--fill-color);\n",
       "      border-top-color: var(--fill-color);\n",
       "      border-right-color: var(--fill-color);\n",
       "    }\n",
       "    40% {\n",
       "      border-color: transparent;\n",
       "      border-right-color: var(--fill-color);\n",
       "      border-top-color: var(--fill-color);\n",
       "    }\n",
       "    60% {\n",
       "      border-color: transparent;\n",
       "      border-right-color: var(--fill-color);\n",
       "    }\n",
       "    80% {\n",
       "      border-color: transparent;\n",
       "      border-right-color: var(--fill-color);\n",
       "      border-bottom-color: var(--fill-color);\n",
       "    }\n",
       "    90% {\n",
       "      border-color: transparent;\n",
       "      border-bottom-color: var(--fill-color);\n",
       "    }\n",
       "  }\n",
       "</style>\n",
       "\n",
       "  <script>\n",
       "    async function quickchart(key) {\n",
       "      const quickchartButtonEl =\n",
       "        document.querySelector('#' + key + ' button');\n",
       "      quickchartButtonEl.disabled = true;  // To prevent multiple clicks.\n",
       "      quickchartButtonEl.classList.add('colab-df-spinner');\n",
       "      try {\n",
       "        const charts = await google.colab.kernel.invokeFunction(\n",
       "            'suggestCharts', [key], {});\n",
       "      } catch (error) {\n",
       "        console.error('Error during call to suggestCharts:', error);\n",
       "      }\n",
       "      quickchartButtonEl.classList.remove('colab-df-spinner');\n",
       "      quickchartButtonEl.classList.add('colab-df-quickchart-complete');\n",
       "    }\n",
       "    (() => {\n",
       "      let quickchartButtonEl =\n",
       "        document.querySelector('#df-6197280c-1847-4373-b69c-c885a4b57e63 button');\n",
       "      quickchartButtonEl.style.display =\n",
       "        google.colab.kernel.accessAllowed ? 'block' : 'none';\n",
       "    })();\n",
       "  </script>\n",
       "</div>\n",
       "\n",
       "    </div>\n",
       "  </div>\n"
      ],
      "text/plain": [
       "  animal_id         outcome_time date_of_birth     outcome_type  \\\n",
       "0   A912799  2024-10-17 13:07:00    2024-07-21         Adoption   \n",
       "1   A912055  2024-10-17 12:25:00    2023-10-25         Adoption   \n",
       "2   A915002  2024-10-17 12:21:00    2023-10-10  Return to Owner   \n",
       "3   A832172  2024-10-17 12:20:00    2021-01-24  Return to Owner   \n",
       "4   A912548  2024-10-17 11:45:00    2021-09-02         Adoption   \n",
       "\n",
       "  outcome_gender  outcome_age          intake_time  \\\n",
       "0  Spayed Female          2.0  2024-09-05 14:57:00   \n",
       "1  Neutered Male         11.0  2024-08-25 08:20:00   \n",
       "2    Intact Male         12.0  2024-10-10 12:10:00   \n",
       "3  Neutered Male         36.0  2024-10-10 12:10:00   \n",
       "4  Neutered Male         36.0  2024-09-02 22:31:00   \n",
       "\n",
       "                      found_location    intake_type intake_condition  \\\n",
       "0  7201 Levander Loop in Austin (TX)      Abandoned           Normal   \n",
       "1  1800 Fairlawn Lane in Austin (TX)          Stray          Injured   \n",
       "2                        Austin (TX)  Public Assist           Normal   \n",
       "3                        Austin (TX)  Public Assist           Normal   \n",
       "4      6900 Bryn Mawr in Austin (TX)          Stray           Normal   \n",
       "\n",
       "  animal_type  intake_gender  intake_age                breed  \\\n",
       "0         Cat  Intact Female         1.0   Domestic Shorthair   \n",
       "1         Cat    Intact Male        10.0   Domestic Shorthair   \n",
       "2         Dog    Intact Male        12.0  German Shepherd Mix   \n",
       "3         Dog  Neutered Male        36.0         Pit Bull Mix   \n",
       "4         Dog    Intact Male        36.0   Siberian Husky Mix   \n",
       "\n",
       "               color  stay_duration  spay_neuter  \n",
       "0        Brown Tabby             41            1  \n",
       "1  Brown Tabby/White             53            1  \n",
       "2                Tan              7            0  \n",
       "3        Brown/White              7            0  \n",
       "4        Black/White             44            1  "
      ]
     },
     "execution_count": 3,
     "metadata": {},
     "output_type": "execute_result"
    }
   ],
   "source": [
    "austin = pd.read_csv('/content/drive/MyDrive/Colab Notebooks/animal_shelter/austin-combined-shelter-data.csv')\n",
    "austin.head()"
   ]
  },
  {
   "cell_type": "code",
   "execution_count": null,
   "metadata": {
    "colab": {
     "base_uri": "https://localhost:8080/",
     "height": 313
    },
    "executionInfo": {
     "elapsed": 804,
     "status": "ok",
     "timestamp": 1730413019602,
     "user": {
      "displayName": "Joe Li",
      "userId": "05923212614088401950"
     },
     "user_tz": 420
    },
    "id": "E6kgCbD2Ju08",
    "outputId": "1c2cd4ae-f1b2-4efd-ef0f-5c8ca4d90c2e"
   },
   "outputs": [
    {
     "data": {
      "application/vnd.google.colaboratory.intrinsic+json": {
       "type": "dataframe",
       "variable_name": "dallas"
      },
      "text/html": [
       "\n",
       "  <div id=\"df-fbf70213-1a4d-4510-b771-6089b6f9d4a0\" class=\"colab-df-container\">\n",
       "    <div>\n",
       "<style scoped>\n",
       "    .dataframe tbody tr th:only-of-type {\n",
       "        vertical-align: middle;\n",
       "    }\n",
       "\n",
       "    .dataframe tbody tr th {\n",
       "        vertical-align: top;\n",
       "    }\n",
       "\n",
       "    .dataframe thead th {\n",
       "        text-align: right;\n",
       "    }\n",
       "</style>\n",
       "<table border=\"1\" class=\"dataframe\">\n",
       "  <thead>\n",
       "    <tr style=\"text-align: right;\">\n",
       "      <th></th>\n",
       "      <th>animal_id</th>\n",
       "      <th>animal_type</th>\n",
       "      <th>breed</th>\n",
       "      <th>intake_type</th>\n",
       "      <th>reason</th>\n",
       "      <th>intake_date</th>\n",
       "      <th>intake_condition</th>\n",
       "      <th>outcome_type</th>\n",
       "      <th>outcome_date</th>\n",
       "      <th>outcome_condition</th>\n",
       "      <th>stay_duration</th>\n",
       "    </tr>\n",
       "  </thead>\n",
       "  <tbody>\n",
       "    <tr>\n",
       "      <th>0</th>\n",
       "      <td>A1229376</td>\n",
       "      <td>CAT</td>\n",
       "      <td>DOMESTIC SH</td>\n",
       "      <td>DISPOS REQ</td>\n",
       "      <td>OTHRINTAKS</td>\n",
       "      <td>2024-10-04</td>\n",
       "      <td>DECEASED</td>\n",
       "      <td>DISPOSAL</td>\n",
       "      <td>2027-10-04</td>\n",
       "      <td>DECEASED</td>\n",
       "      <td>1095</td>\n",
       "    </tr>\n",
       "    <tr>\n",
       "      <th>1</th>\n",
       "      <td>A1229851</td>\n",
       "      <td>DOG</td>\n",
       "      <td>MIXED BREED</td>\n",
       "      <td>STRAY</td>\n",
       "      <td>OTHRINTAKS</td>\n",
       "      <td>2024-10-09</td>\n",
       "      <td>APP WNL</td>\n",
       "      <td>ADOPTION</td>\n",
       "      <td>2024-10-27</td>\n",
       "      <td>APP WNL</td>\n",
       "      <td>18</td>\n",
       "    </tr>\n",
       "    <tr>\n",
       "      <th>2</th>\n",
       "      <td>A1225816</td>\n",
       "      <td>CAT</td>\n",
       "      <td>DOMESTIC SH</td>\n",
       "      <td>FOSTER</td>\n",
       "      <td>SURGERY</td>\n",
       "      <td>2024-10-26</td>\n",
       "      <td>APP WNL</td>\n",
       "      <td>ADOPTION</td>\n",
       "      <td>2024-10-27</td>\n",
       "      <td>APP WNL</td>\n",
       "      <td>1</td>\n",
       "    </tr>\n",
       "    <tr>\n",
       "      <th>3</th>\n",
       "      <td>A1204135</td>\n",
       "      <td>DOG</td>\n",
       "      <td>MIXED BREED</td>\n",
       "      <td>FOSTER</td>\n",
       "      <td>FOR ADOPT</td>\n",
       "      <td>2024-10-27</td>\n",
       "      <td>APP WNL</td>\n",
       "      <td>ADOPTION</td>\n",
       "      <td>2024-10-27</td>\n",
       "      <td>APP WNL</td>\n",
       "      <td>0</td>\n",
       "    </tr>\n",
       "    <tr>\n",
       "      <th>4</th>\n",
       "      <td>A1231147</td>\n",
       "      <td>DOG</td>\n",
       "      <td>CHIHUAHUA SH</td>\n",
       "      <td>OWNER SURRENDER</td>\n",
       "      <td>PERSNLISSU</td>\n",
       "      <td>2024-10-24</td>\n",
       "      <td>APP WNL</td>\n",
       "      <td>ADOPTION</td>\n",
       "      <td>2024-10-27</td>\n",
       "      <td>APP WNL</td>\n",
       "      <td>3</td>\n",
       "    </tr>\n",
       "  </tbody>\n",
       "</table>\n",
       "</div>\n",
       "    <div class=\"colab-df-buttons\">\n",
       "\n",
       "  <div class=\"colab-df-container\">\n",
       "    <button class=\"colab-df-convert\" onclick=\"convertToInteractive('df-fbf70213-1a4d-4510-b771-6089b6f9d4a0')\"\n",
       "            title=\"Convert this dataframe to an interactive table.\"\n",
       "            style=\"display:none;\">\n",
       "\n",
       "  <svg xmlns=\"http://www.w3.org/2000/svg\" height=\"24px\" viewBox=\"0 -960 960 960\">\n",
       "    <path d=\"M120-120v-720h720v720H120Zm60-500h600v-160H180v160Zm220 220h160v-160H400v160Zm0 220h160v-160H400v160ZM180-400h160v-160H180v160Zm440 0h160v-160H620v160ZM180-180h160v-160H180v160Zm440 0h160v-160H620v160Z\"/>\n",
       "  </svg>\n",
       "    </button>\n",
       "\n",
       "  <style>\n",
       "    .colab-df-container {\n",
       "      display:flex;\n",
       "      gap: 12px;\n",
       "    }\n",
       "\n",
       "    .colab-df-convert {\n",
       "      background-color: #E8F0FE;\n",
       "      border: none;\n",
       "      border-radius: 50%;\n",
       "      cursor: pointer;\n",
       "      display: none;\n",
       "      fill: #1967D2;\n",
       "      height: 32px;\n",
       "      padding: 0 0 0 0;\n",
       "      width: 32px;\n",
       "    }\n",
       "\n",
       "    .colab-df-convert:hover {\n",
       "      background-color: #E2EBFA;\n",
       "      box-shadow: 0px 1px 2px rgba(60, 64, 67, 0.3), 0px 1px 3px 1px rgba(60, 64, 67, 0.15);\n",
       "      fill: #174EA6;\n",
       "    }\n",
       "\n",
       "    .colab-df-buttons div {\n",
       "      margin-bottom: 4px;\n",
       "    }\n",
       "\n",
       "    [theme=dark] .colab-df-convert {\n",
       "      background-color: #3B4455;\n",
       "      fill: #D2E3FC;\n",
       "    }\n",
       "\n",
       "    [theme=dark] .colab-df-convert:hover {\n",
       "      background-color: #434B5C;\n",
       "      box-shadow: 0px 1px 3px 1px rgba(0, 0, 0, 0.15);\n",
       "      filter: drop-shadow(0px 1px 2px rgba(0, 0, 0, 0.3));\n",
       "      fill: #FFFFFF;\n",
       "    }\n",
       "  </style>\n",
       "\n",
       "    <script>\n",
       "      const buttonEl =\n",
       "        document.querySelector('#df-fbf70213-1a4d-4510-b771-6089b6f9d4a0 button.colab-df-convert');\n",
       "      buttonEl.style.display =\n",
       "        google.colab.kernel.accessAllowed ? 'block' : 'none';\n",
       "\n",
       "      async function convertToInteractive(key) {\n",
       "        const element = document.querySelector('#df-fbf70213-1a4d-4510-b771-6089b6f9d4a0');\n",
       "        const dataTable =\n",
       "          await google.colab.kernel.invokeFunction('convertToInteractive',\n",
       "                                                    [key], {});\n",
       "        if (!dataTable) return;\n",
       "\n",
       "        const docLinkHtml = 'Like what you see? Visit the ' +\n",
       "          '<a target=\"_blank\" href=https://colab.research.google.com/notebooks/data_table.ipynb>data table notebook</a>'\n",
       "          + ' to learn more about interactive tables.';\n",
       "        element.innerHTML = '';\n",
       "        dataTable['output_type'] = 'display_data';\n",
       "        await google.colab.output.renderOutput(dataTable, element);\n",
       "        const docLink = document.createElement('div');\n",
       "        docLink.innerHTML = docLinkHtml;\n",
       "        element.appendChild(docLink);\n",
       "      }\n",
       "    </script>\n",
       "  </div>\n",
       "\n",
       "\n",
       "<div id=\"df-04097a9d-ea99-4711-a51c-a74c07bb6946\">\n",
       "  <button class=\"colab-df-quickchart\" onclick=\"quickchart('df-04097a9d-ea99-4711-a51c-a74c07bb6946')\"\n",
       "            title=\"Suggest charts\"\n",
       "            style=\"display:none;\">\n",
       "\n",
       "<svg xmlns=\"http://www.w3.org/2000/svg\" height=\"24px\"viewBox=\"0 0 24 24\"\n",
       "     width=\"24px\">\n",
       "    <g>\n",
       "        <path d=\"M19 3H5c-1.1 0-2 .9-2 2v14c0 1.1.9 2 2 2h14c1.1 0 2-.9 2-2V5c0-1.1-.9-2-2-2zM9 17H7v-7h2v7zm4 0h-2V7h2v10zm4 0h-2v-4h2v4z\"/>\n",
       "    </g>\n",
       "</svg>\n",
       "  </button>\n",
       "\n",
       "<style>\n",
       "  .colab-df-quickchart {\n",
       "      --bg-color: #E8F0FE;\n",
       "      --fill-color: #1967D2;\n",
       "      --hover-bg-color: #E2EBFA;\n",
       "      --hover-fill-color: #174EA6;\n",
       "      --disabled-fill-color: #AAA;\n",
       "      --disabled-bg-color: #DDD;\n",
       "  }\n",
       "\n",
       "  [theme=dark] .colab-df-quickchart {\n",
       "      --bg-color: #3B4455;\n",
       "      --fill-color: #D2E3FC;\n",
       "      --hover-bg-color: #434B5C;\n",
       "      --hover-fill-color: #FFFFFF;\n",
       "      --disabled-bg-color: #3B4455;\n",
       "      --disabled-fill-color: #666;\n",
       "  }\n",
       "\n",
       "  .colab-df-quickchart {\n",
       "    background-color: var(--bg-color);\n",
       "    border: none;\n",
       "    border-radius: 50%;\n",
       "    cursor: pointer;\n",
       "    display: none;\n",
       "    fill: var(--fill-color);\n",
       "    height: 32px;\n",
       "    padding: 0;\n",
       "    width: 32px;\n",
       "  }\n",
       "\n",
       "  .colab-df-quickchart:hover {\n",
       "    background-color: var(--hover-bg-color);\n",
       "    box-shadow: 0 1px 2px rgba(60, 64, 67, 0.3), 0 1px 3px 1px rgba(60, 64, 67, 0.15);\n",
       "    fill: var(--button-hover-fill-color);\n",
       "  }\n",
       "\n",
       "  .colab-df-quickchart-complete:disabled,\n",
       "  .colab-df-quickchart-complete:disabled:hover {\n",
       "    background-color: var(--disabled-bg-color);\n",
       "    fill: var(--disabled-fill-color);\n",
       "    box-shadow: none;\n",
       "  }\n",
       "\n",
       "  .colab-df-spinner {\n",
       "    border: 2px solid var(--fill-color);\n",
       "    border-color: transparent;\n",
       "    border-bottom-color: var(--fill-color);\n",
       "    animation:\n",
       "      spin 1s steps(1) infinite;\n",
       "  }\n",
       "\n",
       "  @keyframes spin {\n",
       "    0% {\n",
       "      border-color: transparent;\n",
       "      border-bottom-color: var(--fill-color);\n",
       "      border-left-color: var(--fill-color);\n",
       "    }\n",
       "    20% {\n",
       "      border-color: transparent;\n",
       "      border-left-color: var(--fill-color);\n",
       "      border-top-color: var(--fill-color);\n",
       "    }\n",
       "    30% {\n",
       "      border-color: transparent;\n",
       "      border-left-color: var(--fill-color);\n",
       "      border-top-color: var(--fill-color);\n",
       "      border-right-color: var(--fill-color);\n",
       "    }\n",
       "    40% {\n",
       "      border-color: transparent;\n",
       "      border-right-color: var(--fill-color);\n",
       "      border-top-color: var(--fill-color);\n",
       "    }\n",
       "    60% {\n",
       "      border-color: transparent;\n",
       "      border-right-color: var(--fill-color);\n",
       "    }\n",
       "    80% {\n",
       "      border-color: transparent;\n",
       "      border-right-color: var(--fill-color);\n",
       "      border-bottom-color: var(--fill-color);\n",
       "    }\n",
       "    90% {\n",
       "      border-color: transparent;\n",
       "      border-bottom-color: var(--fill-color);\n",
       "    }\n",
       "  }\n",
       "</style>\n",
       "\n",
       "  <script>\n",
       "    async function quickchart(key) {\n",
       "      const quickchartButtonEl =\n",
       "        document.querySelector('#' + key + ' button');\n",
       "      quickchartButtonEl.disabled = true;  // To prevent multiple clicks.\n",
       "      quickchartButtonEl.classList.add('colab-df-spinner');\n",
       "      try {\n",
       "        const charts = await google.colab.kernel.invokeFunction(\n",
       "            'suggestCharts', [key], {});\n",
       "      } catch (error) {\n",
       "        console.error('Error during call to suggestCharts:', error);\n",
       "      }\n",
       "      quickchartButtonEl.classList.remove('colab-df-spinner');\n",
       "      quickchartButtonEl.classList.add('colab-df-quickchart-complete');\n",
       "    }\n",
       "    (() => {\n",
       "      let quickchartButtonEl =\n",
       "        document.querySelector('#df-04097a9d-ea99-4711-a51c-a74c07bb6946 button');\n",
       "      quickchartButtonEl.style.display =\n",
       "        google.colab.kernel.accessAllowed ? 'block' : 'none';\n",
       "    })();\n",
       "  </script>\n",
       "</div>\n",
       "\n",
       "    </div>\n",
       "  </div>\n"
      ],
      "text/plain": [
       "  animal_id animal_type         breed      intake_type      reason  \\\n",
       "0  A1229376         CAT   DOMESTIC SH       DISPOS REQ  OTHRINTAKS   \n",
       "1  A1229851         DOG   MIXED BREED            STRAY  OTHRINTAKS   \n",
       "2  A1225816         CAT   DOMESTIC SH           FOSTER     SURGERY   \n",
       "3  A1204135         DOG   MIXED BREED           FOSTER   FOR ADOPT   \n",
       "4  A1231147         DOG  CHIHUAHUA SH  OWNER SURRENDER  PERSNLISSU   \n",
       "\n",
       "  intake_date intake_condition outcome_type outcome_date outcome_condition  \\\n",
       "0  2024-10-04         DECEASED     DISPOSAL   2027-10-04          DECEASED   \n",
       "1  2024-10-09          APP WNL     ADOPTION   2024-10-27           APP WNL   \n",
       "2  2024-10-26          APP WNL     ADOPTION   2024-10-27           APP WNL   \n",
       "3  2024-10-27          APP WNL     ADOPTION   2024-10-27           APP WNL   \n",
       "4  2024-10-24          APP WNL     ADOPTION   2024-10-27           APP WNL   \n",
       "\n",
       "   stay_duration  \n",
       "0           1095  \n",
       "1             18  \n",
       "2              1  \n",
       "3              0  \n",
       "4              3  "
      ]
     },
     "execution_count": 60,
     "metadata": {},
     "output_type": "execute_result"
    }
   ],
   "source": [
    "dallas = pd.read_csv('/content/drive/MyDrive/Colab Notebooks/animal_shelter/dallas-combined-shelter-data.csv')\n",
    "dallas.rename(columns={'animal_breed': 'breed'}, inplace=True)\n",
    "dallas.head()"
   ]
  },
  {
   "cell_type": "markdown",
   "metadata": {
    "id": "ImeOzTAGLrCX"
   },
   "source": [
    "---\n",
    "### Modeling"
   ]
  },
  {
   "cell_type": "markdown",
   "metadata": {
    "id": "6piDCLDbMfqu"
   },
   "source": [
    "#### Austin Shelter"
   ]
  },
  {
   "cell_type": "markdown",
   "metadata": {
    "id": "Z5BaA3kNp7BJ"
   },
   "source": [
    "In this part, we will use the comprehensive data on animal intakes and outcomes from Austin shelters. By utilizing the various available features, we will provide a neural network model to help shelters in Austin to predict the likelihood of adoption for intake animals."
   ]
  },
  {
   "cell_type": "code",
   "execution_count": null,
   "metadata": {
    "id": "Sic6NLtPLsdk"
   },
   "outputs": [],
   "source": [
    "X = austin[['outcome_gender', 'outcome_age', 'intake_type', 'intake_condition', 'animal_type',\n",
    "        'breed', 'color', 'stay_duration', 'spay_neuter']]\n",
    "y = austin['outcome_type'].apply(lambda x: 1 if x in ['Adoption', 'Return to Owner'] else 0)"
   ]
  },
  {
   "cell_type": "code",
   "execution_count": null,
   "metadata": {
    "colab": {
     "base_uri": "https://localhost:8080/",
     "height": 178
    },
    "executionInfo": {
     "elapsed": 32,
     "status": "ok",
     "timestamp": 1730404102632,
     "user": {
      "displayName": "Joe Li",
      "userId": "05923212614088401950"
     },
     "user_tz": 420
    },
    "id": "x_akeh56NXko",
    "outputId": "5df6e4b5-4c34-44a1-9a57-3cafc924fa99"
   },
   "outputs": [
    {
     "data": {
      "text/html": [
       "<div>\n",
       "<style scoped>\n",
       "    .dataframe tbody tr th:only-of-type {\n",
       "        vertical-align: middle;\n",
       "    }\n",
       "\n",
       "    .dataframe tbody tr th {\n",
       "        vertical-align: top;\n",
       "    }\n",
       "\n",
       "    .dataframe thead th {\n",
       "        text-align: right;\n",
       "    }\n",
       "</style>\n",
       "<table border=\"1\" class=\"dataframe\">\n",
       "  <thead>\n",
       "    <tr style=\"text-align: right;\">\n",
       "      <th></th>\n",
       "      <th>proportion</th>\n",
       "    </tr>\n",
       "    <tr>\n",
       "      <th>outcome_type</th>\n",
       "      <th></th>\n",
       "    </tr>\n",
       "  </thead>\n",
       "  <tbody>\n",
       "    <tr>\n",
       "      <th>1</th>\n",
       "      <td>0.629693</td>\n",
       "    </tr>\n",
       "    <tr>\n",
       "      <th>0</th>\n",
       "      <td>0.370307</td>\n",
       "    </tr>\n",
       "  </tbody>\n",
       "</table>\n",
       "</div><br><label><b>dtype:</b> float64</label>"
      ],
      "text/plain": [
       "outcome_type\n",
       "1    0.629693\n",
       "0    0.370307\n",
       "Name: proportion, dtype: float64"
      ]
     },
     "execution_count": 7,
     "metadata": {},
     "output_type": "execute_result"
    }
   ],
   "source": [
    "y.value_counts(normalize=True)"
   ]
  },
  {
   "cell_type": "code",
   "execution_count": null,
   "metadata": {
    "id": "X80hgxiQMs93"
   },
   "outputs": [],
   "source": [
    "X_train, X_test, y_train, y_test = train_test_split(X, y, random_state=42)"
   ]
  },
  {
   "cell_type": "code",
   "execution_count": null,
   "metadata": {
    "id": "G352g5DHQPWK"
   },
   "outputs": [],
   "source": [
    "ctx = ColumnTransformer(\n",
    "    transformers=[\n",
    "        ('ss', StandardScaler(), ['outcome_age', 'stay_duration']),\n",
    "        ('ohe', OneHotEncoder(drop='first', handle_unknown='ignore', sparse_output=False),\n",
    "         ['outcome_gender', 'intake_type', 'intake_condition', 'animal_type', 'breed', 'color', 'spay_neuter'])],\n",
    "    verbose_feature_names_out=False,\n",
    "    remainder='passthrough')"
   ]
  },
  {
   "cell_type": "code",
   "execution_count": null,
   "metadata": {
    "colab": {
     "base_uri": "https://localhost:8080/"
    },
    "executionInfo": {
     "elapsed": 6612,
     "status": "ok",
     "timestamp": 1730404109215,
     "user": {
      "displayName": "Joe Li",
      "userId": "05923212614088401950"
     },
     "user_tz": 420
    },
    "id": "oRykKXlpVbXX",
    "outputId": "4764741b-d7a8-4bc5-c1f7-a40bcbe2a429"
   },
   "outputs": [
    {
     "name": "stderr",
     "output_type": "stream",
     "text": [
      "/usr/local/lib/python3.10/dist-packages/sklearn/preprocessing/_encoders.py:242: UserWarning: Found unknown categories in columns [2, 4, 5] during transform. These unknown categories will be encoded as all zeros\n",
      "  warnings.warn(\n"
     ]
    }
   ],
   "source": [
    "X_train_ctx = ctx.fit_transform(X_train)\n",
    "X_test_ctx = ctx.transform(X_test)"
   ]
  },
  {
   "cell_type": "code",
   "execution_count": null,
   "metadata": {
    "colab": {
     "base_uri": "https://localhost:8080/"
    },
    "executionInfo": {
     "elapsed": 138,
     "status": "ok",
     "timestamp": 1730404420061,
     "user": {
      "displayName": "Joe Li",
      "userId": "05923212614088401950"
     },
     "user_tz": 420
    },
    "id": "KhBYpmG6KnOW",
    "outputId": "88c4e4e2-4956-4cc4-ce98-1c7a0168920e"
   },
   "outputs": [
    {
     "data": {
      "text/plain": [
       "{0: 1.3549192137490995, 1: 0.792425291161335}"
      ]
     },
     "execution_count": 18,
     "metadata": {},
     "output_type": "execute_result"
    }
   ],
   "source": [
    "# https://datascience.stackexchange.com/questions/13490/how-to-set-class-weights-for-imbalanced-classes-in-keras\n",
    "# https://stackoverflow.com/questions/44716150/how-can-i-assign-a-class-weight-in-keras-in-a-simple-way\n",
    "# calculate class weight for the imbalanced data\n",
    "y_train = np.array(y_train).flatten()\n",
    "class_weights = compute_class_weight('balanced', classes=np.unique(y_train), y=y_train)\n",
    "class_weight_dict = {i: class_weights[i] for i in range(len(class_weights))}\n",
    "class_weight_dict"
   ]
  },
  {
   "cell_type": "code",
   "execution_count": null,
   "metadata": {
    "colab": {
     "base_uri": "https://localhost:8080/"
    },
    "executionInfo": {
     "elapsed": 358495,
     "status": "ok",
     "timestamp": 1730408365690,
     "user": {
      "displayName": "Joe Li",
      "userId": "05923212614088401950"
     },
     "user_tz": 420
    },
    "id": "pDI-BQa-Ydd_",
    "outputId": "5b30de1c-e236-4d00-f551-ec30e9ecd182"
   },
   "outputs": [
    {
     "name": "stdout",
     "output_type": "stream",
     "text": [
      "Epoch 1/20\n",
      "\u001b[1m3292/3292\u001b[0m \u001b[32m━━━━━━━━━━━━━━━━━━━━\u001b[0m\u001b[37m\u001b[0m \u001b[1m23s\u001b[0m 6ms/step - accuracy: 0.7810 - loss: 0.6907 - val_accuracy: 0.8302 - val_loss: 0.4482\n",
      "Epoch 2/20\n",
      "\u001b[1m3292/3292\u001b[0m \u001b[32m━━━━━━━━━━━━━━━━━━━━\u001b[0m\u001b[37m\u001b[0m \u001b[1m18s\u001b[0m 5ms/step - accuracy: 0.8263 - loss: 0.4680 - val_accuracy: 0.8267 - val_loss: 0.4484\n",
      "Epoch 3/20\n",
      "\u001b[1m3292/3292\u001b[0m \u001b[32m━━━━━━━━━━━━━━━━━━━━\u001b[0m\u001b[37m\u001b[0m \u001b[1m22s\u001b[0m 6ms/step - accuracy: 0.8243 - loss: 0.4670 - val_accuracy: 0.8358 - val_loss: 0.4408\n",
      "Epoch 4/20\n",
      "\u001b[1m3292/3292\u001b[0m \u001b[32m━━━━━━━━━━━━━━━━━━━━\u001b[0m\u001b[37m\u001b[0m \u001b[1m18s\u001b[0m 5ms/step - accuracy: 0.8275 - loss: 0.4577 - val_accuracy: 0.8351 - val_loss: 0.4416\n",
      "Epoch 5/20\n",
      "\u001b[1m3292/3292\u001b[0m \u001b[32m━━━━━━━━━━━━━━━━━━━━\u001b[0m\u001b[37m\u001b[0m \u001b[1m18s\u001b[0m 6ms/step - accuracy: 0.8278 - loss: 0.4583 - val_accuracy: 0.8272 - val_loss: 0.4328\n",
      "Epoch 6/20\n",
      "\u001b[1m3292/3292\u001b[0m \u001b[32m━━━━━━━━━━━━━━━━━━━━\u001b[0m\u001b[37m\u001b[0m \u001b[1m19s\u001b[0m 6ms/step - accuracy: 0.8277 - loss: 0.4569 - val_accuracy: 0.8286 - val_loss: 0.4355\n",
      "Epoch 7/20\n",
      "\u001b[1m3292/3292\u001b[0m \u001b[32m━━━━━━━━━━━━━━━━━━━━\u001b[0m\u001b[37m\u001b[0m \u001b[1m20s\u001b[0m 6ms/step - accuracy: 0.8293 - loss: 0.4570 - val_accuracy: 0.8339 - val_loss: 0.4356\n",
      "Epoch 8/20\n",
      "\u001b[1m3292/3292\u001b[0m \u001b[32m━━━━━━━━━━━━━━━━━━━━\u001b[0m\u001b[37m\u001b[0m \u001b[1m18s\u001b[0m 5ms/step - accuracy: 0.8303 - loss: 0.4538 - val_accuracy: 0.8322 - val_loss: 0.4394\n",
      "Epoch 9/20\n",
      "\u001b[1m3292/3292\u001b[0m \u001b[32m━━━━━━━━━━━━━━━━━━━━\u001b[0m\u001b[37m\u001b[0m \u001b[1m21s\u001b[0m 6ms/step - accuracy: 0.8307 - loss: 0.4514 - val_accuracy: 0.8320 - val_loss: 0.4323\n",
      "Epoch 10/20\n",
      "\u001b[1m3292/3292\u001b[0m \u001b[32m━━━━━━━━━━━━━━━━━━━━\u001b[0m\u001b[37m\u001b[0m \u001b[1m18s\u001b[0m 5ms/step - accuracy: 0.8318 - loss: 0.4469 - val_accuracy: 0.8258 - val_loss: 0.4531\n",
      "Epoch 11/20\n",
      "\u001b[1m3292/3292\u001b[0m \u001b[32m━━━━━━━━━━━━━━━━━━━━\u001b[0m\u001b[37m\u001b[0m \u001b[1m22s\u001b[0m 7ms/step - accuracy: 0.8290 - loss: 0.4493 - val_accuracy: 0.8282 - val_loss: 0.4378\n",
      "Epoch 12/20\n",
      "\u001b[1m3292/3292\u001b[0m \u001b[32m━━━━━━━━━━━━━━━━━━━━\u001b[0m\u001b[37m\u001b[0m \u001b[1m38s\u001b[0m 6ms/step - accuracy: 0.8284 - loss: 0.4480 - val_accuracy: 0.8264 - val_loss: 0.4282\n",
      "Epoch 13/20\n",
      "\u001b[1m3292/3292\u001b[0m \u001b[32m━━━━━━━━━━━━━━━━━━━━\u001b[0m\u001b[37m\u001b[0m \u001b[1m20s\u001b[0m 6ms/step - accuracy: 0.8301 - loss: 0.4503 - val_accuracy: 0.8271 - val_loss: 0.4426\n",
      "Epoch 14/20\n",
      "\u001b[1m3292/3292\u001b[0m \u001b[32m━━━━━━━━━━━━━━━━━━━━\u001b[0m\u001b[37m\u001b[0m \u001b[1m18s\u001b[0m 6ms/step - accuracy: 0.8271 - loss: 0.4514 - val_accuracy: 0.8245 - val_loss: 0.4564\n",
      "Epoch 15/20\n",
      "\u001b[1m3292/3292\u001b[0m \u001b[32m━━━━━━━━━━━━━━━━━━━━\u001b[0m\u001b[37m\u001b[0m \u001b[1m19s\u001b[0m 6ms/step - accuracy: 0.8291 - loss: 0.4489 - val_accuracy: 0.8290 - val_loss: 0.4381\n",
      "Epoch 16/20\n",
      "\u001b[1m3292/3292\u001b[0m \u001b[32m━━━━━━━━━━━━━━━━━━━━\u001b[0m\u001b[37m\u001b[0m \u001b[1m20s\u001b[0m 6ms/step - accuracy: 0.8258 - loss: 0.4517 - val_accuracy: 0.8272 - val_loss: 0.4306\n",
      "Epoch 17/20\n",
      "\u001b[1m3292/3292\u001b[0m \u001b[32m━━━━━━━━━━━━━━━━━━━━\u001b[0m\u001b[37m\u001b[0m \u001b[1m19s\u001b[0m 5ms/step - accuracy: 0.8273 - loss: 0.4472 - val_accuracy: 0.8202 - val_loss: 0.4576\n"
     ]
    }
   ],
   "source": [
    "model = Sequential()\n",
    "es = EarlyStopping(patience=5)\n",
    "\n",
    "# input layer\n",
    "model.add(Input(shape = X_train_ctx[0].shape))\n",
    "\n",
    "# hidden layers\n",
    "model.add(Dense(32, activation=None, kernel_regularizer=l2(0.005)))\n",
    "model.add(BatchNormalization())\n",
    "model.add(Activation('relu'))\n",
    "\n",
    "model.add(Dense(32, activation=None, kernel_regularizer=l2(0.005)))\n",
    "model.add(BatchNormalization())\n",
    "model.add(Activation('relu'))\n",
    "model.add(Dropout(0.4))\n",
    "\n",
    "model.add(Dense(64, activation=None, kernel_regularizer=l2(0.005)))\n",
    "model.add(BatchNormalization())\n",
    "model.add(Activation('relu'))\n",
    "model.add(Dropout(0.5))\n",
    "\n",
    "# output layer\n",
    "model.add(Dense(1, activation='sigmoid'))\n",
    "\n",
    "model.compile(loss='binary_crossentropy', optimizer='adam', metrics=['accuracy'])\n",
    "\n",
    "res = model.fit(X_train_ctx, y_train,\n",
    "                validation_data=(X_test_ctx, y_test),\n",
    "                epochs=20,\n",
    "                batch_size=32,\n",
    "                callbacks=[es],\n",
    "                class_weight=class_weight_dict)"
   ]
  },
  {
   "cell_type": "code",
   "execution_count": null,
   "metadata": {
    "colab": {
     "base_uri": "https://localhost:8080/"
    },
    "executionInfo": {
     "elapsed": 3607,
     "status": "ok",
     "timestamp": 1730408445393,
     "user": {
      "displayName": "Joe Li",
      "userId": "05923212614088401950"
     },
     "user_tz": 420
    },
    "id": "Zs9QvADGq1Tc",
    "outputId": "29939351-cc4f-4c52-e7d1-a60dd8fe9519"
   },
   "outputs": [
    {
     "name": "stdout",
     "output_type": "stream",
     "text": [
      "\u001b[1m1098/1098\u001b[0m \u001b[32m━━━━━━━━━━━━━━━━━━━━\u001b[0m\u001b[37m\u001b[0m \u001b[1m2s\u001b[0m 2ms/step\n"
     ]
    }
   ],
   "source": [
    "pred = model.predict(X_test_ctx)"
   ]
  },
  {
   "cell_type": "code",
   "execution_count": null,
   "metadata": {
    "colab": {
     "base_uri": "https://localhost:8080/"
    },
    "executionInfo": {
     "elapsed": 2530,
     "status": "ok",
     "timestamp": 1730408447920,
     "user": {
      "displayName": "Joe Li",
      "userId": "05923212614088401950"
     },
     "user_tz": 420
    },
    "id": "e1p9jtMRRwo2",
    "outputId": "986c3433-9cb6-4dfe-e175-11578ad0e214"
   },
   "outputs": [
    {
     "name": "stdout",
     "output_type": "stream",
     "text": [
      "\u001b[1m1098/1098\u001b[0m \u001b[32m━━━━━━━━━━━━━━━━━━━━\u001b[0m\u001b[37m\u001b[0m \u001b[1m2s\u001b[0m 2ms/step - accuracy: 0.8193 - loss: 0.4600\n"
     ]
    },
    {
     "data": {
      "text/plain": [
       "[0.45762404799461365, 0.820188581943512]"
      ]
     },
     "execution_count": 41,
     "metadata": {},
     "output_type": "execute_result"
    }
   ],
   "source": [
    "model.evaluate(X_test_ctx, y_test)"
   ]
  },
  {
   "cell_type": "code",
   "execution_count": null,
   "metadata": {
    "colab": {
     "base_uri": "https://localhost:8080/",
     "height": 664
    },
    "executionInfo": {
     "elapsed": 2568,
     "status": "ok",
     "timestamp": 1730408451205,
     "user": {
      "displayName": "Joe Li",
      "userId": "05923212614088401950"
     },
     "user_tz": 420
    },
    "id": "2yq-gnowKCQS",
    "outputId": "f8791669-881f-49f2-9e1e-684f00556858"
   },
   "outputs": [
    {
     "data": {
      "image/png": "[encoded data removed]",
      "text/plain": [
       "<Figure size 1600x900 with 2 Axes>"
      ]
     },
     "metadata": {},
     "output_type": "display_data"
    }
   ],
   "source": [
    "plt.figure(figsize=(16, 9))\n",
    "# loss\n",
    "plt.subplot(1, 2, 1)\n",
    "plt.plot(res.history['loss'], label='Training loss', color='crimson')\n",
    "plt.plot(res.history['val_loss'], label='Testing loss', color='deepskyblue')\n",
    "plt.title('Training & Validation Loss')\n",
    "plt.xlabel('Epochs')\n",
    "plt.xticks(range(1, len(res.history['loss']) + 1))\n",
    "plt.ylabel('Loss')\n",
    "plt.legend()\n",
    "\n",
    "# acc\n",
    "plt.subplot(1, 2, 2)\n",
    "plt.plot(res.history['accuracy'], label='Training accuracy', color='chartreuse')\n",
    "plt.plot(res.history['val_accuracy'], label='Testing accuracy', color='mediumslateblue')\n",
    "plt.title('Training & Validation Accuracy')\n",
    "plt.xlabel('Epochs')\n",
    "plt.xticks(range(1, len(res.history['loss']) + 1))\n",
    "plt.ylabel('Mean Squared Error')\n",
    "plt.legend();"
   ]
  },
  {
   "cell_type": "code",
   "execution_count": null,
   "metadata": {
    "id": "rkkJoC5Nq317"
   },
   "outputs": [],
   "source": [
    "tn, fp, fn, tp = confusion_matrix(y_test, pred.round()).ravel()"
   ]
  },
  {
   "cell_type": "code",
   "execution_count": null,
   "metadata": {
    "colab": {
     "base_uri": "https://localhost:8080/",
     "height": 89
    },
    "executionInfo": {
     "elapsed": 171,
     "status": "ok",
     "timestamp": 1730408470216,
     "user": {
      "displayName": "Joe Li",
      "userId": "05923212614088401950"
     },
     "user_tz": 420
    },
    "id": "jd2KBfoStfqT",
    "outputId": "5e90b602-700a-4856-f7b3-2a7a8cad45d2"
   },
   "outputs": [
    {
     "data": {
      "application/vnd.google.colaboratory.intrinsic+json": {
       "summary": "{\n  \"name\": \"metrics\",\n  \"rows\": 1,\n  \"fields\": [\n    {\n      \"column\": \"Accuracy\",\n      \"properties\": {\n        \"dtype\": \"number\",\n        \"std\": null,\n        \"min\": 0.820188581943512,\n        \"max\": 0.820188581943512,\n        \"num_unique_values\": 1,\n        \"samples\": [\n          0.820188581943512\n        ],\n        \"semantic_type\": \"\",\n        \"description\": \"\"\n      }\n    },\n    {\n      \"column\": \"Sensitivity\",\n      \"properties\": {\n        \"dtype\": \"number\",\n        \"std\": null,\n        \"min\": 0.8788058071269285,\n        \"max\": 0.8788058071269285,\n        \"num_unique_values\": 1,\n        \"samples\": [\n          0.8788058071269285\n        ],\n        \"semantic_type\": \"\",\n        \"description\": \"\"\n      }\n    },\n    {\n      \"column\": \"Precision\",\n      \"properties\": {\n        \"dtype\": \"number\",\n        \"std\": null,\n        \"min\": 0.8410278745644599,\n        \"max\": 0.8410278745644599,\n        \"num_unique_values\": 1,\n        \"samples\": [\n          0.8410278745644599\n        ],\n        \"semantic_type\": \"\",\n        \"description\": \"\"\n      }\n    },\n    {\n      \"column\": \"Specificity\",\n      \"properties\": {\n        \"dtype\": \"number\",\n        \"std\": null,\n        \"min\": 0.7221376370280146,\n        \"max\": 0.7221376370280146,\n        \"num_unique_values\": 1,\n        \"samples\": [\n          0.7221376370280146\n        ],\n        \"semantic_type\": \"\",\n        \"description\": \"\"\n      }\n    },\n    {\n      \"column\": \"ROC AUC\",\n      \"properties\": {\n        \"dtype\": \"number\",\n        \"std\": null,\n        \"min\": 0.8809529427877741,\n        \"max\": 0.8809529427877741,\n        \"num_unique_values\": 1,\n        \"samples\": [\n          0.8809529427877741\n        ],\n        \"semantic_type\": \"\",\n        \"description\": \"\"\n      }\n    },\n    {\n      \"column\": \"F1\",\n      \"properties\": {\n        \"dtype\": \"number\",\n        \"std\": null,\n        \"min\": 0.859501925088465,\n        \"max\": 0.859501925088465,\n        \"num_unique_values\": 1,\n        \"samples\": [\n          0.859501925088465\n        ],\n        \"semantic_type\": \"\",\n        \"description\": \"\"\n      }\n    }\n  ]\n}",
       "type": "dataframe",
       "variable_name": "metrics"
      },
      "text/html": [
       "\n",
       "  <div id=\"df-a573d66d-f3bc-4967-a9f8-96942ec9af51\" class=\"colab-df-container\">\n",
       "    <div>\n",
       "<style scoped>\n",
       "    .dataframe tbody tr th:only-of-type {\n",
       "        vertical-align: middle;\n",
       "    }\n",
       "\n",
       "    .dataframe tbody tr th {\n",
       "        vertical-align: top;\n",
       "    }\n",
       "\n",
       "    .dataframe thead th {\n",
       "        text-align: right;\n",
       "    }\n",
       "</style>\n",
       "<table border=\"1\" class=\"dataframe\">\n",
       "  <thead>\n",
       "    <tr style=\"text-align: right;\">\n",
       "      <th></th>\n",
       "      <th>Accuracy</th>\n",
       "      <th>Sensitivity</th>\n",
       "      <th>Precision</th>\n",
       "      <th>Specificity</th>\n",
       "      <th>ROC AUC</th>\n",
       "      <th>F1</th>\n",
       "    </tr>\n",
       "  </thead>\n",
       "  <tbody>\n",
       "    <tr>\n",
       "      <th>Austin</th>\n",
       "      <td>0.820189</td>\n",
       "      <td>0.878806</td>\n",
       "      <td>0.841028</td>\n",
       "      <td>0.722138</td>\n",
       "      <td>0.880953</td>\n",
       "      <td>0.859502</td>\n",
       "    </tr>\n",
       "  </tbody>\n",
       "</table>\n",
       "</div>\n",
       "    <div class=\"colab-df-buttons\">\n",
       "\n",
       "  <div class=\"colab-df-container\">\n",
       "    <button class=\"colab-df-convert\" onclick=\"convertToInteractive('df-a573d66d-f3bc-4967-a9f8-96942ec9af51')\"\n",
       "            title=\"Convert this dataframe to an interactive table.\"\n",
       "            style=\"display:none;\">\n",
       "\n",
       "  <svg xmlns=\"http://www.w3.org/2000/svg\" height=\"24px\" viewBox=\"0 -960 960 960\">\n",
       "    <path d=\"M120-120v-720h720v720H120Zm60-500h600v-160H180v160Zm220 220h160v-160H400v160Zm0 220h160v-160H400v160ZM180-400h160v-160H180v160Zm440 0h160v-160H620v160ZM180-180h160v-160H180v160Zm440 0h160v-160H620v160Z\"/>\n",
       "  </svg>\n",
       "    </button>\n",
       "\n",
       "  <style>\n",
       "    .colab-df-container {\n",
       "      display:flex;\n",
       "      gap: 12px;\n",
       "    }\n",
       "\n",
       "    .colab-df-convert {\n",
       "      background-color: #E8F0FE;\n",
       "      border: none;\n",
       "      border-radius: 50%;\n",
       "      cursor: pointer;\n",
       "      display: none;\n",
       "      fill: #1967D2;\n",
       "      height: 32px;\n",
       "      padding: 0 0 0 0;\n",
       "      width: 32px;\n",
       "    }\n",
       "\n",
       "    .colab-df-convert:hover {\n",
       "      background-color: #E2EBFA;\n",
       "      box-shadow: 0px 1px 2px rgba(60, 64, 67, 0.3), 0px 1px 3px 1px rgba(60, 64, 67, 0.15);\n",
       "      fill: #174EA6;\n",
       "    }\n",
       "\n",
       "    .colab-df-buttons div {\n",
       "      margin-bottom: 4px;\n",
       "    }\n",
       "\n",
       "    [theme=dark] .colab-df-convert {\n",
       "      background-color: #3B4455;\n",
       "      fill: #D2E3FC;\n",
       "    }\n",
       "\n",
       "    [theme=dark] .colab-df-convert:hover {\n",
       "      background-color: #434B5C;\n",
       "      box-shadow: 0px 1px 3px 1px rgba(0, 0, 0, 0.15);\n",
       "      filter: drop-shadow(0px 1px 2px rgba(0, 0, 0, 0.3));\n",
       "      fill: #FFFFFF;\n",
       "    }\n",
       "  </style>\n",
       "\n",
       "    <script>\n",
       "      const buttonEl =\n",
       "        document.querySelector('#df-a573d66d-f3bc-4967-a9f8-96942ec9af51 button.colab-df-convert');\n",
       "      buttonEl.style.display =\n",
       "        google.colab.kernel.accessAllowed ? 'block' : 'none';\n",
       "\n",
       "      async function convertToInteractive(key) {\n",
       "        const element = document.querySelector('#df-a573d66d-f3bc-4967-a9f8-96942ec9af51');\n",
       "        const dataTable =\n",
       "          await google.colab.kernel.invokeFunction('convertToInteractive',\n",
       "                                                    [key], {});\n",
       "        if (!dataTable) return;\n",
       "\n",
       "        const docLinkHtml = 'Like what you see? Visit the ' +\n",
       "          '<a target=\"_blank\" href=https://colab.research.google.com/notebooks/data_table.ipynb>data table notebook</a>'\n",
       "          + ' to learn more about interactive tables.';\n",
       "        element.innerHTML = '';\n",
       "        dataTable['output_type'] = 'display_data';\n",
       "        await google.colab.output.renderOutput(dataTable, element);\n",
       "        const docLink = document.createElement('div');\n",
       "        docLink.innerHTML = docLinkHtml;\n",
       "        element.appendChild(docLink);\n",
       "      }\n",
       "    </script>\n",
       "  </div>\n",
       "\n",
       "\n",
       "  <div id=\"id_2bf677d4-203e-493e-b4f9-1f92fc6eba57\">\n",
       "    <style>\n",
       "      .colab-df-generate {\n",
       "        background-color: #E8F0FE;\n",
       "        border: none;\n",
       "        border-radius: 50%;\n",
       "        cursor: pointer;\n",
       "        display: none;\n",
       "        fill: #1967D2;\n",
       "        height: 32px;\n",
       "        padding: 0 0 0 0;\n",
       "        width: 32px;\n",
       "      }\n",
       "\n",
       "      .colab-df-generate:hover {\n",
       "        background-color: #E2EBFA;\n",
       "        box-shadow: 0px 1px 2px rgba(60, 64, 67, 0.3), 0px 1px 3px 1px rgba(60, 64, 67, 0.15);\n",
       "        fill: #174EA6;\n",
       "      }\n",
       "\n",
       "      [theme=dark] .colab-df-generate {\n",
       "        background-color: #3B4455;\n",
       "        fill: #D2E3FC;\n",
       "      }\n",
       "\n",
       "      [theme=dark] .colab-df-generate:hover {\n",
       "        background-color: #434B5C;\n",
       "        box-shadow: 0px 1px 3px 1px rgba(0, 0, 0, 0.15);\n",
       "        filter: drop-shadow(0px 1px 2px rgba(0, 0, 0, 0.3));\n",
       "        fill: #FFFFFF;\n",
       "      }\n",
       "    </style>\n",
       "    <button class=\"colab-df-generate\" onclick=\"generateWithVariable('metrics')\"\n",
       "            title=\"Generate code using this dataframe.\"\n",
       "            style=\"display:none;\">\n",
       "\n",
       "  <svg xmlns=\"http://www.w3.org/2000/svg\" height=\"24px\"viewBox=\"0 0 24 24\"\n",
       "       width=\"24px\">\n",
       "    <path d=\"M7,19H8.4L18.45,9,17,7.55,7,17.6ZM5,21V16.75L18.45,3.32a2,2,0,0,1,2.83,0l1.4,1.43a1.91,1.91,0,0,1,.58,1.4,1.91,1.91,0,0,1-.58,1.4L9.25,21ZM18.45,9,17,7.55Zm-12,3A5.31,5.31,0,0,0,4.9,8.1,5.31,5.31,0,0,0,1,6.5,5.31,5.31,0,0,0,4.9,4.9,5.31,5.31,0,0,0,6.5,1,5.31,5.31,0,0,0,8.1,4.9,5.31,5.31,0,0,0,12,6.5,5.46,5.46,0,0,0,6.5,12Z\"/>\n",
       "  </svg>\n",
       "    </button>\n",
       "    <script>\n",
       "      (() => {\n",
       "      const buttonEl =\n",
       "        document.querySelector('#id_2bf677d4-203e-493e-b4f9-1f92fc6eba57 button.colab-df-generate');\n",
       "      buttonEl.style.display =\n",
       "        google.colab.kernel.accessAllowed ? 'block' : 'none';\n",
       "\n",
       "      buttonEl.onclick = () => {\n",
       "        google.colab.notebook.generateWithVariable('metrics');\n",
       "      }\n",
       "      })();\n",
       "    </script>\n",
       "  </div>\n",
       "\n",
       "    </div>\n",
       "  </div>\n"
      ],
      "text/plain": [
       "        Accuracy  Sensitivity  Precision  Specificity   ROC AUC        F1\n",
       "Austin  0.820189     0.878806   0.841028     0.722138  0.880953  0.859502"
      ]
     },
     "execution_count": 44,
     "metadata": {},
     "output_type": "execute_result"
    }
   ],
   "source": [
    "metrics = {\n",
    "    'Accuracy': res.history['val_accuracy'][-1],\n",
    "    'Sensitivity': recall_score(y_test, pred.round()),\n",
    "    'Precision': precision_score(y_test, pred.round()),\n",
    "    'Specificity': tn / (tn + fp),\n",
    "    'ROC AUC': roc_auc_score(y_test, pred),\n",
    "    'F1': f1_score(y_test, pred.round()),\n",
    "}\n",
    "metrics = pd.DataFrame([metrics], index=['Austin'])\n",
    "metrics"
   ]
  },
  {
   "cell_type": "markdown",
   "metadata": {
    "id": "f0kT5cy5qFMl"
   },
   "source": [
    "The model outcomes shows decent performance according the metrics above.\n",
    "* Accuracy: The overall correct prediction proportion is 82%.\n",
    "* Precision: When the model predicts a positive class, it's correct about 84.1% of the time. High precision means fewer false positives.\n",
    "* Specificity: This reflects the model's ability to correctly identify negatives. A specificity of 72.21% suggests that there are a fair number of false negatives. The model still needs improvement because every false negative represents an animal with a high adoption likelihood that is mistakenly classified as not likely to be adopted.\n",
    "* ROC AUC: AUC indicates the model's ability to distinguish between classes. A value of 88% suggestes a decent model performance.\n",
    "* The validation accuracy fluctuated around 82-83% after using batch normalization, l2 regularization and dropout to combat overfitting, which indicates the model still have space for future improvement(such as hyperparameters tuning)."
   ]
  },
  {
   "cell_type": "markdown",
   "metadata": {
    "id": "CpRBJIZgaqTC"
   },
   "source": [
    "---\n",
    "#### Dallas Shelters"
   ]
  },
  {
   "cell_type": "markdown",
   "metadata": {
    "id": "U_Bgq4PwzeCG"
   },
   "source": [
    "The intake and outcome records of Dallas shelters come with less information compared to the Austin shelter, which is a challenge for our model due to the limited available features."
   ]
  },
  {
   "cell_type": "code",
   "execution_count": null,
   "metadata": {
    "id": "wCrSNWs9azAo"
   },
   "outputs": [],
   "source": [
    "X = dallas[['animal_type', 'breed', 'intake_type', 'reason', 'outcome_condition', 'stay_duration']]\n",
    "y = dallas['outcome_type'].apply(lambda x: 1 if x in ['ADOPTION', 'RETURNED TO OWNER'] else 0)"
   ]
  },
  {
   "cell_type": "code",
   "execution_count": null,
   "metadata": {
    "colab": {
     "base_uri": "https://localhost:8080/",
     "height": 178
    },
    "executionInfo": {
     "elapsed": 144,
     "status": "ok",
     "timestamp": 1730408811586,
     "user": {
      "displayName": "Joe Li",
      "userId": "05923212614088401950"
     },
     "user_tz": 420
    },
    "id": "MyoqHW0LPLts",
    "outputId": "401bf50c-883e-40bc-a90b-27112fac0ee0"
   },
   "outputs": [
    {
     "data": {
      "text/html": [
       "<div>\n",
       "<style scoped>\n",
       "    .dataframe tbody tr th:only-of-type {\n",
       "        vertical-align: middle;\n",
       "    }\n",
       "\n",
       "    .dataframe tbody tr th {\n",
       "        vertical-align: top;\n",
       "    }\n",
       "\n",
       "    .dataframe thead th {\n",
       "        text-align: right;\n",
       "    }\n",
       "</style>\n",
       "<table border=\"1\" class=\"dataframe\">\n",
       "  <thead>\n",
       "    <tr style=\"text-align: right;\">\n",
       "      <th></th>\n",
       "      <th>proportion</th>\n",
       "    </tr>\n",
       "    <tr>\n",
       "      <th>outcome_type</th>\n",
       "      <th></th>\n",
       "    </tr>\n",
       "  </thead>\n",
       "  <tbody>\n",
       "    <tr>\n",
       "      <th>0</th>\n",
       "      <td>0.554237</td>\n",
       "    </tr>\n",
       "    <tr>\n",
       "      <th>1</th>\n",
       "      <td>0.445763</td>\n",
       "    </tr>\n",
       "  </tbody>\n",
       "</table>\n",
       "</div><br><label><b>dtype:</b> float64</label>"
      ],
      "text/plain": [
       "outcome_type\n",
       "0    0.554237\n",
       "1    0.445763\n",
       "Name: proportion, dtype: float64"
      ]
     },
     "execution_count": 46,
     "metadata": {},
     "output_type": "execute_result"
    }
   ],
   "source": [
    "y.value_counts(normalize=True)"
   ]
  },
  {
   "cell_type": "code",
   "execution_count": null,
   "metadata": {
    "id": "CUEwCFfXeKb6"
   },
   "outputs": [],
   "source": [
    "X_train, X_test, y_train, y_test = train_test_split(X, y, random_state=42)"
   ]
  },
  {
   "cell_type": "code",
   "execution_count": null,
   "metadata": {
    "id": "UTg7br9Bay2N"
   },
   "outputs": [],
   "source": [
    "ctx = ColumnTransformer(\n",
    "    transformers=[\n",
    "        ('ss', StandardScaler(), ['stay_duration']),\n",
    "        ('ohe', OneHotEncoder(drop='first', handle_unknown='ignore', sparse_output=False),\n",
    "         ['animal_type', 'breed', 'intake_type', 'reason', 'outcome_condition'])],\n",
    "    verbose_feature_names_out=False,\n",
    "    remainder='passthrough')"
   ]
  },
  {
   "cell_type": "code",
   "execution_count": null,
   "metadata": {
    "colab": {
     "base_uri": "https://localhost:8080/"
    },
    "executionInfo": {
     "elapsed": 3447,
     "status": "ok",
     "timestamp": 1730408820381,
     "user": {
      "displayName": "Joe Li",
      "userId": "05923212614088401950"
     },
     "user_tz": 420
    },
    "id": "P3rwzrr0d-m2",
    "outputId": "d7e244c9-9e4a-4fab-dd5b-3c94b9ba59a8"
   },
   "outputs": [
    {
     "name": "stderr",
     "output_type": "stream",
     "text": [
      "/usr/local/lib/python3.10/dist-packages/sklearn/preprocessing/_encoders.py:242: UserWarning: Found unknown categories in columns [1, 3] during transform. These unknown categories will be encoded as all zeros\n",
      "  warnings.warn(\n"
     ]
    }
   ],
   "source": [
    "X_train_ctx = ctx.fit_transform(X_train)\n",
    "X_test_ctx = ctx.transform(X_test)"
   ]
  },
  {
   "cell_type": "code",
   "execution_count": null,
   "metadata": {
    "id": "yDsDtq8LO24o"
   },
   "outputs": [],
   "source": [
    "# not using the class weight since the data is roughly balanced\n",
    "# y_train = np.array(y_train).flatten()\n",
    "# class_weights2 = compute_class_weight('balanced', classes=np.unique(y_train), y=y_train)\n",
    "# class_weight_dict2 = {i: class_weights2[i] for i in range(len(class_weights2))}\n",
    "# class_weight_dict2"
   ]
  },
  {
   "cell_type": "code",
   "execution_count": null,
   "metadata": {
    "colab": {
     "base_uri": "https://localhost:8080/"
    },
    "executionInfo": {
     "elapsed": 674923,
     "status": "ok",
     "timestamp": 1730411003677,
     "user": {
      "displayName": "Joe Li",
      "userId": "05923212614088401950"
     },
     "user_tz": 420
    },
    "id": "SrMnbyhLeNu3",
    "outputId": "8eccb360-873a-42ac-a2fa-30cfacd39bbd"
   },
   "outputs": [
    {
     "name": "stdout",
     "output_type": "stream",
     "text": [
      "Epoch 1/50\n",
      "\u001b[1m5994/5994\u001b[0m \u001b[32m━━━━━━━━━━━━━━━━━━━━\u001b[0m\u001b[37m\u001b[0m \u001b[1m26s\u001b[0m 3ms/step - accuracy: 0.7575 - loss: 0.6179 - val_accuracy: 0.7991 - val_loss: 0.4301\n",
      "Epoch 2/50\n",
      "\u001b[1m5994/5994\u001b[0m \u001b[32m━━━━━━━━━━━━━━━━━━━━\u001b[0m\u001b[37m\u001b[0m \u001b[1m22s\u001b[0m 4ms/step - accuracy: 0.7900 - loss: 0.4524 - val_accuracy: 0.8002 - val_loss: 0.4281\n",
      "Epoch 3/50\n",
      "\u001b[1m5994/5994\u001b[0m \u001b[32m━━━━━━━━━━━━━━━━━━━━\u001b[0m\u001b[37m\u001b[0m \u001b[1m22s\u001b[0m 4ms/step - accuracy: 0.7896 - loss: 0.4486 - val_accuracy: 0.7966 - val_loss: 0.4228\n",
      "Epoch 4/50\n",
      "\u001b[1m5994/5994\u001b[0m \u001b[32m━━━━━━━━━━━━━━━━━━━━\u001b[0m\u001b[37m\u001b[0m \u001b[1m41s\u001b[0m 4ms/step - accuracy: 0.7887 - loss: 0.4456 - val_accuracy: 0.7975 - val_loss: 0.4314\n",
      "Epoch 5/50\n",
      "\u001b[1m5994/5994\u001b[0m \u001b[32m━━━━━━━━━━━━━━━━━━━━\u001b[0m\u001b[37m\u001b[0m \u001b[1m40s\u001b[0m 4ms/step - accuracy: 0.7915 - loss: 0.4409 - val_accuracy: 0.7991 - val_loss: 0.4261\n",
      "Epoch 6/50\n",
      "\u001b[1m5994/5994\u001b[0m \u001b[32m━━━━━━━━━━━━━━━━━━━━\u001b[0m\u001b[37m\u001b[0m \u001b[1m41s\u001b[0m 4ms/step - accuracy: 0.7922 - loss: 0.4416 - val_accuracy: 0.7985 - val_loss: 0.4218\n",
      "Epoch 7/50\n",
      "\u001b[1m5994/5994\u001b[0m \u001b[32m━━━━━━━━━━━━━━━━━━━━\u001b[0m\u001b[37m\u001b[0m \u001b[1m38s\u001b[0m 3ms/step - accuracy: 0.7893 - loss: 0.4410 - val_accuracy: 0.7954 - val_loss: 0.4289\n",
      "Epoch 8/50\n",
      "\u001b[1m5994/5994\u001b[0m \u001b[32m━━━━━━━━━━━━━━━━━━━━\u001b[0m\u001b[37m\u001b[0m \u001b[1m24s\u001b[0m 4ms/step - accuracy: 0.7884 - loss: 0.4406 - val_accuracy: 0.7993 - val_loss: 0.4259\n",
      "Epoch 9/50\n",
      "\u001b[1m5994/5994\u001b[0m \u001b[32m━━━━━━━━━━━━━━━━━━━━\u001b[0m\u001b[37m\u001b[0m \u001b[1m37s\u001b[0m 3ms/step - accuracy: 0.7903 - loss: 0.4405 - val_accuracy: 0.8008 - val_loss: 0.4207\n",
      "Epoch 10/50\n",
      "\u001b[1m5994/5994\u001b[0m \u001b[32m━━━━━━━━━━━━━━━━━━━━\u001b[0m\u001b[37m\u001b[0m \u001b[1m22s\u001b[0m 4ms/step - accuracy: 0.7901 - loss: 0.4377 - val_accuracy: 0.7988 - val_loss: 0.4246\n",
      "Epoch 11/50\n",
      "\u001b[1m5994/5994\u001b[0m \u001b[32m━━━━━━━━━━━━━━━━━━━━\u001b[0m\u001b[37m\u001b[0m \u001b[1m20s\u001b[0m 3ms/step - accuracy: 0.7897 - loss: 0.4389 - val_accuracy: 0.7989 - val_loss: 0.4237\n",
      "Epoch 12/50\n",
      "\u001b[1m5994/5994\u001b[0m \u001b[32m━━━━━━━━━━━━━━━━━━━━\u001b[0m\u001b[37m\u001b[0m \u001b[1m20s\u001b[0m 3ms/step - accuracy: 0.7886 - loss: 0.4399 - val_accuracy: 0.8013 - val_loss: 0.4210\n",
      "Epoch 13/50\n",
      "\u001b[1m5994/5994\u001b[0m \u001b[32m━━━━━━━━━━━━━━━━━━━━\u001b[0m\u001b[37m\u001b[0m \u001b[1m23s\u001b[0m 4ms/step - accuracy: 0.7898 - loss: 0.4396 - val_accuracy: 0.7998 - val_loss: 0.4192\n",
      "Epoch 14/50\n",
      "\u001b[1m5994/5994\u001b[0m \u001b[32m━━━━━━━━━━━━━━━━━━━━\u001b[0m\u001b[37m\u001b[0m \u001b[1m20s\u001b[0m 3ms/step - accuracy: 0.7913 - loss: 0.4381 - val_accuracy: 0.8003 - val_loss: 0.4208\n",
      "Epoch 15/50\n",
      "\u001b[1m5994/5994\u001b[0m \u001b[32m━━━━━━━━━━━━━━━━━━━━\u001b[0m\u001b[37m\u001b[0m \u001b[1m21s\u001b[0m 3ms/step - accuracy: 0.7916 - loss: 0.4373 - val_accuracy: 0.8001 - val_loss: 0.4232\n",
      "Epoch 16/50\n",
      "\u001b[1m5994/5994\u001b[0m \u001b[32m━━━━━━━━━━━━━━━━━━━━\u001b[0m\u001b[37m\u001b[0m \u001b[1m23s\u001b[0m 4ms/step - accuracy: 0.7914 - loss: 0.4374 - val_accuracy: 0.7992 - val_loss: 0.4182\n",
      "Epoch 17/50\n",
      "\u001b[1m5994/5994\u001b[0m \u001b[32m━━━━━━━━━━━━━━━━━━━━\u001b[0m\u001b[37m\u001b[0m \u001b[1m40s\u001b[0m 4ms/step - accuracy: 0.7899 - loss: 0.4407 - val_accuracy: 0.7982 - val_loss: 0.4256\n",
      "Epoch 18/50\n",
      "\u001b[1m5994/5994\u001b[0m \u001b[32m━━━━━━━━━━━━━━━━━━━━\u001b[0m\u001b[37m\u001b[0m \u001b[1m20s\u001b[0m 3ms/step - accuracy: 0.7905 - loss: 0.4388 - val_accuracy: 0.7974 - val_loss: 0.4261\n",
      "Epoch 19/50\n",
      "\u001b[1m5994/5994\u001b[0m \u001b[32m━━━━━━━━━━━━━━━━━━━━\u001b[0m\u001b[37m\u001b[0m \u001b[1m20s\u001b[0m 3ms/step - accuracy: 0.7904 - loss: 0.4395 - val_accuracy: 0.8003 - val_loss: 0.4130\n",
      "Epoch 20/50\n",
      "\u001b[1m5994/5994\u001b[0m \u001b[32m━━━━━━━━━━━━━━━━━━━━\u001b[0m\u001b[37m\u001b[0m \u001b[1m22s\u001b[0m 4ms/step - accuracy: 0.7900 - loss: 0.4377 - val_accuracy: 0.7955 - val_loss: 0.4277\n",
      "Epoch 21/50\n",
      "\u001b[1m5994/5994\u001b[0m \u001b[32m━━━━━━━━━━━━━━━━━━━━\u001b[0m\u001b[37m\u001b[0m \u001b[1m42s\u001b[0m 4ms/step - accuracy: 0.7897 - loss: 0.4389 - val_accuracy: 0.8000 - val_loss: 0.4171\n",
      "Epoch 22/50\n",
      "\u001b[1m5994/5994\u001b[0m \u001b[32m━━━━━━━━━━━━━━━━━━━━\u001b[0m\u001b[37m\u001b[0m \u001b[1m23s\u001b[0m 4ms/step - accuracy: 0.7906 - loss: 0.4379 - val_accuracy: 0.7989 - val_loss: 0.4249\n",
      "Epoch 23/50\n",
      "\u001b[1m5994/5994\u001b[0m \u001b[32m━━━━━━━━━━━━━━━━━━━━\u001b[0m\u001b[37m\u001b[0m \u001b[1m23s\u001b[0m 4ms/step - accuracy: 0.7905 - loss: 0.4371 - val_accuracy: 0.8009 - val_loss: 0.4253\n",
      "Epoch 24/50\n",
      "\u001b[1m5994/5994\u001b[0m \u001b[32m━━━━━━━━━━━━━━━━━━━━\u001b[0m\u001b[37m\u001b[0m \u001b[1m41s\u001b[0m 4ms/step - accuracy: 0.7894 - loss: 0.4390 - val_accuracy: 0.8007 - val_loss: 0.4230\n"
     ]
    }
   ],
   "source": [
    "model2 = Sequential()\n",
    "es = EarlyStopping(patience=5)\n",
    "\n",
    "# input layer\n",
    "model2.add(Input(shape = X_train_ctx[0].shape))\n",
    "\n",
    "# hidden layers\n",
    "model2.add(Dense(32, activation=None, kernel_regularizer=l2(0.01)))\n",
    "model2.add(BatchNormalization())\n",
    "model2.add(Activation('relu'))\n",
    "\n",
    "model2.add(Dense(32, activation=None, kernel_regularizer=l2(0.005)))\n",
    "model2.add(BatchNormalization())\n",
    "model2.add(Activation('relu'))\n",
    "model2.add(Dropout(0.4))\n",
    "\n",
    "model2.add(Dense(64, activation=None, kernel_regularizer=l2(0.001)))\n",
    "model2.add(BatchNormalization())\n",
    "model2.add(Activation('relu'))\n",
    "model2.add(Dropout(0.4))\n",
    "\n",
    "# output layer\n",
    "model2.add(Dense(1, activation='sigmoid'))\n",
    "\n",
    "model2.compile(loss='binary_crossentropy', optimizer='adam', metrics=['accuracy'])\n",
    "\n",
    "res2 = model2.fit(X_train_ctx, y_train,\n",
    "                validation_data=(X_test_ctx, y_test),\n",
    "                epochs=50,\n",
    "                batch_size=32,\n",
    "                callbacks=[es],\n",
    "                #class_weight=class_weight_dict2\n",
    ")"
   ]
  },
  {
   "cell_type": "code",
   "execution_count": null,
   "metadata": {
    "colab": {
     "base_uri": "https://localhost:8080/"
    },
    "executionInfo": {
     "elapsed": 5120,
     "status": "ok",
     "timestamp": 1730409345637,
     "user": {
      "displayName": "Joe Li",
      "userId": "05923212614088401950"
     },
     "user_tz": 420
    },
    "id": "dWrX8BbPfj0d",
    "outputId": "e6f64fde-ef82-44dd-c396-50c0c755a743"
   },
   "outputs": [
    {
     "name": "stdout",
     "output_type": "stream",
     "text": [
      "\u001b[1m1998/1998\u001b[0m \u001b[32m━━━━━━━━━━━━━━━━━━━━\u001b[0m\u001b[37m\u001b[0m \u001b[1m3s\u001b[0m 2ms/step\n"
     ]
    }
   ],
   "source": [
    "pred2 = model2.predict(X_test_ctx)"
   ]
  },
  {
   "cell_type": "code",
   "execution_count": null,
   "metadata": {
    "colab": {
     "base_uri": "https://localhost:8080/"
    },
    "executionInfo": {
     "elapsed": 3295,
     "status": "ok",
     "timestamp": 1730409348929,
     "user": {
      "displayName": "Joe Li",
      "userId": "05923212614088401950"
     },
     "user_tz": 420
    },
    "id": "cT8qAhKqRjJr",
    "outputId": "76914ed0-3b25-4a3b-814b-43be21a23e37"
   },
   "outputs": [
    {
     "name": "stdout",
     "output_type": "stream",
     "text": [
      "\u001b[1m1998/1998\u001b[0m \u001b[32m━━━━━━━━━━━━━━━━━━━━\u001b[0m\u001b[37m\u001b[0m \u001b[1m3s\u001b[0m 2ms/step - accuracy: 0.7970 - loss: 0.4253\n"
     ]
    },
    {
     "data": {
      "text/plain": [
       "[0.425864577293396, 0.797722578048706]"
      ]
     },
     "execution_count": 53,
     "metadata": {},
     "output_type": "execute_result"
    }
   ],
   "source": [
    "model2.evaluate(X_test_ctx, y_test)"
   ]
  },
  {
   "cell_type": "code",
   "execution_count": null,
   "metadata": {
    "colab": {
     "base_uri": "https://localhost:8080/",
     "height": 664
    },
    "executionInfo": {
     "elapsed": 772,
     "status": "ok",
     "timestamp": 1730409351863,
     "user": {
      "displayName": "Joe Li",
      "userId": "05923212614088401950"
     },
     "user_tz": 420
    },
    "id": "TCIEraudZqNM",
    "outputId": "cd288f72-6822-4f7c-8587-4c9670b5678b"
   },
   "outputs": [
    {
     "data": {
      "image/png": "[encoded data removed]",
      "text/plain": [
       "<Figure size 1600x900 with 2 Axes>"
      ]
     },
     "metadata": {},
     "output_type": "display_data"
    }
   ],
   "source": [
    "plt.figure(figsize=(16, 9))\n",
    "# loss\n",
    "plt.subplot(1, 2, 1)\n",
    "plt.plot(res2.history['loss'], label='Training loss', color='crimson')\n",
    "plt.plot(res2.history['val_loss'], label='Testing loss', color='deepskyblue')\n",
    "plt.title('Training & Validation Loss')\n",
    "plt.xlabel('Epochs')\n",
    "plt.xticks(range(1, len(res2.history['loss']) + 1))\n",
    "plt.ylabel('Loss')\n",
    "plt.legend()\n",
    "\n",
    "# acc\n",
    "plt.subplot(1, 2, 2)\n",
    "plt.plot(res2.history['accuracy'], label='Training accuracy', color='chartreuse')\n",
    "plt.plot(res2.history['val_accuracy'], label='Testing accuracy', color='mediumslateblue')\n",
    "plt.title('Training & Validation Accuracy')\n",
    "plt.xlabel('Epochs')\n",
    "plt.xticks(range(1, len(res2.history['loss']) + 1))\n",
    "plt.ylabel('Mean Squared Error')\n",
    "plt.legend();"
   ]
  },
  {
   "cell_type": "code",
   "execution_count": null,
   "metadata": {
    "colab": {
     "base_uri": "https://localhost:8080/"
    },
    "executionInfo": {
     "elapsed": 250,
     "status": "ok",
     "timestamp": 1730409366564,
     "user": {
      "displayName": "Joe Li",
      "userId": "05923212614088401950"
     },
     "user_tz": 420
    },
    "id": "i4Yqa0rCh3tg",
    "outputId": "99bfc615-15fb-4b6b-92f1-a428420dc41e"
   },
   "outputs": [
    {
     "name": "stdout",
     "output_type": "stream",
     "text": [
      "              precision    recall  f1-score   support\n",
      "\n",
      "           0       0.92      0.70      0.79     35657\n",
      "           1       0.71      0.93      0.80     28275\n",
      "\n",
      "    accuracy                           0.80     63932\n",
      "   macro avg       0.81      0.81      0.80     63932\n",
      "weighted avg       0.83      0.80      0.80     63932\n",
      "\n"
     ]
    }
   ],
   "source": [
    "report2 = classification_report(y_test, pred2.round())\n",
    "print(report2)"
   ]
  },
  {
   "cell_type": "code",
   "execution_count": null,
   "metadata": {
    "id": "iEkjRJdsjOsk"
   },
   "outputs": [],
   "source": [
    "tn, fp, fn, tp = confusion_matrix(y_test, pred2.round()).ravel()"
   ]
  },
  {
   "cell_type": "code",
   "execution_count": null,
   "metadata": {
    "colab": {
     "base_uri": "https://localhost:8080/",
     "height": 89
    },
    "executionInfo": {
     "elapsed": 418,
     "status": "ok",
     "timestamp": 1730409373557,
     "user": {
      "displayName": "Joe Li",
      "userId": "05923212614088401950"
     },
     "user_tz": 420
    },
    "id": "KmIzrKsbiaAh",
    "outputId": "ecbca6ab-36ab-4c53-de07-dc78cb105f0c"
   },
   "outputs": [
    {
     "data": {
      "application/vnd.google.colaboratory.intrinsic+json": {
       "summary": "{\n  \"name\": \"metrics2\",\n  \"rows\": 1,\n  \"fields\": [\n    {\n      \"column\": \"Accuracy\",\n      \"properties\": {\n        \"dtype\": \"number\",\n        \"std\": null,\n        \"min\": 0.797722578048706,\n        \"max\": 0.797722578048706,\n        \"num_unique_values\": 1,\n        \"samples\": [\n          0.797722578048706\n        ],\n        \"semantic_type\": \"\",\n        \"description\": \"\"\n      }\n    },\n    {\n      \"column\": \"Sensitivity\",\n      \"properties\": {\n        \"dtype\": \"number\",\n        \"std\": null,\n        \"min\": 0.926472148541114,\n        \"max\": 0.926472148541114,\n        \"num_unique_values\": 1,\n        \"samples\": [\n          0.926472148541114\n        ],\n        \"semantic_type\": \"\",\n        \"description\": \"\"\n      }\n    },\n    {\n      \"column\": \"Precision\",\n      \"properties\": {\n        \"dtype\": \"number\",\n        \"std\": null,\n        \"min\": 0.7070636184512402,\n        \"max\": 0.7070636184512402,\n        \"num_unique_values\": 1,\n        \"samples\": [\n          0.7070636184512402\n        ],\n        \"semantic_type\": \"\",\n        \"description\": \"\"\n      }\n    },\n    {\n      \"column\": \"Specificity\",\n      \"properties\": {\n        \"dtype\": \"number\",\n        \"std\": null,\n        \"min\": 0.6956277869703004,\n        \"max\": 0.6956277869703004,\n        \"num_unique_values\": 1,\n        \"samples\": [\n          0.6956277869703004\n        ],\n        \"semantic_type\": \"\",\n        \"description\": \"\"\n      }\n    },\n    {\n      \"column\": \"ROC AUC\",\n      \"properties\": {\n        \"dtype\": \"number\",\n        \"std\": null,\n        \"min\": 0.8915702971828529,\n        \"max\": 0.8915702971828529,\n        \"num_unique_values\": 1,\n        \"samples\": [\n          0.8915702971828529\n        ],\n        \"semantic_type\": \"\",\n        \"description\": \"\"\n      }\n    },\n    {\n      \"column\": \"F1\",\n      \"properties\": {\n        \"dtype\": \"number\",\n        \"std\": null,\n        \"min\": 0.8020329434817218,\n        \"max\": 0.8020329434817218,\n        \"num_unique_values\": 1,\n        \"samples\": [\n          0.8020329434817218\n        ],\n        \"semantic_type\": \"\",\n        \"description\": \"\"\n      }\n    }\n  ]\n}",
       "type": "dataframe",
       "variable_name": "metrics2"
      },
      "text/html": [
       "\n",
       "  <div id=\"df-d9ec0d89-3947-4b49-847a-2c4ad4345548\" class=\"colab-df-container\">\n",
       "    <div>\n",
       "<style scoped>\n",
       "    .dataframe tbody tr th:only-of-type {\n",
       "        vertical-align: middle;\n",
       "    }\n",
       "\n",
       "    .dataframe tbody tr th {\n",
       "        vertical-align: top;\n",
       "    }\n",
       "\n",
       "    .dataframe thead th {\n",
       "        text-align: right;\n",
       "    }\n",
       "</style>\n",
       "<table border=\"1\" class=\"dataframe\">\n",
       "  <thead>\n",
       "    <tr style=\"text-align: right;\">\n",
       "      <th></th>\n",
       "      <th>Accuracy</th>\n",
       "      <th>Sensitivity</th>\n",
       "      <th>Precision</th>\n",
       "      <th>Specificity</th>\n",
       "      <th>ROC AUC</th>\n",
       "      <th>F1</th>\n",
       "    </tr>\n",
       "  </thead>\n",
       "  <tbody>\n",
       "    <tr>\n",
       "      <th>Dallas</th>\n",
       "      <td>0.797723</td>\n",
       "      <td>0.926472</td>\n",
       "      <td>0.707064</td>\n",
       "      <td>0.695628</td>\n",
       "      <td>0.89157</td>\n",
       "      <td>0.802033</td>\n",
       "    </tr>\n",
       "  </tbody>\n",
       "</table>\n",
       "</div>\n",
       "    <div class=\"colab-df-buttons\">\n",
       "\n",
       "  <div class=\"colab-df-container\">\n",
       "    <button class=\"colab-df-convert\" onclick=\"convertToInteractive('df-d9ec0d89-3947-4b49-847a-2c4ad4345548')\"\n",
       "            title=\"Convert this dataframe to an interactive table.\"\n",
       "            style=\"display:none;\">\n",
       "\n",
       "  <svg xmlns=\"http://www.w3.org/2000/svg\" height=\"24px\" viewBox=\"0 -960 960 960\">\n",
       "    <path d=\"M120-120v-720h720v720H120Zm60-500h600v-160H180v160Zm220 220h160v-160H400v160Zm0 220h160v-160H400v160ZM180-400h160v-160H180v160Zm440 0h160v-160H620v160ZM180-180h160v-160H180v160Zm440 0h160v-160H620v160Z\"/>\n",
       "  </svg>\n",
       "    </button>\n",
       "\n",
       "  <style>\n",
       "    .colab-df-container {\n",
       "      display:flex;\n",
       "      gap: 12px;\n",
       "    }\n",
       "\n",
       "    .colab-df-convert {\n",
       "      background-color: #E8F0FE;\n",
       "      border: none;\n",
       "      border-radius: 50%;\n",
       "      cursor: pointer;\n",
       "      display: none;\n",
       "      fill: #1967D2;\n",
       "      height: 32px;\n",
       "      padding: 0 0 0 0;\n",
       "      width: 32px;\n",
       "    }\n",
       "\n",
       "    .colab-df-convert:hover {\n",
       "      background-color: #E2EBFA;\n",
       "      box-shadow: 0px 1px 2px rgba(60, 64, 67, 0.3), 0px 1px 3px 1px rgba(60, 64, 67, 0.15);\n",
       "      fill: #174EA6;\n",
       "    }\n",
       "\n",
       "    .colab-df-buttons div {\n",
       "      margin-bottom: 4px;\n",
       "    }\n",
       "\n",
       "    [theme=dark] .colab-df-convert {\n",
       "      background-color: #3B4455;\n",
       "      fill: #D2E3FC;\n",
       "    }\n",
       "\n",
       "    [theme=dark] .colab-df-convert:hover {\n",
       "      background-color: #434B5C;\n",
       "      box-shadow: 0px 1px 3px 1px rgba(0, 0, 0, 0.15);\n",
       "      filter: drop-shadow(0px 1px 2px rgba(0, 0, 0, 0.3));\n",
       "      fill: #FFFFFF;\n",
       "    }\n",
       "  </style>\n",
       "\n",
       "    <script>\n",
       "      const buttonEl =\n",
       "        document.querySelector('#df-d9ec0d89-3947-4b49-847a-2c4ad4345548 button.colab-df-convert');\n",
       "      buttonEl.style.display =\n",
       "        google.colab.kernel.accessAllowed ? 'block' : 'none';\n",
       "\n",
       "      async function convertToInteractive(key) {\n",
       "        const element = document.querySelector('#df-d9ec0d89-3947-4b49-847a-2c4ad4345548');\n",
       "        const dataTable =\n",
       "          await google.colab.kernel.invokeFunction('convertToInteractive',\n",
       "                                                    [key], {});\n",
       "        if (!dataTable) return;\n",
       "\n",
       "        const docLinkHtml = 'Like what you see? Visit the ' +\n",
       "          '<a target=\"_blank\" href=https://colab.research.google.com/notebooks/data_table.ipynb>data table notebook</a>'\n",
       "          + ' to learn more about interactive tables.';\n",
       "        element.innerHTML = '';\n",
       "        dataTable['output_type'] = 'display_data';\n",
       "        await google.colab.output.renderOutput(dataTable, element);\n",
       "        const docLink = document.createElement('div');\n",
       "        docLink.innerHTML = docLinkHtml;\n",
       "        element.appendChild(docLink);\n",
       "      }\n",
       "    </script>\n",
       "  </div>\n",
       "\n",
       "\n",
       "  <div id=\"id_f707e2ad-53bf-4a1c-b3c1-949cfa8645df\">\n",
       "    <style>\n",
       "      .colab-df-generate {\n",
       "        background-color: #E8F0FE;\n",
       "        border: none;\n",
       "        border-radius: 50%;\n",
       "        cursor: pointer;\n",
       "        display: none;\n",
       "        fill: #1967D2;\n",
       "        height: 32px;\n",
       "        padding: 0 0 0 0;\n",
       "        width: 32px;\n",
       "      }\n",
       "\n",
       "      .colab-df-generate:hover {\n",
       "        background-color: #E2EBFA;\n",
       "        box-shadow: 0px 1px 2px rgba(60, 64, 67, 0.3), 0px 1px 3px 1px rgba(60, 64, 67, 0.15);\n",
       "        fill: #174EA6;\n",
       "      }\n",
       "\n",
       "      [theme=dark] .colab-df-generate {\n",
       "        background-color: #3B4455;\n",
       "        fill: #D2E3FC;\n",
       "      }\n",
       "\n",
       "      [theme=dark] .colab-df-generate:hover {\n",
       "        background-color: #434B5C;\n",
       "        box-shadow: 0px 1px 3px 1px rgba(0, 0, 0, 0.15);\n",
       "        filter: drop-shadow(0px 1px 2px rgba(0, 0, 0, 0.3));\n",
       "        fill: #FFFFFF;\n",
       "      }\n",
       "    </style>\n",
       "    <button class=\"colab-df-generate\" onclick=\"generateWithVariable('metrics2')\"\n",
       "            title=\"Generate code using this dataframe.\"\n",
       "            style=\"display:none;\">\n",
       "\n",
       "  <svg xmlns=\"http://www.w3.org/2000/svg\" height=\"24px\"viewBox=\"0 0 24 24\"\n",
       "       width=\"24px\">\n",
       "    <path d=\"M7,19H8.4L18.45,9,17,7.55,7,17.6ZM5,21V16.75L18.45,3.32a2,2,0,0,1,2.83,0l1.4,1.43a1.91,1.91,0,0,1,.58,1.4,1.91,1.91,0,0,1-.58,1.4L9.25,21ZM18.45,9,17,7.55Zm-12,3A5.31,5.31,0,0,0,4.9,8.1,5.31,5.31,0,0,0,1,6.5,5.31,5.31,0,0,0,4.9,4.9,5.31,5.31,0,0,0,6.5,1,5.31,5.31,0,0,0,8.1,4.9,5.31,5.31,0,0,0,12,6.5,5.46,5.46,0,0,0,6.5,12Z\"/>\n",
       "  </svg>\n",
       "    </button>\n",
       "    <script>\n",
       "      (() => {\n",
       "      const buttonEl =\n",
       "        document.querySelector('#id_f707e2ad-53bf-4a1c-b3c1-949cfa8645df button.colab-df-generate');\n",
       "      buttonEl.style.display =\n",
       "        google.colab.kernel.accessAllowed ? 'block' : 'none';\n",
       "\n",
       "      buttonEl.onclick = () => {\n",
       "        google.colab.notebook.generateWithVariable('metrics2');\n",
       "      }\n",
       "      })();\n",
       "    </script>\n",
       "  </div>\n",
       "\n",
       "    </div>\n",
       "  </div>\n"
      ],
      "text/plain": [
       "        Accuracy  Sensitivity  Precision  Specificity  ROC AUC        F1\n",
       "Dallas  0.797723     0.926472   0.707064     0.695628  0.89157  0.802033"
      ]
     },
     "execution_count": 57,
     "metadata": {},
     "output_type": "execute_result"
    }
   ],
   "source": [
    "metrics2 = {\n",
    "    'Accuracy': res2.history['val_accuracy'][-1],\n",
    "    'Sensitivity': recall_score(y_test, pred2.round()),\n",
    "    'Precision': precision_score(y_test, pred2.round()),\n",
    "    'Specificity': tn / (tn + fp),\n",
    "    'ROC AUC': roc_auc_score(y_test, pred2),\n",
    "    'F1': f1_score(y_test, pred2.round()),\n",
    "}\n",
    "metrics2 = pd.DataFrame([metrics2], index=['Dallas'])\n",
    "metrics2"
   ]
  },
  {
   "cell_type": "markdown",
   "metadata": {
    "id": "25KnFzlc1FKd"
   },
   "source": [
    "* Overall, the model for Dallas is not as strong as the Austin model. However, it does show promising results in sensitivity, which is 93%, indicating that it is effective at identifying animals likely to be adopted.<br>\n",
    "* Specificity also reflects the model's ability to correctly identify negatives. Similar to the Austin model, the specificity suggests that there are a fair number of false negatives. This model still needs improvements."
   ]
  },
  {
   "cell_type": "code",
   "execution_count": null,
   "metadata": {
    "colab": {
     "base_uri": "https://localhost:8080/",
     "height": 125
    },
    "executionInfo": {
     "elapsed": 190,
     "status": "ok",
     "timestamp": 1730416154402,
     "user": {
      "displayName": "Joe Li",
      "userId": "05923212614088401950"
     },
     "user_tz": 420
    },
    "id": "7fFD5q1Tb7qn",
    "outputId": "56cbe0bc-58f9-49bb-c794-828c679148d2"
   },
   "outputs": [
    {
     "data": {
      "application/vnd.google.colaboratory.intrinsic+json": {
       "summary": "{\n  \"name\": \"result\",\n  \"rows\": 2,\n  \"fields\": [\n    {\n      \"column\": \"Accuracy\",\n      \"properties\": {\n        \"dtype\": \"number\",\n        \"std\": 0.014142135623730885,\n        \"min\": 0.8,\n        \"max\": 0.82,\n        \"num_unique_values\": 2,\n        \"samples\": [\n          0.8,\n          0.82\n        ],\n        \"semantic_type\": \"\",\n        \"description\": \"\"\n      }\n    },\n    {\n      \"column\": \"Sensitivity\",\n      \"properties\": {\n        \"dtype\": \"number\",\n        \"std\": 0.03535533905932741,\n        \"min\": 0.88,\n        \"max\": 0.93,\n        \"num_unique_values\": 2,\n        \"samples\": [\n          0.93,\n          0.88\n        ],\n        \"semantic_type\": \"\",\n        \"description\": \"\"\n      }\n    },\n    {\n      \"column\": \"Precision\",\n      \"properties\": {\n        \"dtype\": \"number\",\n        \"std\": 0.09192388155425117,\n        \"min\": 0.71,\n        \"max\": 0.84,\n        \"num_unique_values\": 2,\n        \"samples\": [\n          0.71,\n          0.84\n        ],\n        \"semantic_type\": \"\",\n        \"description\": \"\"\n      }\n    },\n    {\n      \"column\": \"Specificity\",\n      \"properties\": {\n        \"dtype\": \"number\",\n        \"std\": 0.014142135623730963,\n        \"min\": 0.7,\n        \"max\": 0.72,\n        \"num_unique_values\": 2,\n        \"samples\": [\n          0.7,\n          0.72\n        ],\n        \"semantic_type\": \"\",\n        \"description\": \"\"\n      }\n    },\n    {\n      \"column\": \"ROC AUC\",\n      \"properties\": {\n        \"dtype\": \"number\",\n        \"std\": 0.007071067811865481,\n        \"min\": 0.88,\n        \"max\": 0.89,\n        \"num_unique_values\": 2,\n        \"samples\": [\n          0.89,\n          0.88\n        ],\n        \"semantic_type\": \"\",\n        \"description\": \"\"\n      }\n    },\n    {\n      \"column\": \"F1\",\n      \"properties\": {\n        \"dtype\": \"number\",\n        \"std\": 0.04242640687119281,\n        \"min\": 0.8,\n        \"max\": 0.86,\n        \"num_unique_values\": 2,\n        \"samples\": [\n          0.8,\n          0.86\n        ],\n        \"semantic_type\": \"\",\n        \"description\": \"\"\n      }\n    }\n  ]\n}",
       "type": "dataframe",
       "variable_name": "result"
      },
      "text/html": [
       "\n",
       "  <div id=\"df-a4d35144-e8f8-425f-b96e-b247dd468650\" class=\"colab-df-container\">\n",
       "    <div>\n",
       "<style scoped>\n",
       "    .dataframe tbody tr th:only-of-type {\n",
       "        vertical-align: middle;\n",
       "    }\n",
       "\n",
       "    .dataframe tbody tr th {\n",
       "        vertical-align: top;\n",
       "    }\n",
       "\n",
       "    .dataframe thead th {\n",
       "        text-align: right;\n",
       "    }\n",
       "</style>\n",
       "<table border=\"1\" class=\"dataframe\">\n",
       "  <thead>\n",
       "    <tr style=\"text-align: right;\">\n",
       "      <th></th>\n",
       "      <th>Accuracy</th>\n",
       "      <th>Sensitivity</th>\n",
       "      <th>Precision</th>\n",
       "      <th>Specificity</th>\n",
       "      <th>ROC AUC</th>\n",
       "      <th>F1</th>\n",
       "    </tr>\n",
       "  </thead>\n",
       "  <tbody>\n",
       "    <tr>\n",
       "      <th>Austin</th>\n",
       "      <td>0.82</td>\n",
       "      <td>0.88</td>\n",
       "      <td>0.84</td>\n",
       "      <td>0.72</td>\n",
       "      <td>0.88</td>\n",
       "      <td>0.86</td>\n",
       "    </tr>\n",
       "    <tr>\n",
       "      <th>Dallas</th>\n",
       "      <td>0.80</td>\n",
       "      <td>0.93</td>\n",
       "      <td>0.71</td>\n",
       "      <td>0.70</td>\n",
       "      <td>0.89</td>\n",
       "      <td>0.80</td>\n",
       "    </tr>\n",
       "  </tbody>\n",
       "</table>\n",
       "</div>\n",
       "    <div class=\"colab-df-buttons\">\n",
       "\n",
       "  <div class=\"colab-df-container\">\n",
       "    <button class=\"colab-df-convert\" onclick=\"convertToInteractive('df-a4d35144-e8f8-425f-b96e-b247dd468650')\"\n",
       "            title=\"Convert this dataframe to an interactive table.\"\n",
       "            style=\"display:none;\">\n",
       "\n",
       "  <svg xmlns=\"http://www.w3.org/2000/svg\" height=\"24px\" viewBox=\"0 -960 960 960\">\n",
       "    <path d=\"M120-120v-720h720v720H120Zm60-500h600v-160H180v160Zm220 220h160v-160H400v160Zm0 220h160v-160H400v160ZM180-400h160v-160H180v160Zm440 0h160v-160H620v160ZM180-180h160v-160H180v160Zm440 0h160v-160H620v160Z\"/>\n",
       "  </svg>\n",
       "    </button>\n",
       "\n",
       "  <style>\n",
       "    .colab-df-container {\n",
       "      display:flex;\n",
       "      gap: 12px;\n",
       "    }\n",
       "\n",
       "    .colab-df-convert {\n",
       "      background-color: #E8F0FE;\n",
       "      border: none;\n",
       "      border-radius: 50%;\n",
       "      cursor: pointer;\n",
       "      display: none;\n",
       "      fill: #1967D2;\n",
       "      height: 32px;\n",
       "      padding: 0 0 0 0;\n",
       "      width: 32px;\n",
       "    }\n",
       "\n",
       "    .colab-df-convert:hover {\n",
       "      background-color: #E2EBFA;\n",
       "      box-shadow: 0px 1px 2px rgba(60, 64, 67, 0.3), 0px 1px 3px 1px rgba(60, 64, 67, 0.15);\n",
       "      fill: #174EA6;\n",
       "    }\n",
       "\n",
       "    .colab-df-buttons div {\n",
       "      margin-bottom: 4px;\n",
       "    }\n",
       "\n",
       "    [theme=dark] .colab-df-convert {\n",
       "      background-color: #3B4455;\n",
       "      fill: #D2E3FC;\n",
       "    }\n",
       "\n",
       "    [theme=dark] .colab-df-convert:hover {\n",
       "      background-color: #434B5C;\n",
       "      box-shadow: 0px 1px 3px 1px rgba(0, 0, 0, 0.15);\n",
       "      filter: drop-shadow(0px 1px 2px rgba(0, 0, 0, 0.3));\n",
       "      fill: #FFFFFF;\n",
       "    }\n",
       "  </style>\n",
       "\n",
       "    <script>\n",
       "      const buttonEl =\n",
       "        document.querySelector('#df-a4d35144-e8f8-425f-b96e-b247dd468650 button.colab-df-convert');\n",
       "      buttonEl.style.display =\n",
       "        google.colab.kernel.accessAllowed ? 'block' : 'none';\n",
       "\n",
       "      async function convertToInteractive(key) {\n",
       "        const element = document.querySelector('#df-a4d35144-e8f8-425f-b96e-b247dd468650');\n",
       "        const dataTable =\n",
       "          await google.colab.kernel.invokeFunction('convertToInteractive',\n",
       "                                                    [key], {});\n",
       "        if (!dataTable) return;\n",
       "\n",
       "        const docLinkHtml = 'Like what you see? Visit the ' +\n",
       "          '<a target=\"_blank\" href=https://colab.research.google.com/notebooks/data_table.ipynb>data table notebook</a>'\n",
       "          + ' to learn more about interactive tables.';\n",
       "        element.innerHTML = '';\n",
       "        dataTable['output_type'] = 'display_data';\n",
       "        await google.colab.output.renderOutput(dataTable, element);\n",
       "        const docLink = document.createElement('div');\n",
       "        docLink.innerHTML = docLinkHtml;\n",
       "        element.appendChild(docLink);\n",
       "      }\n",
       "    </script>\n",
       "  </div>\n",
       "\n",
       "\n",
       "<div id=\"df-2dc77fc8-273d-4819-ba32-489a89d8100d\">\n",
       "  <button class=\"colab-df-quickchart\" onclick=\"quickchart('df-2dc77fc8-273d-4819-ba32-489a89d8100d')\"\n",
       "            title=\"Suggest charts\"\n",
       "            style=\"display:none;\">\n",
       "\n",
       "<svg xmlns=\"http://www.w3.org/2000/svg\" height=\"24px\"viewBox=\"0 0 24 24\"\n",
       "     width=\"24px\">\n",
       "    <g>\n",
       "        <path d=\"M19 3H5c-1.1 0-2 .9-2 2v14c0 1.1.9 2 2 2h14c1.1 0 2-.9 2-2V5c0-1.1-.9-2-2-2zM9 17H7v-7h2v7zm4 0h-2V7h2v10zm4 0h-2v-4h2v4z\"/>\n",
       "    </g>\n",
       "</svg>\n",
       "  </button>\n",
       "\n",
       "<style>\n",
       "  .colab-df-quickchart {\n",
       "      --bg-color: #E8F0FE;\n",
       "      --fill-color: #1967D2;\n",
       "      --hover-bg-color: #E2EBFA;\n",
       "      --hover-fill-color: #174EA6;\n",
       "      --disabled-fill-color: #AAA;\n",
       "      --disabled-bg-color: #DDD;\n",
       "  }\n",
       "\n",
       "  [theme=dark] .colab-df-quickchart {\n",
       "      --bg-color: #3B4455;\n",
       "      --fill-color: #D2E3FC;\n",
       "      --hover-bg-color: #434B5C;\n",
       "      --hover-fill-color: #FFFFFF;\n",
       "      --disabled-bg-color: #3B4455;\n",
       "      --disabled-fill-color: #666;\n",
       "  }\n",
       "\n",
       "  .colab-df-quickchart {\n",
       "    background-color: var(--bg-color);\n",
       "    border: none;\n",
       "    border-radius: 50%;\n",
       "    cursor: pointer;\n",
       "    display: none;\n",
       "    fill: var(--fill-color);\n",
       "    height: 32px;\n",
       "    padding: 0;\n",
       "    width: 32px;\n",
       "  }\n",
       "\n",
       "  .colab-df-quickchart:hover {\n",
       "    background-color: var(--hover-bg-color);\n",
       "    box-shadow: 0 1px 2px rgba(60, 64, 67, 0.3), 0 1px 3px 1px rgba(60, 64, 67, 0.15);\n",
       "    fill: var(--button-hover-fill-color);\n",
       "  }\n",
       "\n",
       "  .colab-df-quickchart-complete:disabled,\n",
       "  .colab-df-quickchart-complete:disabled:hover {\n",
       "    background-color: var(--disabled-bg-color);\n",
       "    fill: var(--disabled-fill-color);\n",
       "    box-shadow: none;\n",
       "  }\n",
       "\n",
       "  .colab-df-spinner {\n",
       "    border: 2px solid var(--fill-color);\n",
       "    border-color: transparent;\n",
       "    border-bottom-color: var(--fill-color);\n",
       "    animation:\n",
       "      spin 1s steps(1) infinite;\n",
       "  }\n",
       "\n",
       "  @keyframes spin {\n",
       "    0% {\n",
       "      border-color: transparent;\n",
       "      border-bottom-color: var(--fill-color);\n",
       "      border-left-color: var(--fill-color);\n",
       "    }\n",
       "    20% {\n",
       "      border-color: transparent;\n",
       "      border-left-color: var(--fill-color);\n",
       "      border-top-color: var(--fill-color);\n",
       "    }\n",
       "    30% {\n",
       "      border-color: transparent;\n",
       "      border-left-color: var(--fill-color);\n",
       "      border-top-color: var(--fill-color);\n",
       "      border-right-color: var(--fill-color);\n",
       "    }\n",
       "    40% {\n",
       "      border-color: transparent;\n",
       "      border-right-color: var(--fill-color);\n",
       "      border-top-color: var(--fill-color);\n",
       "    }\n",
       "    60% {\n",
       "      border-color: transparent;\n",
       "      border-right-color: var(--fill-color);\n",
       "    }\n",
       "    80% {\n",
       "      border-color: transparent;\n",
       "      border-right-color: var(--fill-color);\n",
       "      border-bottom-color: var(--fill-color);\n",
       "    }\n",
       "    90% {\n",
       "      border-color: transparent;\n",
       "      border-bottom-color: var(--fill-color);\n",
       "    }\n",
       "  }\n",
       "</style>\n",
       "\n",
       "  <script>\n",
       "    async function quickchart(key) {\n",
       "      const quickchartButtonEl =\n",
       "        document.querySelector('#' + key + ' button');\n",
       "      quickchartButtonEl.disabled = true;  // To prevent multiple clicks.\n",
       "      quickchartButtonEl.classList.add('colab-df-spinner');\n",
       "      try {\n",
       "        const charts = await google.colab.kernel.invokeFunction(\n",
       "            'suggestCharts', [key], {});\n",
       "      } catch (error) {\n",
       "        console.error('Error during call to suggestCharts:', error);\n",
       "      }\n",
       "      quickchartButtonEl.classList.remove('colab-df-spinner');\n",
       "      quickchartButtonEl.classList.add('colab-df-quickchart-complete');\n",
       "    }\n",
       "    (() => {\n",
       "      let quickchartButtonEl =\n",
       "        document.querySelector('#df-2dc77fc8-273d-4819-ba32-489a89d8100d button');\n",
       "      quickchartButtonEl.style.display =\n",
       "        google.colab.kernel.accessAllowed ? 'block' : 'none';\n",
       "    })();\n",
       "  </script>\n",
       "</div>\n",
       "\n",
       "  <div id=\"id_06fe27e4-c7ed-4fe3-b705-2e28d97ebd23\">\n",
       "    <style>\n",
       "      .colab-df-generate {\n",
       "        background-color: #E8F0FE;\n",
       "        border: none;\n",
       "        border-radius: 50%;\n",
       "        cursor: pointer;\n",
       "        display: none;\n",
       "        fill: #1967D2;\n",
       "        height: 32px;\n",
       "        padding: 0 0 0 0;\n",
       "        width: 32px;\n",
       "      }\n",
       "\n",
       "      .colab-df-generate:hover {\n",
       "        background-color: #E2EBFA;\n",
       "        box-shadow: 0px 1px 2px rgba(60, 64, 67, 0.3), 0px 1px 3px 1px rgba(60, 64, 67, 0.15);\n",
       "        fill: #174EA6;\n",
       "      }\n",
       "\n",
       "      [theme=dark] .colab-df-generate {\n",
       "        background-color: #3B4455;\n",
       "        fill: #D2E3FC;\n",
       "      }\n",
       "\n",
       "      [theme=dark] .colab-df-generate:hover {\n",
       "        background-color: #434B5C;\n",
       "        box-shadow: 0px 1px 3px 1px rgba(0, 0, 0, 0.15);\n",
       "        filter: drop-shadow(0px 1px 2px rgba(0, 0, 0, 0.3));\n",
       "        fill: #FFFFFF;\n",
       "      }\n",
       "    </style>\n",
       "    <button class=\"colab-df-generate\" onclick=\"generateWithVariable('result')\"\n",
       "            title=\"Generate code using this dataframe.\"\n",
       "            style=\"display:none;\">\n",
       "\n",
       "  <svg xmlns=\"http://www.w3.org/2000/svg\" height=\"24px\"viewBox=\"0 0 24 24\"\n",
       "       width=\"24px\">\n",
       "    <path d=\"M7,19H8.4L18.45,9,17,7.55,7,17.6ZM5,21V16.75L18.45,3.32a2,2,0,0,1,2.83,0l1.4,1.43a1.91,1.91,0,0,1,.58,1.4,1.91,1.91,0,0,1-.58,1.4L9.25,21ZM18.45,9,17,7.55Zm-12,3A5.31,5.31,0,0,0,4.9,8.1,5.31,5.31,0,0,0,1,6.5,5.31,5.31,0,0,0,4.9,4.9,5.31,5.31,0,0,0,6.5,1,5.31,5.31,0,0,0,8.1,4.9,5.31,5.31,0,0,0,12,6.5,5.46,5.46,0,0,0,6.5,12Z\"/>\n",
       "  </svg>\n",
       "    </button>\n",
       "    <script>\n",
       "      (() => {\n",
       "      const buttonEl =\n",
       "        document.querySelector('#id_06fe27e4-c7ed-4fe3-b705-2e28d97ebd23 button.colab-df-generate');\n",
       "      buttonEl.style.display =\n",
       "        google.colab.kernel.accessAllowed ? 'block' : 'none';\n",
       "\n",
       "      buttonEl.onclick = () => {\n",
       "        google.colab.notebook.generateWithVariable('result');\n",
       "      }\n",
       "      })();\n",
       "    </script>\n",
       "  </div>\n",
       "\n",
       "    </div>\n",
       "  </div>\n"
      ],
      "text/plain": [
       "        Accuracy  Sensitivity  Precision  Specificity  ROC AUC    F1\n",
       "Austin      0.82         0.88       0.84         0.72     0.88  0.86\n",
       "Dallas      0.80         0.93       0.71         0.70     0.89  0.80"
      ]
     },
     "execution_count": 62,
     "metadata": {},
     "output_type": "execute_result"
    }
   ],
   "source": [
    "result = pd.concat([metrics, metrics2])\n",
    "result = round(result, 2)\n",
    "result"
   ]
  },
  {
   "cell_type": "code",
   "execution_count": null,
   "metadata": {
    "id": "43RspAER22QE"
   },
   "outputs": [],
   "source": [
    "nn_result = result.drop(columns=['Sensitivity', 'ROC AUC', 'F1'])"
   ]
  },
  {
   "cell_type": "markdown",
   "metadata": {
    "id": "g9RbPKY0RJR4"
   },
   "source": [
    "# Conclusion and Recommendations\n",
    "___"
   ]
  },
  {
   "cell_type": "markdown",
   "metadata": {
    "id": "8CFweM_w3nol"
   },
   "source": [
    "### <center>Logistic Regression Prediction Performance</center>\n",
    "\n",
    "||Accuracy|Precision|Specificity|\n",
    "|---|---|---|---|\n",
    "|**Austin**|0.83|0.84|0.67|\n",
    "|**Dallas**|0.74|0.70|0.75|\n",
    "\n",
    "### <center>Neural Net Prediction Performance</center>\n",
    "\n",
    "||Accuracy|Precision|Specificity|\n",
    "|---|---|---|---|\n",
    "|**Austin**|0.82|0.84|0.72|\n",
    "|**Dallas**|0.80|0.71|0.70|\n",
    "\n",
    "<br>\n",
    "With our main focus being specificity in order to catch as many pets in need of assistance as possible, for the data collected by Austin shelters the final Logistic Regression through Stacking Classifier is the one to move forward with. For the data collected by Dallas shelters the final Neural Network is the final model."
   ]
  },
  {
   "cell_type": "markdown",
   "metadata": {
    "id": "Gvj8SykM2F56"
   },
   "source": [
    "## Future improvements"
   ]
  },
  {
   "cell_type": "markdown",
   "metadata": {
    "id": "vv-69ypb4IFw"
   },
   "source": [
    "There are some recommendations for shelters in order to improve these models and better predict their animals' outcomes\n",
    "* If shelter's can provide more detail for each animal, we can utilize more features suited for prediction\n",
    "* Also if shelters provide an image we could also include image classification functionality to recognize breed and animal types.\n",
    "\n",
    "For further project goals, it would be beneficial to find other cities that provide data regarding their shelter intakes and outcomes to provide a network of models where we can predict where an animal's best chances for adoption are."
   ]
  }
 ],
 "metadata": {
  "colab": {
   "provenance": []
  },
  "kernelspec": {
   "display_name": "Python 3 (ipykernel)",
   "language": "python",
   "name": "python3"
  },
  "language_info": {
   "codemirror_mode": {
    "name": "ipython",
    "version": 3
   },
   "file_extension": ".py",
   "mimetype": "text/x-python",
   "name": "python",
   "nbconvert_exporter": "python",
   "pygments_lexer": "ipython3",
   "version": "3.12.4"
  }
 },
 "nbformat": 4,
 "nbformat_minor": 4
}
